{
 "cells": [
  {
   "cell_type": "markdown",
   "id": "2b2974e0",
   "metadata": {},
   "source": [
    "IMPORTAMOS LAS LIBRERÍAS"
   ]
  },
  {
   "cell_type": "code",
   "execution_count": 1,
   "id": "37bfd43b",
   "metadata": {},
   "outputs": [],
   "source": [
    "from selenium import webdriver\n",
    "from selenium.webdriver.chrome.options import Options\n",
    "import time\n",
    "from selenium.webdriver.common.keys import Keys\n",
    "from time import sleep\n",
    "import pandas as pd\n",
    "from selenium.webdriver.support.ui import Select\n",
    "from webdriver_manager.chrome import ChromeDriverManager"
   ]
  },
  {
   "cell_type": "markdown",
   "id": "2a95d528",
   "metadata": {},
   "source": [
    "VAMOS A SCRAPPEAR LA PÁGINA WEB DE UBER EATS        \n",
    "BUSCAMOS PATRONES EN LA PÁGINA, DE CARA A VER COMO DESCARGAR LA DATA"
   ]
  },
  {
   "cell_type": "markdown",
   "id": "51c0e89b",
   "metadata": {},
   "source": [
    "PÁGINA I : https://www.ubereats.com/es/search?pl=JTdCJTIyYWRkcmVzcyUyMiUzQSUyMkMuJTIwZGUlMjBMJUMzJUIzcGV6JTIwZGUlMjBIb3lvcyUyQyUyMDEzJTIyJTJDJTIycmVmZXJlbmNlJTIyJTNBJTIyRWk1RExpQmtaU0JNdzdOd1pYb2daR1VnU0c5NWIzTXNJREV6TENBeU9EQXdOaUJOWVdSeWFXUXNJRk53WVdsdUlsQVNUZ28wQ2pJSjYzUzRqLXNvUWcwUlZCTk5aTzY5TnhBYUhnc1E3c0h1b1FFYUZBb1NDVWV3QWxfQUtFSU5FYkNzaXpQM1FBTWNEQkFOS2hRS0Vna0o5ZnVqeENoQ0RSSG5PR2NIX1NmM0x3JTIyJTJDJTIycmVmZXJlbmNlVHlwZSUyMiUzQSUyMmdvb2dsZV9wbGFjZXMlMjIlMkMlMjJsYXRpdHVkZSUyMiUzQTQwLjQzNzE0MiUyQyUyMmxvbmdpdHVkZSUyMiUzQS0zLjY4Njg5NDclN0Q%3D&q=COMIDA&sc=SEARCH_SUGGESTION&vertical=ALL&zoom=12\n",
    "\n",
    "RESTAURANTE I : https://www.ubereats.com/es/store/tutto-pasta!/4loe57xfRvOFvmNFFEVcug\n",
    " - TABLA I : #main-content > div:nth-child(5) > div.cg.ch.ci.cj.g0\n",
    "\n",
    "PÁGINA II : https://www.ubereats.com/es/search?pl=JTdCJTIyYWRkcmVzcyUyMiUzQSUyMkMuJTIwZGUlMjBMJUMzJUIzcGV6JTIwZGUlMjBIb3lvcyUyQyUyMDEzJTIyJTJDJTIycmVmZXJlbmNlJTIyJTNBJTIyRWk1RExpQmtaU0JNdzdOd1pYb2daR1VnU0c5NWIzTXNJREV6TENBeU9EQXdOaUJOWVdSeWFXUXNJRk53WVdsdUlsQVNUZ28wQ2pJSjYzUzRqLXNvUWcwUlZCTk5aTzY5TnhBYUhnc1E3c0h1b1FFYUZBb1NDVWV3QWxfQUtFSU5FYkNzaXpQM1FBTWNEQkFOS2hRS0Vna0o5ZnVqeENoQ0RSSG5PR2NIX1NmM0x3JTIyJTJDJTIycmVmZXJlbmNlVHlwZSUyMiUzQSUyMmdvb2dsZV9wbGFjZXMlMjIlMkMlMjJsYXRpdHVkZSUyMiUzQTQwLjQzNzE0MiUyQyUyMmxvbmdpdHVkZSUyMiUzQS0zLjY4Njg5NDclN0Q%3D&q=COMIDA&sc=SEARCH_SUGGESTION&vertical=ALL&zoom=12\n",
    "\n",
    "RESTAURANTE II : https://www.ubereats.com/es/store/taco-bell-cuatro-caminos/WQWUgUkBRH2FesowRHfl3A\n",
    " - TABLA I : #main-content > div:nth-child(5) > div.cg.ch.ci.cj.g1\n",
    " \n",
    " - TABLA I :  #main-content > div:nth-child(5) > div.cg.ch.ci.cj.g1\n"
   ]
  },
  {
   "cell_type": "code",
   "execution_count": 4,
   "id": "f0227395",
   "metadata": {},
   "outputs": [],
   "source": [
    "#Opciones de Selenium para evitar que sepan que eres un robot\n",
    "opciones= Options()\n",
    "opciones.add_experimental_option('excludeSwitches', ['enable-automation'])\n",
    "#para ocultarme como robot, pero me sigue diciendo que hay un software automatico usando chrome\n",
    "opciones.add_experimental_option('useAutomationExtension', False)\n",
    "opciones.add_argument('--start-maximized') #empezar maximizado\n",
    "opciones.add_argument('user.data-dir=selenium') #guarda las cookies\n",
    "opciones.add_argument('drive/adblock.crx') #adblocker\n",
    "#opciones.add_argument('--incognito')#incognito window"
   ]
  },
  {
   "cell_type": "code",
   "execution_count": 45,
   "id": "de7528d5",
   "metadata": {
    "scrolled": false
   },
   "outputs": [
    {
     "name": "stderr",
     "output_type": "stream",
     "text": [
      "\n",
      "\n",
      "====== WebDriver manager ======\n",
      "Current google-chrome version is 96.0.4664\n",
      "Get LATEST chromedriver version for 96.0.4664 google-chrome\n",
      "Driver [/Users/juanvegapenichet/.wdm/drivers/chromedriver/mac64/96.0.4664.45/chromedriver] found in cache\n",
      "/var/folders/lp/_3blnsw12kj309tphctgyqlr0000gn/T/ipykernel_72688/3743420301.py:1: DeprecationWarning: executable_path has been deprecated, please pass in a Service object\n",
      "  driver = webdriver.Chrome(ChromeDriverManager().install())\n"
     ]
    },
    {
     "name": "stdout",
     "output_type": "stream",
     "text": [
      "Url - Okey\n"
     ]
    },
    {
     "name": "stderr",
     "output_type": "stream",
     "text": [
      "/var/folders/lp/_3blnsw12kj309tphctgyqlr0000gn/T/ipykernel_72688/3743420301.py:10: DeprecationWarning: find_element_by_* commands are deprecated. Please use find_element() instead\n",
      "  driver.find_element_by_css_selector(\"#cookie-banner > div > div > div.ah.gf > button.bc.gg.gh.gk.bj.bk.bl.bm.bn.bo.bt.bu.ba.bb\").click()\n"
     ]
    },
    {
     "name": "stdout",
     "output_type": "stream",
     "text": [
      "Cookies - Okey\n"
     ]
    },
    {
     "name": "stderr",
     "output_type": "stream",
     "text": [
      "/var/folders/lp/_3blnsw12kj309tphctgyqlr0000gn/T/ipykernel_72688/3743420301.py:15: DeprecationWarning: find_element_by_* commands are deprecated. Please use find_element() instead\n",
      "  driver.find_element_by_xpath('//*[@id=\"location-typeahead-home-input\"]').click()\n"
     ]
    },
    {
     "name": "stdout",
     "output_type": "stream",
     "text": [
      "Click dirección - Okey\n"
     ]
    },
    {
     "name": "stderr",
     "output_type": "stream",
     "text": [
      "/var/folders/lp/_3blnsw12kj309tphctgyqlr0000gn/T/ipykernel_72688/3743420301.py:20: DeprecationWarning: find_element_by_* commands are deprecated. Please use find_element() instead\n",
      "  driver.find_element_by_xpath('//*[@id=\"location-typeahead-home-input\"]').send_keys(\"Lopez de Hoyos, 13, Madrid\")\n"
     ]
    },
    {
     "name": "stdout",
     "output_type": "stream",
     "text": [
      "Dirección - Okey\n"
     ]
    },
    {
     "name": "stderr",
     "output_type": "stream",
     "text": [
      "/var/folders/lp/_3blnsw12kj309tphctgyqlr0000gn/T/ipykernel_72688/3743420301.py:25: DeprecationWarning: find_element_by_* commands are deprecated. Please use find_element() instead\n",
      "  driver.find_element_by_xpath('//*[@id=\"location-typeahead-home-item-0\"]').click()\n"
     ]
    },
    {
     "name": "stdout",
     "output_type": "stream",
     "text": [
      "Confirmamos dirección - Okey\n"
     ]
    },
    {
     "name": "stderr",
     "output_type": "stream",
     "text": [
      "/var/folders/lp/_3blnsw12kj309tphctgyqlr0000gn/T/ipykernel_72688/3743420301.py:30: DeprecationWarning: find_element_by_* commands are deprecated. Please use find_element() instead\n",
      "  driver.find_element_by_xpath('//*[@id=\"wrapper\"]/header/div/div/div[6]/div/div').click()\n"
     ]
    },
    {
     "name": "stdout",
     "output_type": "stream",
     "text": [
      "Click categoría - Okey\n"
     ]
    },
    {
     "name": "stderr",
     "output_type": "stream",
     "text": [
      "/var/folders/lp/_3blnsw12kj309tphctgyqlr0000gn/T/ipykernel_72688/3743420301.py:35: DeprecationWarning: find_element_by_* commands are deprecated. Please use find_element() instead\n",
      "  driver.find_element_by_xpath('//*[@id=\"search-suggestions-typeahead-input\"]').send_keys(\"Comida\")\n",
      "/var/folders/lp/_3blnsw12kj309tphctgyqlr0000gn/T/ipykernel_72688/3743420301.py:36: DeprecationWarning: find_element_by_* commands are deprecated. Please use find_element() instead\n",
      "  driver.find_element_by_xpath('//*[@id=\"search-suggestions-typeahead-input\"]').send_keys(Keys.ENTER)\n"
     ]
    },
    {
     "name": "stdout",
     "output_type": "stream",
     "text": [
      "Categoría - Okey\n",
      "Congratulations, estamos dentro!! \n"
     ]
    },
    {
     "name": "stderr",
     "output_type": "stream",
     "text": [
      "/var/folders/lp/_3blnsw12kj309tphctgyqlr0000gn/T/ipykernel_72688/3743420301.py:49: DeprecationWarning: find_element_by_* commands are deprecated. Please use find_element() instead\n",
      "  driver.find_element_by_xpath('//*[@id=\"address-submit-button\"]').click()\n"
     ]
    },
    {
     "ename": "NoSuchElementException",
     "evalue": "Message: no such element: Unable to locate element: {\"method\":\"xpath\",\"selector\":\"//*[@id=\"address-submit-button\"]\"}\n  (Session info: chrome=96.0.4664.55)\nStacktrace:\n0   chromedriver                        0x000000010aab6269 __gxx_personality_v0 + 582729\n1   chromedriver                        0x000000010aa41c33 __gxx_personality_v0 + 106003\n2   chromedriver                        0x000000010a5fee28 chromedriver + 171560\n3   chromedriver                        0x000000010a6343d2 chromedriver + 390098\n4   chromedriver                        0x000000010a634591 chromedriver + 390545\n5   chromedriver                        0x000000010a6666b4 chromedriver + 595636\n6   chromedriver                        0x000000010a6519fd chromedriver + 510461\n7   chromedriver                        0x000000010a664462 chromedriver + 586850\n8   chromedriver                        0x000000010a651c23 chromedriver + 511011\n9   chromedriver                        0x000000010a62775e chromedriver + 337758\n10  chromedriver                        0x000000010a628a95 chromedriver + 342677\n11  chromedriver                        0x000000010aa728ab __gxx_personality_v0 + 305803\n12  chromedriver                        0x000000010aa89863 __gxx_personality_v0 + 399939\n13  chromedriver                        0x000000010aa8ec7f __gxx_personality_v0 + 421471\n14  chromedriver                        0x000000010aa8abba __gxx_personality_v0 + 404890\n15  chromedriver                        0x000000010aa66e51 __gxx_personality_v0 + 258097\n16  chromedriver                        0x000000010aaa6158 __gxx_personality_v0 + 516920\n17  chromedriver                        0x000000010aaa62e1 __gxx_personality_v0 + 517313\n18  chromedriver                        0x000000010aabd6f8 __gxx_personality_v0 + 612568\n19  libsystem_pthread.dylib             0x00007fff2036d8fc _pthread_start + 224\n20  libsystem_pthread.dylib             0x00007fff20369443 thread_start + 15\n",
     "output_type": "error",
     "traceback": [
      "\u001b[0;31m---------------------------------------------------------------------------\u001b[0m",
      "\u001b[0;31mNoSuchElementException\u001b[0m                    Traceback (most recent call last)",
      "\u001b[0;32m/var/folders/lp/_3blnsw12kj309tphctgyqlr0000gn/T/ipykernel_72688/3743420301.py\u001b[0m in \u001b[0;36m<module>\u001b[0;34m\u001b[0m\n\u001b[1;32m     47\u001b[0m \u001b[0;34m\u001b[0m\u001b[0m\n\u001b[1;32m     48\u001b[0m \u001b[0;31m#SUBMIT LA DIRECCIÓN FINAL\u001b[0m\u001b[0;34m\u001b[0m\u001b[0;34m\u001b[0m\u001b[0;34m\u001b[0m\u001b[0m\n\u001b[0;32m---> 49\u001b[0;31m \u001b[0mdriver\u001b[0m\u001b[0;34m.\u001b[0m\u001b[0mfind_element_by_xpath\u001b[0m\u001b[0;34m(\u001b[0m\u001b[0;34m'//*[@id=\"address-submit-button\"]'\u001b[0m\u001b[0;34m)\u001b[0m\u001b[0;34m.\u001b[0m\u001b[0mclick\u001b[0m\u001b[0;34m(\u001b[0m\u001b[0;34m)\u001b[0m\u001b[0;34m\u001b[0m\u001b[0;34m\u001b[0m\u001b[0m\n\u001b[0m\u001b[1;32m     50\u001b[0m \u001b[0msleep\u001b[0m\u001b[0;34m(\u001b[0m\u001b[0;36m3\u001b[0m\u001b[0;34m)\u001b[0m\u001b[0;34m\u001b[0m\u001b[0;34m\u001b[0m\u001b[0m\n\u001b[1;32m     51\u001b[0m \u001b[0mprint\u001b[0m\u001b[0;34m(\u001b[0m\u001b[0;34m\"Done_6\"\u001b[0m\u001b[0;34m)\u001b[0m\u001b[0;34m\u001b[0m\u001b[0;34m\u001b[0m\u001b[0m\n",
      "\u001b[0;32m/usr/local/Caskroom/miniconda/base/envs/ironhack/lib/python3.8/site-packages/selenium/webdriver/remote/webdriver.py\u001b[0m in \u001b[0;36mfind_element_by_xpath\u001b[0;34m(self, xpath)\u001b[0m\n\u001b[1;32m    512\u001b[0m             \u001b[0mstacklevel\u001b[0m\u001b[0;34m=\u001b[0m\u001b[0;36m2\u001b[0m\u001b[0;34m,\u001b[0m\u001b[0;34m\u001b[0m\u001b[0;34m\u001b[0m\u001b[0m\n\u001b[1;32m    513\u001b[0m         )\n\u001b[0;32m--> 514\u001b[0;31m         \u001b[0;32mreturn\u001b[0m \u001b[0mself\u001b[0m\u001b[0;34m.\u001b[0m\u001b[0mfind_element\u001b[0m\u001b[0;34m(\u001b[0m\u001b[0mby\u001b[0m\u001b[0;34m=\u001b[0m\u001b[0mBy\u001b[0m\u001b[0;34m.\u001b[0m\u001b[0mXPATH\u001b[0m\u001b[0;34m,\u001b[0m \u001b[0mvalue\u001b[0m\u001b[0;34m=\u001b[0m\u001b[0mxpath\u001b[0m\u001b[0;34m)\u001b[0m\u001b[0;34m\u001b[0m\u001b[0;34m\u001b[0m\u001b[0m\n\u001b[0m\u001b[1;32m    515\u001b[0m \u001b[0;34m\u001b[0m\u001b[0m\n\u001b[1;32m    516\u001b[0m     \u001b[0;32mdef\u001b[0m \u001b[0mfind_elements_by_xpath\u001b[0m\u001b[0;34m(\u001b[0m\u001b[0mself\u001b[0m\u001b[0;34m,\u001b[0m \u001b[0mxpath\u001b[0m\u001b[0;34m)\u001b[0m \u001b[0;34m->\u001b[0m \u001b[0mWebElement\u001b[0m\u001b[0;34m:\u001b[0m\u001b[0;34m\u001b[0m\u001b[0;34m\u001b[0m\u001b[0m\n",
      "\u001b[0;32m/usr/local/Caskroom/miniconda/base/envs/ironhack/lib/python3.8/site-packages/selenium/webdriver/remote/webdriver.py\u001b[0m in \u001b[0;36mfind_element\u001b[0;34m(self, by, value)\u001b[0m\n\u001b[1;32m   1236\u001b[0m             \u001b[0mvalue\u001b[0m \u001b[0;34m=\u001b[0m \u001b[0;34m'[name=\"%s\"]'\u001b[0m \u001b[0;34m%\u001b[0m \u001b[0mvalue\u001b[0m\u001b[0;34m\u001b[0m\u001b[0;34m\u001b[0m\u001b[0m\n\u001b[1;32m   1237\u001b[0m \u001b[0;34m\u001b[0m\u001b[0m\n\u001b[0;32m-> 1238\u001b[0;31m         return self.execute(Command.FIND_ELEMENT, {\n\u001b[0m\u001b[1;32m   1239\u001b[0m             \u001b[0;34m'using'\u001b[0m\u001b[0;34m:\u001b[0m \u001b[0mby\u001b[0m\u001b[0;34m,\u001b[0m\u001b[0;34m\u001b[0m\u001b[0;34m\u001b[0m\u001b[0m\n\u001b[1;32m   1240\u001b[0m             'value': value})['value']\n",
      "\u001b[0;32m/usr/local/Caskroom/miniconda/base/envs/ironhack/lib/python3.8/site-packages/selenium/webdriver/remote/webdriver.py\u001b[0m in \u001b[0;36mexecute\u001b[0;34m(self, driver_command, params)\u001b[0m\n\u001b[1;32m    416\u001b[0m         \u001b[0mresponse\u001b[0m \u001b[0;34m=\u001b[0m \u001b[0mself\u001b[0m\u001b[0;34m.\u001b[0m\u001b[0mcommand_executor\u001b[0m\u001b[0;34m.\u001b[0m\u001b[0mexecute\u001b[0m\u001b[0;34m(\u001b[0m\u001b[0mdriver_command\u001b[0m\u001b[0;34m,\u001b[0m \u001b[0mparams\u001b[0m\u001b[0;34m)\u001b[0m\u001b[0;34m\u001b[0m\u001b[0;34m\u001b[0m\u001b[0m\n\u001b[1;32m    417\u001b[0m         \u001b[0;32mif\u001b[0m \u001b[0mresponse\u001b[0m\u001b[0;34m:\u001b[0m\u001b[0;34m\u001b[0m\u001b[0;34m\u001b[0m\u001b[0m\n\u001b[0;32m--> 418\u001b[0;31m             \u001b[0mself\u001b[0m\u001b[0;34m.\u001b[0m\u001b[0merror_handler\u001b[0m\u001b[0;34m.\u001b[0m\u001b[0mcheck_response\u001b[0m\u001b[0;34m(\u001b[0m\u001b[0mresponse\u001b[0m\u001b[0;34m)\u001b[0m\u001b[0;34m\u001b[0m\u001b[0;34m\u001b[0m\u001b[0m\n\u001b[0m\u001b[1;32m    419\u001b[0m             response['value'] = self._unwrap_value(\n\u001b[1;32m    420\u001b[0m                 response.get('value', None))\n",
      "\u001b[0;32m/usr/local/Caskroom/miniconda/base/envs/ironhack/lib/python3.8/site-packages/selenium/webdriver/remote/errorhandler.py\u001b[0m in \u001b[0;36mcheck_response\u001b[0;34m(self, response)\u001b[0m\n\u001b[1;32m    241\u001b[0m                 \u001b[0malert_text\u001b[0m \u001b[0;34m=\u001b[0m \u001b[0mvalue\u001b[0m\u001b[0;34m[\u001b[0m\u001b[0;34m'alert'\u001b[0m\u001b[0;34m]\u001b[0m\u001b[0;34m.\u001b[0m\u001b[0mget\u001b[0m\u001b[0;34m(\u001b[0m\u001b[0;34m'text'\u001b[0m\u001b[0;34m)\u001b[0m\u001b[0;34m\u001b[0m\u001b[0;34m\u001b[0m\u001b[0m\n\u001b[1;32m    242\u001b[0m             \u001b[0;32mraise\u001b[0m \u001b[0mexception_class\u001b[0m\u001b[0;34m(\u001b[0m\u001b[0mmessage\u001b[0m\u001b[0;34m,\u001b[0m \u001b[0mscreen\u001b[0m\u001b[0;34m,\u001b[0m \u001b[0mstacktrace\u001b[0m\u001b[0;34m,\u001b[0m \u001b[0malert_text\u001b[0m\u001b[0;34m)\u001b[0m  \u001b[0;31m# type: ignore[call-arg]  # mypy is not smart enough here\u001b[0m\u001b[0;34m\u001b[0m\u001b[0;34m\u001b[0m\u001b[0m\n\u001b[0;32m--> 243\u001b[0;31m         \u001b[0;32mraise\u001b[0m \u001b[0mexception_class\u001b[0m\u001b[0;34m(\u001b[0m\u001b[0mmessage\u001b[0m\u001b[0;34m,\u001b[0m \u001b[0mscreen\u001b[0m\u001b[0;34m,\u001b[0m \u001b[0mstacktrace\u001b[0m\u001b[0;34m)\u001b[0m\u001b[0;34m\u001b[0m\u001b[0;34m\u001b[0m\u001b[0m\n\u001b[0m\u001b[1;32m    244\u001b[0m \u001b[0;34m\u001b[0m\u001b[0m\n\u001b[1;32m    245\u001b[0m     \u001b[0;32mdef\u001b[0m \u001b[0m_value_or_default\u001b[0m\u001b[0;34m(\u001b[0m\u001b[0mself\u001b[0m\u001b[0;34m,\u001b[0m \u001b[0mobj\u001b[0m\u001b[0;34m:\u001b[0m \u001b[0mMapping\u001b[0m\u001b[0;34m[\u001b[0m\u001b[0m_KT\u001b[0m\u001b[0;34m,\u001b[0m \u001b[0m_VT\u001b[0m\u001b[0;34m]\u001b[0m\u001b[0;34m,\u001b[0m \u001b[0mkey\u001b[0m\u001b[0;34m:\u001b[0m \u001b[0m_KT\u001b[0m\u001b[0;34m,\u001b[0m \u001b[0mdefault\u001b[0m\u001b[0;34m:\u001b[0m \u001b[0m_VT\u001b[0m\u001b[0;34m)\u001b[0m \u001b[0;34m->\u001b[0m \u001b[0m_VT\u001b[0m\u001b[0;34m:\u001b[0m\u001b[0;34m\u001b[0m\u001b[0;34m\u001b[0m\u001b[0m\n",
      "\u001b[0;31mNoSuchElementException\u001b[0m: Message: no such element: Unable to locate element: {\"method\":\"xpath\",\"selector\":\"//*[@id=\"address-submit-button\"]\"}\n  (Session info: chrome=96.0.4664.55)\nStacktrace:\n0   chromedriver                        0x000000010aab6269 __gxx_personality_v0 + 582729\n1   chromedriver                        0x000000010aa41c33 __gxx_personality_v0 + 106003\n2   chromedriver                        0x000000010a5fee28 chromedriver + 171560\n3   chromedriver                        0x000000010a6343d2 chromedriver + 390098\n4   chromedriver                        0x000000010a634591 chromedriver + 390545\n5   chromedriver                        0x000000010a6666b4 chromedriver + 595636\n6   chromedriver                        0x000000010a6519fd chromedriver + 510461\n7   chromedriver                        0x000000010a664462 chromedriver + 586850\n8   chromedriver                        0x000000010a651c23 chromedriver + 511011\n9   chromedriver                        0x000000010a62775e chromedriver + 337758\n10  chromedriver                        0x000000010a628a95 chromedriver + 342677\n11  chromedriver                        0x000000010aa728ab __gxx_personality_v0 + 305803\n12  chromedriver                        0x000000010aa89863 __gxx_personality_v0 + 399939\n13  chromedriver                        0x000000010aa8ec7f __gxx_personality_v0 + 421471\n14  chromedriver                        0x000000010aa8abba __gxx_personality_v0 + 404890\n15  chromedriver                        0x000000010aa66e51 __gxx_personality_v0 + 258097\n16  chromedriver                        0x000000010aaa6158 __gxx_personality_v0 + 516920\n17  chromedriver                        0x000000010aaa62e1 __gxx_personality_v0 + 517313\n18  chromedriver                        0x000000010aabd6f8 __gxx_personality_v0 + 612568\n19  libsystem_pthread.dylib             0x00007fff2036d8fc _pthread_start + 224\n20  libsystem_pthread.dylib             0x00007fff20369443 thread_start + 15\n"
     ]
    }
   ],
   "source": [
    "driver = webdriver.Chrome(ChromeDriverManager().install())\n",
    "results_list = []\n",
    "   \n",
    "#VAMOS A LA URL\n",
    "driver.get(\"https://www.ubereats.com/es\")\n",
    "sleep(3)\n",
    "print(\"Url - Okey\")\n",
    "\n",
    "#ACEPTAMOS LAS COOKIES\n",
    "driver.find_element_by_css_selector(\"#cookie-banner > div > div > div.ah.gf > button.bc.gg.gh.gk.bj.bk.bl.bm.bn.bo.bt.bu.ba.bb\").click()\n",
    "sleep(3)\n",
    "print(\"Cookies - Okey\")\n",
    "    \n",
    "#LE DAMOS UNA DIRECCIÓN DE ENTREGA, HACEMOS CLICK EN \"CERCA DE MI\"\n",
    "driver.find_element_by_xpath('//*[@id=\"location-typeahead-home-input\"]').click()\n",
    "sleep(3)\n",
    "print(\"Click dirección - Okey\")\n",
    "\n",
    "#TENEMOS QUE ESCRIBIR LA DIRECCIÓN\n",
    "driver.find_element_by_xpath('//*[@id=\"location-typeahead-home-input\"]').send_keys(\"Lopez de Hoyos, 13, Madrid\")\n",
    "sleep(3)\n",
    "print(\"Dirección - Okey\")\n",
    "\n",
    "#CONFIRMAMOS LA DIRECCIÓN RECONOCIDA\n",
    "driver.find_element_by_xpath('//*[@id=\"location-typeahead-home-item-0\"]').click()\n",
    "sleep(3)\n",
    "print(\"Confirmamos dirección - Okey\")\n",
    "\n",
    "#LE DAMOS UNA CATEGORÍA\n",
    "driver.find_element_by_xpath('//*[@id=\"wrapper\"]/header/div/div/div[6]/div/div').click()\n",
    "sleep(1)\n",
    "print(\"Click categoría - Okey\")\n",
    "\n",
    "#TENEMOS QUE ESCRIBIR LA CATEGORÍA\n",
    "driver.find_element_by_xpath('//*[@id=\"search-suggestions-typeahead-input\"]').send_keys(\"Comida\")\n",
    "driver.find_element_by_xpath('//*[@id=\"search-suggestions-typeahead-input\"]').send_keys(Keys.ENTER)\n",
    "sleep(3)\n",
    "print(\"Categoría - Okey\")\n",
    "print(\"Congratulations, estamos dentro!! \")\n",
    "\n",
    "\n",
    "\n",
    "\n",
    "\n",
    "\n",
    "\n",
    "    \n",
    "#SUBMIT LA DIRECCIÓN FINAL\n",
    "driver.find_element_by_xpath('//*[@id=\"address-submit-button\"]').click()\n",
    "sleep(3)\n",
    "print(\"Done_6\")\n",
    "\n",
    "#results_list.append(driver.find_element_by_xpath('//*[@id=\"default-wrapper\"]/div/div/div/main/div[2]/div/div'))\n",
    "    \n",
    "for number in range (1,49):\n",
    "    my_info = driver.find_element_by_xpath(f'/html/body/div[1]/div/div/div[1]/div/div/div/main/div[2]/div/div/div[{number}]')\n",
    "    results_list.append(my_info.text)\n",
    "print(\"Done_7\")\n",
    "break\n",
    "\n",
    "driver.quit\n"
   ]
  },
  {
   "cell_type": "code",
   "execution_count": null,
   "id": "da7c8e47",
   "metadata": {},
   "outputs": [],
   "source": []
  }
 ],
 "metadata": {
  "kernelspec": {
   "display_name": "ironhack",
   "language": "python",
   "name": "ironhack"
  },
  "language_info": {
   "codemirror_mode": {
    "name": "ipython",
    "version": 3
   },
   "file_extension": ".py",
   "mimetype": "text/x-python",
   "name": "python",
   "nbconvert_exporter": "python",
   "pygments_lexer": "ipython3",
   "version": "3.8.12"
  }
 },
 "nbformat": 4,
 "nbformat_minor": 5
}

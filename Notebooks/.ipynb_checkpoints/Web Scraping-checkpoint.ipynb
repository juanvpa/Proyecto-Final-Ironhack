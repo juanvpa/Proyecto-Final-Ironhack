{
 "cells": [
  {
   "cell_type": "markdown",
   "id": "2b2974e0",
   "metadata": {},
   "source": [
    "IMPORTAMOS LAS LIBRERÍAS"
   ]
  },
  {
   "cell_type": "code",
   "execution_count": 1,
   "id": "37bfd43b",
   "metadata": {},
   "outputs": [],
   "source": [
    "from selenium import webdriver\n",
    "from selenium.webdriver.chrome.options import Options\n",
    "import time\n",
    "from selenium.webdriver.common.keys import Keys\n",
    "from time import sleep\n",
    "import pandas as pd\n",
    "from selenium.webdriver.support.ui import Select\n",
    "from webdriver_manager.chrome import ChromeDriverManager\n",
    "import warnings\n",
    "warnings.filterwarnings(\"ignore\")"
   ]
  },
  {
   "cell_type": "markdown",
   "id": "2a95d528",
   "metadata": {},
   "source": [
    "VAMOS A SCRAPPEAR LA PÁGINA WEB DE UBER EATS        "
   ]
  },
  {
   "cell_type": "markdown",
   "id": "72918dea",
   "metadata": {},
   "source": [
    "OPCIONES DE SELENIUM PARA EVITAR QUE SEPAN QUE ERES UN BOT"
   ]
  },
  {
   "cell_type": "code",
   "execution_count": 2,
   "id": "f0227395",
   "metadata": {},
   "outputs": [],
   "source": [
    "#Opciones de Selenium para evitar que sepan que eres un robot\n",
    "opciones= Options()\n",
    "opciones.add_experimental_option('excludeSwitches', ['enable-automation'])\n",
    "#para ocultarme como robot, pero me sigue diciendo que hay un software automatico usando chrome\n",
    "opciones.add_experimental_option('useAutomationExtension', False)\n",
    "opciones.add_argument('--start-maximized') #empezar maximizado\n",
    "opciones.add_argument('user.data-dir=selenium') #guarda las cookies\n",
    "opciones.add_argument('drive/adblock.crx') #adblocker\n",
    "#opciones.add_argument('--incognito')#incognito window"
   ]
  },
  {
   "cell_type": "code",
   "execution_count": 3,
   "id": "de7528d5",
   "metadata": {
    "scrolled": true
   },
   "outputs": [
    {
     "name": "stderr",
     "output_type": "stream",
     "text": [
      "\n",
      "\n",
      "====== WebDriver manager ======\n",
      "Current google-chrome version is 96.0.4664\n",
      "Get LATEST chromedriver version for 96.0.4664 google-chrome\n",
      "Driver [/Users/juanvegapenichet/.wdm/drivers/chromedriver/mac64/96.0.4664.45/chromedriver] found in cache\n"
     ]
    },
    {
     "name": "stdout",
     "output_type": "stream",
     "text": [
      "Url - Okey\n",
      "Cookies - Okey\n",
      "Click dirección - Okey\n",
      "Dirección - Okey\n",
      "Confirmamos dirección - Okey\n",
      "Click categoría - Okey\n",
      "Categoría - Okey\n",
      "Estamos cerca!! \n"
     ]
    },
    {
     "ename": "NoSuchElementException",
     "evalue": "Message: no such element: Unable to locate element: {\"method\":\"xpath\",\"selector\":\"/html/body/div[1]/div[1]/div/main/div/div/div[2]/div/div[2]/div[2]/div/div/div/div[2]/div[2]/div[3]/span/div\"}\n  (Session info: chrome=96.0.4664.55)\nStacktrace:\n0   chromedriver                        0x0000000104586269 __gxx_personality_v0 + 582729\n1   chromedriver                        0x0000000104511c33 __gxx_personality_v0 + 106003\n2   chromedriver                        0x00000001040cee28 chromedriver + 171560\n3   chromedriver                        0x00000001041043d2 chromedriver + 390098\n4   chromedriver                        0x0000000104104591 chromedriver + 390545\n5   chromedriver                        0x00000001041366b4 chromedriver + 595636\n6   chromedriver                        0x00000001041219fd chromedriver + 510461\n7   chromedriver                        0x0000000104134462 chromedriver + 586850\n8   chromedriver                        0x0000000104121c23 chromedriver + 511011\n9   chromedriver                        0x00000001040f775e chromedriver + 337758\n10  chromedriver                        0x00000001040f8a95 chromedriver + 342677\n11  chromedriver                        0x00000001045428ab __gxx_personality_v0 + 305803\n12  chromedriver                        0x0000000104559863 __gxx_personality_v0 + 399939\n13  chromedriver                        0x000000010455ec7f __gxx_personality_v0 + 421471\n14  chromedriver                        0x000000010455abba __gxx_personality_v0 + 404890\n15  chromedriver                        0x0000000104536e51 __gxx_personality_v0 + 258097\n16  chromedriver                        0x0000000104576158 __gxx_personality_v0 + 516920\n17  chromedriver                        0x00000001045762e1 __gxx_personality_v0 + 517313\n18  chromedriver                        0x000000010458d6f8 __gxx_personality_v0 + 612568\n19  libsystem_pthread.dylib             0x00007fff2036d8fc _pthread_start + 224\n20  libsystem_pthread.dylib             0x00007fff20369443 thread_start + 15\n",
     "output_type": "error",
     "traceback": [
      "\u001b[0;31m---------------------------------------------------------------------------\u001b[0m",
      "\u001b[0;31mNoSuchElementException\u001b[0m                    Traceback (most recent call last)",
      "\u001b[0;32m/var/folders/lp/_3blnsw12kj309tphctgyqlr0000gn/T/ipykernel_86322/1410151185.py\u001b[0m in \u001b[0;36m<module>\u001b[0;34m\u001b[0m\n\u001b[1;32m     50\u001b[0m     \u001b[0mlikes\u001b[0m\u001b[0;34m.\u001b[0m\u001b[0mappend\u001b[0m\u001b[0;34m(\u001b[0m\u001b[0mdriver\u001b[0m\u001b[0;34m.\u001b[0m\u001b[0mfind_element_by_xpath\u001b[0m\u001b[0;34m(\u001b[0m\u001b[0;34mf'/html/body/div[1]/div[1]/div/main/div/div/div[2]/div/div[2]/div[{number}]/div/div/div/div[2]/div[1]/span'\u001b[0m\u001b[0;34m)\u001b[0m\u001b[0;34m.\u001b[0m\u001b[0mtext\u001b[0m\u001b[0;34m)\u001b[0m\u001b[0;34m\u001b[0m\u001b[0;34m\u001b[0m\u001b[0m\n\u001b[1;32m     51\u001b[0m     \u001b[0mprecio\u001b[0m\u001b[0;34m.\u001b[0m\u001b[0mappend\u001b[0m\u001b[0;34m(\u001b[0m\u001b[0mdriver\u001b[0m\u001b[0;34m.\u001b[0m\u001b[0mfind_element_by_xpath\u001b[0m\u001b[0;34m(\u001b[0m\u001b[0;34mf'/html/body/div[1]/div[1]/div/main/div/div/div[2]/div/div[2]/div[{number}]/div/div/div/div[2]/div[2]/div[2]'\u001b[0m\u001b[0;34m)\u001b[0m\u001b[0;34m.\u001b[0m\u001b[0mtext\u001b[0m\u001b[0;34m)\u001b[0m\u001b[0;34m\u001b[0m\u001b[0;34m\u001b[0m\u001b[0m\n\u001b[0;32m---> 52\u001b[0;31m     \u001b[0meta\u001b[0m\u001b[0;34m.\u001b[0m\u001b[0mappend\u001b[0m\u001b[0;34m(\u001b[0m\u001b[0mdriver\u001b[0m\u001b[0;34m.\u001b[0m\u001b[0mfind_element_by_xpath\u001b[0m\u001b[0;34m(\u001b[0m\u001b[0;34mf'/html/body/div[1]/div[1]/div/main/div/div/div[2]/div/div[2]/div[{number}]/div/div/div/div[2]/div[2]/div[3]/span/div'\u001b[0m\u001b[0;34m)\u001b[0m\u001b[0;34m.\u001b[0m\u001b[0mtext\u001b[0m\u001b[0;34m)\u001b[0m\u001b[0;34m\u001b[0m\u001b[0;34m\u001b[0m\u001b[0m\n\u001b[0m\u001b[1;32m     53\u001b[0m     \u001b[0mdriver\u001b[0m\u001b[0;34m.\u001b[0m\u001b[0mimplicitly_wait\u001b[0m\u001b[0;34m(\u001b[0m\u001b[0;36m2\u001b[0m\u001b[0;34m)\u001b[0m\u001b[0;34m\u001b[0m\u001b[0;34m\u001b[0m\u001b[0m\n\u001b[1;32m     54\u001b[0m \u001b[0mprint\u001b[0m\u001b[0;34m(\u001b[0m\u001b[0;34m\"Congratulations, tenemos la data que necesitamos de la primera pagina!\"\u001b[0m\u001b[0;34m)\u001b[0m\u001b[0;34m\u001b[0m\u001b[0;34m\u001b[0m\u001b[0m\n",
      "\u001b[0;32m/usr/local/Caskroom/miniconda/base/envs/ironhack/lib/python3.8/site-packages/selenium/webdriver/remote/webdriver.py\u001b[0m in \u001b[0;36mfind_element_by_xpath\u001b[0;34m(self, xpath)\u001b[0m\n\u001b[1;32m    512\u001b[0m             \u001b[0mstacklevel\u001b[0m\u001b[0;34m=\u001b[0m\u001b[0;36m2\u001b[0m\u001b[0;34m,\u001b[0m\u001b[0;34m\u001b[0m\u001b[0;34m\u001b[0m\u001b[0m\n\u001b[1;32m    513\u001b[0m         )\n\u001b[0;32m--> 514\u001b[0;31m         \u001b[0;32mreturn\u001b[0m \u001b[0mself\u001b[0m\u001b[0;34m.\u001b[0m\u001b[0mfind_element\u001b[0m\u001b[0;34m(\u001b[0m\u001b[0mby\u001b[0m\u001b[0;34m=\u001b[0m\u001b[0mBy\u001b[0m\u001b[0;34m.\u001b[0m\u001b[0mXPATH\u001b[0m\u001b[0;34m,\u001b[0m \u001b[0mvalue\u001b[0m\u001b[0;34m=\u001b[0m\u001b[0mxpath\u001b[0m\u001b[0;34m)\u001b[0m\u001b[0;34m\u001b[0m\u001b[0;34m\u001b[0m\u001b[0m\n\u001b[0m\u001b[1;32m    515\u001b[0m \u001b[0;34m\u001b[0m\u001b[0m\n\u001b[1;32m    516\u001b[0m     \u001b[0;32mdef\u001b[0m \u001b[0mfind_elements_by_xpath\u001b[0m\u001b[0;34m(\u001b[0m\u001b[0mself\u001b[0m\u001b[0;34m,\u001b[0m \u001b[0mxpath\u001b[0m\u001b[0;34m)\u001b[0m \u001b[0;34m->\u001b[0m \u001b[0mWebElement\u001b[0m\u001b[0;34m:\u001b[0m\u001b[0;34m\u001b[0m\u001b[0;34m\u001b[0m\u001b[0m\n",
      "\u001b[0;32m/usr/local/Caskroom/miniconda/base/envs/ironhack/lib/python3.8/site-packages/selenium/webdriver/remote/webdriver.py\u001b[0m in \u001b[0;36mfind_element\u001b[0;34m(self, by, value)\u001b[0m\n\u001b[1;32m   1236\u001b[0m             \u001b[0mvalue\u001b[0m \u001b[0;34m=\u001b[0m \u001b[0;34m'[name=\"%s\"]'\u001b[0m \u001b[0;34m%\u001b[0m \u001b[0mvalue\u001b[0m\u001b[0;34m\u001b[0m\u001b[0;34m\u001b[0m\u001b[0m\n\u001b[1;32m   1237\u001b[0m \u001b[0;34m\u001b[0m\u001b[0m\n\u001b[0;32m-> 1238\u001b[0;31m         return self.execute(Command.FIND_ELEMENT, {\n\u001b[0m\u001b[1;32m   1239\u001b[0m             \u001b[0;34m'using'\u001b[0m\u001b[0;34m:\u001b[0m \u001b[0mby\u001b[0m\u001b[0;34m,\u001b[0m\u001b[0;34m\u001b[0m\u001b[0;34m\u001b[0m\u001b[0m\n\u001b[1;32m   1240\u001b[0m             'value': value})['value']\n",
      "\u001b[0;32m/usr/local/Caskroom/miniconda/base/envs/ironhack/lib/python3.8/site-packages/selenium/webdriver/remote/webdriver.py\u001b[0m in \u001b[0;36mexecute\u001b[0;34m(self, driver_command, params)\u001b[0m\n\u001b[1;32m    416\u001b[0m         \u001b[0mresponse\u001b[0m \u001b[0;34m=\u001b[0m \u001b[0mself\u001b[0m\u001b[0;34m.\u001b[0m\u001b[0mcommand_executor\u001b[0m\u001b[0;34m.\u001b[0m\u001b[0mexecute\u001b[0m\u001b[0;34m(\u001b[0m\u001b[0mdriver_command\u001b[0m\u001b[0;34m,\u001b[0m \u001b[0mparams\u001b[0m\u001b[0;34m)\u001b[0m\u001b[0;34m\u001b[0m\u001b[0;34m\u001b[0m\u001b[0m\n\u001b[1;32m    417\u001b[0m         \u001b[0;32mif\u001b[0m \u001b[0mresponse\u001b[0m\u001b[0;34m:\u001b[0m\u001b[0;34m\u001b[0m\u001b[0;34m\u001b[0m\u001b[0m\n\u001b[0;32m--> 418\u001b[0;31m             \u001b[0mself\u001b[0m\u001b[0;34m.\u001b[0m\u001b[0merror_handler\u001b[0m\u001b[0;34m.\u001b[0m\u001b[0mcheck_response\u001b[0m\u001b[0;34m(\u001b[0m\u001b[0mresponse\u001b[0m\u001b[0;34m)\u001b[0m\u001b[0;34m\u001b[0m\u001b[0;34m\u001b[0m\u001b[0m\n\u001b[0m\u001b[1;32m    419\u001b[0m             response['value'] = self._unwrap_value(\n\u001b[1;32m    420\u001b[0m                 response.get('value', None))\n",
      "\u001b[0;32m/usr/local/Caskroom/miniconda/base/envs/ironhack/lib/python3.8/site-packages/selenium/webdriver/remote/errorhandler.py\u001b[0m in \u001b[0;36mcheck_response\u001b[0;34m(self, response)\u001b[0m\n\u001b[1;32m    241\u001b[0m                 \u001b[0malert_text\u001b[0m \u001b[0;34m=\u001b[0m \u001b[0mvalue\u001b[0m\u001b[0;34m[\u001b[0m\u001b[0;34m'alert'\u001b[0m\u001b[0;34m]\u001b[0m\u001b[0;34m.\u001b[0m\u001b[0mget\u001b[0m\u001b[0;34m(\u001b[0m\u001b[0;34m'text'\u001b[0m\u001b[0;34m)\u001b[0m\u001b[0;34m\u001b[0m\u001b[0;34m\u001b[0m\u001b[0m\n\u001b[1;32m    242\u001b[0m             \u001b[0;32mraise\u001b[0m \u001b[0mexception_class\u001b[0m\u001b[0;34m(\u001b[0m\u001b[0mmessage\u001b[0m\u001b[0;34m,\u001b[0m \u001b[0mscreen\u001b[0m\u001b[0;34m,\u001b[0m \u001b[0mstacktrace\u001b[0m\u001b[0;34m,\u001b[0m \u001b[0malert_text\u001b[0m\u001b[0;34m)\u001b[0m  \u001b[0;31m# type: ignore[call-arg]  # mypy is not smart enough here\u001b[0m\u001b[0;34m\u001b[0m\u001b[0;34m\u001b[0m\u001b[0m\n\u001b[0;32m--> 243\u001b[0;31m         \u001b[0;32mraise\u001b[0m \u001b[0mexception_class\u001b[0m\u001b[0;34m(\u001b[0m\u001b[0mmessage\u001b[0m\u001b[0;34m,\u001b[0m \u001b[0mscreen\u001b[0m\u001b[0;34m,\u001b[0m \u001b[0mstacktrace\u001b[0m\u001b[0;34m)\u001b[0m\u001b[0;34m\u001b[0m\u001b[0;34m\u001b[0m\u001b[0m\n\u001b[0m\u001b[1;32m    244\u001b[0m \u001b[0;34m\u001b[0m\u001b[0m\n\u001b[1;32m    245\u001b[0m     \u001b[0;32mdef\u001b[0m \u001b[0m_value_or_default\u001b[0m\u001b[0;34m(\u001b[0m\u001b[0mself\u001b[0m\u001b[0;34m,\u001b[0m \u001b[0mobj\u001b[0m\u001b[0;34m:\u001b[0m \u001b[0mMapping\u001b[0m\u001b[0;34m[\u001b[0m\u001b[0m_KT\u001b[0m\u001b[0;34m,\u001b[0m \u001b[0m_VT\u001b[0m\u001b[0;34m]\u001b[0m\u001b[0;34m,\u001b[0m \u001b[0mkey\u001b[0m\u001b[0;34m:\u001b[0m \u001b[0m_KT\u001b[0m\u001b[0;34m,\u001b[0m \u001b[0mdefault\u001b[0m\u001b[0;34m:\u001b[0m \u001b[0m_VT\u001b[0m\u001b[0;34m)\u001b[0m \u001b[0;34m->\u001b[0m \u001b[0m_VT\u001b[0m\u001b[0;34m:\u001b[0m\u001b[0;34m\u001b[0m\u001b[0;34m\u001b[0m\u001b[0m\n",
      "\u001b[0;31mNoSuchElementException\u001b[0m: Message: no such element: Unable to locate element: {\"method\":\"xpath\",\"selector\":\"/html/body/div[1]/div[1]/div/main/div/div/div[2]/div/div[2]/div[2]/div/div/div/div[2]/div[2]/div[3]/span/div\"}\n  (Session info: chrome=96.0.4664.55)\nStacktrace:\n0   chromedriver                        0x0000000104586269 __gxx_personality_v0 + 582729\n1   chromedriver                        0x0000000104511c33 __gxx_personality_v0 + 106003\n2   chromedriver                        0x00000001040cee28 chromedriver + 171560\n3   chromedriver                        0x00000001041043d2 chromedriver + 390098\n4   chromedriver                        0x0000000104104591 chromedriver + 390545\n5   chromedriver                        0x00000001041366b4 chromedriver + 595636\n6   chromedriver                        0x00000001041219fd chromedriver + 510461\n7   chromedriver                        0x0000000104134462 chromedriver + 586850\n8   chromedriver                        0x0000000104121c23 chromedriver + 511011\n9   chromedriver                        0x00000001040f775e chromedriver + 337758\n10  chromedriver                        0x00000001040f8a95 chromedriver + 342677\n11  chromedriver                        0x00000001045428ab __gxx_personality_v0 + 305803\n12  chromedriver                        0x0000000104559863 __gxx_personality_v0 + 399939\n13  chromedriver                        0x000000010455ec7f __gxx_personality_v0 + 421471\n14  chromedriver                        0x000000010455abba __gxx_personality_v0 + 404890\n15  chromedriver                        0x0000000104536e51 __gxx_personality_v0 + 258097\n16  chromedriver                        0x0000000104576158 __gxx_personality_v0 + 516920\n17  chromedriver                        0x00000001045762e1 __gxx_personality_v0 + 517313\n18  chromedriver                        0x000000010458d6f8 __gxx_personality_v0 + 612568\n19  libsystem_pthread.dylib             0x00007fff2036d8fc _pthread_start + 224\n20  libsystem_pthread.dylib             0x00007fff20369443 thread_start + 15\n"
     ]
    }
   ],
   "source": [
    "# AQUI INTENTO SACAR TODO Y APENDEARLO EN LISTAS DE CATEGORÍAS, EL MÁS CAÓTICO!\n",
    "\n",
    "\n",
    "driver = webdriver.Chrome(ChromeDriverManager().install())\n",
    "restaurantes = []\n",
    "likes = []\n",
    "precio = []\n",
    "eta = []\n",
    "   \n",
    "#VAMOS A LA URL\n",
    "driver.get(\"https://www.ubereats.com/es\")\n",
    "driver.implicitly_wait(2)\n",
    "print(\"Url - Okey\")\n",
    "\n",
    "#ACEPTAMOS LAS COOKIES\n",
    "driver.find_element_by_css_selector(\"#cookie-banner > div > div > div.ah.gf > button.bc.gg.gh.gk.bj.bk.bl.bm.bn.bo.bt.bu.ba.bb\").click()\n",
    "driver.implicitly_wait(2)\n",
    "print(\"Cookies - Okey\")\n",
    "    \n",
    "#LE DAMOS UNA DIRECCIÓN DE ENTREGA, HACEMOS CLICK EN \"CERCA DE MI\"\n",
    "driver.find_element_by_xpath('//*[@id=\"location-typeahead-home-input\"]').click()\n",
    "driver.implicitly_wait(2)\n",
    "print(\"Click dirección - Okey\")\n",
    "\n",
    "#TENEMOS QUE ESCRIBIR LA DIRECCIÓN\n",
    "driver.find_element_by_xpath('//*[@id=\"location-typeahead-home-input\"]').send_keys(\"Lopez de Hoyos, 13, Madrid\")\n",
    "driver.implicitly_wait(2)\n",
    "print(\"Dirección - Okey\")\n",
    "\n",
    "#CONFIRMAMOS LA DIRECCIÓN RECONOCIDA\n",
    "driver.find_element_by_xpath('//*[@id=\"location-typeahead-home-item-0\"]').click()\n",
    "driver.implicitly_wait(2)\n",
    "print(\"Confirmamos dirección - Okey\")\n",
    "\n",
    "#LE DAMOS UNA CATEGORÍA\n",
    "driver.find_element_by_xpath('//*[@id=\"wrapper\"]/header/div/div/div[6]/div/div').click()\n",
    "driver.implicitly_wait(2)\n",
    "print(\"Click categoría - Okey\")\n",
    "\n",
    "#TENEMOS QUE ESCRIBIR LA CATEGORÍA\n",
    "driver.find_element_by_xpath('//*[@id=\"search-suggestions-typeahead-input\"]').send_keys(\"Comida\")\n",
    "driver.find_element_by_xpath('//*[@id=\"search-suggestions-typeahead-input\"]').send_keys(Keys.ENTER)\n",
    "driver.implicitly_wait(2)\n",
    "print(\"Categoría - Okey\")\n",
    "print(\"Estamos cerca!! \")\n",
    "\n",
    "#SACAMOS LA DATA DE CADA TABLA\n",
    "for number in range (1,27):\n",
    "    restaurantes.append(driver.find_element_by_xpath(f'/html/body/div[1]/div[1]/div/main/div/div/div[2]/div/div[2]/div[{number}]/div/a/h3').text)\n",
    "    likes.append(driver.find_element_by_xpath(f'/html/body/div[1]/div[1]/div/main/div/div/div[2]/div/div[2]/div[{number}]/div/div/div/div[2]/div[1]/span').text)\n",
    "    precio.append(driver.find_element_by_xpath(f'/html/body/div[1]/div[1]/div/main/div/div/div[2]/div/div[2]/div[{number}]/div/div/div/div[2]/div[2]/div[2]').text)\n",
    "    eta.append(driver.find_element_by_xpath(f'/html/body/div[1]/div[1]/div/main/div/div/div[2]/div/div[2]/div[{number}]/div/div/div/div[2]/div[2]/div[3]/span/div').text)\n",
    "    driver.implicitly_wait(2)\n",
    "print(\"Congratulations, tenemos la data que necesitamos de la primera pagina!\")\n",
    "\n",
    "driver.quit\n"
   ]
  },
  {
   "cell_type": "code",
   "execution_count": 4,
   "id": "59ab0604",
   "metadata": {},
   "outputs": [
    {
     "name": "stdout",
     "output_type": "stream",
     "text": [
      "['La Tagliatella - Madrid Juan Bravo', 'TUTTO PASTA!']\n"
     ]
    }
   ],
   "source": [
    "print(restaurantes)"
   ]
  },
  {
   "cell_type": "code",
   "execution_count": 5,
   "id": "93574814",
   "metadata": {},
   "outputs": [
    {
     "name": "stdout",
     "output_type": "stream",
     "text": [
      "['Uno de los restaurantes mejor valorados con 4.6 de 5 estrellas según 35 opiniones.', 'Valorado con 2.9 de 5 estrellas según 28 opiniones.']\n"
     ]
    }
   ],
   "source": [
    "print(likes)"
   ]
  },
  {
   "cell_type": "code",
   "execution_count": 6,
   "id": "b9329888",
   "metadata": {},
   "outputs": [
    {
     "name": "stdout",
     "output_type": "stream",
     "text": [
      "['Los gastos de envío son de 1.40€.\\nPrecio de 1.40€', '40–60 min']\n"
     ]
    }
   ],
   "source": [
    "print(precio)"
   ]
  },
  {
   "cell_type": "code",
   "execution_count": 7,
   "id": "d2eb4dbd",
   "metadata": {},
   "outputs": [
    {
     "name": "stdout",
     "output_type": "stream",
     "text": [
      "['35–45 min']\n"
     ]
    }
   ],
   "source": [
    "print(eta)"
   ]
  },
  {
   "cell_type": "code",
   "execution_count": 21,
   "id": "7cb1377d",
   "metadata": {},
   "outputs": [
    {
     "name": "stderr",
     "output_type": "stream",
     "text": [
      "\n",
      "\n",
      "====== WebDriver manager ======\n",
      "Current google-chrome version is 96.0.4664\n",
      "Get LATEST chromedriver version for 96.0.4664 google-chrome\n",
      "Driver [/Users/juanvegapenichet/.wdm/drivers/chromedriver/mac64/96.0.4664.45/chromedriver] found in cache\n"
     ]
    },
    {
     "name": "stdout",
     "output_type": "stream",
     "text": [
      "Url - Okey\n",
      "Cookies - Okey\n",
      "Click dirección - Okey\n",
      "Dirección - Okey\n"
     ]
    },
    {
     "ename": "NoSuchElementException",
     "evalue": "Message: no such element: Unable to locate element: {\"method\":\"xpath\",\"selector\":\"//*[@id=\"location-typeahead-home-item-0\"]\"}\n  (Session info: chrome=96.0.4664.55)\nStacktrace:\n0   chromedriver                        0x000000010747a269 __gxx_personality_v0 + 582729\n1   chromedriver                        0x0000000107405c33 __gxx_personality_v0 + 106003\n2   chromedriver                        0x0000000106fc2e28 chromedriver + 171560\n3   chromedriver                        0x0000000106ff83d2 chromedriver + 390098\n4   chromedriver                        0x0000000106ff8591 chromedriver + 390545\n5   chromedriver                        0x000000010702a6b4 chromedriver + 595636\n6   chromedriver                        0x00000001070159fd chromedriver + 510461\n7   chromedriver                        0x0000000107028462 chromedriver + 586850\n8   chromedriver                        0x0000000107015c23 chromedriver + 511011\n9   chromedriver                        0x0000000106feb75e chromedriver + 337758\n10  chromedriver                        0x0000000106feca95 chromedriver + 342677\n11  chromedriver                        0x00000001074368ab __gxx_personality_v0 + 305803\n12  chromedriver                        0x000000010744d863 __gxx_personality_v0 + 399939\n13  chromedriver                        0x0000000107452c7f __gxx_personality_v0 + 421471\n14  chromedriver                        0x000000010744ebba __gxx_personality_v0 + 404890\n15  chromedriver                        0x000000010742ae51 __gxx_personality_v0 + 258097\n16  chromedriver                        0x000000010746a158 __gxx_personality_v0 + 516920\n17  chromedriver                        0x000000010746a2e1 __gxx_personality_v0 + 517313\n18  chromedriver                        0x00000001074816f8 __gxx_personality_v0 + 612568\n19  libsystem_pthread.dylib             0x00007fff2036d8fc _pthread_start + 224\n20  libsystem_pthread.dylib             0x00007fff20369443 thread_start + 15\n",
     "output_type": "error",
     "traceback": [
      "\u001b[0;31m---------------------------------------------------------------------------\u001b[0m",
      "\u001b[0;31mNoSuchElementException\u001b[0m                    Traceback (most recent call last)",
      "\u001b[0;32m/var/folders/lp/_3blnsw12kj309tphctgyqlr0000gn/T/ipykernel_86322/2562939030.py\u001b[0m in \u001b[0;36m<module>\u001b[0;34m\u001b[0m\n\u001b[1;32m     27\u001b[0m \u001b[0;34m\u001b[0m\u001b[0m\n\u001b[1;32m     28\u001b[0m \u001b[0;31m#CONFIRMAMOS LA DIRECCIÓN RECONOCIDA\u001b[0m\u001b[0;34m\u001b[0m\u001b[0;34m\u001b[0m\u001b[0;34m\u001b[0m\u001b[0m\n\u001b[0;32m---> 29\u001b[0;31m \u001b[0mdriver\u001b[0m\u001b[0;34m.\u001b[0m\u001b[0mfind_element_by_xpath\u001b[0m\u001b[0;34m(\u001b[0m\u001b[0;34m'//*[@id=\"location-typeahead-home-item-0\"]'\u001b[0m\u001b[0;34m)\u001b[0m\u001b[0;34m.\u001b[0m\u001b[0mclick\u001b[0m\u001b[0;34m(\u001b[0m\u001b[0;34m)\u001b[0m\u001b[0;34m\u001b[0m\u001b[0;34m\u001b[0m\u001b[0m\n\u001b[0m\u001b[1;32m     30\u001b[0m \u001b[0mdriver\u001b[0m\u001b[0;34m.\u001b[0m\u001b[0mimplicitly_wait\u001b[0m\u001b[0;34m(\u001b[0m\u001b[0;36m2\u001b[0m\u001b[0;34m)\u001b[0m\u001b[0;34m\u001b[0m\u001b[0;34m\u001b[0m\u001b[0m\n\u001b[1;32m     31\u001b[0m \u001b[0mprint\u001b[0m\u001b[0;34m(\u001b[0m\u001b[0;34m\"Confirmamos dirección - Okey\"\u001b[0m\u001b[0;34m)\u001b[0m\u001b[0;34m\u001b[0m\u001b[0;34m\u001b[0m\u001b[0m\n",
      "\u001b[0;32m/usr/local/Caskroom/miniconda/base/envs/ironhack/lib/python3.8/site-packages/selenium/webdriver/remote/webdriver.py\u001b[0m in \u001b[0;36mfind_element_by_xpath\u001b[0;34m(self, xpath)\u001b[0m\n\u001b[1;32m    512\u001b[0m             \u001b[0mstacklevel\u001b[0m\u001b[0;34m=\u001b[0m\u001b[0;36m2\u001b[0m\u001b[0;34m,\u001b[0m\u001b[0;34m\u001b[0m\u001b[0;34m\u001b[0m\u001b[0m\n\u001b[1;32m    513\u001b[0m         )\n\u001b[0;32m--> 514\u001b[0;31m         \u001b[0;32mreturn\u001b[0m \u001b[0mself\u001b[0m\u001b[0;34m.\u001b[0m\u001b[0mfind_element\u001b[0m\u001b[0;34m(\u001b[0m\u001b[0mby\u001b[0m\u001b[0;34m=\u001b[0m\u001b[0mBy\u001b[0m\u001b[0;34m.\u001b[0m\u001b[0mXPATH\u001b[0m\u001b[0;34m,\u001b[0m \u001b[0mvalue\u001b[0m\u001b[0;34m=\u001b[0m\u001b[0mxpath\u001b[0m\u001b[0;34m)\u001b[0m\u001b[0;34m\u001b[0m\u001b[0;34m\u001b[0m\u001b[0m\n\u001b[0m\u001b[1;32m    515\u001b[0m \u001b[0;34m\u001b[0m\u001b[0m\n\u001b[1;32m    516\u001b[0m     \u001b[0;32mdef\u001b[0m \u001b[0mfind_elements_by_xpath\u001b[0m\u001b[0;34m(\u001b[0m\u001b[0mself\u001b[0m\u001b[0;34m,\u001b[0m \u001b[0mxpath\u001b[0m\u001b[0;34m)\u001b[0m \u001b[0;34m->\u001b[0m \u001b[0mWebElement\u001b[0m\u001b[0;34m:\u001b[0m\u001b[0;34m\u001b[0m\u001b[0;34m\u001b[0m\u001b[0m\n",
      "\u001b[0;32m/usr/local/Caskroom/miniconda/base/envs/ironhack/lib/python3.8/site-packages/selenium/webdriver/remote/webdriver.py\u001b[0m in \u001b[0;36mfind_element\u001b[0;34m(self, by, value)\u001b[0m\n\u001b[1;32m   1236\u001b[0m             \u001b[0mvalue\u001b[0m \u001b[0;34m=\u001b[0m \u001b[0;34m'[name=\"%s\"]'\u001b[0m \u001b[0;34m%\u001b[0m \u001b[0mvalue\u001b[0m\u001b[0;34m\u001b[0m\u001b[0;34m\u001b[0m\u001b[0m\n\u001b[1;32m   1237\u001b[0m \u001b[0;34m\u001b[0m\u001b[0m\n\u001b[0;32m-> 1238\u001b[0;31m         return self.execute(Command.FIND_ELEMENT, {\n\u001b[0m\u001b[1;32m   1239\u001b[0m             \u001b[0;34m'using'\u001b[0m\u001b[0;34m:\u001b[0m \u001b[0mby\u001b[0m\u001b[0;34m,\u001b[0m\u001b[0;34m\u001b[0m\u001b[0;34m\u001b[0m\u001b[0m\n\u001b[1;32m   1240\u001b[0m             'value': value})['value']\n",
      "\u001b[0;32m/usr/local/Caskroom/miniconda/base/envs/ironhack/lib/python3.8/site-packages/selenium/webdriver/remote/webdriver.py\u001b[0m in \u001b[0;36mexecute\u001b[0;34m(self, driver_command, params)\u001b[0m\n\u001b[1;32m    416\u001b[0m         \u001b[0mresponse\u001b[0m \u001b[0;34m=\u001b[0m \u001b[0mself\u001b[0m\u001b[0;34m.\u001b[0m\u001b[0mcommand_executor\u001b[0m\u001b[0;34m.\u001b[0m\u001b[0mexecute\u001b[0m\u001b[0;34m(\u001b[0m\u001b[0mdriver_command\u001b[0m\u001b[0;34m,\u001b[0m \u001b[0mparams\u001b[0m\u001b[0;34m)\u001b[0m\u001b[0;34m\u001b[0m\u001b[0;34m\u001b[0m\u001b[0m\n\u001b[1;32m    417\u001b[0m         \u001b[0;32mif\u001b[0m \u001b[0mresponse\u001b[0m\u001b[0;34m:\u001b[0m\u001b[0;34m\u001b[0m\u001b[0;34m\u001b[0m\u001b[0m\n\u001b[0;32m--> 418\u001b[0;31m             \u001b[0mself\u001b[0m\u001b[0;34m.\u001b[0m\u001b[0merror_handler\u001b[0m\u001b[0;34m.\u001b[0m\u001b[0mcheck_response\u001b[0m\u001b[0;34m(\u001b[0m\u001b[0mresponse\u001b[0m\u001b[0;34m)\u001b[0m\u001b[0;34m\u001b[0m\u001b[0;34m\u001b[0m\u001b[0m\n\u001b[0m\u001b[1;32m    419\u001b[0m             response['value'] = self._unwrap_value(\n\u001b[1;32m    420\u001b[0m                 response.get('value', None))\n",
      "\u001b[0;32m/usr/local/Caskroom/miniconda/base/envs/ironhack/lib/python3.8/site-packages/selenium/webdriver/remote/errorhandler.py\u001b[0m in \u001b[0;36mcheck_response\u001b[0;34m(self, response)\u001b[0m\n\u001b[1;32m    241\u001b[0m                 \u001b[0malert_text\u001b[0m \u001b[0;34m=\u001b[0m \u001b[0mvalue\u001b[0m\u001b[0;34m[\u001b[0m\u001b[0;34m'alert'\u001b[0m\u001b[0;34m]\u001b[0m\u001b[0;34m.\u001b[0m\u001b[0mget\u001b[0m\u001b[0;34m(\u001b[0m\u001b[0;34m'text'\u001b[0m\u001b[0;34m)\u001b[0m\u001b[0;34m\u001b[0m\u001b[0;34m\u001b[0m\u001b[0m\n\u001b[1;32m    242\u001b[0m             \u001b[0;32mraise\u001b[0m \u001b[0mexception_class\u001b[0m\u001b[0;34m(\u001b[0m\u001b[0mmessage\u001b[0m\u001b[0;34m,\u001b[0m \u001b[0mscreen\u001b[0m\u001b[0;34m,\u001b[0m \u001b[0mstacktrace\u001b[0m\u001b[0;34m,\u001b[0m \u001b[0malert_text\u001b[0m\u001b[0;34m)\u001b[0m  \u001b[0;31m# type: ignore[call-arg]  # mypy is not smart enough here\u001b[0m\u001b[0;34m\u001b[0m\u001b[0;34m\u001b[0m\u001b[0m\n\u001b[0;32m--> 243\u001b[0;31m         \u001b[0;32mraise\u001b[0m \u001b[0mexception_class\u001b[0m\u001b[0;34m(\u001b[0m\u001b[0mmessage\u001b[0m\u001b[0;34m,\u001b[0m \u001b[0mscreen\u001b[0m\u001b[0;34m,\u001b[0m \u001b[0mstacktrace\u001b[0m\u001b[0;34m)\u001b[0m\u001b[0;34m\u001b[0m\u001b[0;34m\u001b[0m\u001b[0m\n\u001b[0m\u001b[1;32m    244\u001b[0m \u001b[0;34m\u001b[0m\u001b[0m\n\u001b[1;32m    245\u001b[0m     \u001b[0;32mdef\u001b[0m \u001b[0m_value_or_default\u001b[0m\u001b[0;34m(\u001b[0m\u001b[0mself\u001b[0m\u001b[0;34m,\u001b[0m \u001b[0mobj\u001b[0m\u001b[0;34m:\u001b[0m \u001b[0mMapping\u001b[0m\u001b[0;34m[\u001b[0m\u001b[0m_KT\u001b[0m\u001b[0;34m,\u001b[0m \u001b[0m_VT\u001b[0m\u001b[0;34m]\u001b[0m\u001b[0;34m,\u001b[0m \u001b[0mkey\u001b[0m\u001b[0;34m:\u001b[0m \u001b[0m_KT\u001b[0m\u001b[0;34m,\u001b[0m \u001b[0mdefault\u001b[0m\u001b[0;34m:\u001b[0m \u001b[0m_VT\u001b[0m\u001b[0;34m)\u001b[0m \u001b[0;34m->\u001b[0m \u001b[0m_VT\u001b[0m\u001b[0;34m:\u001b[0m\u001b[0;34m\u001b[0m\u001b[0;34m\u001b[0m\u001b[0m\n",
      "\u001b[0;31mNoSuchElementException\u001b[0m: Message: no such element: Unable to locate element: {\"method\":\"xpath\",\"selector\":\"//*[@id=\"location-typeahead-home-item-0\"]\"}\n  (Session info: chrome=96.0.4664.55)\nStacktrace:\n0   chromedriver                        0x000000010747a269 __gxx_personality_v0 + 582729\n1   chromedriver                        0x0000000107405c33 __gxx_personality_v0 + 106003\n2   chromedriver                        0x0000000106fc2e28 chromedriver + 171560\n3   chromedriver                        0x0000000106ff83d2 chromedriver + 390098\n4   chromedriver                        0x0000000106ff8591 chromedriver + 390545\n5   chromedriver                        0x000000010702a6b4 chromedriver + 595636\n6   chromedriver                        0x00000001070159fd chromedriver + 510461\n7   chromedriver                        0x0000000107028462 chromedriver + 586850\n8   chromedriver                        0x0000000107015c23 chromedriver + 511011\n9   chromedriver                        0x0000000106feb75e chromedriver + 337758\n10  chromedriver                        0x0000000106feca95 chromedriver + 342677\n11  chromedriver                        0x00000001074368ab __gxx_personality_v0 + 305803\n12  chromedriver                        0x000000010744d863 __gxx_personality_v0 + 399939\n13  chromedriver                        0x0000000107452c7f __gxx_personality_v0 + 421471\n14  chromedriver                        0x000000010744ebba __gxx_personality_v0 + 404890\n15  chromedriver                        0x000000010742ae51 __gxx_personality_v0 + 258097\n16  chromedriver                        0x000000010746a158 __gxx_personality_v0 + 516920\n17  chromedriver                        0x000000010746a2e1 __gxx_personality_v0 + 517313\n18  chromedriver                        0x00000001074816f8 __gxx_personality_v0 + 612568\n19  libsystem_pthread.dylib             0x00007fff2036d8fc _pthread_start + 224\n20  libsystem_pthread.dylib             0x00007fff20369443 thread_start + 15\n"
     ]
    }
   ],
   "source": [
    "# AQUI INTENTO SACAR TODO Y APENDEARLO EN UN DICCIONARIO, DE FORMA ORDENADA!!!\n",
    "# ESPERO QUE SALGA ASÍ :)\n",
    "\n",
    "\n",
    "driver = webdriver.Chrome(ChromeDriverManager().install())\n",
    "orde = {\"restaurantes\": [], \"likes\": [], \"precio\": [], \"eta\": []}\n",
    "   \n",
    "#VAMOS A LA URL\n",
    "driver.get(\"https://www.ubereats.com/es\")\n",
    "driver.implicitly_wait(2)\n",
    "print(\"Url - Okey\")\n",
    "\n",
    "#ACEPTAMOS LAS COOKIES\n",
    "driver.find_element_by_css_selector(\"#cookie-banner > div > div > div.ah.gf > button.bc.gg.gh.gk.bj.bk.bl.bm.bn.bo.bt.bu.ba.bb\").click()\n",
    "driver.implicitly_wait(2)\n",
    "print(\"Cookies - Okey\")\n",
    "    \n",
    "#LE DAMOS UNA DIRECCIÓN DE ENTREGA, HACEMOS CLICK EN \"CERCA DE MI\"\n",
    "driver.find_element_by_xpath('//*[@id=\"location-typeahead-home-input\"]').click()\n",
    "driver.implicitly_wait(2)\n",
    "print(\"Click dirección - Okey\")\n",
    "\n",
    "#TENEMOS QUE ESCRIBIR LA DIRECCIÓN\n",
    "driver.find_element_by_xpath('//*[@id=\"location-typeahead-home-input\"]').send_keys(\"Lopez de Hoyos, 13, Madrid\")\n",
    "driver.implicitly_wait(2)\n",
    "print(\"Dirección - Okey\")\n",
    "\n",
    "#CONFIRMAMOS LA DIRECCIÓN RECONOCIDA\n",
    "driver.find_element_by_xpath('//*[@id=\"location-typeahead-home-item-0\"]').click()\n",
    "driver.implicitly_wait(2)\n",
    "print(\"Confirmamos dirección - Okey\")\n",
    "\n",
    "#LE DAMOS UNA CATEGORÍA\n",
    "driver.find_element_by_xpath('//*[@id=\"wrapper\"]/header/div/div/div[6]/div/div').click()\n",
    "driver.implicitly_wait(2)\n",
    "print(\"Click categoría - Okey\")\n",
    "\n",
    "#TENEMOS QUE ESCRIBIR LA CATEGORÍA\n",
    "driver.find_element_by_xpath('//*[@id=\"search-suggestions-typeahead-input\"]').send_keys(\"Comida\")\n",
    "driver.find_element_by_xpath('//*[@id=\"search-suggestions-typeahead-input\"]').send_keys(Keys.ENTER)\n",
    "driver.implicitly_wait(2)\n",
    "print(\"Categoría - Okey\")\n",
    "print(\"Estamos cerca!! \")\n",
    "\n",
    "#SACAMOS LA DATA DE CADA TABLA\n",
    "for number in range (1,27):\n",
    "    orde[\"restaurantes\"].append(driver.find_element_by_xpath(f'/html/body/div[1]/div[1]/div/main/div/div/div[2]/div/div[2]/div[{number}]/div/a/h3').text)\n",
    "    orde[\"likes\"].append(driver.find_element_by_xpath(f'/html/body/div[1]/div[1]/div/main/div/div/div[2]/div/div[2]/div[{number}]/div/div/div/div[2]/div[1]/span').text)\n",
    "    orde[\"precio\"].append(driver.find_element_by_xpath(f'/html/body/div[1]/div[1]/div/main/div/div/div[2]/div/div[2]/div[{number}]/div/div/div/div[2]/div[2]/div[2]').text)\n",
    "    orde[\"eta\"].append(driver.find_element_by_xpath(f'/html/body/div[1]/div[1]/div/main/div/div/div[2]/div/div[2]/div[{number}]/div/div/div/div[2]/div[2]/div[3]/span/div').text)\n",
    "    driver.implicitly_wait(2)\n",
    "print(\"Congratulations, tenemos la data que necesitamos de la primera pagina!\")\n",
    "\n",
    "driver.quit"
   ]
  },
  {
   "cell_type": "code",
   "execution_count": null,
   "id": "f720135f",
   "metadata": {},
   "outputs": [],
   "source": [
    "print(orde)"
   ]
  },
  {
   "cell_type": "code",
   "execution_count": 17,
   "id": "f15ee34d",
   "metadata": {},
   "outputs": [
    {
     "name": "stderr",
     "output_type": "stream",
     "text": [
      "\n",
      "\n",
      "====== WebDriver manager ======\n",
      "Current google-chrome version is 96.0.4664\n",
      "Get LATEST chromedriver version for 96.0.4664 google-chrome\n",
      "Driver [/Users/juanvegapenichet/.wdm/drivers/chromedriver/mac64/96.0.4664.45/chromedriver] found in cache\n"
     ]
    },
    {
     "name": "stdout",
     "output_type": "stream",
     "text": [
      "Url - Okey\n",
      "Cookies - Okey\n",
      "Click dirección - Okey\n",
      "Dirección - Okey\n",
      "Confirmamos dirección - Okey\n",
      "Click categoría - Okey\n",
      "Categoría - Okey\n",
      "Estamos cerca!! \n",
      "Congratulations, tenemos todo guarro!\n"
     ]
    },
    {
     "data": {
      "text/plain": [
       "<bound method ChromiumDriver.quit of <selenium.webdriver.chrome.webdriver.WebDriver (session=\"94aa62cd2409395df01cfdab6a04d2cd\")>>"
      ]
     },
     "execution_count": 17,
     "metadata": {},
     "output_type": "execute_result"
    }
   ],
   "source": [
    "# AQUI INTENTO SACAR TODA LA CAJA Y APENDEARLO EN UN DICCIONARIO, CAOS!\n",
    "\n",
    "driver = webdriver.Chrome(ChromeDriverManager().install())\n",
    "todoguarro = []\n",
    "   \n",
    "#VAMOS A LA URL\n",
    "driver.get(\"https://www.ubereats.com/es\")\n",
    "driver.implicitly_wait(2)\n",
    "print(\"Url - Okey\")\n",
    "\n",
    "#ACEPTAMOS LAS COOKIES\n",
    "driver.find_element_by_css_selector(\"#cookie-banner > div > div > div.ah.gf > button.bc.gg.gh.gk.bj.bk.bl.bm.bn.bo.bt.bu.ba.bb\").click()\n",
    "driver.implicitly_wait(2)\n",
    "print(\"Cookies - Okey\")\n",
    "    \n",
    "#LE DAMOS UNA DIRECCIÓN DE ENTREGA, HACEMOS CLICK EN \"CERCA DE MI\"\n",
    "driver.find_element_by_xpath('//*[@id=\"location-typeahead-home-input\"]').click()\n",
    "driver.implicitly_wait(2)\n",
    "print(\"Click dirección - Okey\")\n",
    "\n",
    "#TENEMOS QUE ESCRIBIR LA DIRECCIÓN\n",
    "driver.find_element_by_xpath('//*[@id=\"location-typeahead-home-input\"]').send_keys(\"Lopez de Hoyos, 13, Madrid\")\n",
    "driver.implicitly_wait(2)\n",
    "print(\"Dirección - Okey\")\n",
    "\n",
    "#CONFIRMAMOS LA DIRECCIÓN RECONOCIDA\n",
    "driver.find_element_by_xpath('//*[@id=\"location-typeahead-home-item-0\"]').click()\n",
    "driver.implicitly_wait(2)\n",
    "print(\"Confirmamos dirección - Okey\")\n",
    "\n",
    "#LE DAMOS UNA CATEGORÍA\n",
    "driver.find_element_by_xpath('//*[@id=\"wrapper\"]/header/div/div/div[6]/div/div').click()\n",
    "driver.implicitly_wait(2)\n",
    "print(\"Click categoría - Okey\")\n",
    "\n",
    "#TENEMOS QUE ESCRIBIR LA CATEGORÍA\n",
    "driver.find_element_by_xpath('//*[@id=\"search-suggestions-typeahead-input\"]').send_keys(\"Comida\")\n",
    "driver.find_element_by_xpath('//*[@id=\"search-suggestions-typeahead-input\"]').send_keys(Keys.ENTER)\n",
    "driver.implicitly_wait(2)\n",
    "print(\"Categoría - Okey\")\n",
    "print(\"Estamos cerca!! \")\n",
    "\n",
    "#SACAMOS LA DATA DE CADA TABLA\n",
    "for number in range (1,80):\n",
    "    todoguarro.append(driver.find_element_by_xpath(f'/html/body/div[1]/div[1]/div/main/div/div/div[2]/div/div[2]/div[{number}]/div/div/div/div[2]').text)\n",
    "    driver.implicitly_wait(2)\n",
    "print(\"Congratulations, tenemos todo guarro!\")\n",
    "\n",
    "driver.quit"
   ]
  },
  {
   "cell_type": "code",
   "execution_count": 18,
   "id": "37e50e92",
   "metadata": {},
   "outputs": [
    {
     "name": "stdout",
     "output_type": "stream",
     "text": [
      "['La Tagliatella - Madrid Juan Bravo\\nUno de los restaurantes mejor valorados con 4.6 de 5 estrellas según 35 opiniones.\\n4.6\\n • \\nLos gastos de envío son de 1.40€.\\nPrecio de 1.40€\\n • \\n30–40 min', 'TUTTO PASTA!\\nValorado con 2.9 de 5 estrellas según 28 opiniones.\\n2.9\\nLos gastos de envío son de 2.50€.\\nPrecio de 2.50€\\n • \\n40–60 min', 'La Cuchara\\n • \\nLos gastos de envío son de 1.90€.\\nPrecio de 1.90€\\n • \\n35–45 min', \"Papa John's - Príncipe\\nValorado con 4.5 de 5 estrellas según más de 200 opiniones.\\n4.5\\nLos gastos de envío son de 1.40€.\\nPrecio de 1.40€\\n • \\n25–35 min\", 'Badsha India Restaurant\\nValorado con 4.4 de 5 estrellas según más de 200 opiniones.\\n4.4\\nLos gastos de envío son de 1.00€.\\nPrecio de 1.00€\\n • \\n15–35 min', 'TeKeS\\nUno de los restaurantes mejor valorados con 4.9 de 5 estrellas según 76 opiniones.\\n4.9\\nLos gastos de envío son de 2.40€.\\nPrecio de 2.40€\\n • \\n45–55 min', 'Makan Saj Manoushe\\nUno de los restaurantes mejor valorados con 4.9 de 5 estrellas según más de 200 opiniones.\\n4.9\\n • \\nLos gastos de envío son de 1.40€.\\nPrecio de 1.40€\\n • \\n25–35 min', 'Hi Wok\\nValorado con 4.3 de 5 estrellas según 38 opiniones.\\n4.3\\nLos gastos de envío son de 1.90€.\\nPrecio de 1.90€\\n • \\n35–45 min', 'Arepa Mix\\nValorado con 4.0 de 5 estrellas según 29 opiniones.\\n4.0\\n • \\nLos gastos de envío son de 5.00€.\\nPrecio de 5.00€\\n • \\n20–40 min', 'Flor de Primavera\\nValorado con 4.3 de 5 estrellas según más de 200 opiniones.\\n4.3\\nLos gastos de envío son de 0.50€.\\nPrecio de 0.50€\\n • \\n25–45 min', 'Pizzart Luchana\\n • \\nLos gastos de envío son de 1.90€.\\nPrecio de 1.90€\\n • \\n45–55 min', 'Taco Bell - Concha Espina\\nValorado con 4.4 de 5 estrellas según más de 200 opiniones.\\n4.4\\nLos gastos de envío son de 2.40€.\\nPrecio de 2.40€\\n • \\n35–45 min', 'MY Pasta Room\\nUno de los restaurantes mejor valorados con 4.6 de 5 estrellas según 60 opiniones.\\n4.6\\n • \\nLos gastos de envío son de 2.40€.\\nPrecio de 2.40€\\n • \\n45–55 min', 'Casa Tua Gourmet\\nUno de los restaurantes mejor valorados con 4.8 de 5 estrellas según 13 opiniones.\\n4.8\\n • \\nLos gastos de envío son de 1.90€.\\nPrecio de 1.90€\\n • \\n40–50 min', \"Juanchi's Burgers - Peñalver\\nValorado con 4.3 de 5 estrellas según 103 opiniones.\\n4.3\\nLos gastos de envío son de 1.90€.\\nPrecio de 1.90€\\n • \\n30–40 min\", 'Pastamore\\nUno de los restaurantes mejor valorados con 4.6 de 5 estrellas según 101 opiniones.\\n4.6\\n • \\nLos gastos de envío son de 2.40€.\\nPrecio de 2.40€\\n • \\n30–40 min', 'Chinawokexpress\\nValorado con 4.2 de 5 estrellas según más de 200 opiniones.\\n4.2\\n • \\nLos gastos de envío son de 4.25€.\\nPrecio de 4.25€\\n • \\n30–50 min', 'Dalù Burger\\n • \\nLos gastos de envío son de 1.90€.\\nPrecio de 1.90€\\n • \\n35–45 min', 'Arepish Azcona\\nUno de los restaurantes mejor valorados con 4.6 de 5 estrellas según más de 200 opiniones.\\n4.6\\n • \\nLos gastos de envío son de 2.40€.\\nPrecio de 2.40€\\n • \\n25–35 min', 'La Mordida - Chueca\\n • \\nLos gastos de envío son de 1.90€.\\nPrecio de 1.90€\\n • \\n45–55 min', 'Pic & Nic- San Andrés\\nValorado con 4.4 de 5 estrellas según más de 200 opiniones.\\n4.4\\nLos gastos de envío son de 2.40€.\\nPrecio de 2.40€\\n • \\n40–50 min', 'Ala Sushi\\nLos gastos de envío son de 2.40€.\\nPrecio de 2.40€\\n • \\n40–50 min', 'Empanadas Malvón - Zurbano\\nUno de los restaurantes mejor valorados con 5.0 de 5 estrellas según 28 opiniones.\\n5.0\\n • \\nLos gastos de envío son de 1.40€.\\nPrecio de 1.40€\\n • \\n30–40 min', 'Fast chicken chain\\nUno de los restaurantes mejor valorados con 5.0 de 5 estrellas según 11 opiniones.\\n5.0\\n • \\nLos gastos de envío son de 2.90€.\\nPrecio de 2.90€\\n • \\n45–55 min', 'VIPS - Génova\\nUno de los restaurantes mejor valorados con 4.6 de 5 estrellas según 15 opiniones.\\n4.6\\n • \\nLos gastos de envío son de 1.90€.\\nPrecio de 1.90€\\n • \\n40–50 min', 'Little Caesars Pizza - Bravo Murillo 113\\nUno de los restaurantes mejor valorados con 4.6 de 5 estrellas según más de 200 opiniones.\\n4.6\\nLos gastos de envío son de 2.40€.\\nPrecio de 2.40€\\n • \\n40–50 min', 'Artisan Burger\\n • \\nLos gastos de envío son de 0.90€.\\nPrecio de 0.90€\\n • \\n35–45 min', 'Cachaparte\\nValorado con 4.3 de 5 estrellas según 22 opiniones.\\n4.3\\n • \\nLos gastos de envío son de 1.90€.\\nPrecio de 1.90€\\n • \\n35–45 min', 'Flame\\n • \\nLos gastos de envío son de 1.40€.\\nPrecio de 1.40€\\n • \\n30–40 min', 'MANKA\\nUno de los restaurantes mejor valorados con 4.9 de 5 estrellas según 47 opiniones.\\n4.9\\n • \\nLos gastos de envío son de 2.90€.\\nPrecio de 2.90€\\n • \\n45–55 min', 'Home Burger Bar - Santa Engracia\\nValorado con 4.1 de 5 estrellas según 174 opiniones.\\n4.1\\nLos gastos de envío son de 1.90€.\\nPrecio de 1.90€\\n • \\n40–50 min', 'Yakitoro - Castellana\\nUno de los restaurantes mejor valorados con 4.5 de 5 estrellas según 25 opiniones.\\n4.5\\n • \\nLos gastos de envío son de 1.90€.\\nPrecio de 1.90€\\n • \\n50–60 min', 'Aloha Poke - Maria de Molina\\nValorado con 4.4 de 5 estrellas según 169 opiniones.\\n4.4\\n • \\nLos gastos de envío son de 0.90€.\\nPrecio de 0.90€\\n • \\n30–40 min', 'Cerveceria Riaño\\nLos gastos de envío son de 2.90€.\\nPrecio de 2.90€\\n • \\n40–50 min', 'Freedom Pizza\\nUno de los restaurantes mejor valorados con 4.5 de 5 estrellas según 52 opiniones.\\n4.5\\n • \\nLos gastos de envío son de 1.90€.\\nPrecio de 1.90€\\n • \\n35–45 min', 'Limbo Player Two\\n • \\nLos gastos de envío son de 2.40€.\\nPrecio de 2.40€\\n • \\n45–55 min', '100 % Sano\\nLos gastos de envío son de 2.40€.\\nPrecio de 2.40€\\n • \\n30–40 min', 'Urban Poke - Alberto Alcocer\\nLos gastos de envío son de 2.90€.\\nPrecio de 2.90€\\n • \\n35–45 min', \"McDonald's (Goya)\\nUno de los restaurantes mejor valorados con 4.6 de 5 estrellas según más de 200 opiniones.\\n4.6\\nLos gastos de envío son de 2.40€.\\nPrecio de 2.40€\\n • \\n25–35 min\", 'Burnout Burger\\n • \\nLos gastos de envío son de 1.90€.\\nPrecio de 1.90€\\n • \\n40–50 min', 'La cabaña de cris\\n • \\nLos gastos de envío son de 2.90€.\\nPrecio de 2.90€\\n • \\n50–60 min', 'Shawarma palace\\nValorado con 3.5 de 5 estrellas según 15 opiniones.\\n3.5\\n • \\nLos gastos de envío son de 2.40€.\\nPrecio de 2.40€\\n • \\n45–55 min', 'Tosty\\nLos gastos de envío son de 2.40€.\\nPrecio de 2.40€\\n • \\n45–55 min', 'Graal\\n • \\nLos gastos de envío son de 2.40€.\\nPrecio de 2.40€\\n • \\n45–55 min', 'Restaurante Chino Diamante\\nValorado con 4.0 de 5 estrellas según 99 opiniones.\\n4.0\\n • \\nLos gastos de envío son de 1.90€.\\nPrecio de 1.90€\\n • \\n30–40 min', 'Toro Burger Lounge\\nValorado con 4.2 de 5 estrellas según 24 opiniones.\\n4.2\\n • \\nLos gastos de envío son de 2.40€.\\nPrecio de 2.40€\\n • \\n50–60 min', 'CHUCK CHUCK CHICKEN\\nLos gastos de envío son de 1.90€.\\nPrecio de 1.90€\\n • \\n35–45 min', 'Popeyes - López de Hoyos\\nValorado con 4.4 de 5 estrellas según más de 200 opiniones.\\n4.4\\nLos gastos de envío son de 2.40€.\\nPrecio de 2.40€\\n • \\n35–45 min', 'Thai Zafra\\nUno de los restaurantes mejor valorados con 4.6 de 5 estrellas según 38 opiniones.\\n4.6\\n • \\nLos gastos de envío son de 2.40€.\\nPrecio de 2.40€\\n • \\n30–40 min', 'CarmenBar\\n • \\nLos gastos de envío son de 1.90€.\\nPrecio de 1.90€\\n • \\n35–45 min', 'Cor & Cor\\nValorado con 4.5 de 5 estrellas según 39 opiniones.\\n4.5\\n • \\nLos gastos de envío son de 1.90€.\\nPrecio de 1.90€\\n • \\n40–50 min', 'Restaurante Xuan\\nUno de los restaurantes mejor valorados con 4.6 de 5 estrellas según 71 opiniones.\\n4.6\\n • \\nLos gastos de envío son de 2.40€.\\nPrecio de 2.40€\\n • \\n40–50 min', 'Pomodoro (Cuatro Caminos)\\nValorado con 3.8 de 5 estrellas según 79 opiniones.\\n3.8\\nLos gastos de envío son de 2.40€.\\nPrecio de 2.40€\\n • \\n45–55 min', 'Hamburguesa Nostra - Puerta de Alcalá\\nUno de los restaurantes mejor valorados con 4.7 de 5 estrellas según 19 opiniones.\\n4.7\\n • \\nLos gastos de envío son de 2.40€.\\nPrecio de 2.40€\\n • \\n40–50 min', 'Real Fried Chicken\\nValorado con 4.3 de 5 estrellas según 14 opiniones.\\n4.3\\n • \\nLos gastos de envío son de 2.40€.\\nPrecio de 2.40€\\n • \\n45–55 min', 'Fathe Pur\\n • \\nLos gastos de envío son de 2.40€.\\nPrecio de 2.40€\\n • \\n40–50 min', 'Jardín feliz\\nValorado con 4.1 de 5 estrellas según 29 opiniones.\\n4.1\\n • \\nLos gastos de envío son de 2.40€.\\nPrecio de 2.40€\\n • \\n35–45 min', 'Biba Chips\\nLos gastos de envío son de 1.90€.\\nPrecio de 1.90€\\n • \\n35–45 min', 'Organic & Go\\n • \\nLos gastos de envío son de 2.40€.\\nPrecio de 2.40€\\n • \\n35–45 min', 'That’s Amore\\nLos gastos de envío son de 2.40€.\\nPrecio de 2.40€\\n • \\n45–55 min', 'Esmirna Doner Kebap\\nUno de los restaurantes mejor valorados con 4.7 de 5 estrellas según 51 opiniones.\\n4.7\\n • \\nLos gastos de envío son de 2.40€.\\nPrecio de 2.40€\\n • \\n30–40 min', 'Tiendas 7x24 - Maldonado\\nUno de los restaurantes mejor valorados con 4.8 de 5 estrellas según 139 opiniones.\\n4.8\\n • \\nLos gastos de envío son de 1.40€.\\nPrecio de 1.40€\\n • \\n20–30 min', 'El trébol empanadas - Cuatro Caminos\\nValorado con 4.4 de 5 estrellas según 18 opiniones.\\n4.4\\nLos gastos de envío son de 2.40€.\\nPrecio de 2.40€\\n • \\n40–50 min', 'Tekkel Hot Dog\\nLos gastos de envío son de 2.40€.\\nPrecio de 2.40€\\n • \\n45–55 min', 'BRANDO\\nLos gastos de envío son de 2.40€.\\nPrecio de 2.40€\\n • \\n45–55 min', 'Polloco Gourmet\\nLos gastos de envío son de 2.90€.\\nPrecio de 2.90€\\n • \\n45–55 min', 'Occhiali\\n • \\nLos gastos de envío son de 2.40€.\\nPrecio de 2.40€\\n • \\n40–50 min', 'Antonia Pizza - Chueca\\nLos gastos de envío son de 2.40€.\\nPrecio de 2.40€\\n • \\n45–55 min', 'Kooby Grilled Brochettes\\n • \\nLos gastos de envío son de 1.90€.\\nPrecio de 1.90€\\n • \\n30–40 min', \"Foster's Hollywood (Auditorio)\\nValorado con 4.3 de 5 estrellas según 66 opiniones.\\n4.3\\n • \\nLos gastos de envío son de 1.90€.\\nPrecio de 1.90€\\n • \\n30–40 min\", 'Rude Burger\\nUno de los restaurantes mejor valorados con 4.8 de 5 estrellas según 35 opiniones.\\n4.8\\n • \\nLos gastos de envío son de 1.90€.\\nPrecio de 1.90€\\n • \\n35–45 min', 'China Te\\nValorado con 4.2 de 5 estrellas según 22 opiniones.\\n4.2\\nLos gastos de envío son de 2.40€.\\nPrecio de 2.40€\\n • \\n35–45 min', 'Cherry Pecas\\nValorado con 4.4 de 5 estrellas según 91 opiniones.\\n4.4\\n • \\nLos gastos de envío son de 2.90€.\\nPrecio de 2.90€\\n • \\n35–45 min', 'Crepes & Waffles - Lopez de Hoyos\\nValorado con 4.5 de 5 estrellas según 19 opiniones.\\n4.5\\n • \\nLos gastos de envío son de 0.90€.\\nPrecio de 0.90€\\n • \\n30–40 min', 'Super Taco & Burrito - Belén\\n • \\nLos gastos de envío son de 2.40€.\\nPrecio de 2.40€\\n • \\n45–55 min', 'Rodilla - María de Molina\\nLos gastos de envío son de 0.90€.\\nPrecio de 0.90€\\n • \\n30–40 min', 'Mad Pollo\\nValorado con 3.9 de 5 estrellas según 42 opiniones.\\n3.9\\n • \\nLos gastos de envío son de Sin precio.\\nSin precio\\n • \\n15–35 min', 'Doner Kebap Efes / Cartagena\\nUno de los restaurantes mejor valorados con 4.7 de 5 estrellas según 23 opiniones.\\n4.7\\n • \\nLos gastos de envío son de 1.90€.\\nPrecio de 1.90€\\n • \\n20–30 min', 'Pizzart Fuencarral\\n • \\nLos gastos de envío son de 2.40€.\\nPrecio de 2.40€\\n • \\n40–50 min']\n"
     ]
    }
   ],
   "source": [
    "print(todoguarro)"
   ]
  },
  {
   "cell_type": "code",
   "execution_count": null,
   "id": "01a4dfcb",
   "metadata": {},
   "outputs": [],
   "source": [
    "import pandas as pd"
   ]
  },
  {
   "cell_type": "code",
   "execution_count": null,
   "id": "5f256fe6",
   "metadata": {},
   "outputs": [],
   "source": [
    "df = pd.DataFrame(todoguarro)"
   ]
  },
  {
   "cell_type": "code",
   "execution_count": null,
   "id": "b3663feb",
   "metadata": {},
   "outputs": [],
   "source": [
    "df[0][0]"
   ]
  },
  {
   "cell_type": "code",
   "execution_count": null,
   "id": "89a97006",
   "metadata": {},
   "outputs": [],
   "source": [
    "final = []\n",
    "for i in range(48):\n",
    "    final.append(df.iloc[i][0].split(\"\\n\"))"
   ]
  },
  {
   "cell_type": "code",
   "execution_count": null,
   "id": "07fd7c18",
   "metadata": {
    "scrolled": false
   },
   "outputs": [],
   "source": [
    "final[0]"
   ]
  },
  {
   "cell_type": "code",
   "execution_count": null,
   "id": "19bf6d92",
   "metadata": {
    "scrolled": false
   },
   "outputs": [],
   "source": [
    "df = pd.DataFrame(final)\n",
    "df.columns = [\"Nombre\",\"Valorado en\",\"Valoración\",\"Gastos de envío\",\"Delivery Fee\",\"ETA\",\"Nada\",\"Fuera\"]\n",
    "df"
   ]
  },
  {
   "cell_type": "code",
   "execution_count": null,
   "id": "8790810f",
   "metadata": {},
   "outputs": [],
   "source": [
    "# PATRONES DE UBER EATS\n",
    "\n",
    "Nombre1 = /html/body/div[1]/div[1]/div/main/div/div/div[2]/div/div[2]/div[1]/div/div/div/div[2]/div[1]/div[1]\n",
    "Nombre2 = /html/body/div[1]/div[1]/div/main/div/div/div[2]/div/div[2]/div[1]/div/div/div/div[2]/div[1]/div[1]\n",
    "Nombre3 = /html/body/div[1]/div[1]/div/main/div/div/div[2]/div/div[2]/div[3]/div/div/div/div[2]/div[1]/div[1]\n",
    "Nombre4 = /html/body/div[1]/div[1]/div/main/div/div/div[2]/div/div[2]/div[77]/div/div/div/div[2]/div[1]\n",
    "\n",
    "NOMBRE1 = #main-content > div > div > div.b0.cd.ca.f3.e7.e8.e9.ea > div > div.kd.ke.kf.kg.kh.ki > div:nth-child(1) > div > div > div > div.ah.ai.f9 > div.l0.bx.ah.ec.c3 > div.ce.gz.cg.cu.bx.bb.b9.cs\n",
    "NOMBRE2 = #main-content > div > div > div.b0.cd.ca.f3.e7.e8.e9.ea > div > div.kd.ke.kf.kg.kh.ki > div:nth-child(2) > div > div > div > div.ah.ai.f9 > div.l0.bx.ah.ec.c3 > div.ce.gz.cg.cu.bx.bb.b9.cs\n",
    "\n",
    "Like & Nº 1 = /html/body/div[1]/div[1]/div/main/div/div/div[2]/div/div[2]/div[1]/div/div/div/div[2]/div[1]/span\n",
    "Like & Nº 2 = /html/body/div[1]/div[1]/div/main/div/div/div[2]/div/div[2]/div[2]/div/div/div/div[2]/div[1]/img\n",
    "Like & Nº 3 = /html/body/div[1]/div[1]/div/main/div/div/div[2]/div/div[2]/div[3]/div/div/div/div[2]/div[1]/span\n",
    "Like & Nº 4 = \n",
    "\n",
    "LIKE1 = #main-content > div > div > div.b0.cd.ca.f3.e7.e8.e9.ea > div > div.kd.ke.kf.kg.kh.ki > div:nth-child(1) > div > div > div > div.ah.ai.f9 > div.l0.bx.ah.ec.c3 > div.ce.l1.cg.ch.ek.ej.l2.cj.ga.ah.c3.g9\n",
    "LIKE2 = #main-content > div > div > div.b0.cd.ca.f3.e7.e8.e9.ea > div > div.kd.ke.kf.kg.kh.ki > div:nth-child(2) > div > div > div > div.ah.ai.f9 > div.l0.bx.ah.ec.c3 > img\n",
    "\n",
    "Precio 1 = /html/body/div[1]/div[1]/div/main/div/div/div[2]/div/div[2]/div[1]/div/div/div/div[2]/div[2]/div[2]\n",
    "Precio 2 = /html/body/div[1]/div[1]/div/main/div/div/div[2]/div/div[2]/div[2]/div/div/div/div[2]/div[2]/div[2]\n",
    "Precio 3 = /html/body/div[1]/div[1]/div/main/div/div/div[2]/div/div[2]/div[3]/div/div/div/div[2]/div[2]/div[1]\n",
    "Precio 4 = \n",
    "\n",
    "ETA 1 = /html/body/div[1]/div[1]/div/main/div/div/div[2]/div/div[2]/div[1]/div/div/div/div[2]/div[2]/div[3]/span/div\n",
    "ETA 2 = /html/body/div[1]/div[1]/div/main/div/div/div[2]/div/div[2]/div[2]/div/div/div/div[2]/div[2]/div[3]\n",
    "ETA 3 = /html/body/div[1]/div[1]/div/main/div/div/div[2]/div/div[2]/div[3]/div/div/div/div[2]/div[2]/div[2]\n",
    "ETA 4 = \n",
    "\n",
    "\n",
    "eta1 = #main-content > div > div > div.b0.cd.ca.f3.e7.e8.e9.ea > div > div.kd.ke.kf.kg.kh.ki > div:nth-child(2) > div > div > div > div.ah.ai.f9 > div.bx.e2.ah.c3.l3 > div.bb.b9.cs\n",
    "\n",
    "FULL PATH CAJA 1 = /html/body/div[1]/div[1]/div/main/div/div/div[2]/div/div[2]/div[10]/div/div/div/div[2]\n",
    "FULL PATH CAJA 2 = /html/body/div[1]/div[1]/div/main/div/div/div[2]/div/div[2]/div[11]/div/div/div/div[2]\n",
    "FULL PATH CAJA 3 = \n",
    "FULL PATH CAJ 81 = /html/body/div[1]/div[1]/div/main/div/div/div[2]/div/div[2]/div[45]/div/div/div/div[2]"
   ]
  },
  {
   "cell_type": "code",
   "execution_count": 60,
   "id": "619eeb4a",
   "metadata": {},
   "outputs": [
    {
     "name": "stderr",
     "output_type": "stream",
     "text": [
      "\n",
      "\n",
      "====== WebDriver manager ======\n",
      "Current google-chrome version is 96.0.4664\n",
      "Get LATEST chromedriver version for 96.0.4664 google-chrome\n",
      "Driver [/Users/juanvegapenichet/.wdm/drivers/chromedriver/mac64/96.0.4664.45/chromedriver] found in cache\n"
     ]
    },
    {
     "name": "stdout",
     "output_type": "stream",
     "text": [
      "Url - Okey\n",
      "Cookies - Okey\n",
      "Click dirección - Okey\n",
      "Dirección - Okey\n",
      "Confirmamos dirección - Okey\n",
      "Click categoría - Okey\n",
      "Categoría - Okey\n",
      "Estamos cerca!! \n",
      "Congratulations, tenemos la data que necesitamos de la primera pagina!\n"
     ]
    },
    {
     "data": {
      "text/plain": [
       "<bound method ChromiumDriver.quit of <selenium.webdriver.chrome.webdriver.WebDriver (session=\"3a421e0482cb24b386b97e80d93b04f9\")>>"
      ]
     },
     "execution_count": 60,
     "metadata": {},
     "output_type": "execute_result"
    }
   ],
   "source": [
    "# AQUI INTENTO SACAR TODO Y APENDEARLO EN UN DICCIONARIO, DE FORMA ORDENADA!!!\n",
    "# ESPERO QUE SALGA ASÍ :)\n",
    "\n",
    "\n",
    "driver = webdriver.Chrome(ChromeDriverManager().install())\n",
    "ordenado = {\"restaurantes\": [], \"likes\": [], \"precio\": [], \"eta\": []}\n",
    "   \n",
    "#VAMOS A LA URL\n",
    "driver.get(\"https://www.ubereats.com/es\")\n",
    "driver.implicitly_wait(2)\n",
    "print(\"Url - Okey\")\n",
    "\n",
    "#ACEPTAMOS LAS COOKIES\n",
    "driver.find_element_by_css_selector(\"#cookie-banner > div > div > div.ah.gf > button.bc.gg.gh.gk.bj.bk.bl.bm.bn.bo.bt.bu.ba.bb\").click()\n",
    "driver.implicitly_wait(2)\n",
    "print(\"Cookies - Okey\")\n",
    "    \n",
    "#LE DAMOS UNA DIRECCIÓN DE ENTREGA, HACEMOS CLICK EN \"CERCA DE MI\"\n",
    "driver.find_element_by_xpath('//*[@id=\"location-typeahead-home-input\"]').click()\n",
    "driver.implicitly_wait(2)\n",
    "print(\"Click dirección - Okey\")\n",
    "\n",
    "#TENEMOS QUE ESCRIBIR LA DIRECCIÓN\n",
    "driver.find_element_by_xpath('//*[@id=\"location-typeahead-home-input\"]').send_keys(\"Lopez de Hoyos, 13, Madrid\")\n",
    "driver.implicitly_wait(2)\n",
    "print(\"Dirección - Okey\")\n",
    "\n",
    "#CONFIRMAMOS LA DIRECCIÓN RECONOCIDA\n",
    "driver.find_element_by_xpath('//*[@id=\"location-typeahead-home-item-0\"]').click()\n",
    "driver.implicitly_wait(2)\n",
    "print(\"Confirmamos dirección - Okey\")\n",
    "\n",
    "#LE DAMOS UNA CATEGORÍA\n",
    "driver.find_element_by_xpath('//*[@id=\"wrapper\"]/header/div/div/div[6]/div/div').click()\n",
    "driver.implicitly_wait(2)\n",
    "print(\"Click categoría - Okey\")\n",
    "\n",
    "#TENEMOS QUE ESCRIBIR LA CATEGORÍA\n",
    "driver.find_element_by_xpath('//*[@id=\"search-suggestions-typeahead-input\"]').send_keys(\"Comida\")\n",
    "driver.find_element_by_xpath('//*[@id=\"search-suggestions-typeahead-input\"]').send_keys(Keys.ENTER)\n",
    "driver.implicitly_wait(2)\n",
    "print(\"Categoría - Okey\")\n",
    "print(\"Estamos cerca!! \")\n",
    "\n",
    "#SACAMOS LA DATA DE CADA TABLA\n",
    "for number in range (1,80):\n",
    "    try:\n",
    "        ordenado[\"restaurantes\"].append(driver.find_element_by_xpath(f'/html/body/div[1]/div[1]/div/main/div/div/div[2]/div/div[2]/div[{number}]/div/a/h3').text)\n",
    "    except:\n",
    "        ordenado[\"restaurantes\"].append(\"NaN\")\n",
    "    try:\n",
    "        ordenado[\"likes\"].append(driver.find_element_by_xpath(f'/html/body/div[1]/div[1]/div/main/div/div/div[2]/div/div[2]/div[{number}]/div/div/div/div[2]/div[1]/span').text)\n",
    "    except:\n",
    "        ordenado[\"likes\"].append(\"NaN\")\n",
    "    try:\n",
    "        ordenado[\"precio\"].append(driver.find_element_by_xpath(f'/html/body/div[1]/div[1]/div/main/div/div/div[2]/div/div[2]/div[{number}]/div/div/div/div[2]/div[2]/div[2]').text)\n",
    "    except:\n",
    "        ordenado[\"precio\"].append(\"NaN\")\n",
    "    try:\n",
    "        ordenado[\"eta\"].append(driver.find_element_by_xpath(f'/html/body/div[1]/div[1]/div/main/div/div/div[2]/div/div[2]/div[{number}]/div/div/div/div[2]/div[2]/div[3]/span/div').text)\n",
    "    except:\n",
    "        ordenado[\"eta\"].append(\"NaN\")\n",
    "        \n",
    "    driver.implicitly_wait(2)\n",
    "print(\"Congratulations, tenemos la data que necesitamos de la primera pagina!\")\n",
    "\n",
    "driver.quit"
   ]
  },
  {
   "cell_type": "code",
   "execution_count": 61,
   "id": "4643b97d",
   "metadata": {},
   "outputs": [
    {
     "name": "stdout",
     "output_type": "stream",
     "text": [
      "{'restaurantes': ['La Tagliatella - Madrid Orense', 'La Cuchara', \"Papa John's - Príncipe\", 'Hi Wok', 'Pizzart Luchana', 'Makan Saj Manoushe', 'Pastamore', 'Taco Bell - Concha Espina', 'Arepish Azcona', 'Pic & Nic- San Andrés', 'El Burrito Borracho', 'Empanadas Malvón - Zurbano', 'VIPS - Génova', 'Pollos al Carbón EL MEJOR', 'Home Burger Bar - Santa Engracia', 'Artisan Burger', 'Flame', 'Freedom Pizza', 'Yakitoro - Castellana', 'Aloha Poke - Maria de Molina', \"McDonald's (Goya)\", 'CHUCK CHUCK CHICKEN', 'Popeyes - López de Hoyos', 'CarmenBar', 'Organic & Go', 'Esmirna Doner Kebap', 'Biba Chips', 'Crepes & Waffles - Lopez de Hoyos', 'Tiendas 7x24 - Maldonado', 'Rodilla - María de Molina', 'Doner Kebap Efes / Cartagena', 'Doner Kebap Efes / López de Hoyos', 'Mahalo Poke Madrid', '100 Montaditos - Alcalá 205 Madrid', 'Tim Hortons (Alcalá 232)', 'Frambons - Madrid', 'Golat Helados - Madrid', 'Astros', 'CHOCOLATES VALOR - Madrid', 'Sumo Grill', 'Steak Burger - Gran Via', 'Rude Burger', 'Goiko Basics', 'La Chula', 'TGB - Moncloa', 'Don Oso', 'Pomodoro (Cuatro Caminos)', 'La Fina Pizza (Lagasca)', 'MACAO at Home - Canalejas', 'Miss Poke - Santa Ana', 'Filippo Pizza', 'Sultán kebab', 'Shawarma Station', 'Badsha India Restaurant', 'Tennessee BBQ', 'Napoli Gang by Bel Mondo - Salamanca', 'Phuket Thai', '400 Grados Pizza', 'Roost Chicken', 'Jimbo Smokehouse', 'Doner kebap efes.', 'Pizzart Fuencarral', 'Jardín feliz', 'Shawarma palace', 'Little Caesars Pizza - Bravo Murillo 113', 'Burger Jazz by Orchestra', 'Go Poke', 'Thai Zafra', 'Puccias Chueca', 'Bosforos Turkish Restaurant', 'La Craft Burger (Madrid - Gobernador)', 'Dalù Burger', 'Galipan', 'Restaurante Maru - Korean', 'Hanakura', 'Piri Piri Frango al Carbón', 'Pasta Lovers', 'Urban Poke - Alberto Alcocer', 'Perla del Pacifico El Carmen'], 'likes': ['Valorado con 4.3 de 5 estrellas según 61 opiniones.', 'NaN', 'Valorado con 4.5 de 5 estrellas según más de 200 opiniones.', 'Valorado con 4.3 de 5 estrellas según 38 opiniones.', 'NaN', 'Uno de los restaurantes mejor valorados con 4.9 de 5 estrellas según más de 200 opiniones.', 'Uno de los restaurantes mejor valorados con 4.6 de 5 estrellas según 101 opiniones.', 'Valorado con 4.4 de 5 estrellas según más de 200 opiniones.', 'Uno de los restaurantes mejor valorados con 4.6 de 5 estrellas según más de 200 opiniones.', 'Valorado con 4.4 de 5 estrellas según más de 200 opiniones.', 'NaN', 'Uno de los restaurantes mejor valorados con 5.0 de 5 estrellas según 28 opiniones.', 'Uno de los restaurantes mejor valorados con 4.6 de 5 estrellas según 15 opiniones.', 'Valorado con 3.5 de 5 estrellas según 20 opiniones.', 'Valorado con 4.1 de 5 estrellas según 174 opiniones.', 'NaN', 'NaN', 'Uno de los restaurantes mejor valorados con 4.5 de 5 estrellas según 52 opiniones.', 'Uno de los restaurantes mejor valorados con 4.5 de 5 estrellas según 25 opiniones.', 'Valorado con 4.4 de 5 estrellas según 169 opiniones.', 'Uno de los restaurantes mejor valorados con 4.6 de 5 estrellas según más de 200 opiniones.', 'NaN', 'Valorado con 4.4 de 5 estrellas según más de 200 opiniones.', 'NaN', 'NaN', 'Uno de los restaurantes mejor valorados con 4.7 de 5 estrellas según 51 opiniones.', 'NaN', 'Valorado con 4.5 de 5 estrellas según 19 opiniones.', 'Uno de los restaurantes mejor valorados con 4.8 de 5 estrellas según 139 opiniones.', 'NaN', 'Uno de los restaurantes mejor valorados con 4.7 de 5 estrellas según 23 opiniones.', 'Uno de los restaurantes mejor valorados con 4.6 de 5 estrellas según 31 opiniones.', 'NaN', 'NaN', 'Uno de los restaurantes mejor valorados con 4.9 de 5 estrellas según 34 opiniones.', 'NaN', 'NaN', 'NaN', 'NaN', 'Uno de los restaurantes mejor valorados con 4.5 de 5 estrellas según 26 opiniones.', 'Valorado con 4.1 de 5 estrellas según 166 opiniones.', 'Uno de los restaurantes mejor valorados con 4.8 de 5 estrellas según 35 opiniones.', 'Valorado con 4.4 de 5 estrellas según más de 200 opiniones.', 'NaN', 'NaN', 'NaN', 'Valorado con 3.8 de 5 estrellas según 79 opiniones.', 'Uno de los restaurantes mejor valorados con 4.5 de 5 estrellas según 81 opiniones.', 'Uno de los restaurantes mejor valorados con 4.6 de 5 estrellas según 95 opiniones.', 'Valorado con 4.1 de 5 estrellas según 98 opiniones.', 'NaN', 'Valorado con 3.0 de 5 estrellas según 18 opiniones.', 'Valorado con 4.4 de 5 estrellas según 90 opiniones.', 'Valorado con 4.4 de 5 estrellas según más de 200 opiniones.', 'Uno de los restaurantes mejor valorados con 4.8 de 5 estrellas según 69 opiniones.', 'Uno de los restaurantes mejor valorados con 4.6 de 5 estrellas según más de 200 opiniones.', 'NaN', 'Uno de los restaurantes mejor valorados con 4.6 de 5 estrellas según 42 opiniones.', 'NaN', 'Uno de los restaurantes mejor valorados con 4.7 de 5 estrellas según 68 opiniones.', 'Valorado con 3.7 de 5 estrellas según 31 opiniones.', 'NaN', 'Valorado con 4.1 de 5 estrellas según 29 opiniones.', 'Valorado con 3.5 de 5 estrellas según 15 opiniones.', 'Uno de los restaurantes mejor valorados con 4.6 de 5 estrellas según más de 200 opiniones.', 'Valorado con 4.5 de 5 estrellas según 38 opiniones.', 'Uno de los restaurantes mejor valorados con 4.6 de 5 estrellas según 110 opiniones.', 'Uno de los restaurantes mejor valorados con 4.6 de 5 estrellas según 38 opiniones.', 'NaN', 'Valorado con 4.3 de 5 estrellas según 35 opiniones.', 'Valorado con 4.4 de 5 estrellas según 67 opiniones.', 'NaN', 'Valorado con 4.4 de 5 estrellas según 22 opiniones.', 'Valorado con 4.2 de 5 estrellas según 28 opiniones.', 'NaN', 'Valorado con 4.5 de 5 estrellas según 176 opiniones.', 'NaN', 'NaN', 'Valorado con 4.2 de 5 estrellas según 57 opiniones.'], 'precio': ['45–55 min', 'Los gastos de envío son de 1.90€.\\nPrecio de 1.90€', '25–35 min', '45–55 min', 'Los gastos de envío son de 1.90€.\\nPrecio de 1.90€', 'Los gastos de envío son de 1.40€.\\nPrecio de 1.40€', 'Los gastos de envío son de 2.40€.\\nPrecio de 2.40€', '45–55 min', 'Los gastos de envío son de 2.40€.\\nPrecio de 2.40€', '45–55 min', '45–55 min', 'Los gastos de envío son de 1.40€.\\nPrecio de 1.40€', 'Los gastos de envío son de 1.90€.\\nPrecio de 1.90€', '15–35 min', '45–55 min', 'Los gastos de envío son de 0.90€.\\nPrecio de 0.90€', 'Los gastos de envío son de 1.40€.\\nPrecio de 1.40€', 'Los gastos de envío son de 1.90€.\\nPrecio de 1.90€', 'Los gastos de envío son de 1.90€.\\nPrecio de 1.90€', 'Los gastos de envío son de 0.90€.\\nPrecio de 0.90€', '20–30 min', '35–45 min', '35–45 min', 'Los gastos de envío son de 1.90€.\\nPrecio de 1.90€', 'Los gastos de envío son de 2.40€.\\nPrecio de 2.40€', 'Los gastos de envío son de 2.40€.\\nPrecio de 2.40€', '35–45 min', 'Los gastos de envío son de 0.90€.\\nPrecio de 0.90€', 'Los gastos de envío son de 1.40€.\\nPrecio de 1.40€', '30–40 min', 'Los gastos de envío son de 1.90€.\\nPrecio de 1.90€', 'Los gastos de envío son de 2.40€.\\nPrecio de 2.40€', '30–50 min', '35–45 min', 'Los gastos de envío son de 2.90€.\\nPrecio de 2.90€', 'Los gastos de envío son de 1.90€.\\nPrecio de 1.90€', '30–40 min', '40–50 min', 'Los gastos de envío son de 2.40€.\\nPrecio de 2.40€', 'Abre a las 8:00 PM', 'No hay repartidores cerca', 'Abre a las 8:30 PM', 'No hay repartidores cerca', 'Abre el Jueves a las 12:30 PM', 'NaN', 'No hay repartidores cerca', 'NaN', 'Abre a las 8:00 PM', 'No disponible en este momento', 'No hay repartidores cerca', 'Abre a las 8:30 PM', 'NaN', 'No disponible en este momento', 'NaN', 'Abre a las 8:00 PM', 'Abre a las 7:00 PM', 'No disponible en este momento', 'NaN', 'No disponible en este momento', 'NaN', 'No hay repartidores cerca', 'No hay repartidores cerca', 'Abre a las 7:45 PM', 'No disponible en este momento', 'NaN', 'Abre a las 7:45 PM', 'NaN', 'No disponible en este momento', 'No disponible en este momento', 'No hay repartidores cerca', 'NaN', 'No disponible en este momento', 'No hay repartidores cerca', 'NaN', 'Abre a las 8:30 PM', 'No disponible en este momento', 'No disponible en este momento', 'NaN', 'Abre el Jueves a las 10:30 AM'], 'eta': ['NaN', '30–40 min', 'NaN', 'NaN', '55–65 min', '25–35 min', '35–45 min', 'NaN', '30–40 min', 'NaN', 'NaN', '35–45 min', '45–55 min', 'NaN', 'NaN', '40–50 min', '30–40 min', '40–50 min', '55–65 min', '25–35 min', 'NaN', 'NaN', 'NaN', '40–50 min', '35–45 min', '30–40 min', 'NaN', '35–45 min', '25–35 min', 'NaN', '25–35 min', '30–40 min', 'NaN', 'NaN', '35–45 min', '30–40 min', 'NaN', 'NaN', '45–55 min', 'NaN', 'NaN', 'NaN', 'NaN', 'NaN', 'NaN', 'NaN', 'NaN', 'NaN', 'NaN', 'NaN', 'NaN', 'NaN', 'NaN', 'NaN', 'NaN', 'NaN', 'NaN', 'NaN', 'NaN', 'NaN', 'NaN', 'NaN', 'NaN', 'NaN', 'NaN', 'NaN', 'NaN', 'NaN', 'NaN', 'NaN', 'NaN', 'NaN', 'NaN', 'NaN', 'NaN', 'NaN', 'NaN', 'NaN', 'NaN']}\n"
     ]
    }
   ],
   "source": [
    "print(ordenado)"
   ]
  },
  {
   "cell_type": "code",
   "execution_count": 62,
   "id": "8b1c6231",
   "metadata": {},
   "outputs": [],
   "source": [
    "df = pd.DataFrame(ordenado)"
   ]
  },
  {
   "cell_type": "code",
   "execution_count": null,
   "id": "91ee83f1",
   "metadata": {},
   "outputs": [],
   "source": []
  }
 ],
 "metadata": {
  "kernelspec": {
   "display_name": "ironhack",
   "language": "python",
   "name": "ironhack"
  },
  "language_info": {
   "codemirror_mode": {
    "name": "ipython",
    "version": 3
   },
   "file_extension": ".py",
   "mimetype": "text/x-python",
   "name": "python",
   "nbconvert_exporter": "python",
   "pygments_lexer": "ipython3",
   "version": "3.8.12"
  }
 },
 "nbformat": 4,
 "nbformat_minor": 5
}

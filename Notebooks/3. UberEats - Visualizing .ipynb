{
 "cells": [
  {
   "cell_type": "markdown",
   "id": "38430808",
   "metadata": {},
   "source": [
    "IMPORTAMOS LIBRERÍAS"
   ]
  },
  {
   "cell_type": "code",
   "execution_count": 40,
   "id": "f3b34e34",
   "metadata": {},
   "outputs": [],
   "source": [
    "import pandas as pd\n",
    "import numpy as np\n",
    "import re\n",
    "import seaborn as sns\n",
    "import matplotlib.pyplot as plt\n",
    "import plotly.express as px\n",
    "import plotly.graph_objects as go"
   ]
  },
  {
   "cell_type": "code",
   "execution_count": 54,
   "id": "fff42525",
   "metadata": {},
   "outputs": [],
   "source": [
    "# Matplotlib inline para visualizar los gráficos de Matplotlib\n",
    "%matplotlib inline\n",
    "%config Inlinebackend.figure_format= 'retina'\n",
    "# Configuración para setear y que todas las fig de Seaborn salgan por defecto con este tamaño\n",
    "# Se puede especificar el tamaño de cada figura\n",
    "sns.set_context(\"poster\")\n",
    "sns.set(rc={\"figure.figsize\": (12.,6.)})\n",
    "sns.set_style(\"whitegrid\")"
   ]
  },
  {
   "cell_type": "markdown",
   "id": "ea9a9da0",
   "metadata": {},
   "source": [
    "IMPORTAMOS EL CSV DE UBEREATS QUE LIMPIAREMOS"
   ]
  },
  {
   "cell_type": "code",
   "execution_count": 150,
   "id": "afc1e1d6",
   "metadata": {
    "scrolled": false
   },
   "outputs": [
    {
     "data": {
      "text/html": [
       "<div>\n",
       "<style scoped>\n",
       "    .dataframe tbody tr th:only-of-type {\n",
       "        vertical-align: middle;\n",
       "    }\n",
       "\n",
       "    .dataframe tbody tr th {\n",
       "        vertical-align: top;\n",
       "    }\n",
       "\n",
       "    .dataframe thead th {\n",
       "        text-align: right;\n",
       "    }\n",
       "</style>\n",
       "<table border=\"1\" class=\"dataframe\">\n",
       "  <thead>\n",
       "    <tr style=\"text-align: right;\">\n",
       "      <th></th>\n",
       "      <th>Restaurante</th>\n",
       "      <th>Valoración</th>\n",
       "      <th>Nota</th>\n",
       "      <th>Delivery_Fee</th>\n",
       "      <th>ETA</th>\n",
       "      <th>Tag</th>\n",
       "      <th>Precio</th>\n",
       "      <th>Dirección</th>\n",
       "      <th>Barrio</th>\n",
       "      <th>Tag_</th>\n",
       "    </tr>\n",
       "  </thead>\n",
       "  <tbody>\n",
       "    <tr>\n",
       "      <th>461</th>\n",
       "      <td>Taberna La Buha</td>\n",
       "      <td>24</td>\n",
       "      <td>4.2</td>\n",
       "      <td>2.4</td>\n",
       "      <td>60–70</td>\n",
       "      <td>Mediterránea</td>\n",
       "      <td>€</td>\n",
       "      <td>Calle Mirasierra, 37, 28026</td>\n",
       "      <td>Carabanchel</td>\n",
       "      <td>Mediterránea</td>\n",
       "    </tr>\n",
       "    <tr>\n",
       "      <th>576</th>\n",
       "      <td>Comida Fusión</td>\n",
       "      <td>19</td>\n",
       "      <td>3.7</td>\n",
       "      <td>1.4</td>\n",
       "      <td>30–40</td>\n",
       "      <td>Gourmet</td>\n",
       "      <td>€€€</td>\n",
       "      <td>Avenida De Peña Prieta 22,  28038</td>\n",
       "      <td>Puente de Vallecas</td>\n",
       "      <td>Gourmet</td>\n",
       "    </tr>\n",
       "    <tr>\n",
       "      <th>284</th>\n",
       "      <td>Ala Sushi</td>\n",
       "      <td>40</td>\n",
       "      <td>3.5</td>\n",
       "      <td>0.9</td>\n",
       "      <td>30–40</td>\n",
       "      <td>Asiática</td>\n",
       "      <td>€€</td>\n",
       "      <td>Calle Castilla,4 , 28039</td>\n",
       "      <td>Tetuán</td>\n",
       "      <td>Asiática</td>\n",
       "    </tr>\n",
       "  </tbody>\n",
       "</table>\n",
       "</div>"
      ],
      "text/plain": [
       "         Restaurante  Valoración  Nota  Delivery_Fee    ETA           Tag  \\\n",
       "461  Taberna La Buha          24   4.2           2.4  60–70  Mediterránea   \n",
       "576    Comida Fusión          19   3.7           1.4  30–40       Gourmet   \n",
       "284        Ala Sushi          40   3.5           0.9  30–40      Asiática   \n",
       "\n",
       "    Precio                          Dirección              Barrio  \\\n",
       "461      €        Calle Mirasierra, 37, 28026         Carabanchel   \n",
       "576    €€€  Avenida De Peña Prieta 22,  28038  Puente de Vallecas   \n",
       "284     €€           Calle Castilla,4 , 28039              Tetuán   \n",
       "\n",
       "             Tag_  \n",
       "461  Mediterránea  \n",
       "576       Gourmet  \n",
       "284      Asiática  "
      ]
     },
     "execution_count": 150,
     "metadata": {},
     "output_type": "execute_result"
    }
   ],
   "source": [
    "ue = pd.read_csv(\"../Data/UE_limpio.csv\", index_col = 0)\n",
    "ue.sample(3)"
   ]
  },
  {
   "cell_type": "code",
   "execution_count": 165,
   "id": "1bf22ae8",
   "metadata": {},
   "outputs": [
    {
     "data": {
      "text/html": [
       "<div>\n",
       "<style scoped>\n",
       "    .dataframe tbody tr th:only-of-type {\n",
       "        vertical-align: middle;\n",
       "    }\n",
       "\n",
       "    .dataframe tbody tr th {\n",
       "        vertical-align: top;\n",
       "    }\n",
       "\n",
       "    .dataframe thead th {\n",
       "        text-align: right;\n",
       "    }\n",
       "</style>\n",
       "<table border=\"1\" class=\"dataframe\">\n",
       "  <thead>\n",
       "    <tr style=\"text-align: right;\">\n",
       "      <th></th>\n",
       "      <th>Superficie</th>\n",
       "      <th>Superficie.1</th>\n",
       "      <th>Densidad</th>\n",
       "      <th>Población</th>\n",
       "      <th>0 a 15</th>\n",
       "      <th>16 a 64</th>\n",
       "      <th>65 +</th>\n",
       "      <th>% 0 a 15</th>\n",
       "      <th>% 16 a 64</th>\n",
       "      <th>% 65 +</th>\n",
       "      <th>Esp</th>\n",
       "      <th>Extr</th>\n",
       "      <th>% Esp</th>\n",
       "      <th>% Extr</th>\n",
       "      <th>Nacim</th>\n",
       "      <th>Def</th>\n",
       "      <th>C Natural</th>\n",
       "      <th>€ m2</th>\n",
       "    </tr>\n",
       "  </thead>\n",
       "  <tbody>\n",
       "    <tr>\n",
       "      <th>0</th>\n",
       "      <td>Centro</td>\n",
       "      <td>523</td>\n",
       "      <td>270</td>\n",
       "      <td>141236</td>\n",
       "      <td>10608</td>\n",
       "      <td>108667</td>\n",
       "      <td>21961</td>\n",
       "      <td>8%</td>\n",
       "      <td>77%</td>\n",
       "      <td>16%</td>\n",
       "      <td>104726</td>\n",
       "      <td>36509</td>\n",
       "      <td>74%</td>\n",
       "      <td>26%</td>\n",
       "      <td>863</td>\n",
       "      <td>1252</td>\n",
       "      <td>-389</td>\n",
       "      <td>4865</td>\n",
       "    </tr>\n",
       "  </tbody>\n",
       "</table>\n",
       "</div>"
      ],
      "text/plain": [
       "  Superficie  Superficie.1  Densidad  Población  0 a 15  16 a 64   65 +  \\\n",
       "0     Centro           523       270     141236   10608   108667  21961   \n",
       "\n",
       "  % 0 a 15 % 16 a 64 % 65 +     Esp   Extr % Esp % Extr  Nacim   Def  \\\n",
       "0       8%       77%    16%  104726  36509   74%    26%    863  1252   \n",
       "\n",
       "   C Natural  € m2  \n",
       "0       -389  4865  "
      ]
     },
     "execution_count": 165,
     "metadata": {},
     "output_type": "execute_result"
    }
   ],
   "source": [
    "barrio = pd.read_csv(\"../Data/Barrios_cifras.csv\")\n",
    "barrio.head(1)"
   ]
  },
  {
   "cell_type": "code",
   "execution_count": 168,
   "id": "e4d4794f",
   "metadata": {},
   "outputs": [],
   "source": [
    "barrio.columns = [\n",
    "    'Distrito',\n",
    "    'Area',\n",
    "    'Densidad',\n",
    "    'Poblacion',\n",
    "    '0-15',\n",
    "    '16-64',\n",
    "    '+65',\n",
    "    '% 0-15',\n",
    "    '% 16-64',\n",
    "    '% +65',\n",
    "    'Española',\n",
    "    'Extranjera',\n",
    "    '% Española',\n",
    "    '% Extranjera',\n",
    "    'Nacimientos',\n",
    "    'Defunciones',\n",
    "    'Crecimiento',\n",
    "    'Precio m2',]"
   ]
  },
  {
   "cell_type": "code",
   "execution_count": 169,
   "id": "11064721",
   "metadata": {},
   "outputs": [
    {
     "data": {
      "text/html": [
       "<div>\n",
       "<style scoped>\n",
       "    .dataframe tbody tr th:only-of-type {\n",
       "        vertical-align: middle;\n",
       "    }\n",
       "\n",
       "    .dataframe tbody tr th {\n",
       "        vertical-align: top;\n",
       "    }\n",
       "\n",
       "    .dataframe thead th {\n",
       "        text-align: right;\n",
       "    }\n",
       "</style>\n",
       "<table border=\"1\" class=\"dataframe\">\n",
       "  <thead>\n",
       "    <tr style=\"text-align: right;\">\n",
       "      <th></th>\n",
       "      <th>Distrito</th>\n",
       "      <th>Area</th>\n",
       "      <th>Densidad</th>\n",
       "      <th>Poblacion</th>\n",
       "      <th>0-15</th>\n",
       "      <th>16-64</th>\n",
       "      <th>+65</th>\n",
       "      <th>% 0-15</th>\n",
       "      <th>% 16-64</th>\n",
       "      <th>% +65</th>\n",
       "      <th>Española</th>\n",
       "      <th>Extranjera</th>\n",
       "      <th>% Española</th>\n",
       "      <th>% Extranjera</th>\n",
       "      <th>Nacimientos</th>\n",
       "      <th>Defunciones</th>\n",
       "      <th>Crecimiento</th>\n",
       "      <th>Precio m2</th>\n",
       "    </tr>\n",
       "  </thead>\n",
       "  <tbody>\n",
       "    <tr>\n",
       "      <th>0</th>\n",
       "      <td>Centro</td>\n",
       "      <td>523</td>\n",
       "      <td>270</td>\n",
       "      <td>141236</td>\n",
       "      <td>10608</td>\n",
       "      <td>108667</td>\n",
       "      <td>21961</td>\n",
       "      <td>8%</td>\n",
       "      <td>77%</td>\n",
       "      <td>16%</td>\n",
       "      <td>104726</td>\n",
       "      <td>36509</td>\n",
       "      <td>74%</td>\n",
       "      <td>26%</td>\n",
       "      <td>863</td>\n",
       "      <td>1252</td>\n",
       "      <td>-389</td>\n",
       "      <td>4865</td>\n",
       "    </tr>\n",
       "    <tr>\n",
       "      <th>1</th>\n",
       "      <td>Arganzuela</td>\n",
       "      <td>646</td>\n",
       "      <td>239</td>\n",
       "      <td>154243</td>\n",
       "      <td>18571</td>\n",
       "      <td>105078</td>\n",
       "      <td>30594</td>\n",
       "      <td>12%</td>\n",
       "      <td>68%</td>\n",
       "      <td>20%</td>\n",
       "      <td>137604</td>\n",
       "      <td>16637</td>\n",
       "      <td>89%</td>\n",
       "      <td>11%</td>\n",
       "      <td>1142</td>\n",
       "      <td>1764</td>\n",
       "      <td>-622</td>\n",
       "      <td>3888</td>\n",
       "    </tr>\n",
       "    <tr>\n",
       "      <th>2</th>\n",
       "      <td>Retiro</td>\n",
       "      <td>546</td>\n",
       "      <td>217</td>\n",
       "      <td>118557</td>\n",
       "      <td>14443</td>\n",
       "      <td>73037</td>\n",
       "      <td>31077</td>\n",
       "      <td>12%</td>\n",
       "      <td>62%</td>\n",
       "      <td>26%</td>\n",
       "      <td>108277</td>\n",
       "      <td>10279</td>\n",
       "      <td>91%</td>\n",
       "      <td>9%</td>\n",
       "      <td>801</td>\n",
       "      <td>1627</td>\n",
       "      <td>-826</td>\n",
       "      <td>4502</td>\n",
       "    </tr>\n",
       "    <tr>\n",
       "      <th>3</th>\n",
       "      <td>Salamanca</td>\n",
       "      <td>539</td>\n",
       "      <td>271</td>\n",
       "      <td>146016</td>\n",
       "      <td>16147</td>\n",
       "      <td>95122</td>\n",
       "      <td>34747</td>\n",
       "      <td>11%</td>\n",
       "      <td>65%</td>\n",
       "      <td>24%</td>\n",
       "      <td>124068</td>\n",
       "      <td>21948</td>\n",
       "      <td>85%</td>\n",
       "      <td>15%</td>\n",
       "      <td>1150</td>\n",
       "      <td>1937</td>\n",
       "      <td>-787</td>\n",
       "      <td>5740</td>\n",
       "    </tr>\n",
       "    <tr>\n",
       "      <th>4</th>\n",
       "      <td>Chamartín</td>\n",
       "      <td>917</td>\n",
       "      <td>161</td>\n",
       "      <td>145700</td>\n",
       "      <td>19913</td>\n",
       "      <td>91663</td>\n",
       "      <td>34124</td>\n",
       "      <td>14%</td>\n",
       "      <td>63%</td>\n",
       "      <td>23%</td>\n",
       "      <td>130641</td>\n",
       "      <td>15059</td>\n",
       "      <td>90%</td>\n",
       "      <td>10%</td>\n",
       "      <td>1305</td>\n",
       "      <td>1899</td>\n",
       "      <td>-594</td>\n",
       "      <td>4999</td>\n",
       "    </tr>\n",
       "    <tr>\n",
       "      <th>5</th>\n",
       "      <td>Tetuán</td>\n",
       "      <td>537</td>\n",
       "      <td>297</td>\n",
       "      <td>159849</td>\n",
       "      <td>18293</td>\n",
       "      <td>111262</td>\n",
       "      <td>30294</td>\n",
       "      <td>11%</td>\n",
       "      <td>70%</td>\n",
       "      <td>19%</td>\n",
       "      <td>127202</td>\n",
       "      <td>32647</td>\n",
       "      <td>80%</td>\n",
       "      <td>20%</td>\n",
       "      <td>1353</td>\n",
       "      <td>1984</td>\n",
       "      <td>-631</td>\n",
       "      <td>3649</td>\n",
       "    </tr>\n",
       "    <tr>\n",
       "      <th>6</th>\n",
       "      <td>Chamberí</td>\n",
       "      <td>467</td>\n",
       "      <td>296</td>\n",
       "      <td>138667</td>\n",
       "      <td>14767</td>\n",
       "      <td>90307</td>\n",
       "      <td>33593</td>\n",
       "      <td>11%</td>\n",
       "      <td>65%</td>\n",
       "      <td>24%</td>\n",
       "      <td>121264</td>\n",
       "      <td>17403</td>\n",
       "      <td>87%</td>\n",
       "      <td>13%</td>\n",
       "      <td>1076</td>\n",
       "      <td>1785</td>\n",
       "      <td>-709</td>\n",
       "      <td>5283</td>\n",
       "    </tr>\n",
       "    <tr>\n",
       "      <th>7</th>\n",
       "      <td>Moncloa-Aravaca</td>\n",
       "      <td>4654</td>\n",
       "      <td>26</td>\n",
       "      <td>120834</td>\n",
       "      <td>17036</td>\n",
       "      <td>77360</td>\n",
       "      <td>26438</td>\n",
       "      <td>14%</td>\n",
       "      <td>64%</td>\n",
       "      <td>22%</td>\n",
       "      <td>106834</td>\n",
       "      <td>14000</td>\n",
       "      <td>88%</td>\n",
       "      <td>12%</td>\n",
       "      <td>936</td>\n",
       "      <td>1485</td>\n",
       "      <td>-549</td>\n",
       "      <td>3912</td>\n",
       "    </tr>\n",
       "    <tr>\n",
       "      <th>8</th>\n",
       "      <td>Carabanchel</td>\n",
       "      <td>1405</td>\n",
       "      <td>184</td>\n",
       "      <td>258633</td>\n",
       "      <td>36742</td>\n",
       "      <td>173880</td>\n",
       "      <td>48011</td>\n",
       "      <td>14%</td>\n",
       "      <td>67%</td>\n",
       "      <td>19%</td>\n",
       "      <td>202322</td>\n",
       "      <td>56311</td>\n",
       "      <td>78%</td>\n",
       "      <td>22%</td>\n",
       "      <td>1906</td>\n",
       "      <td>3057</td>\n",
       "      <td>-1151</td>\n",
       "      <td>2165</td>\n",
       "    </tr>\n",
       "    <tr>\n",
       "      <th>9</th>\n",
       "      <td>Usera</td>\n",
       "      <td>778</td>\n",
       "      <td>183</td>\n",
       "      <td>142454</td>\n",
       "      <td>21188</td>\n",
       "      <td>97802</td>\n",
       "      <td>23464</td>\n",
       "      <td>15%</td>\n",
       "      <td>69%</td>\n",
       "      <td>16%</td>\n",
       "      <td>107442</td>\n",
       "      <td>35010</td>\n",
       "      <td>75%</td>\n",
       "      <td>25%</td>\n",
       "      <td>1124</td>\n",
       "      <td>1554</td>\n",
       "      <td>-430</td>\n",
       "      <td>1942</td>\n",
       "    </tr>\n",
       "    <tr>\n",
       "      <th>10</th>\n",
       "      <td>Puente de Vallecas</td>\n",
       "      <td>1496</td>\n",
       "      <td>160</td>\n",
       "      <td>239057</td>\n",
       "      <td>32422</td>\n",
       "      <td>164930</td>\n",
       "      <td>41705</td>\n",
       "      <td>14%</td>\n",
       "      <td>69%</td>\n",
       "      <td>17%</td>\n",
       "      <td>190004</td>\n",
       "      <td>49051</td>\n",
       "      <td>79%</td>\n",
       "      <td>21%</td>\n",
       "      <td>1960</td>\n",
       "      <td>2779</td>\n",
       "      <td>-819</td>\n",
       "      <td>1887</td>\n",
       "    </tr>\n",
       "    <tr>\n",
       "      <th>11</th>\n",
       "      <td>Moratalaz</td>\n",
       "      <td>610</td>\n",
       "      <td>154</td>\n",
       "      <td>93810</td>\n",
       "      <td>10702</td>\n",
       "      <td>58667</td>\n",
       "      <td>24441</td>\n",
       "      <td>11%</td>\n",
       "      <td>63%</td>\n",
       "      <td>26%</td>\n",
       "      <td>83780</td>\n",
       "      <td>10030</td>\n",
       "      <td>89%</td>\n",
       "      <td>11%</td>\n",
       "      <td>586</td>\n",
       "      <td>1391</td>\n",
       "      <td>-805</td>\n",
       "      <td>2569</td>\n",
       "    </tr>\n",
       "    <tr>\n",
       "      <th>12</th>\n",
       "      <td>Ciudad Lineal</td>\n",
       "      <td>1143</td>\n",
       "      <td>190</td>\n",
       "      <td>216818</td>\n",
       "      <td>26603</td>\n",
       "      <td>140979</td>\n",
       "      <td>49236</td>\n",
       "      <td>12%</td>\n",
       "      <td>65%</td>\n",
       "      <td>23%</td>\n",
       "      <td>182762</td>\n",
       "      <td>34054</td>\n",
       "      <td>84%</td>\n",
       "      <td>16%</td>\n",
       "      <td>1491</td>\n",
       "      <td>2744</td>\n",
       "      <td>-1253</td>\n",
       "      <td>2912</td>\n",
       "    </tr>\n",
       "  </tbody>\n",
       "</table>\n",
       "</div>"
      ],
      "text/plain": [
       "              Distrito  Area  Densidad  Poblacion   0-15   16-64    +65  \\\n",
       "0               Centro   523       270     141236  10608  108667  21961   \n",
       "1           Arganzuela   646       239     154243  18571  105078  30594   \n",
       "2               Retiro   546       217     118557  14443   73037  31077   \n",
       "3            Salamanca   539       271     146016  16147   95122  34747   \n",
       "4            Chamartín   917       161     145700  19913   91663  34124   \n",
       "5               Tetuán   537       297     159849  18293  111262  30294   \n",
       "6             Chamberí   467       296     138667  14767   90307  33593   \n",
       "7      Moncloa-Aravaca  4654        26     120834  17036   77360  26438   \n",
       "8          Carabanchel  1405       184     258633  36742  173880  48011   \n",
       "9                Usera   778       183     142454  21188   97802  23464   \n",
       "10  Puente de Vallecas  1496       160     239057  32422  164930  41705   \n",
       "11           Moratalaz   610       154      93810  10702   58667  24441   \n",
       "12       Ciudad Lineal  1143       190     216818  26603  140979  49236   \n",
       "\n",
       "   % 0-15 % 16-64 % +65  Española  Extranjera % Española % Extranjera  \\\n",
       "0      8%     77%   16%    104726       36509        74%          26%   \n",
       "1     12%     68%   20%    137604       16637        89%          11%   \n",
       "2     12%     62%   26%    108277       10279        91%           9%   \n",
       "3     11%     65%   24%    124068       21948        85%          15%   \n",
       "4     14%     63%   23%    130641       15059        90%          10%   \n",
       "5     11%     70%   19%    127202       32647        80%          20%   \n",
       "6     11%     65%   24%    121264       17403        87%          13%   \n",
       "7     14%     64%   22%    106834       14000        88%          12%   \n",
       "8     14%     67%   19%    202322       56311        78%          22%   \n",
       "9     15%     69%   16%    107442       35010        75%          25%   \n",
       "10    14%     69%   17%    190004       49051        79%          21%   \n",
       "11    11%     63%   26%     83780       10030        89%          11%   \n",
       "12    12%     65%   23%    182762       34054        84%          16%   \n",
       "\n",
       "    Nacimientos  Defunciones  Crecimiento  Precio m2  \n",
       "0           863         1252         -389       4865  \n",
       "1          1142         1764         -622       3888  \n",
       "2           801         1627         -826       4502  \n",
       "3          1150         1937         -787       5740  \n",
       "4          1305         1899         -594       4999  \n",
       "5          1353         1984         -631       3649  \n",
       "6          1076         1785         -709       5283  \n",
       "7           936         1485         -549       3912  \n",
       "8          1906         3057        -1151       2165  \n",
       "9          1124         1554         -430       1942  \n",
       "10         1960         2779         -819       1887  \n",
       "11          586         1391         -805       2569  \n",
       "12         1491         2744        -1253       2912  "
      ]
     },
     "execution_count": 169,
     "metadata": {},
     "output_type": "execute_result"
    }
   ],
   "source": [
    "barrio"
   ]
  },
  {
   "cell_type": "code",
   "execution_count": 162,
   "id": "f04660fb",
   "metadata": {},
   "outputs": [],
   "source": [
    "barrio.to_csv('df_Distrito.csv')"
   ]
  },
  {
   "cell_type": "code",
   "execution_count": 100,
   "id": "1a0af121",
   "metadata": {},
   "outputs": [],
   "source": [
    "#for col in ue:\n",
    "    #print(col)\n",
    "    #print(\" \")\n",
    "    #print(ue[col].value_counts())\n",
    "    #print(\"-\" * 30)"
   ]
  },
  {
   "cell_type": "markdown",
   "id": "bfda3d2f",
   "metadata": {},
   "source": [
    "VAMOS CON VISUALIZACIONES QUE NOS LLEVEN A TOMAR DECISIONES"
   ]
  },
  {
   "cell_type": "code",
   "execution_count": 151,
   "id": "9977bc42",
   "metadata": {
    "scrolled": false
   },
   "outputs": [
    {
     "data": {
      "application/vnd.plotly.v1+json": {
       "config": {
        "plotlyServerURL": "https://plot.ly"
       },
       "data": [
        {
         "alignmentgroup": "True",
         "bingroup": "y",
         "hovertemplate": "Tag=Pizza<br>count=%{x}<br>Barrio=%{y}<extra></extra>",
         "legendgroup": "Pizza",
         "marker": {
          "color": "#636efa",
          "pattern": {
           "shape": ""
          }
         },
         "name": "Pizza",
         "offsetgroup": "Pizza",
         "orientation": "h",
         "showlegend": true,
         "type": "histogram",
         "xaxis": "x",
         "y": [
          "Centro",
          "Centro",
          "Centro",
          "Centro",
          "Centro",
          "Centro",
          "Centro",
          "Centro",
          "Centro",
          "Centro",
          "Centro",
          "Centro",
          "Centro",
          "Arganzuela",
          "Arganzuela",
          "Arganzuela",
          "Arganzuela",
          "Arganzuela",
          "Arganzuela",
          "Arganzuela",
          "Arganzuela",
          "Arganzuela",
          "Arganzuela",
          "Arganzuela",
          "Arganzuela",
          "Arganzuela",
          "Retiro",
          "Retiro",
          "Retiro",
          "Retiro",
          "Retiro",
          "Retiro",
          "Retiro",
          "Retiro",
          "Retiro",
          "Retiro",
          "Retiro",
          "Retiro",
          "Salamanca",
          "Salamanca",
          "Salamanca",
          "Salamanca",
          "Salamanca",
          "Salamanca",
          "Salamanca",
          "Salamanca",
          "Salamanca",
          "Salamanca",
          "Chamartín",
          "Chamartín",
          "Chamartín",
          "Chamartín",
          "Chamartín",
          "Chamartín",
          "Chamartín",
          "Chamartín",
          "Tetuán",
          "Tetuán",
          "Tetuán",
          "Tetuán",
          "Tetuán",
          "Tetuán",
          "Tetuán",
          "Tetuán",
          "Chamberí",
          "Chamberí",
          "Chamberí",
          "Chamberí",
          "Chamberí",
          "Chamberí",
          "Chamberí",
          "Chamberí",
          "Chamberí",
          "Chamberí",
          "Moncloa-Aravaca",
          "Moncloa-Aravaca",
          "Moncloa-Aravaca",
          "Moncloa-Aravaca",
          "Moncloa-Aravaca",
          "Moncloa-Aravaca",
          "Carabanchel",
          "Carabanchel",
          "Carabanchel",
          "Carabanchel",
          "Carabanchel",
          "Carabanchel",
          "Carabanchel",
          "Carabanchel",
          "Carabanchel",
          "Usera",
          "Usera",
          "Usera",
          "Usera",
          "Usera",
          "Usera",
          "Usera",
          "Usera",
          "Usera",
          "Usera",
          "Usera",
          "Usera",
          "Usera",
          "Usera",
          "Usera",
          "Puente de Vallecas",
          "Puente de Vallecas",
          "Puente de Vallecas",
          "Puente de Vallecas",
          "Puente de Vallecas",
          "Puente de Vallecas",
          "Moratalaz",
          "Moratalaz",
          "Moratalaz",
          "Moratalaz",
          "Moratalaz",
          "Moratalaz",
          "Moratalaz",
          "Moratalaz",
          "Ciudad Lineal",
          "Ciudad Lineal",
          "Ciudad Lineal",
          "Ciudad Lineal",
          "Ciudad Lineal",
          "Ciudad Lineal"
         ],
         "yaxis": "y"
        },
        {
         "alignmentgroup": "True",
         "bingroup": "y",
         "hovertemplate": "Tag=SouthAmerica<br>count=%{x}<br>Barrio=%{y}<extra></extra>",
         "legendgroup": "SouthAmerica",
         "marker": {
          "color": "#EF553B",
          "pattern": {
           "shape": ""
          }
         },
         "name": "SouthAmerica",
         "offsetgroup": "SouthAmerica",
         "orientation": "h",
         "showlegend": true,
         "type": "histogram",
         "xaxis": "x",
         "y": [
          "Centro",
          "Centro",
          "Centro",
          "Centro",
          "Arganzuela",
          "Arganzuela",
          "Arganzuela",
          "Retiro",
          "Retiro",
          "Salamanca",
          "Chamartín",
          "Chamartín",
          "Chamartín",
          "Chamartín",
          "Chamartín",
          "Tetuán",
          "Tetuán",
          "Tetuán",
          "Tetuán",
          "Tetuán",
          "Tetuán",
          "Chamberí",
          "Chamberí",
          "Chamberí",
          "Chamberí",
          "Moncloa-Aravaca",
          "Moncloa-Aravaca",
          "Moncloa-Aravaca",
          "Moncloa-Aravaca",
          "Carabanchel",
          "Carabanchel",
          "Carabanchel",
          "Usera",
          "Usera",
          "Usera",
          "Usera",
          "Usera",
          "Puente de Vallecas",
          "Puente de Vallecas",
          "Puente de Vallecas",
          "Puente de Vallecas",
          "Puente de Vallecas",
          "Puente de Vallecas",
          "Puente de Vallecas",
          "Moratalaz",
          "Moratalaz",
          "Moratalaz",
          "Moratalaz",
          "Moratalaz",
          "Ciudad Lineal",
          "Ciudad Lineal",
          "Ciudad Lineal",
          "Ciudad Lineal"
         ],
         "yaxis": "y"
        },
        {
         "alignmentgroup": "True",
         "bingroup": "y",
         "hovertemplate": "Tag=Empanada<br>count=%{x}<br>Barrio=%{y}<extra></extra>",
         "legendgroup": "Empanada",
         "marker": {
          "color": "#00cc96",
          "pattern": {
           "shape": ""
          }
         },
         "name": "Empanada",
         "offsetgroup": "Empanada",
         "orientation": "h",
         "showlegend": true,
         "type": "histogram",
         "xaxis": "x",
         "y": [
          "Centro",
          "Centro",
          "Arganzuela",
          "Arganzuela",
          "Arganzuela",
          "Retiro",
          "Retiro",
          "Retiro",
          "Retiro",
          "Salamanca",
          "Salamanca",
          "Salamanca",
          "Salamanca",
          "Chamartín",
          "Chamartín",
          "Chamartín",
          "Chamartín",
          "Tetuán",
          "Tetuán",
          "Tetuán",
          "Chamberí",
          "Chamberí",
          "Moncloa-Aravaca",
          "Moncloa-Aravaca",
          "Moncloa-Aravaca",
          "Usera",
          "Puente de Vallecas",
          "Moratalaz",
          "Moratalaz",
          "Ciudad Lineal",
          "Ciudad Lineal",
          "Ciudad Lineal",
          "Ciudad Lineal"
         ],
         "yaxis": "y"
        },
        {
         "alignmentgroup": "True",
         "bingroup": "y",
         "hovertemplate": "Tag=Pollo<br>count=%{x}<br>Barrio=%{y}<extra></extra>",
         "legendgroup": "Pollo",
         "marker": {
          "color": "#ab63fa",
          "pattern": {
           "shape": ""
          }
         },
         "name": "Pollo",
         "offsetgroup": "Pollo",
         "orientation": "h",
         "showlegend": true,
         "type": "histogram",
         "xaxis": "x",
         "y": [
          "Centro",
          "Centro",
          "Centro",
          "Centro",
          "Centro",
          "Centro",
          "Centro",
          "Arganzuela",
          "Arganzuela",
          "Arganzuela",
          "Arganzuela",
          "Arganzuela",
          "Arganzuela",
          "Arganzuela",
          "Retiro",
          "Retiro",
          "Retiro",
          "Retiro",
          "Salamanca",
          "Salamanca",
          "Salamanca",
          "Salamanca",
          "Salamanca",
          "Chamartín",
          "Chamartín",
          "Chamartín",
          "Chamartín",
          "Chamartín",
          "Chamartín",
          "Chamartín",
          "Tetuán",
          "Tetuán",
          "Tetuán",
          "Tetuán",
          "Tetuán",
          "Tetuán",
          "Tetuán",
          "Tetuán",
          "Chamberí",
          "Chamberí",
          "Chamberí",
          "Chamberí",
          "Chamberí",
          "Chamberí",
          "Chamberí",
          "Chamberí",
          "Chamberí",
          "Chamberí",
          "Moncloa-Aravaca",
          "Moncloa-Aravaca",
          "Moncloa-Aravaca",
          "Moncloa-Aravaca",
          "Moncloa-Aravaca",
          "Moncloa-Aravaca",
          "Moncloa-Aravaca",
          "Moncloa-Aravaca",
          "Carabanchel",
          "Carabanchel",
          "Carabanchel",
          "Carabanchel",
          "Carabanchel",
          "Usera",
          "Usera",
          "Usera",
          "Usera",
          "Usera",
          "Usera",
          "Puente de Vallecas",
          "Puente de Vallecas",
          "Puente de Vallecas",
          "Puente de Vallecas",
          "Puente de Vallecas",
          "Puente de Vallecas",
          "Moratalaz",
          "Moratalaz",
          "Moratalaz",
          "Moratalaz",
          "Ciudad Lineal",
          "Ciudad Lineal",
          "Ciudad Lineal",
          "Ciudad Lineal"
         ],
         "yaxis": "y"
        },
        {
         "alignmentgroup": "True",
         "bingroup": "y",
         "hovertemplate": "Tag=Hamburguesa<br>count=%{x}<br>Barrio=%{y}<extra></extra>",
         "legendgroup": "Hamburguesa",
         "marker": {
          "color": "#FFA15A",
          "pattern": {
           "shape": ""
          }
         },
         "name": "Hamburguesa",
         "offsetgroup": "Hamburguesa",
         "orientation": "h",
         "showlegend": true,
         "type": "histogram",
         "xaxis": "x",
         "y": [
          "Centro",
          "Centro",
          "Centro",
          "Centro",
          "Centro",
          "Centro",
          "Centro",
          "Arganzuela",
          "Arganzuela",
          "Arganzuela",
          "Arganzuela",
          "Arganzuela",
          "Arganzuela",
          "Arganzuela",
          "Retiro",
          "Retiro",
          "Retiro",
          "Retiro",
          "Retiro",
          "Retiro",
          "Retiro",
          "Retiro",
          "Retiro",
          "Salamanca",
          "Salamanca",
          "Salamanca",
          "Salamanca",
          "Salamanca",
          "Salamanca",
          "Salamanca",
          "Salamanca",
          "Salamanca",
          "Salamanca",
          "Salamanca",
          "Salamanca",
          "Salamanca",
          "Chamartín",
          "Chamartín",
          "Chamartín",
          "Chamartín",
          "Chamartín",
          "Chamartín",
          "Chamartín",
          "Chamartín",
          "Chamartín",
          "Tetuán",
          "Tetuán",
          "Tetuán",
          "Tetuán",
          "Tetuán",
          "Tetuán",
          "Tetuán",
          "Tetuán",
          "Chamberí",
          "Chamberí",
          "Chamberí",
          "Chamberí",
          "Chamberí",
          "Chamberí",
          "Chamberí",
          "Moncloa-Aravaca",
          "Moncloa-Aravaca",
          "Moncloa-Aravaca",
          "Moncloa-Aravaca",
          "Moncloa-Aravaca",
          "Moncloa-Aravaca",
          "Carabanchel",
          "Carabanchel",
          "Carabanchel",
          "Carabanchel",
          "Carabanchel",
          "Carabanchel",
          "Usera",
          "Usera",
          "Usera",
          "Usera",
          "Usera",
          "Puente de Vallecas",
          "Puente de Vallecas",
          "Puente de Vallecas",
          "Puente de Vallecas",
          "Moratalaz",
          "Moratalaz",
          "Moratalaz",
          "Moratalaz",
          "Moratalaz",
          "Ciudad Lineal",
          "Ciudad Lineal",
          "Ciudad Lineal",
          "Ciudad Lineal",
          "Ciudad Lineal",
          "Ciudad Lineal",
          "Ciudad Lineal",
          "Ciudad Lineal"
         ],
         "yaxis": "y"
        },
        {
         "alignmentgroup": "True",
         "bingroup": "y",
         "hovertemplate": "Tag=Mediterránea<br>count=%{x}<br>Barrio=%{y}<extra></extra>",
         "legendgroup": "Mediterránea",
         "marker": {
          "color": "#19d3f3",
          "pattern": {
           "shape": ""
          }
         },
         "name": "Mediterránea",
         "offsetgroup": "Mediterránea",
         "orientation": "h",
         "showlegend": true,
         "type": "histogram",
         "xaxis": "x",
         "y": [
          "Centro",
          "Centro",
          "Centro",
          "Arganzuela",
          "Arganzuela",
          "Arganzuela",
          "Arganzuela",
          "Retiro",
          "Retiro",
          "Retiro",
          "Retiro",
          "Salamanca",
          "Salamanca",
          "Salamanca",
          "Chamartín",
          "Chamartín",
          "Chamartín",
          "Tetuán",
          "Tetuán",
          "Chamberí",
          "Chamberí",
          "Chamberí",
          "Moncloa-Aravaca",
          "Moncloa-Aravaca",
          "Carabanchel",
          "Carabanchel",
          "Carabanchel",
          "Carabanchel",
          "Usera",
          "Usera",
          "Usera",
          "Puente de Vallecas",
          "Puente de Vallecas",
          "Puente de Vallecas",
          "Puente de Vallecas",
          "Puente de Vallecas",
          "Moratalaz",
          "Moratalaz",
          "Moratalaz",
          "Ciudad Lineal",
          "Ciudad Lineal",
          "Ciudad Lineal",
          "Ciudad Lineal"
         ],
         "yaxis": "y"
        },
        {
         "alignmentgroup": "True",
         "bingroup": "y",
         "hovertemplate": "Tag=Kebab<br>count=%{x}<br>Barrio=%{y}<extra></extra>",
         "legendgroup": "Kebab",
         "marker": {
          "color": "#FF6692",
          "pattern": {
           "shape": ""
          }
         },
         "name": "Kebab",
         "offsetgroup": "Kebab",
         "orientation": "h",
         "showlegend": true,
         "type": "histogram",
         "xaxis": "x",
         "y": [
          "Retiro",
          "Retiro",
          "Salamanca",
          "Salamanca",
          "Chamartín",
          "Chamartín",
          "Chamartín",
          "Chamartín",
          "Tetuán",
          "Tetuán",
          "Tetuán",
          "Chamberí",
          "Moncloa-Aravaca",
          "Moncloa-Aravaca",
          "Moncloa-Aravaca",
          "Carabanchel",
          "Carabanchel",
          "Carabanchel",
          "Carabanchel",
          "Carabanchel",
          "Carabanchel",
          "Usera",
          "Usera",
          "Usera",
          "Usera",
          "Usera",
          "Puente de Vallecas",
          "Puente de Vallecas",
          "Puente de Vallecas",
          "Puente de Vallecas",
          "Puente de Vallecas",
          "Puente de Vallecas",
          "Moratalaz",
          "Moratalaz",
          "Moratalaz",
          "Moratalaz",
          "Moratalaz",
          "Moratalaz",
          "Ciudad Lineal",
          "Ciudad Lineal",
          "Ciudad Lineal",
          "Ciudad Lineal",
          "Ciudad Lineal"
         ],
         "yaxis": "y"
        }
       ],
       "layout": {
        "barmode": "relative",
        "legend": {
         "title": {
          "text": "Tag"
         },
         "tracegroupgap": 0
        },
        "margin": {
         "t": 60
        },
        "template": {
         "data": {
          "bar": [
           {
            "error_x": {
             "color": "#2a3f5f"
            },
            "error_y": {
             "color": "#2a3f5f"
            },
            "marker": {
             "line": {
              "color": "#E5ECF6",
              "width": 0.5
             },
             "pattern": {
              "fillmode": "overlay",
              "size": 10,
              "solidity": 0.2
             }
            },
            "type": "bar"
           }
          ],
          "barpolar": [
           {
            "marker": {
             "line": {
              "color": "#E5ECF6",
              "width": 0.5
             },
             "pattern": {
              "fillmode": "overlay",
              "size": 10,
              "solidity": 0.2
             }
            },
            "type": "barpolar"
           }
          ],
          "carpet": [
           {
            "aaxis": {
             "endlinecolor": "#2a3f5f",
             "gridcolor": "white",
             "linecolor": "white",
             "minorgridcolor": "white",
             "startlinecolor": "#2a3f5f"
            },
            "baxis": {
             "endlinecolor": "#2a3f5f",
             "gridcolor": "white",
             "linecolor": "white",
             "minorgridcolor": "white",
             "startlinecolor": "#2a3f5f"
            },
            "type": "carpet"
           }
          ],
          "choropleth": [
           {
            "colorbar": {
             "outlinewidth": 0,
             "ticks": ""
            },
            "type": "choropleth"
           }
          ],
          "contour": [
           {
            "colorbar": {
             "outlinewidth": 0,
             "ticks": ""
            },
            "colorscale": [
             [
              0,
              "#0d0887"
             ],
             [
              0.1111111111111111,
              "#46039f"
             ],
             [
              0.2222222222222222,
              "#7201a8"
             ],
             [
              0.3333333333333333,
              "#9c179e"
             ],
             [
              0.4444444444444444,
              "#bd3786"
             ],
             [
              0.5555555555555556,
              "#d8576b"
             ],
             [
              0.6666666666666666,
              "#ed7953"
             ],
             [
              0.7777777777777778,
              "#fb9f3a"
             ],
             [
              0.8888888888888888,
              "#fdca26"
             ],
             [
              1,
              "#f0f921"
             ]
            ],
            "type": "contour"
           }
          ],
          "contourcarpet": [
           {
            "colorbar": {
             "outlinewidth": 0,
             "ticks": ""
            },
            "type": "contourcarpet"
           }
          ],
          "heatmap": [
           {
            "colorbar": {
             "outlinewidth": 0,
             "ticks": ""
            },
            "colorscale": [
             [
              0,
              "#0d0887"
             ],
             [
              0.1111111111111111,
              "#46039f"
             ],
             [
              0.2222222222222222,
              "#7201a8"
             ],
             [
              0.3333333333333333,
              "#9c179e"
             ],
             [
              0.4444444444444444,
              "#bd3786"
             ],
             [
              0.5555555555555556,
              "#d8576b"
             ],
             [
              0.6666666666666666,
              "#ed7953"
             ],
             [
              0.7777777777777778,
              "#fb9f3a"
             ],
             [
              0.8888888888888888,
              "#fdca26"
             ],
             [
              1,
              "#f0f921"
             ]
            ],
            "type": "heatmap"
           }
          ],
          "heatmapgl": [
           {
            "colorbar": {
             "outlinewidth": 0,
             "ticks": ""
            },
            "colorscale": [
             [
              0,
              "#0d0887"
             ],
             [
              0.1111111111111111,
              "#46039f"
             ],
             [
              0.2222222222222222,
              "#7201a8"
             ],
             [
              0.3333333333333333,
              "#9c179e"
             ],
             [
              0.4444444444444444,
              "#bd3786"
             ],
             [
              0.5555555555555556,
              "#d8576b"
             ],
             [
              0.6666666666666666,
              "#ed7953"
             ],
             [
              0.7777777777777778,
              "#fb9f3a"
             ],
             [
              0.8888888888888888,
              "#fdca26"
             ],
             [
              1,
              "#f0f921"
             ]
            ],
            "type": "heatmapgl"
           }
          ],
          "histogram": [
           {
            "marker": {
             "pattern": {
              "fillmode": "overlay",
              "size": 10,
              "solidity": 0.2
             }
            },
            "type": "histogram"
           }
          ],
          "histogram2d": [
           {
            "colorbar": {
             "outlinewidth": 0,
             "ticks": ""
            },
            "colorscale": [
             [
              0,
              "#0d0887"
             ],
             [
              0.1111111111111111,
              "#46039f"
             ],
             [
              0.2222222222222222,
              "#7201a8"
             ],
             [
              0.3333333333333333,
              "#9c179e"
             ],
             [
              0.4444444444444444,
              "#bd3786"
             ],
             [
              0.5555555555555556,
              "#d8576b"
             ],
             [
              0.6666666666666666,
              "#ed7953"
             ],
             [
              0.7777777777777778,
              "#fb9f3a"
             ],
             [
              0.8888888888888888,
              "#fdca26"
             ],
             [
              1,
              "#f0f921"
             ]
            ],
            "type": "histogram2d"
           }
          ],
          "histogram2dcontour": [
           {
            "colorbar": {
             "outlinewidth": 0,
             "ticks": ""
            },
            "colorscale": [
             [
              0,
              "#0d0887"
             ],
             [
              0.1111111111111111,
              "#46039f"
             ],
             [
              0.2222222222222222,
              "#7201a8"
             ],
             [
              0.3333333333333333,
              "#9c179e"
             ],
             [
              0.4444444444444444,
              "#bd3786"
             ],
             [
              0.5555555555555556,
              "#d8576b"
             ],
             [
              0.6666666666666666,
              "#ed7953"
             ],
             [
              0.7777777777777778,
              "#fb9f3a"
             ],
             [
              0.8888888888888888,
              "#fdca26"
             ],
             [
              1,
              "#f0f921"
             ]
            ],
            "type": "histogram2dcontour"
           }
          ],
          "mesh3d": [
           {
            "colorbar": {
             "outlinewidth": 0,
             "ticks": ""
            },
            "type": "mesh3d"
           }
          ],
          "parcoords": [
           {
            "line": {
             "colorbar": {
              "outlinewidth": 0,
              "ticks": ""
             }
            },
            "type": "parcoords"
           }
          ],
          "pie": [
           {
            "automargin": true,
            "type": "pie"
           }
          ],
          "scatter": [
           {
            "marker": {
             "colorbar": {
              "outlinewidth": 0,
              "ticks": ""
             }
            },
            "type": "scatter"
           }
          ],
          "scatter3d": [
           {
            "line": {
             "colorbar": {
              "outlinewidth": 0,
              "ticks": ""
             }
            },
            "marker": {
             "colorbar": {
              "outlinewidth": 0,
              "ticks": ""
             }
            },
            "type": "scatter3d"
           }
          ],
          "scattercarpet": [
           {
            "marker": {
             "colorbar": {
              "outlinewidth": 0,
              "ticks": ""
             }
            },
            "type": "scattercarpet"
           }
          ],
          "scattergeo": [
           {
            "marker": {
             "colorbar": {
              "outlinewidth": 0,
              "ticks": ""
             }
            },
            "type": "scattergeo"
           }
          ],
          "scattergl": [
           {
            "marker": {
             "colorbar": {
              "outlinewidth": 0,
              "ticks": ""
             }
            },
            "type": "scattergl"
           }
          ],
          "scattermapbox": [
           {
            "marker": {
             "colorbar": {
              "outlinewidth": 0,
              "ticks": ""
             }
            },
            "type": "scattermapbox"
           }
          ],
          "scatterpolar": [
           {
            "marker": {
             "colorbar": {
              "outlinewidth": 0,
              "ticks": ""
             }
            },
            "type": "scatterpolar"
           }
          ],
          "scatterpolargl": [
           {
            "marker": {
             "colorbar": {
              "outlinewidth": 0,
              "ticks": ""
             }
            },
            "type": "scatterpolargl"
           }
          ],
          "scatterternary": [
           {
            "marker": {
             "colorbar": {
              "outlinewidth": 0,
              "ticks": ""
             }
            },
            "type": "scatterternary"
           }
          ],
          "surface": [
           {
            "colorbar": {
             "outlinewidth": 0,
             "ticks": ""
            },
            "colorscale": [
             [
              0,
              "#0d0887"
             ],
             [
              0.1111111111111111,
              "#46039f"
             ],
             [
              0.2222222222222222,
              "#7201a8"
             ],
             [
              0.3333333333333333,
              "#9c179e"
             ],
             [
              0.4444444444444444,
              "#bd3786"
             ],
             [
              0.5555555555555556,
              "#d8576b"
             ],
             [
              0.6666666666666666,
              "#ed7953"
             ],
             [
              0.7777777777777778,
              "#fb9f3a"
             ],
             [
              0.8888888888888888,
              "#fdca26"
             ],
             [
              1,
              "#f0f921"
             ]
            ],
            "type": "surface"
           }
          ],
          "table": [
           {
            "cells": {
             "fill": {
              "color": "#EBF0F8"
             },
             "line": {
              "color": "white"
             }
            },
            "header": {
             "fill": {
              "color": "#C8D4E3"
             },
             "line": {
              "color": "white"
             }
            },
            "type": "table"
           }
          ]
         },
         "layout": {
          "annotationdefaults": {
           "arrowcolor": "#2a3f5f",
           "arrowhead": 0,
           "arrowwidth": 1
          },
          "autotypenumbers": "strict",
          "coloraxis": {
           "colorbar": {
            "outlinewidth": 0,
            "ticks": ""
           }
          },
          "colorscale": {
           "diverging": [
            [
             0,
             "#8e0152"
            ],
            [
             0.1,
             "#c51b7d"
            ],
            [
             0.2,
             "#de77ae"
            ],
            [
             0.3,
             "#f1b6da"
            ],
            [
             0.4,
             "#fde0ef"
            ],
            [
             0.5,
             "#f7f7f7"
            ],
            [
             0.6,
             "#e6f5d0"
            ],
            [
             0.7,
             "#b8e186"
            ],
            [
             0.8,
             "#7fbc41"
            ],
            [
             0.9,
             "#4d9221"
            ],
            [
             1,
             "#276419"
            ]
           ],
           "sequential": [
            [
             0,
             "#0d0887"
            ],
            [
             0.1111111111111111,
             "#46039f"
            ],
            [
             0.2222222222222222,
             "#7201a8"
            ],
            [
             0.3333333333333333,
             "#9c179e"
            ],
            [
             0.4444444444444444,
             "#bd3786"
            ],
            [
             0.5555555555555556,
             "#d8576b"
            ],
            [
             0.6666666666666666,
             "#ed7953"
            ],
            [
             0.7777777777777778,
             "#fb9f3a"
            ],
            [
             0.8888888888888888,
             "#fdca26"
            ],
            [
             1,
             "#f0f921"
            ]
           ],
           "sequentialminus": [
            [
             0,
             "#0d0887"
            ],
            [
             0.1111111111111111,
             "#46039f"
            ],
            [
             0.2222222222222222,
             "#7201a8"
            ],
            [
             0.3333333333333333,
             "#9c179e"
            ],
            [
             0.4444444444444444,
             "#bd3786"
            ],
            [
             0.5555555555555556,
             "#d8576b"
            ],
            [
             0.6666666666666666,
             "#ed7953"
            ],
            [
             0.7777777777777778,
             "#fb9f3a"
            ],
            [
             0.8888888888888888,
             "#fdca26"
            ],
            [
             1,
             "#f0f921"
            ]
           ]
          },
          "colorway": [
           "#636efa",
           "#EF553B",
           "#00cc96",
           "#ab63fa",
           "#FFA15A",
           "#19d3f3",
           "#FF6692",
           "#B6E880",
           "#FF97FF",
           "#FECB52"
          ],
          "font": {
           "color": "#2a3f5f"
          },
          "geo": {
           "bgcolor": "white",
           "lakecolor": "white",
           "landcolor": "#E5ECF6",
           "showlakes": true,
           "showland": true,
           "subunitcolor": "white"
          },
          "hoverlabel": {
           "align": "left"
          },
          "hovermode": "closest",
          "mapbox": {
           "style": "light"
          },
          "paper_bgcolor": "white",
          "plot_bgcolor": "#E5ECF6",
          "polar": {
           "angularaxis": {
            "gridcolor": "white",
            "linecolor": "white",
            "ticks": ""
           },
           "bgcolor": "#E5ECF6",
           "radialaxis": {
            "gridcolor": "white",
            "linecolor": "white",
            "ticks": ""
           }
          },
          "scene": {
           "xaxis": {
            "backgroundcolor": "#E5ECF6",
            "gridcolor": "white",
            "gridwidth": 2,
            "linecolor": "white",
            "showbackground": true,
            "ticks": "",
            "zerolinecolor": "white"
           },
           "yaxis": {
            "backgroundcolor": "#E5ECF6",
            "gridcolor": "white",
            "gridwidth": 2,
            "linecolor": "white",
            "showbackground": true,
            "ticks": "",
            "zerolinecolor": "white"
           },
           "zaxis": {
            "backgroundcolor": "#E5ECF6",
            "gridcolor": "white",
            "gridwidth": 2,
            "linecolor": "white",
            "showbackground": true,
            "ticks": "",
            "zerolinecolor": "white"
           }
          },
          "shapedefaults": {
           "line": {
            "color": "#2a3f5f"
           }
          },
          "ternary": {
           "aaxis": {
            "gridcolor": "white",
            "linecolor": "white",
            "ticks": ""
           },
           "baxis": {
            "gridcolor": "white",
            "linecolor": "white",
            "ticks": ""
           },
           "bgcolor": "#E5ECF6",
           "caxis": {
            "gridcolor": "white",
            "linecolor": "white",
            "ticks": ""
           }
          },
          "title": {
           "x": 0.05
          },
          "xaxis": {
           "automargin": true,
           "gridcolor": "white",
           "linecolor": "white",
           "ticks": "",
           "title": {
            "standoff": 15
           },
           "zerolinecolor": "white",
           "zerolinewidth": 2
          },
          "yaxis": {
           "automargin": true,
           "gridcolor": "white",
           "linecolor": "white",
           "ticks": "",
           "title": {
            "standoff": 15
           },
           "zerolinecolor": "white",
           "zerolinewidth": 2
          }
         }
        },
        "xaxis": {
         "anchor": "y",
         "domain": [
          0,
          1
         ],
         "title": {
          "text": "count"
         }
        },
        "yaxis": {
         "anchor": "x",
         "domain": [
          0,
          1
         ],
         "title": {
          "text": "Barrio"
         }
        }
       }
      },
      "text/html": [
       "<div>                            <div id=\"b914dbb9-64aa-42d5-80b3-b0afecd7c470\" class=\"plotly-graph-div\" style=\"height:525px; width:100%;\"></div>            <script type=\"text/javascript\">                require([\"plotly\"], function(Plotly) {                    window.PLOTLYENV=window.PLOTLYENV || {};                                    if (document.getElementById(\"b914dbb9-64aa-42d5-80b3-b0afecd7c470\")) {                    Plotly.newPlot(                        \"b914dbb9-64aa-42d5-80b3-b0afecd7c470\",                        [{\"alignmentgroup\":\"True\",\"bingroup\":\"y\",\"hovertemplate\":\"Tag=Pizza<br>count=%{x}<br>Barrio=%{y}<extra></extra>\",\"legendgroup\":\"Pizza\",\"marker\":{\"color\":\"#636efa\",\"pattern\":{\"shape\":\"\"}},\"name\":\"Pizza\",\"offsetgroup\":\"Pizza\",\"orientation\":\"h\",\"showlegend\":true,\"type\":\"histogram\",\"xaxis\":\"x\",\"y\":[\"Centro\",\"Centro\",\"Centro\",\"Centro\",\"Centro\",\"Centro\",\"Centro\",\"Centro\",\"Centro\",\"Centro\",\"Centro\",\"Centro\",\"Centro\",\"Arganzuela\",\"Arganzuela\",\"Arganzuela\",\"Arganzuela\",\"Arganzuela\",\"Arganzuela\",\"Arganzuela\",\"Arganzuela\",\"Arganzuela\",\"Arganzuela\",\"Arganzuela\",\"Arganzuela\",\"Arganzuela\",\"Retiro\",\"Retiro\",\"Retiro\",\"Retiro\",\"Retiro\",\"Retiro\",\"Retiro\",\"Retiro\",\"Retiro\",\"Retiro\",\"Retiro\",\"Retiro\",\"Salamanca\",\"Salamanca\",\"Salamanca\",\"Salamanca\",\"Salamanca\",\"Salamanca\",\"Salamanca\",\"Salamanca\",\"Salamanca\",\"Salamanca\",\"Chamart\\u00edn\",\"Chamart\\u00edn\",\"Chamart\\u00edn\",\"Chamart\\u00edn\",\"Chamart\\u00edn\",\"Chamart\\u00edn\",\"Chamart\\u00edn\",\"Chamart\\u00edn\",\"Tetu\\u00e1n\",\"Tetu\\u00e1n\",\"Tetu\\u00e1n\",\"Tetu\\u00e1n\",\"Tetu\\u00e1n\",\"Tetu\\u00e1n\",\"Tetu\\u00e1n\",\"Tetu\\u00e1n\",\"Chamber\\u00ed\",\"Chamber\\u00ed\",\"Chamber\\u00ed\",\"Chamber\\u00ed\",\"Chamber\\u00ed\",\"Chamber\\u00ed\",\"Chamber\\u00ed\",\"Chamber\\u00ed\",\"Chamber\\u00ed\",\"Chamber\\u00ed\",\"Moncloa-Aravaca\",\"Moncloa-Aravaca\",\"Moncloa-Aravaca\",\"Moncloa-Aravaca\",\"Moncloa-Aravaca\",\"Moncloa-Aravaca\",\"Carabanchel\",\"Carabanchel\",\"Carabanchel\",\"Carabanchel\",\"Carabanchel\",\"Carabanchel\",\"Carabanchel\",\"Carabanchel\",\"Carabanchel\",\"Usera\",\"Usera\",\"Usera\",\"Usera\",\"Usera\",\"Usera\",\"Usera\",\"Usera\",\"Usera\",\"Usera\",\"Usera\",\"Usera\",\"Usera\",\"Usera\",\"Usera\",\"Puente de Vallecas\",\"Puente de Vallecas\",\"Puente de Vallecas\",\"Puente de Vallecas\",\"Puente de Vallecas\",\"Puente de Vallecas\",\"Moratalaz\",\"Moratalaz\",\"Moratalaz\",\"Moratalaz\",\"Moratalaz\",\"Moratalaz\",\"Moratalaz\",\"Moratalaz\",\"Ciudad Lineal\",\"Ciudad Lineal\",\"Ciudad Lineal\",\"Ciudad Lineal\",\"Ciudad Lineal\",\"Ciudad Lineal\"],\"yaxis\":\"y\"},{\"alignmentgroup\":\"True\",\"bingroup\":\"y\",\"hovertemplate\":\"Tag=SouthAmerica<br>count=%{x}<br>Barrio=%{y}<extra></extra>\",\"legendgroup\":\"SouthAmerica\",\"marker\":{\"color\":\"#EF553B\",\"pattern\":{\"shape\":\"\"}},\"name\":\"SouthAmerica\",\"offsetgroup\":\"SouthAmerica\",\"orientation\":\"h\",\"showlegend\":true,\"type\":\"histogram\",\"xaxis\":\"x\",\"y\":[\"Centro\",\"Centro\",\"Centro\",\"Centro\",\"Arganzuela\",\"Arganzuela\",\"Arganzuela\",\"Retiro\",\"Retiro\",\"Salamanca\",\"Chamart\\u00edn\",\"Chamart\\u00edn\",\"Chamart\\u00edn\",\"Chamart\\u00edn\",\"Chamart\\u00edn\",\"Tetu\\u00e1n\",\"Tetu\\u00e1n\",\"Tetu\\u00e1n\",\"Tetu\\u00e1n\",\"Tetu\\u00e1n\",\"Tetu\\u00e1n\",\"Chamber\\u00ed\",\"Chamber\\u00ed\",\"Chamber\\u00ed\",\"Chamber\\u00ed\",\"Moncloa-Aravaca\",\"Moncloa-Aravaca\",\"Moncloa-Aravaca\",\"Moncloa-Aravaca\",\"Carabanchel\",\"Carabanchel\",\"Carabanchel\",\"Usera\",\"Usera\",\"Usera\",\"Usera\",\"Usera\",\"Puente de Vallecas\",\"Puente de Vallecas\",\"Puente de Vallecas\",\"Puente de Vallecas\",\"Puente de Vallecas\",\"Puente de Vallecas\",\"Puente de Vallecas\",\"Moratalaz\",\"Moratalaz\",\"Moratalaz\",\"Moratalaz\",\"Moratalaz\",\"Ciudad Lineal\",\"Ciudad Lineal\",\"Ciudad Lineal\",\"Ciudad Lineal\"],\"yaxis\":\"y\"},{\"alignmentgroup\":\"True\",\"bingroup\":\"y\",\"hovertemplate\":\"Tag=Empanada<br>count=%{x}<br>Barrio=%{y}<extra></extra>\",\"legendgroup\":\"Empanada\",\"marker\":{\"color\":\"#00cc96\",\"pattern\":{\"shape\":\"\"}},\"name\":\"Empanada\",\"offsetgroup\":\"Empanada\",\"orientation\":\"h\",\"showlegend\":true,\"type\":\"histogram\",\"xaxis\":\"x\",\"y\":[\"Centro\",\"Centro\",\"Arganzuela\",\"Arganzuela\",\"Arganzuela\",\"Retiro\",\"Retiro\",\"Retiro\",\"Retiro\",\"Salamanca\",\"Salamanca\",\"Salamanca\",\"Salamanca\",\"Chamart\\u00edn\",\"Chamart\\u00edn\",\"Chamart\\u00edn\",\"Chamart\\u00edn\",\"Tetu\\u00e1n\",\"Tetu\\u00e1n\",\"Tetu\\u00e1n\",\"Chamber\\u00ed\",\"Chamber\\u00ed\",\"Moncloa-Aravaca\",\"Moncloa-Aravaca\",\"Moncloa-Aravaca\",\"Usera\",\"Puente de Vallecas\",\"Moratalaz\",\"Moratalaz\",\"Ciudad Lineal\",\"Ciudad Lineal\",\"Ciudad Lineal\",\"Ciudad Lineal\"],\"yaxis\":\"y\"},{\"alignmentgroup\":\"True\",\"bingroup\":\"y\",\"hovertemplate\":\"Tag=Pollo<br>count=%{x}<br>Barrio=%{y}<extra></extra>\",\"legendgroup\":\"Pollo\",\"marker\":{\"color\":\"#ab63fa\",\"pattern\":{\"shape\":\"\"}},\"name\":\"Pollo\",\"offsetgroup\":\"Pollo\",\"orientation\":\"h\",\"showlegend\":true,\"type\":\"histogram\",\"xaxis\":\"x\",\"y\":[\"Centro\",\"Centro\",\"Centro\",\"Centro\",\"Centro\",\"Centro\",\"Centro\",\"Arganzuela\",\"Arganzuela\",\"Arganzuela\",\"Arganzuela\",\"Arganzuela\",\"Arganzuela\",\"Arganzuela\",\"Retiro\",\"Retiro\",\"Retiro\",\"Retiro\",\"Salamanca\",\"Salamanca\",\"Salamanca\",\"Salamanca\",\"Salamanca\",\"Chamart\\u00edn\",\"Chamart\\u00edn\",\"Chamart\\u00edn\",\"Chamart\\u00edn\",\"Chamart\\u00edn\",\"Chamart\\u00edn\",\"Chamart\\u00edn\",\"Tetu\\u00e1n\",\"Tetu\\u00e1n\",\"Tetu\\u00e1n\",\"Tetu\\u00e1n\",\"Tetu\\u00e1n\",\"Tetu\\u00e1n\",\"Tetu\\u00e1n\",\"Tetu\\u00e1n\",\"Chamber\\u00ed\",\"Chamber\\u00ed\",\"Chamber\\u00ed\",\"Chamber\\u00ed\",\"Chamber\\u00ed\",\"Chamber\\u00ed\",\"Chamber\\u00ed\",\"Chamber\\u00ed\",\"Chamber\\u00ed\",\"Chamber\\u00ed\",\"Moncloa-Aravaca\",\"Moncloa-Aravaca\",\"Moncloa-Aravaca\",\"Moncloa-Aravaca\",\"Moncloa-Aravaca\",\"Moncloa-Aravaca\",\"Moncloa-Aravaca\",\"Moncloa-Aravaca\",\"Carabanchel\",\"Carabanchel\",\"Carabanchel\",\"Carabanchel\",\"Carabanchel\",\"Usera\",\"Usera\",\"Usera\",\"Usera\",\"Usera\",\"Usera\",\"Puente de Vallecas\",\"Puente de Vallecas\",\"Puente de Vallecas\",\"Puente de Vallecas\",\"Puente de Vallecas\",\"Puente de Vallecas\",\"Moratalaz\",\"Moratalaz\",\"Moratalaz\",\"Moratalaz\",\"Ciudad Lineal\",\"Ciudad Lineal\",\"Ciudad Lineal\",\"Ciudad Lineal\"],\"yaxis\":\"y\"},{\"alignmentgroup\":\"True\",\"bingroup\":\"y\",\"hovertemplate\":\"Tag=Hamburguesa<br>count=%{x}<br>Barrio=%{y}<extra></extra>\",\"legendgroup\":\"Hamburguesa\",\"marker\":{\"color\":\"#FFA15A\",\"pattern\":{\"shape\":\"\"}},\"name\":\"Hamburguesa\",\"offsetgroup\":\"Hamburguesa\",\"orientation\":\"h\",\"showlegend\":true,\"type\":\"histogram\",\"xaxis\":\"x\",\"y\":[\"Centro\",\"Centro\",\"Centro\",\"Centro\",\"Centro\",\"Centro\",\"Centro\",\"Arganzuela\",\"Arganzuela\",\"Arganzuela\",\"Arganzuela\",\"Arganzuela\",\"Arganzuela\",\"Arganzuela\",\"Retiro\",\"Retiro\",\"Retiro\",\"Retiro\",\"Retiro\",\"Retiro\",\"Retiro\",\"Retiro\",\"Retiro\",\"Salamanca\",\"Salamanca\",\"Salamanca\",\"Salamanca\",\"Salamanca\",\"Salamanca\",\"Salamanca\",\"Salamanca\",\"Salamanca\",\"Salamanca\",\"Salamanca\",\"Salamanca\",\"Salamanca\",\"Chamart\\u00edn\",\"Chamart\\u00edn\",\"Chamart\\u00edn\",\"Chamart\\u00edn\",\"Chamart\\u00edn\",\"Chamart\\u00edn\",\"Chamart\\u00edn\",\"Chamart\\u00edn\",\"Chamart\\u00edn\",\"Tetu\\u00e1n\",\"Tetu\\u00e1n\",\"Tetu\\u00e1n\",\"Tetu\\u00e1n\",\"Tetu\\u00e1n\",\"Tetu\\u00e1n\",\"Tetu\\u00e1n\",\"Tetu\\u00e1n\",\"Chamber\\u00ed\",\"Chamber\\u00ed\",\"Chamber\\u00ed\",\"Chamber\\u00ed\",\"Chamber\\u00ed\",\"Chamber\\u00ed\",\"Chamber\\u00ed\",\"Moncloa-Aravaca\",\"Moncloa-Aravaca\",\"Moncloa-Aravaca\",\"Moncloa-Aravaca\",\"Moncloa-Aravaca\",\"Moncloa-Aravaca\",\"Carabanchel\",\"Carabanchel\",\"Carabanchel\",\"Carabanchel\",\"Carabanchel\",\"Carabanchel\",\"Usera\",\"Usera\",\"Usera\",\"Usera\",\"Usera\",\"Puente de Vallecas\",\"Puente de Vallecas\",\"Puente de Vallecas\",\"Puente de Vallecas\",\"Moratalaz\",\"Moratalaz\",\"Moratalaz\",\"Moratalaz\",\"Moratalaz\",\"Ciudad Lineal\",\"Ciudad Lineal\",\"Ciudad Lineal\",\"Ciudad Lineal\",\"Ciudad Lineal\",\"Ciudad Lineal\",\"Ciudad Lineal\",\"Ciudad Lineal\"],\"yaxis\":\"y\"},{\"alignmentgroup\":\"True\",\"bingroup\":\"y\",\"hovertemplate\":\"Tag=Mediterr\\u00e1nea<br>count=%{x}<br>Barrio=%{y}<extra></extra>\",\"legendgroup\":\"Mediterr\\u00e1nea\",\"marker\":{\"color\":\"#19d3f3\",\"pattern\":{\"shape\":\"\"}},\"name\":\"Mediterr\\u00e1nea\",\"offsetgroup\":\"Mediterr\\u00e1nea\",\"orientation\":\"h\",\"showlegend\":true,\"type\":\"histogram\",\"xaxis\":\"x\",\"y\":[\"Centro\",\"Centro\",\"Centro\",\"Arganzuela\",\"Arganzuela\",\"Arganzuela\",\"Arganzuela\",\"Retiro\",\"Retiro\",\"Retiro\",\"Retiro\",\"Salamanca\",\"Salamanca\",\"Salamanca\",\"Chamart\\u00edn\",\"Chamart\\u00edn\",\"Chamart\\u00edn\",\"Tetu\\u00e1n\",\"Tetu\\u00e1n\",\"Chamber\\u00ed\",\"Chamber\\u00ed\",\"Chamber\\u00ed\",\"Moncloa-Aravaca\",\"Moncloa-Aravaca\",\"Carabanchel\",\"Carabanchel\",\"Carabanchel\",\"Carabanchel\",\"Usera\",\"Usera\",\"Usera\",\"Puente de Vallecas\",\"Puente de Vallecas\",\"Puente de Vallecas\",\"Puente de Vallecas\",\"Puente de Vallecas\",\"Moratalaz\",\"Moratalaz\",\"Moratalaz\",\"Ciudad Lineal\",\"Ciudad Lineal\",\"Ciudad Lineal\",\"Ciudad Lineal\"],\"yaxis\":\"y\"},{\"alignmentgroup\":\"True\",\"bingroup\":\"y\",\"hovertemplate\":\"Tag=Kebab<br>count=%{x}<br>Barrio=%{y}<extra></extra>\",\"legendgroup\":\"Kebab\",\"marker\":{\"color\":\"#FF6692\",\"pattern\":{\"shape\":\"\"}},\"name\":\"Kebab\",\"offsetgroup\":\"Kebab\",\"orientation\":\"h\",\"showlegend\":true,\"type\":\"histogram\",\"xaxis\":\"x\",\"y\":[\"Retiro\",\"Retiro\",\"Salamanca\",\"Salamanca\",\"Chamart\\u00edn\",\"Chamart\\u00edn\",\"Chamart\\u00edn\",\"Chamart\\u00edn\",\"Tetu\\u00e1n\",\"Tetu\\u00e1n\",\"Tetu\\u00e1n\",\"Chamber\\u00ed\",\"Moncloa-Aravaca\",\"Moncloa-Aravaca\",\"Moncloa-Aravaca\",\"Carabanchel\",\"Carabanchel\",\"Carabanchel\",\"Carabanchel\",\"Carabanchel\",\"Carabanchel\",\"Usera\",\"Usera\",\"Usera\",\"Usera\",\"Usera\",\"Puente de Vallecas\",\"Puente de Vallecas\",\"Puente de Vallecas\",\"Puente de Vallecas\",\"Puente de Vallecas\",\"Puente de Vallecas\",\"Moratalaz\",\"Moratalaz\",\"Moratalaz\",\"Moratalaz\",\"Moratalaz\",\"Moratalaz\",\"Ciudad Lineal\",\"Ciudad Lineal\",\"Ciudad Lineal\",\"Ciudad Lineal\",\"Ciudad Lineal\"],\"yaxis\":\"y\"}],                        {\"barmode\":\"relative\",\"legend\":{\"title\":{\"text\":\"Tag\"},\"tracegroupgap\":0},\"margin\":{\"t\":60},\"template\":{\"data\":{\"bar\":[{\"error_x\":{\"color\":\"#2a3f5f\"},\"error_y\":{\"color\":\"#2a3f5f\"},\"marker\":{\"line\":{\"color\":\"#E5ECF6\",\"width\":0.5},\"pattern\":{\"fillmode\":\"overlay\",\"size\":10,\"solidity\":0.2}},\"type\":\"bar\"}],\"barpolar\":[{\"marker\":{\"line\":{\"color\":\"#E5ECF6\",\"width\":0.5},\"pattern\":{\"fillmode\":\"overlay\",\"size\":10,\"solidity\":0.2}},\"type\":\"barpolar\"}],\"carpet\":[{\"aaxis\":{\"endlinecolor\":\"#2a3f5f\",\"gridcolor\":\"white\",\"linecolor\":\"white\",\"minorgridcolor\":\"white\",\"startlinecolor\":\"#2a3f5f\"},\"baxis\":{\"endlinecolor\":\"#2a3f5f\",\"gridcolor\":\"white\",\"linecolor\":\"white\",\"minorgridcolor\":\"white\",\"startlinecolor\":\"#2a3f5f\"},\"type\":\"carpet\"}],\"choropleth\":[{\"colorbar\":{\"outlinewidth\":0,\"ticks\":\"\"},\"type\":\"choropleth\"}],\"contour\":[{\"colorbar\":{\"outlinewidth\":0,\"ticks\":\"\"},\"colorscale\":[[0.0,\"#0d0887\"],[0.1111111111111111,\"#46039f\"],[0.2222222222222222,\"#7201a8\"],[0.3333333333333333,\"#9c179e\"],[0.4444444444444444,\"#bd3786\"],[0.5555555555555556,\"#d8576b\"],[0.6666666666666666,\"#ed7953\"],[0.7777777777777778,\"#fb9f3a\"],[0.8888888888888888,\"#fdca26\"],[1.0,\"#f0f921\"]],\"type\":\"contour\"}],\"contourcarpet\":[{\"colorbar\":{\"outlinewidth\":0,\"ticks\":\"\"},\"type\":\"contourcarpet\"}],\"heatmap\":[{\"colorbar\":{\"outlinewidth\":0,\"ticks\":\"\"},\"colorscale\":[[0.0,\"#0d0887\"],[0.1111111111111111,\"#46039f\"],[0.2222222222222222,\"#7201a8\"],[0.3333333333333333,\"#9c179e\"],[0.4444444444444444,\"#bd3786\"],[0.5555555555555556,\"#d8576b\"],[0.6666666666666666,\"#ed7953\"],[0.7777777777777778,\"#fb9f3a\"],[0.8888888888888888,\"#fdca26\"],[1.0,\"#f0f921\"]],\"type\":\"heatmap\"}],\"heatmapgl\":[{\"colorbar\":{\"outlinewidth\":0,\"ticks\":\"\"},\"colorscale\":[[0.0,\"#0d0887\"],[0.1111111111111111,\"#46039f\"],[0.2222222222222222,\"#7201a8\"],[0.3333333333333333,\"#9c179e\"],[0.4444444444444444,\"#bd3786\"],[0.5555555555555556,\"#d8576b\"],[0.6666666666666666,\"#ed7953\"],[0.7777777777777778,\"#fb9f3a\"],[0.8888888888888888,\"#fdca26\"],[1.0,\"#f0f921\"]],\"type\":\"heatmapgl\"}],\"histogram\":[{\"marker\":{\"pattern\":{\"fillmode\":\"overlay\",\"size\":10,\"solidity\":0.2}},\"type\":\"histogram\"}],\"histogram2d\":[{\"colorbar\":{\"outlinewidth\":0,\"ticks\":\"\"},\"colorscale\":[[0.0,\"#0d0887\"],[0.1111111111111111,\"#46039f\"],[0.2222222222222222,\"#7201a8\"],[0.3333333333333333,\"#9c179e\"],[0.4444444444444444,\"#bd3786\"],[0.5555555555555556,\"#d8576b\"],[0.6666666666666666,\"#ed7953\"],[0.7777777777777778,\"#fb9f3a\"],[0.8888888888888888,\"#fdca26\"],[1.0,\"#f0f921\"]],\"type\":\"histogram2d\"}],\"histogram2dcontour\":[{\"colorbar\":{\"outlinewidth\":0,\"ticks\":\"\"},\"colorscale\":[[0.0,\"#0d0887\"],[0.1111111111111111,\"#46039f\"],[0.2222222222222222,\"#7201a8\"],[0.3333333333333333,\"#9c179e\"],[0.4444444444444444,\"#bd3786\"],[0.5555555555555556,\"#d8576b\"],[0.6666666666666666,\"#ed7953\"],[0.7777777777777778,\"#fb9f3a\"],[0.8888888888888888,\"#fdca26\"],[1.0,\"#f0f921\"]],\"type\":\"histogram2dcontour\"}],\"mesh3d\":[{\"colorbar\":{\"outlinewidth\":0,\"ticks\":\"\"},\"type\":\"mesh3d\"}],\"parcoords\":[{\"line\":{\"colorbar\":{\"outlinewidth\":0,\"ticks\":\"\"}},\"type\":\"parcoords\"}],\"pie\":[{\"automargin\":true,\"type\":\"pie\"}],\"scatter\":[{\"marker\":{\"colorbar\":{\"outlinewidth\":0,\"ticks\":\"\"}},\"type\":\"scatter\"}],\"scatter3d\":[{\"line\":{\"colorbar\":{\"outlinewidth\":0,\"ticks\":\"\"}},\"marker\":{\"colorbar\":{\"outlinewidth\":0,\"ticks\":\"\"}},\"type\":\"scatter3d\"}],\"scattercarpet\":[{\"marker\":{\"colorbar\":{\"outlinewidth\":0,\"ticks\":\"\"}},\"type\":\"scattercarpet\"}],\"scattergeo\":[{\"marker\":{\"colorbar\":{\"outlinewidth\":0,\"ticks\":\"\"}},\"type\":\"scattergeo\"}],\"scattergl\":[{\"marker\":{\"colorbar\":{\"outlinewidth\":0,\"ticks\":\"\"}},\"type\":\"scattergl\"}],\"scattermapbox\":[{\"marker\":{\"colorbar\":{\"outlinewidth\":0,\"ticks\":\"\"}},\"type\":\"scattermapbox\"}],\"scatterpolar\":[{\"marker\":{\"colorbar\":{\"outlinewidth\":0,\"ticks\":\"\"}},\"type\":\"scatterpolar\"}],\"scatterpolargl\":[{\"marker\":{\"colorbar\":{\"outlinewidth\":0,\"ticks\":\"\"}},\"type\":\"scatterpolargl\"}],\"scatterternary\":[{\"marker\":{\"colorbar\":{\"outlinewidth\":0,\"ticks\":\"\"}},\"type\":\"scatterternary\"}],\"surface\":[{\"colorbar\":{\"outlinewidth\":0,\"ticks\":\"\"},\"colorscale\":[[0.0,\"#0d0887\"],[0.1111111111111111,\"#46039f\"],[0.2222222222222222,\"#7201a8\"],[0.3333333333333333,\"#9c179e\"],[0.4444444444444444,\"#bd3786\"],[0.5555555555555556,\"#d8576b\"],[0.6666666666666666,\"#ed7953\"],[0.7777777777777778,\"#fb9f3a\"],[0.8888888888888888,\"#fdca26\"],[1.0,\"#f0f921\"]],\"type\":\"surface\"}],\"table\":[{\"cells\":{\"fill\":{\"color\":\"#EBF0F8\"},\"line\":{\"color\":\"white\"}},\"header\":{\"fill\":{\"color\":\"#C8D4E3\"},\"line\":{\"color\":\"white\"}},\"type\":\"table\"}]},\"layout\":{\"annotationdefaults\":{\"arrowcolor\":\"#2a3f5f\",\"arrowhead\":0,\"arrowwidth\":1},\"autotypenumbers\":\"strict\",\"coloraxis\":{\"colorbar\":{\"outlinewidth\":0,\"ticks\":\"\"}},\"colorscale\":{\"diverging\":[[0,\"#8e0152\"],[0.1,\"#c51b7d\"],[0.2,\"#de77ae\"],[0.3,\"#f1b6da\"],[0.4,\"#fde0ef\"],[0.5,\"#f7f7f7\"],[0.6,\"#e6f5d0\"],[0.7,\"#b8e186\"],[0.8,\"#7fbc41\"],[0.9,\"#4d9221\"],[1,\"#276419\"]],\"sequential\":[[0.0,\"#0d0887\"],[0.1111111111111111,\"#46039f\"],[0.2222222222222222,\"#7201a8\"],[0.3333333333333333,\"#9c179e\"],[0.4444444444444444,\"#bd3786\"],[0.5555555555555556,\"#d8576b\"],[0.6666666666666666,\"#ed7953\"],[0.7777777777777778,\"#fb9f3a\"],[0.8888888888888888,\"#fdca26\"],[1.0,\"#f0f921\"]],\"sequentialminus\":[[0.0,\"#0d0887\"],[0.1111111111111111,\"#46039f\"],[0.2222222222222222,\"#7201a8\"],[0.3333333333333333,\"#9c179e\"],[0.4444444444444444,\"#bd3786\"],[0.5555555555555556,\"#d8576b\"],[0.6666666666666666,\"#ed7953\"],[0.7777777777777778,\"#fb9f3a\"],[0.8888888888888888,\"#fdca26\"],[1.0,\"#f0f921\"]]},\"colorway\":[\"#636efa\",\"#EF553B\",\"#00cc96\",\"#ab63fa\",\"#FFA15A\",\"#19d3f3\",\"#FF6692\",\"#B6E880\",\"#FF97FF\",\"#FECB52\"],\"font\":{\"color\":\"#2a3f5f\"},\"geo\":{\"bgcolor\":\"white\",\"lakecolor\":\"white\",\"landcolor\":\"#E5ECF6\",\"showlakes\":true,\"showland\":true,\"subunitcolor\":\"white\"},\"hoverlabel\":{\"align\":\"left\"},\"hovermode\":\"closest\",\"mapbox\":{\"style\":\"light\"},\"paper_bgcolor\":\"white\",\"plot_bgcolor\":\"#E5ECF6\",\"polar\":{\"angularaxis\":{\"gridcolor\":\"white\",\"linecolor\":\"white\",\"ticks\":\"\"},\"bgcolor\":\"#E5ECF6\",\"radialaxis\":{\"gridcolor\":\"white\",\"linecolor\":\"white\",\"ticks\":\"\"}},\"scene\":{\"xaxis\":{\"backgroundcolor\":\"#E5ECF6\",\"gridcolor\":\"white\",\"gridwidth\":2,\"linecolor\":\"white\",\"showbackground\":true,\"ticks\":\"\",\"zerolinecolor\":\"white\"},\"yaxis\":{\"backgroundcolor\":\"#E5ECF6\",\"gridcolor\":\"white\",\"gridwidth\":2,\"linecolor\":\"white\",\"showbackground\":true,\"ticks\":\"\",\"zerolinecolor\":\"white\"},\"zaxis\":{\"backgroundcolor\":\"#E5ECF6\",\"gridcolor\":\"white\",\"gridwidth\":2,\"linecolor\":\"white\",\"showbackground\":true,\"ticks\":\"\",\"zerolinecolor\":\"white\"}},\"shapedefaults\":{\"line\":{\"color\":\"#2a3f5f\"}},\"ternary\":{\"aaxis\":{\"gridcolor\":\"white\",\"linecolor\":\"white\",\"ticks\":\"\"},\"baxis\":{\"gridcolor\":\"white\",\"linecolor\":\"white\",\"ticks\":\"\"},\"bgcolor\":\"#E5ECF6\",\"caxis\":{\"gridcolor\":\"white\",\"linecolor\":\"white\",\"ticks\":\"\"}},\"title\":{\"x\":0.05},\"xaxis\":{\"automargin\":true,\"gridcolor\":\"white\",\"linecolor\":\"white\",\"ticks\":\"\",\"title\":{\"standoff\":15},\"zerolinecolor\":\"white\",\"zerolinewidth\":2},\"yaxis\":{\"automargin\":true,\"gridcolor\":\"white\",\"linecolor\":\"white\",\"ticks\":\"\",\"title\":{\"standoff\":15},\"zerolinecolor\":\"white\",\"zerolinewidth\":2}}},\"xaxis\":{\"anchor\":\"y\",\"domain\":[0.0,1.0],\"title\":{\"text\":\"count\"}},\"yaxis\":{\"anchor\":\"x\",\"domain\":[0.0,1.0],\"title\":{\"text\":\"Barrio\"}}},                        {\"responsive\": true}                    ).then(function(){\n",
       "                            \n",
       "var gd = document.getElementById('b914dbb9-64aa-42d5-80b3-b0afecd7c470');\n",
       "var x = new MutationObserver(function (mutations, observer) {{\n",
       "        var display = window.getComputedStyle(gd).display;\n",
       "        if (!display || display === 'none') {{\n",
       "            console.log([gd, 'removed!']);\n",
       "            Plotly.purge(gd);\n",
       "            observer.disconnect();\n",
       "        }}\n",
       "}});\n",
       "\n",
       "// Listen for the removal of the full notebook cells\n",
       "var notebookContainer = gd.closest('#notebook-container');\n",
       "if (notebookContainer) {{\n",
       "    x.observe(notebookContainer, {childList: true});\n",
       "}}\n",
       "\n",
       "// Listen for the clearing of the current output cell\n",
       "var outputEl = gd.closest('.output');\n",
       "if (outputEl) {{\n",
       "    x.observe(outputEl, {childList: true});\n",
       "}}\n",
       "\n",
       "                        })                };                });            </script>        </div>"
      ]
     },
     "metadata": {},
     "output_type": "display_data"
    }
   ],
   "source": [
    "top10 = list(dict(ue[\"Tag\"].value_counts()[0:7]).keys())\n",
    "toptags = ue[ue[\"Tag\"].isin(top10)]\n",
    "tagss = px.histogram(toptags, y=\"Barrio\",color=\"Tag\")\n",
    "tagss.show()\n"
   ]
  },
  {
   "cell_type": "code",
   "execution_count": 149,
   "id": "b41e5030",
   "metadata": {},
   "outputs": [
    {
     "data": {
      "text/html": [
       "<div>\n",
       "<style scoped>\n",
       "    .dataframe tbody tr th:only-of-type {\n",
       "        vertical-align: middle;\n",
       "    }\n",
       "\n",
       "    .dataframe tbody tr th {\n",
       "        vertical-align: top;\n",
       "    }\n",
       "\n",
       "    .dataframe thead th {\n",
       "        text-align: right;\n",
       "    }\n",
       "</style>\n",
       "<table border=\"1\" class=\"dataframe\">\n",
       "  <thead>\n",
       "    <tr style=\"text-align: right;\">\n",
       "      <th></th>\n",
       "      <th>Superficie</th>\n",
       "      <th>0 a 15</th>\n",
       "      <th>16 a 64</th>\n",
       "      <th>65 +</th>\n",
       "    </tr>\n",
       "  </thead>\n",
       "  <tbody>\n",
       "    <tr>\n",
       "      <th>0</th>\n",
       "      <td>Centro</td>\n",
       "      <td>10608</td>\n",
       "      <td>108667</td>\n",
       "      <td>21961</td>\n",
       "    </tr>\n",
       "    <tr>\n",
       "      <th>1</th>\n",
       "      <td>Arganzuela</td>\n",
       "      <td>18571</td>\n",
       "      <td>105078</td>\n",
       "      <td>30594</td>\n",
       "    </tr>\n",
       "    <tr>\n",
       "      <th>2</th>\n",
       "      <td>Retiro</td>\n",
       "      <td>14443</td>\n",
       "      <td>73037</td>\n",
       "      <td>31077</td>\n",
       "    </tr>\n",
       "    <tr>\n",
       "      <th>3</th>\n",
       "      <td>Salamanca</td>\n",
       "      <td>16147</td>\n",
       "      <td>95122</td>\n",
       "      <td>34747</td>\n",
       "    </tr>\n",
       "    <tr>\n",
       "      <th>4</th>\n",
       "      <td>Chamartín</td>\n",
       "      <td>19913</td>\n",
       "      <td>91663</td>\n",
       "      <td>34124</td>\n",
       "    </tr>\n",
       "    <tr>\n",
       "      <th>5</th>\n",
       "      <td>Tetuán</td>\n",
       "      <td>18293</td>\n",
       "      <td>111262</td>\n",
       "      <td>30294</td>\n",
       "    </tr>\n",
       "    <tr>\n",
       "      <th>6</th>\n",
       "      <td>Chamberí</td>\n",
       "      <td>14767</td>\n",
       "      <td>90307</td>\n",
       "      <td>33593</td>\n",
       "    </tr>\n",
       "    <tr>\n",
       "      <th>7</th>\n",
       "      <td>Moncloa-Aravaca</td>\n",
       "      <td>17036</td>\n",
       "      <td>77360</td>\n",
       "      <td>26438</td>\n",
       "    </tr>\n",
       "    <tr>\n",
       "      <th>8</th>\n",
       "      <td>Carabanchel</td>\n",
       "      <td>36742</td>\n",
       "      <td>173880</td>\n",
       "      <td>48011</td>\n",
       "    </tr>\n",
       "    <tr>\n",
       "      <th>9</th>\n",
       "      <td>Usera</td>\n",
       "      <td>21188</td>\n",
       "      <td>97802</td>\n",
       "      <td>23464</td>\n",
       "    </tr>\n",
       "    <tr>\n",
       "      <th>10</th>\n",
       "      <td>Puente de Vallecas</td>\n",
       "      <td>32422</td>\n",
       "      <td>164930</td>\n",
       "      <td>41705</td>\n",
       "    </tr>\n",
       "    <tr>\n",
       "      <th>11</th>\n",
       "      <td>Moratalaz</td>\n",
       "      <td>10702</td>\n",
       "      <td>58667</td>\n",
       "      <td>24441</td>\n",
       "    </tr>\n",
       "    <tr>\n",
       "      <th>12</th>\n",
       "      <td>Ciudad Lineal</td>\n",
       "      <td>26603</td>\n",
       "      <td>140979</td>\n",
       "      <td>49236</td>\n",
       "    </tr>\n",
       "  </tbody>\n",
       "</table>\n",
       "</div>"
      ],
      "text/plain": [
       "            Superficie  0 a 15  16 a 64   65 +\n",
       "0               Centro   10608   108667  21961\n",
       "1           Arganzuela   18571   105078  30594\n",
       "2               Retiro   14443    73037  31077\n",
       "3            Salamanca   16147    95122  34747\n",
       "4            Chamartín   19913    91663  34124\n",
       "5               Tetuán   18293   111262  30294\n",
       "6             Chamberí   14767    90307  33593\n",
       "7      Moncloa-Aravaca   17036    77360  26438\n",
       "8          Carabanchel   36742   173880  48011\n",
       "9                Usera   21188    97802  23464\n",
       "10  Puente de Vallecas   32422   164930  41705\n",
       "11           Moratalaz   10702    58667  24441\n",
       "12       Ciudad Lineal   26603   140979  49236"
      ]
     },
     "execution_count": 149,
     "metadata": {},
     "output_type": "execute_result"
    }
   ],
   "source": [
    "agrupado = barrio[[\"Superficie\",\"0 a 15\",\"16 a 64\",\"65 +\"]]\n",
    "agrupado"
   ]
  },
  {
   "cell_type": "code",
   "execution_count": 159,
   "id": "203640d7",
   "metadata": {},
   "outputs": [
    {
     "ename": "ValueError",
     "evalue": "Value of 'color' is not the name of a column in 'data_frame'. Expected one of ['Superficie', 'Superficie.1', 'Densidad', 'Población', '0 a 15', '16 a 64', '65 +', '% 0 a 15', '% 16 a 64', '% 65 +', 'Esp', 'Extr', '% Esp', '% Extr', 'Nacim', 'Def', 'C Natural', '€ m2'] but received: fig",
     "output_type": "error",
     "traceback": [
      "\u001b[0;31m---------------------------------------------------------------------------\u001b[0m",
      "\u001b[0;31mValueError\u001b[0m                                Traceback (most recent call last)",
      "\u001b[0;32m/var/folders/lp/_3blnsw12kj309tphctgyqlr0000gn/T/ipykernel_47706/2462023529.py\u001b[0m in \u001b[0;36m<module>\u001b[0;34m\u001b[0m\n\u001b[0;32m----> 1\u001b[0;31m \u001b[0mfig\u001b[0m \u001b[0;34m=\u001b[0m \u001b[0mpx\u001b[0m\u001b[0;34m.\u001b[0m\u001b[0mbar\u001b[0m\u001b[0;34m(\u001b[0m\u001b[0mbarrio\u001b[0m\u001b[0;34m,\u001b[0m \u001b[0mx\u001b[0m\u001b[0;34m=\u001b[0m\u001b[0;34m\"Población\"\u001b[0m\u001b[0;34m,\u001b[0m \u001b[0my\u001b[0m\u001b[0;34m=\u001b[0m\u001b[0;34m\"Superficie\"\u001b[0m\u001b[0;34m,\u001b[0m\u001b[0mcolor\u001b[0m\u001b[0;34m=\u001b[0m\u001b[0;34m\"fig\"\u001b[0m\u001b[0;34m)\u001b[0m\u001b[0;34m\u001b[0m\u001b[0;34m\u001b[0m\u001b[0m\n\u001b[0m\u001b[1;32m      2\u001b[0m \u001b[0mfig\u001b[0m\u001b[0;34m.\u001b[0m\u001b[0mshow\u001b[0m\u001b[0;34m(\u001b[0m\u001b[0;34m)\u001b[0m\u001b[0;34m\u001b[0m\u001b[0;34m\u001b[0m\u001b[0m\n\u001b[1;32m      3\u001b[0m \u001b[0;34m\u001b[0m\u001b[0m\n\u001b[1;32m      4\u001b[0m \u001b[0mbarrios\u001b[0m\u001b[0;34m=\u001b[0m \u001b[0mbarrio\u001b[0m\u001b[0;34m.\u001b[0m\u001b[0mPoblación\u001b[0m\u001b[0;34m.\u001b[0m\u001b[0munique\u001b[0m\u001b[0;34m(\u001b[0m\u001b[0;34m)\u001b[0m \u001b[0;31m# ESTO ES UNA LISTA CON LOS NOMBRES\u001b[0m\u001b[0;34m\u001b[0m\u001b[0;34m\u001b[0m\u001b[0m\n\u001b[1;32m      5\u001b[0m fig = go.Figure(data=[\n",
      "\u001b[0;32m/usr/local/Caskroom/miniconda/base/envs/ironhack/lib/python3.8/site-packages/plotly/express/_chart_types.py\u001b[0m in \u001b[0;36mbar\u001b[0;34m(data_frame, x, y, color, pattern_shape, facet_row, facet_col, facet_col_wrap, facet_row_spacing, facet_col_spacing, hover_name, hover_data, custom_data, text, base, error_x, error_x_minus, error_y, error_y_minus, animation_frame, animation_group, category_orders, labels, color_discrete_sequence, color_discrete_map, color_continuous_scale, pattern_shape_sequence, pattern_shape_map, range_color, color_continuous_midpoint, opacity, orientation, barmode, log_x, log_y, range_x, range_y, title, template, width, height)\u001b[0m\n\u001b[1;32m    351\u001b[0m     \u001b[0mmark\u001b[0m\u001b[0;34m.\u001b[0m\u001b[0;34m\u001b[0m\u001b[0;34m\u001b[0m\u001b[0m\n\u001b[1;32m    352\u001b[0m     \"\"\"\n\u001b[0;32m--> 353\u001b[0;31m     return make_figure(\n\u001b[0m\u001b[1;32m    354\u001b[0m         \u001b[0margs\u001b[0m\u001b[0;34m=\u001b[0m\u001b[0mlocals\u001b[0m\u001b[0;34m(\u001b[0m\u001b[0;34m)\u001b[0m\u001b[0;34m,\u001b[0m\u001b[0;34m\u001b[0m\u001b[0;34m\u001b[0m\u001b[0m\n\u001b[1;32m    355\u001b[0m         \u001b[0mconstructor\u001b[0m\u001b[0;34m=\u001b[0m\u001b[0mgo\u001b[0m\u001b[0;34m.\u001b[0m\u001b[0mBar\u001b[0m\u001b[0;34m,\u001b[0m\u001b[0;34m\u001b[0m\u001b[0;34m\u001b[0m\u001b[0m\n",
      "\u001b[0;32m/usr/local/Caskroom/miniconda/base/envs/ironhack/lib/python3.8/site-packages/plotly/express/_core.py\u001b[0m in \u001b[0;36mmake_figure\u001b[0;34m(args, constructor, trace_patch, layout_patch)\u001b[0m\n\u001b[1;32m   1877\u001b[0m     \u001b[0mapply_default_cascade\u001b[0m\u001b[0;34m(\u001b[0m\u001b[0margs\u001b[0m\u001b[0;34m)\u001b[0m\u001b[0;34m\u001b[0m\u001b[0;34m\u001b[0m\u001b[0m\n\u001b[1;32m   1878\u001b[0m \u001b[0;34m\u001b[0m\u001b[0m\n\u001b[0;32m-> 1879\u001b[0;31m     \u001b[0margs\u001b[0m \u001b[0;34m=\u001b[0m \u001b[0mbuild_dataframe\u001b[0m\u001b[0;34m(\u001b[0m\u001b[0margs\u001b[0m\u001b[0;34m,\u001b[0m \u001b[0mconstructor\u001b[0m\u001b[0;34m)\u001b[0m\u001b[0;34m\u001b[0m\u001b[0;34m\u001b[0m\u001b[0m\n\u001b[0m\u001b[1;32m   1880\u001b[0m     \u001b[0;32mif\u001b[0m \u001b[0mconstructor\u001b[0m \u001b[0;32min\u001b[0m \u001b[0;34m[\u001b[0m\u001b[0mgo\u001b[0m\u001b[0;34m.\u001b[0m\u001b[0mTreemap\u001b[0m\u001b[0;34m,\u001b[0m \u001b[0mgo\u001b[0m\u001b[0;34m.\u001b[0m\u001b[0mSunburst\u001b[0m\u001b[0;34m,\u001b[0m \u001b[0mgo\u001b[0m\u001b[0;34m.\u001b[0m\u001b[0mIcicle\u001b[0m\u001b[0;34m]\u001b[0m \u001b[0;32mand\u001b[0m \u001b[0margs\u001b[0m\u001b[0;34m[\u001b[0m\u001b[0;34m\"path\"\u001b[0m\u001b[0;34m]\u001b[0m \u001b[0;32mis\u001b[0m \u001b[0;32mnot\u001b[0m \u001b[0;32mNone\u001b[0m\u001b[0;34m:\u001b[0m\u001b[0;34m\u001b[0m\u001b[0;34m\u001b[0m\u001b[0m\n\u001b[1;32m   1881\u001b[0m         \u001b[0margs\u001b[0m \u001b[0;34m=\u001b[0m \u001b[0mprocess_dataframe_hierarchy\u001b[0m\u001b[0;34m(\u001b[0m\u001b[0margs\u001b[0m\u001b[0;34m)\u001b[0m\u001b[0;34m\u001b[0m\u001b[0;34m\u001b[0m\u001b[0m\n",
      "\u001b[0;32m/usr/local/Caskroom/miniconda/base/envs/ironhack/lib/python3.8/site-packages/plotly/express/_core.py\u001b[0m in \u001b[0;36mbuild_dataframe\u001b[0;34m(args, constructor)\u001b[0m\n\u001b[1;32m   1397\u001b[0m     \u001b[0;31m# now that things have been prepped, we do the systematic rewriting of `args`\u001b[0m\u001b[0;34m\u001b[0m\u001b[0;34m\u001b[0m\u001b[0;34m\u001b[0m\u001b[0m\n\u001b[1;32m   1398\u001b[0m \u001b[0;34m\u001b[0m\u001b[0m\n\u001b[0;32m-> 1399\u001b[0;31m     df_output, wide_id_vars = process_args_into_dataframe(\n\u001b[0m\u001b[1;32m   1400\u001b[0m         \u001b[0margs\u001b[0m\u001b[0;34m,\u001b[0m \u001b[0mwide_mode\u001b[0m\u001b[0;34m,\u001b[0m \u001b[0mvar_name\u001b[0m\u001b[0;34m,\u001b[0m \u001b[0mvalue_name\u001b[0m\u001b[0;34m\u001b[0m\u001b[0;34m\u001b[0m\u001b[0m\n\u001b[1;32m   1401\u001b[0m     )\n",
      "\u001b[0;32m/usr/local/Caskroom/miniconda/base/envs/ironhack/lib/python3.8/site-packages/plotly/express/_core.py\u001b[0m in \u001b[0;36mprocess_args_into_dataframe\u001b[0;34m(args, wide_mode, var_name, value_name)\u001b[0m\n\u001b[1;32m   1203\u001b[0m                         \u001b[0;32mif\u001b[0m \u001b[0margument\u001b[0m \u001b[0;34m==\u001b[0m \u001b[0;34m\"index\"\u001b[0m\u001b[0;34m:\u001b[0m\u001b[0;34m\u001b[0m\u001b[0;34m\u001b[0m\u001b[0m\n\u001b[1;32m   1204\u001b[0m                             \u001b[0merr_msg\u001b[0m \u001b[0;34m+=\u001b[0m \u001b[0;34m\"\\n To use the index, pass it in directly as `df.index`.\"\u001b[0m\u001b[0;34m\u001b[0m\u001b[0;34m\u001b[0m\u001b[0m\n\u001b[0;32m-> 1205\u001b[0;31m                         \u001b[0;32mraise\u001b[0m \u001b[0mValueError\u001b[0m\u001b[0;34m(\u001b[0m\u001b[0merr_msg\u001b[0m\u001b[0;34m)\u001b[0m\u001b[0;34m\u001b[0m\u001b[0;34m\u001b[0m\u001b[0m\n\u001b[0m\u001b[1;32m   1206\u001b[0m                 \u001b[0;32melif\u001b[0m \u001b[0mlength\u001b[0m \u001b[0;32mand\u001b[0m \u001b[0mlen\u001b[0m\u001b[0;34m(\u001b[0m\u001b[0mdf_input\u001b[0m\u001b[0;34m[\u001b[0m\u001b[0margument\u001b[0m\u001b[0;34m]\u001b[0m\u001b[0;34m)\u001b[0m \u001b[0;34m!=\u001b[0m \u001b[0mlength\u001b[0m\u001b[0;34m:\u001b[0m\u001b[0;34m\u001b[0m\u001b[0;34m\u001b[0m\u001b[0m\n\u001b[1;32m   1207\u001b[0m                     raise ValueError(\n",
      "\u001b[0;31mValueError\u001b[0m: Value of 'color' is not the name of a column in 'data_frame'. Expected one of ['Superficie', 'Superficie.1', 'Densidad', 'Población', '0 a 15', '16 a 64', '65 +', '% 0 a 15', '% 16 a 64', '% 65 +', 'Esp', 'Extr', '% Esp', '% Extr', 'Nacim', 'Def', 'C Natural', '€ m2'] but received: fig"
     ]
    }
   ],
   "source": [
    "fig = px.bar(barrio, x=\"Población\", y=\"Superficie\",color=\"fig\")\n",
    "fig.show()\n",
    "\n",
    "barrios= barrio.Población.unique() # ESTO ES UNA LISTA CON LOS NOMBRES \n",
    "fig = go.Figure(data=[\n",
    "    go.Bar(name=\"0 a 15\", x=animals, y=agrupado['0 a 15']),\n",
    "    go.Bar(name=\"16 a 64\", x=animals, y=agrupado['16 a 64']),\n",
    "    go.Bar(name=\"+ de 64\", x=animals, y=agrupado['65 +'])\n",
    "])\n",
    "# CAMBIAR EL TIPO DE BARRAS\n",
    "fig.update_layout(barmode=\"stack\")\n",
    "fig.show()"
   ]
  },
  {
   "cell_type": "code",
   "execution_count": 132,
   "id": "a452a031",
   "metadata": {},
   "outputs": [
    {
     "data": {
      "text/plain": [
       "<seaborn.axisgrid.JointGrid at 0x7fe1614e6f70>"
      ]
     },
     "execution_count": 132,
     "metadata": {},
     "output_type": "execute_result"
    },
    {
     "data": {
      "image/png": "[encoded data removed]",
      "text/plain": [
       "<Figure size 432x432 with 3 Axes>"
      ]
     },
     "metadata": {},
     "output_type": "display_data"
    }
   ],
   "source": [
    "sns.jointplot(data=ue, x= \"Nota\", y= \"Valoración\", hue=\"Precio\")"
   ]
  },
  {
   "cell_type": "code",
   "execution_count": 51,
   "id": "55819d12",
   "metadata": {},
   "outputs": [
    {
     "data": {
      "text/plain": [
       "Tag\n",
       "Alcohol             3.920000\n",
       "Alitas de pollo     4.300000\n",
       "Americana           3.790476\n",
       "Asiatica            4.114286\n",
       "Asiática            3.600000\n",
       "                      ...   \n",
       "Tapas y raciones    3.428571\n",
       "Tienda              4.600000\n",
       "Vegetariano         3.100000\n",
       "Venezolana          4.364706\n",
       "Árabe               3.125000\n",
       "Name: Nota, Length: 64, dtype: float64"
      ]
     },
     "execution_count": 51,
     "metadata": {},
     "output_type": "execute_result"
    }
   ],
   "source": [
    "tagnota = ue.groupby([\"Tag\"])[\"Nota\"].mean()\n",
    "tagnota"
   ]
  },
  {
   "cell_type": "code",
   "execution_count": 137,
   "id": "28c62bae",
   "metadata": {},
   "outputs": [
    {
     "data": {
      "application/vnd.plotly.v1+json": {
       "config": {
        "plotlyServerURL": "https://plot.ly"
       },
       "data": [
        {
         "alignmentgroup": "True",
         "hovertemplate": "Tag=%{x}<br>Restaurante=%{y}<extra></extra>",
         "legendgroup": "",
         "marker": {
          "color": "#636efa",
          "pattern": {
           "shape": ""
          }
         },
         "name": "",
         "offsetgroup": "",
         "orientation": "v",
         "showlegend": false,
         "textposition": "auto",
         "type": "bar",
         "x": [
          "India",
          "Pizza",
          "Pizza",
          "Dulce",
          "Pizza",
          "Pizza",
          "Pizza",
          "Burritos",
          "SouthAmerica",
          "Empanada",
          "Pollo",
          "Pollo",
          "Pizza",
          "China",
          "Hamburguesa",
          "Pollo",
          "Pollo",
          "Pizza",
          "China",
          "Ensaladas",
          "Empanada",
          "Pizza",
          "Dulce",
          "Tienda",
          "India",
          "Hamburguesa",
          "Hamburguesa",
          "India",
          "Asiática",
          "SouthAmerica",
          "Gourmet",
          "India",
          "Pizza",
          "Pizza",
          "SouthAmerica",
          "Hamburguesa",
          "Pollo",
          "Pizza",
          "Pizza",
          "SouthAmerica",
          "India",
          "Mediterránea",
          "Mediterránea",
          "Pollo",
          "Pollo",
          "Carne",
          "Dulce",
          "Hamburguesa",
          "Pizza",
          "Hamburguesa",
          "Hamburguesa",
          "Mediterránea",
          "Comida rápida",
          "Tienda",
          "India",
          "Pizza",
          "Pizza",
          "Pizza",
          "Pizza",
          "Pizza",
          "Pizza",
          "Burritos",
          "Hamburguesa",
          "Dulce",
          "Pizza",
          "SouthAmerica",
          "Hamburguesa",
          "Mediterránea",
          "Pizza",
          "China",
          "Hamburguesa",
          "Tienda",
          "SouthAmerica",
          "Hamburguesa",
          "Mediterránea",
          "Pollo",
          "Pollo",
          "Burritos",
          "Comida rápida",
          "Pizza",
          "Ensaladas",
          "Pollo",
          "India",
          "SouthAmerica",
          "Pollo",
          "Pollo",
          "Empanada",
          "Asiática",
          "India",
          "Hamburguesa",
          "Pollo",
          "Empanada",
          "India",
          "India",
          "Dulce",
          "Hamburguesa",
          "Poke",
          "Pizza",
          "Pizza",
          "Pizza",
          "Pollo",
          "Mediterránea",
          "Mediterránea",
          "Pizza",
          "Carne",
          "Carne",
          "Hamburguesa",
          "Empanada",
          "Pizza",
          "Dulce",
          "China",
          "Pizza",
          "Pizza",
          "Pizza",
          "Pizza",
          "China",
          "China",
          "Pollo",
          "Hamburguesa",
          "Burritos",
          "Comida rápida",
          "SouthAmerica",
          "Pizza",
          "Pizza",
          "Pizza",
          "Pizza",
          "Empanada",
          "Mediterránea",
          "Ensaladas",
          "Pollo",
          "Empanada",
          "Hamburguesa",
          "Hamburguesa",
          "Empanada",
          "India",
          "Asiática",
          "Mediterránea",
          "India",
          "India",
          "Pollo",
          "SouthAmerica",
          "Mediterránea",
          "Hamburguesa",
          "Ensaladas",
          "Hamburguesa",
          "Hamburguesa",
          "Dulce",
          "Hamburguesa",
          "Pizza",
          "Mediterránea",
          "Kebab",
          "Pizza",
          "Ensaladas",
          "Hamburguesa",
          "Empanada",
          "Hamburguesa",
          "India",
          "Carne",
          "Pollo",
          "Poke",
          "Kebab",
          "Pizza",
          "Pizza",
          "Pizza",
          "Dulce",
          "Gourmet",
          "Pizza",
          "Hamburguesa",
          "Dulce",
          "Pizza",
          "Empanada",
          "Pizza",
          "Pizza",
          "Pollo",
          "Hamburguesa",
          "China",
          "Burritos",
          "SouthAmerica",
          "Pizza",
          "Empanada",
          "Mediterránea",
          "Hamburguesa",
          "Ensaladas",
          "Dulce",
          "Pollo",
          "Hamburguesa",
          "Hamburguesa",
          "Tienda",
          "Tienda",
          "India",
          "Hamburguesa",
          "Hamburguesa",
          "Pizza",
          "Pizza",
          "Hamburguesa",
          "Hamburguesa",
          "Mediterránea",
          "Empanada",
          "Tienda",
          "Empanada",
          "Mediterránea",
          "India",
          "India",
          "Pollo",
          "Carne",
          "Hamburguesa",
          "Kebab",
          "China",
          "Hamburguesa",
          "Kebab",
          "Poke",
          "Pollo",
          "Hamburguesa",
          "Hamburguesa",
          "Pizza",
          "Pollo",
          "India",
          "Pizza",
          "Pizza",
          "Pizza",
          "Gourmet",
          "Pizza",
          "Mediterránea",
          "Hamburguesa",
          "Pollo",
          "SouthAmerica",
          "Hamburguesa",
          "Mediterránea",
          "Pollo",
          "Carne",
          "Asiática",
          "Pizza",
          "Hamburguesa",
          "Pollo",
          "Pizza",
          "Asiática",
          "Carne",
          "Empanada",
          "Mediterránea",
          "SouthAmerica",
          "SouthAmerica",
          "Pollo",
          "Hamburguesa",
          "Pizza",
          "India",
          "Hamburguesa",
          "Hamburguesa",
          "Pollo",
          "Tienda",
          "Hamburguesa",
          "Pizza",
          "Hamburguesa",
          "Poke",
          "Pollo",
          "Pollo",
          "Tienda",
          "Tienda",
          "SouthAmerica",
          "China",
          "Hamburguesa",
          "Empanada",
          "Dulce",
          "SouthAmerica",
          "Empanada",
          "Empanada",
          "Kebab",
          "Dulce",
          "Kebab",
          "Kebab",
          "Kebab",
          "India",
          "Pizza",
          "Gourmet",
          "Pizza",
          "Gourmet",
          "Pizza",
          "Hamburguesa",
          "Empanada",
          "SouthAmerica",
          "SouthAmerica",
          "Mediterránea",
          "Pollo",
          "Hamburguesa",
          "Pizza",
          "Asiática",
          "Pizza",
          "Pizza",
          "Carne",
          "Carne",
          "Pollo",
          "Pollo",
          "Asiática",
          "Hamburguesa",
          "SouthAmerica",
          "Hamburguesa",
          "Pollo",
          "Pollo",
          "Pollo",
          "Mediterránea",
          "Tienda",
          "Tienda",
          "Hamburguesa",
          "Hamburguesa",
          "Hamburguesa",
          "SouthAmerica",
          "Pizza",
          "Pollo",
          "Pollo",
          "Poke",
          "SouthAmerica",
          "Hamburguesa",
          "Tienda",
          "Empanada",
          "Kebab",
          "Comida rápida",
          "Empanada",
          "Comida rápida",
          "Asiática",
          "Kebab",
          "SouthAmerica",
          "Tienda",
          "Kebab",
          "Asiática",
          "Pizza",
          "India",
          "Gourmet",
          "Pollo",
          "Pizza",
          "Mediterránea",
          "Pizza",
          "Pizza",
          "Pizza",
          "Pollo",
          "Pizza",
          "Pollo",
          "Pizza",
          "Empanada",
          "Gourmet",
          "Pollo",
          "China",
          "SouthAmerica",
          "Tienda",
          "Pizza",
          "Hamburguesa",
          "Pollo",
          "Comida rápida",
          "Pizza",
          "Mediterránea",
          "Pollo",
          "Hamburguesa",
          "Pollo",
          "Carne",
          "Pizza",
          "Kebab",
          "Asiática",
          "Hamburguesa",
          "Empanada",
          "Tienda",
          "Mediterránea",
          "Pizza",
          "Carne",
          "Hamburguesa",
          "Pollo",
          "SouthAmerica",
          "Tienda",
          "Asiática",
          "India",
          "Hamburguesa",
          "Hamburguesa",
          "India",
          "SouthAmerica",
          "Asiática",
          "Hamburguesa",
          "India",
          "SouthAmerica",
          "Dulce",
          "Pollo",
          "Pollo",
          "India",
          "Hamburguesa",
          "Pizza",
          "Gourmet",
          "Pizza",
          "Hamburguesa",
          "Gourmet",
          "Pollo",
          "Pizza",
          "Carne",
          "Pizza",
          "Pollo",
          "Hamburguesa",
          "Mediterránea",
          "Comida rápida",
          "SouthAmerica",
          "Pollo",
          "Tienda",
          "Pollo",
          "Hamburguesa",
          "Empanada",
          "Pollo",
          "Carne",
          "Pollo",
          "Pizza",
          "Tienda",
          "Pollo",
          "Comida rápida",
          "SouthAmerica",
          "Tienda",
          "Comida rápida",
          "Poke",
          "Kebab",
          "Dulce",
          "Comida rápida",
          "Comida rápida",
          "Kebab",
          "Kebab",
          "SouthAmerica",
          "China",
          "Asiática",
          "Hamburguesa",
          "Dulce",
          "Pizza",
          "Comida rápida",
          "Mediterránea",
          "Dulce",
          "SouthAmerica",
          "Pollo",
          "Comida rápida",
          "Empanada",
          "Empanada",
          "Hamburguesa",
          "Comida rápida",
          "India",
          "Gourmet",
          "Pizza",
          "Pollo",
          "Hamburguesa",
          "Hamburguesa",
          "Gourmet",
          "Pollo",
          "Pizza",
          "Hamburguesa",
          "Mediterránea",
          "SouthAmerica",
          "Pizza",
          "Kebab",
          "Pizza",
          "Pollo",
          "Kebab",
          "Mediterránea",
          "Pizza",
          "SouthAmerica",
          "Pizza",
          "Dulce",
          "India",
          "Kebab",
          "Kebab",
          "Kebab",
          "Kebab",
          "Mediterránea",
          "Pizza",
          "Hamburguesa",
          "Hamburguesa",
          "Dulce",
          "SouthAmerica",
          "Mediterránea",
          "Pizza",
          "Asiática",
          "Hamburguesa",
          "Pizza",
          "Carne",
          "Dulce",
          "Pollo",
          "Pollo",
          "Pizza",
          "Pizza",
          "Tienda",
          "Tienda",
          "Pizza",
          "China",
          "China",
          "Pizza",
          "Hamburguesa",
          "Hamburguesa",
          "Tienda",
          "Hamburguesa",
          "Pollo",
          "Pizza",
          "Pollo",
          "Mediterránea",
          "Pizza",
          "Pollo",
          "Hamburguesa",
          "Empanada",
          "Pizza",
          "Pizza",
          "Pizza",
          "Mediterránea",
          "Pizza",
          "Pizza",
          "Kebab",
          "Kebab",
          "Kebab",
          "Kebab",
          "Ensaladas",
          "Pizza",
          "Hamburguesa",
          "SouthAmerica",
          "Gourmet",
          "Mediterránea",
          "Pizza",
          "Asiática",
          "SouthAmerica",
          "Burritos",
          "Pizza",
          "Poke",
          "Carne",
          "Ensaladas",
          "Pollo",
          "Pollo",
          "SouthAmerica",
          "Pollo",
          "SouthAmerica",
          "Kebab",
          "Pizza",
          "Comida rápida",
          "China",
          "SouthAmerica",
          "Pizza",
          "SouthAmerica",
          "Pollo",
          "Mediterránea",
          "China",
          "Burritos",
          "Hamburguesa",
          "Hamburguesa",
          "Comida rápida",
          "Mediterránea",
          "Kebab",
          "Pollo",
          "Hamburguesa",
          "Pollo",
          "Empanada",
          "Kebab",
          "Pizza",
          "Mediterránea",
          "Poke",
          "Poke",
          "Kebab",
          "Pollo",
          "Kebab",
          "Kebab",
          "Pollo",
          "Carne",
          "Pizza",
          "India",
          "Asiática",
          "Comida rápida",
          "SouthAmerica",
          "SouthAmerica",
          "Burritos",
          "Mediterránea",
          "SouthAmerica",
          "Hamburguesa",
          "Gourmet",
          "Asiática",
          "Asiática",
          "SouthAmerica",
          "Burritos",
          "Carne",
          "Tienda",
          "Poke",
          "Ensaladas",
          "Carne",
          "Kebab",
          "SouthAmerica",
          "Mediterránea",
          "Pizza",
          "Pizza",
          "SouthAmerica",
          "Pollo",
          "Pizza",
          "Pizza",
          "Pizza",
          "Pollo",
          "Pizza",
          "China",
          "Pollo",
          "Burritos",
          "Pizza",
          "SouthAmerica",
          "Comida rápida",
          "Hamburguesa",
          "Hamburguesa",
          "Empanada",
          "Mediterránea",
          "Carne",
          "Pollo",
          "Kebab",
          "Hamburguesa",
          "SouthAmerica",
          "Poke",
          "Kebab",
          "Poke",
          "Mediterránea",
          "Kebab",
          "Kebab",
          "Pollo",
          "Kebab",
          "Comida rápida",
          "Pizza",
          "Pizza",
          "Pizza",
          "India",
          "China",
          "Asiática",
          "Empanada",
          "Comida rápida",
          "Hamburguesa",
          "SouthAmerica",
          "SouthAmerica",
          "Burritos",
          "Dulce",
          "SouthAmerica",
          "Asiática",
          "China",
          "Gourmet",
          "Asiática",
          "Comida rápida",
          "Burritos",
          "Carne",
          "Hamburguesa",
          "Asiática",
          "Kebab",
          "Mediterránea",
          "Pizza",
          "Pizza",
          "Pizza",
          "Pizza",
          "China",
          "Burritos",
          "Pizza",
          "SouthAmerica",
          "China",
          "Burritos",
          "Empanada",
          "Empanada",
          "Pollo",
          "Pizza",
          "Mediterránea",
          "Hamburguesa",
          "Pollo",
          "Pollo",
          "SouthAmerica",
          "Comida rápida",
          "Carne",
          "SouthAmerica",
          "Hamburguesa",
          "Mediterránea",
          "SouthAmerica",
          "Hamburguesa",
          "Ensaladas",
          "Hamburguesa",
          "Tienda",
          "Hamburguesa",
          "Dulce",
          "Tienda",
          "China",
          "Tienda",
          "Empanada",
          "Dulce",
          "Pollo",
          "Dulce",
          "Ensaladas",
          "Dulce",
          "Hamburguesa",
          "Kebab",
          "Mediterránea",
          "Kebab",
          "Dulce",
          "Empanada",
          "Poke",
          "Kebab",
          "Kebab",
          "Mediterránea",
          "Dulce",
          "Kebab",
          "Pizza",
          "Hamburguesa",
          "Hamburguesa"
         ],
         "xaxis": "x",
         "y": [
          "Badsha India Restaurant",
          "TUTTO PASTA!",
          "Pizza Central",
          "Scarlett Real Food",
          "La Tagliatella",
          "Fritz Foods",
          "Pizzart Luchana",
          "Kahuna",
          "Wacamole",
          "El Imperio de la Empanada",
          "Roost Chicken",
          "Popeyes",
          "Papa John's",
          "Comida china yonghe",
          "Taco Bell",
          "KFC - Principe Pio",
          "EL LATÓN GRIS",
          "TAMCOC",
          "Chinawokexpress",
          "La Alegría de la Huerta",
          "Empanadas BAIRES",
          "Domino's",
          "Cor & Cor",
          "Tiendas 7x24",
          "Super naan",
          "Super Dog",
          "Steak Burger",
          "Galipan",
          "El Turkito",
          "Arepish",
          "CONVEXO",
          "Mandela 100",
          "MY Pasta Room",
          "Ristorante Pizzería Dante",
          "Trek Taco",
          "MILA TOWN",
          "Pollo Criollo",
          "Gourmet Madrid",
          "Freedom Pizza",
          "La Cochinita Loca",
          "Sonali Indian Restaurante",
          "SANABRIA",
          "Taberna La Buha",
          "Real Fried Chicken",
          "Pollos a la brasa el Corral",
          "Las Muns",
          "Chocolateria Tacita de Plata",
          "TGB",
          "Mr. Pizza Madrid",
          "McDonald's",
          "Puccias Chueca",
          "Beiben",
          "La Bruja del Vesuvio",
          "Cerveceria Riaño",
          "Badsha India Restaurant",
          "TUTTO PASTA!",
          "Pizza Central",
          "Ristorante Pizzería Dante",
          "Papa John's",
          "Domino's",
          "Fritz Foods",
          "Kahuna",
          "Taco Bell",
          "Hamburguesa Nostra",
          "La Tagliatella",
          "Arepish",
          "McDonald's",
          "Precio Calidad y sabor",
          "TAMCOC",
          "Chinawokexpress",
          "Super Dog",
          "Autoservicio",
          "Perla del Pacifico",
          "TROPICALISSIMA",
          "Beiben",
          "Streat Lab",
          "Popeyes",
          "On Rush",
          "El Sabroso Albufera",
          "Pizzería Argentina El Trébol",
          "La Alegría de la Huerta",
          "EL LATÓN GRIS",
          "Mandela 100",
          "La Cochinita Loca",
          "Pollo Rico Al carbón",
          "Pollos a la brasa el Corral",
          "Empanadas Malvón",
          "El Turkito",
          "Galipan",
          "Steak Burger",
          "Pollo Criollo",
          "Empanadas BAIRES",
          "Super naan",
          "Sonali Indian Restaurante",
          "Cor & Cor",
          "Puccias Chueca",
          "Aloha Poke",
          "Capasso Pizza",
          "Shapla Indian",
          "Pura Italia",
          "Pollo Criollo",
          "Taberna La Buha",
          "El Buen Gusto",
          "La Pizza é Bella",
          "Las Muns",
          "Halal Steak House Grill",
          "Home Burger Bar",
          "LaRegustosa",
          "TUTTO PASTA!",
          "Scarlett Real Food",
          "Comida china yonghe",
          "Ristorante Pizzería Dante",
          "Papa John's",
          "Domino's",
          "Pizzería Argentina El Trébol",
          "Comida china yonghe",
          "Chinawokexpress",
          "Streat Lab",
          "Super Dog",
          "On Rush",
          "El Sabroso Albufera",
          "Arepish",
          "Pizz-a-porter",
          "TAMCOC",
          "Pastamore",
          "Ristorante Pizzería Dante",
          "Empanadas BAIRES",
          "SANABRIA",
          "La Alegría de la Huerta",
          "Pollos a la brasa el Corral",
          "Empanadas Malvón",
          "Steak Burger",
          "Bur Burger",
          "Empanadas BAIRES",
          "Galipan",
          "El Turkito",
          "Beiben",
          "Mandela 100",
          "Sonali Indian Restaurante",
          "Popeyes",
          "La Cochinita Loca",
          "PaellaGood",
          "DIVE`S FOOD",
          "100 % Sano",
          "Puccias Chueca",
          "Rude Burger",
          "Cor & Cor",
          "McDonald's",
          "Thai Zafra",
          "El Buen Gusto",
          "Kebab Rayo",
          "Capasso Pizza",
          "Shapla Indian",
          "Home Burger Bar",
          "Empanadas Pampas",
          "TGB",
          "Bosforos Turkish Restaurant",
          "Halal Steak House Grill",
          "Mad Pollo",
          "Mahalo Poke",
          "Kebab Entrevias",
          "Moñetes",
          "TUTTO PASTA!",
          "La Tagliatella",
          "Scarlett Real Food",
          "La Cuchara",
          "Papa John's",
          "Taco Bell",
          "Scarlett Real Food",
          "Pizzería Argentina El Trébol",
          "Empanadas Malvón",
          "Pizzart Luchana",
          "Pastamore",
          "Roost Chicken",
          "Taco Bell",
          "Chinawokexpress",
          "El Burrito Borracho",
          "Arepish",
          "Little Caesars Pizza",
          "Empanadas BAIRES",
          "SANABRIA",
          "Rude Burger",
          "100 % Sano",
          "Cor & Cor",
          "Popeyes",
          "Home Burger Bar",
          "Artisan Burger",
          "Thai Zafra",
          "Tiendas 7x24",
          "Makan Saj Manoushe",
          "DIVE`S FOOD",
          "Flame",
          "Freedom Pizza",
          "MY Pasta Room",
          "Steak Burger",
          "McDonald's",
          "PaellaGood",
          "Empanadas BAIRES",
          "Tiendas 7x24",
          "Empanadas Pampas",
          "Croqueteria Focos",
          "Galipan",
          "Super naan",
          "Pollos Gourmet",
          "Asador Perla del Pacifico Ascao",
          "Puccias Chueca",
          "Graal",
          "Restaurante Chino Diamante",
          "Junk Burger",
          "Esmirna Doner Kebap",
          "Aloha Poke",
          "CHUCK CHUCK CHICKEN",
          "TGB",
          "VIPS",
          "Capasso Pizza",
          "HyH Kebab Fried Chicken",
          "Badsha India Restaurant",
          "TUTTO PASTA!",
          "La Tagliatella",
          "Papa John's",
          "La Cuchara",
          "Papa John's",
          "Taberna Andaluza",
          "Taco Bell",
          "Roost Chicken",
          "La Mordida",
          "Home Burger Bar",
          "La cabaña de cris",
          "Pollos al Carbón",
          "Limbo Player Two",
          "Ala Sushi",
          "Little Caesars Pizza",
          "Toro Burger Lounge",
          "Popeyes",
          "MANKA",
          "Yakitoro",
          "EL ASADOR",
          "Empanadas Malvón",
          "Taberna del Volapié",
          "Arepish",
          "Arepish",
          "Fast chicken chain",
          "McDonald's",
          "Pizza Central",
          "Makan Saj Manoushe",
          "Flame",
          "Busburguer",
          "Polloco Gourmet",
          "Tiendas 7x24",
          "Artisan Burger",
          "Pomodoro",
          "Junk Burger",
          "Aloha Poke",
          "Mad Pollo",
          "CHUCK CHUCK CHICKEN",
          "Pasteleria Saul",
          "Galp",
          "Chili House🌶",
          "Restaurante Chino Diamante",
          "Foster's Hollywood",
          "Empanadas BAIRES",
          "Golat Helados",
          "Pic & Nic",
          "Frambons",
          "Empanadas BAIRES",
          "Doner kebap efes",
          "Crepes & Waffles",
          "Doner kebap efes",
          "Sultán kebab",
          "Great Kebab",
          "Badsha India Restaurant",
          "TUTTO PASTA!",
          "Comida de Pueblo",
          "La Tagliatella",
          "La Cuchara",
          "La Tagliatella",
          "Taco Bell",
          "Empanadas Malvón",
          "La Mordida",
          "Express 88",
          "La cabaña de cris",
          "Pollos al Carbón",
          "Toro Burger Lounge",
          "Pizzería El Trébol 24h",
          "Ala Sushi",
          "MANKA",
          "Little Caesars Pizza",
          "EL ASADOR",
          "Limbo Player Two",
          "Popeyes",
          "Fast chicken chain",
          "Yakitoro",
          "Home Burger Bar",
          "Arepish",
          "TGB",
          "Real Fried Chicken",
          "Pollo Criollo",
          "Polloco Gourmet",
          "Taberna del Volapié",
          "Cerveceria Riaño",
          "Galp",
          "McDonald's",
          "Busburguer",
          "Junk Burger",
          "Chili House🌶",
          "Pomodoro",
          "Tosty",
          "Mad Pollo",
          "Aloha Poke",
          "Pic & Nic",
          "Foster's Hollywood",
          "Taste of America",
          "Empanadas BAIRES",
          "Sultán kebab",
          "Astros",
          "Empanadas BAIRES",
          "Cherry Pecas",
          "Pops ´n Bops",
          "Great Kebab",
          "Real Estambul Pizza, Doner y Kebab",
          "Willy Factory",
          "Kebab Rico Rico",
          "Oriental Palace",
          "Pizzeria Nuns",
          "Badsha India Restaurant",
          "Comida de Pueblo",
          "Roost Chicken",
          "Papa John's",
          "Taberna Andaluza",
          "La Tagliatella",
          "La Tagliatella",
          "Papa John's",
          "Roost Chicken",
          "Fritz Foods",
          "Roost Chicken",
          "Pizzería El Trébol 24h",
          "El Imperio de la Empanada",
          "CONVEXO",
          "Real Fried Chicken",
          "Chinawokexpress",
          "La Mordida",
          "Tiendas 7x24",
          "Little Caesars Pizza",
          "Super Dog",
          "Pollos al Carbón",
          "La Bruja del Vesuvio",
          "Freedom Pizza",
          "La cabaña de cris",
          "KFC - Principe Pio",
          "Toro Burger Lounge",
          "EL LATÓN GRIS",
          "EL ASADOR",
          "MANKA",
          "Graal",
          "Ala Sushi",
          "Home Burger Bar",
          "Empanadas Malvón",
          "Tiendas 7x24",
          "SANABRIA",
          "MY Pasta Room",
          "Limbo Player Two",
          "Junk Burger",
          "Popeyes",
          "Arepish",
          "Cerveceria Riaño",
          "Yakitoro",
          "Super naan",
          "Steak Burger",
          "MILA TOWN",
          "Galipan",
          "Trek Taco",
          "El Turkito",
          "Artisan Burger",
          "Makan Saj Manoushe",
          "Arepish",
          "Cor & Cor",
          "Tosty",
          "Fast chicken chain",
          "Badsha India Restaurant",
          "Taco Bell",
          "TUTTO PASTA!",
          "Comida de Pueblo",
          "Pizzart Luchana",
          "Taco Bell",
          "CONVEXO",
          "Pollos al Carbón",
          "Little Caesars Pizza",
          "EL ASADOR",
          "MANKA",
          "Real Fried Chicken",
          "Toro Burger Lounge",
          "La cabaña de cris",
          "La Bruja del Vesuvio",
          "Arepish",
          "Popeyes",
          "Cerveceria Riaño",
          "Fast chicken chain",
          "Home Burger Bar",
          "Empanadas Malvón",
          "Tosty",
          "Red Roo Australian Restaurant",
          "Polloco Gourmet",
          "Pomodoro",
          "Tiendas 7x24",
          "Mad Pollo",
          "El trébol empanadas",
          "Pic & Nic",
          "Taste of America",
          "Astros",
          "Aloha Poke",
          "Doner kebap efes",
          "Starbucks",
          "Cherry Pecas",
          "Basically Just Burrito Bowls",
          "Sultán kebab",
          "Great Kebab",
          "Real Estambul Pizza, Doner y Kebab",
          "Pops ´n Bops",
          "Oriental Palace",
          "Shawarma palace",
          "Jimbo Smokehouse",
          "Napoli Gang by Bel Mondo",
          "Soda Bar",
          "Danny’s Jazz",
          "Ferreiro",
          "TeKeS",
          "Toropikaru Sushi",
          "NUBO Rolls",
          "DITALY",
          "Empanadas BAIRES",
          "Massburg",
          "Nola Smoke",
          "Badsha India Restaurant",
          "Comida de Pueblo",
          "Papa John's",
          "Roost Chicken",
          "McDonald's",
          "Taco Bell",
          "CONVEXO",
          "Pollos al Carbón",
          "Little Caesars Pizza",
          "McDonald's",
          "Beiben",
          "La Cochinita Loca",
          "Pasta con todo 🍝",
          "Latin kebab",
          "Pura Italia",
          "Pollo Criollo",
          "Maha Kebab",
          "Taberna La Buha",
          "Pizza Mirasierra",
          "Pic & Nic",
          "Pizz-a-porter",
          "Tabaxo - Don Pedro",
          "Taberna Piedra Pinta",
          "Dinos Bar Kebab",
          "Gran Oporto Kebab",
          "GALAXY KEBAB",
          "Bar y Kebab La Parada",
          "Éccolo",
          "Malacatin",
          "Le Crust",
          "Toro Burger Lounge",
          "Cor & Cor",
          "Arepa Mix",
          "Bocadillos Ole",
          "IGo Pasta",
          "Yokaloka",
          "Burger Las Vegas",
          "Alice Pizza",
          "Herbívoro",
          "La Manousheria",
          "Popizza",
          "Asador de Pollos",
          "Papa John's",
          "TUTTO PASTA!",
          "Restaurante Sabor K-Tracho",
          "Autoservicio",
          "Little Caesars Pizza",
          "Comida china yonghe",
          "Chinawokexpress",
          "Papa John's",
          "TROPICALISSIMA",
          "Super Dog",
          "Autoservicio",
          "Burger 123",
          "Pollo Rico Al carbón",
          "Ristorante Pizzería Dante",
          "Pollos a la brasa el Corral",
          "Beiben",
          "Pasta con todo 🍝",
          "Pollo Criollo",
          "McDonald's",
          "Empanadas Malvón",
          "Pizza Mirasierra",
          "Pura Italia",
          "Aqua, Farina e Forno",
          "El Buen Gusto",
          "Pizz-a-porter",
          "La Pizza é Bella",
          "Kebab Nemrut",
          "Dinos Bar Kebab",
          "GALAXY KEBAB",
          "Gran Oporto Kebab",
          "Ramen Kagura",
          "RAVIOLUZIONE",
          "Le Crust",
          "Arepa Mix",
          "Llaollao",
          "Bocadillos Ole",
          "IGo Pasta",
          "Yokaloka",
          "Cantina Canalla",
          "Órale burrito",
          "Alice Pizza",
          "Tasty Poke",
          "Herbívoro",
          "Abaco Taberna",
          "Sésamo",
          "Asador de Pollos",
          "Mac2Pic2",
          "Asador de Pollos",
          "Cheff oriental",
          "Kaleka Poke",
          "Pizzeria Roberto",
          "Pui's Thai tapas",
          "Comida China Feliz",
          "Merecumbe",
          "TUTTO PASTA!",
          "Perla del Pacifico",
          "Restaurante Sabor K-Tracho",
          "Precio Calidad y sabor",
          "Chinawokexpress",
          "On Rush",
          "Super Dog",
          "Bur Burger",
          "El Sabroso Albufera",
          "Precio Calidad y sabor",
          "Kebab Rayo",
          "Pollos a la brasa el Corral",
          "McDonald's",
          "Popeyes",
          "Empanadas Malvón",
          "Kebab Entrevias",
          "Pura Italia",
          "El Buen Gusto",
          "Poke Ukelele",
          "Mahalo Poke",
          "Ankara Doner Kebab",
          "Shaurma House",
          "Istanbul Kebab Madrid",
          "Kebab Vallecano",
          "Star Kebab Pollo Asado",
          "Entrecarbón",
          "Pizzamarket",
          "Twin Pizza Mediterráneo",
          "Panda Sushi",
          "Acqua in Bocca",
          "Arepa Mix",
          "THE SCHNITZEL BOSS",
          "Frida Burritos",
          "Bocadillos Ole",
          "Ceviches Marakaza",
          "Burger Town",
          "Comida Fusión",
          "SUKAO FOOD FUSION",
          "Yokaloka",
          "Cantina Canalla",
          "BURRITOS & TACOS",
          "Asador Delicasa",
          "Waiwai Fusion Poke Atocha",
          "Tasty Poke",
          "Don Tortilla",
          "Herbívoro",
          "Kebab Turca",
          "Mac2Pic2",
          "Ateshgah Albufera",
          "Superbestia",
          "Pizzeria Roberto",
          "Merecumbe",
          "Mr Patata",
          "Dragón",
          "TUTTO PASTA!",
          "Papa John's",
          "Streat Lab",
          "Pizz-a-porter",
          "Chinawokexpress",
          "Streat Lab",
          "On Rush",
          "Pizz-a-porter",
          "Perla del Pacifico",
          "El Sabroso Albufera",
          "McDonald's",
          "Bur Burger",
          "Empanadas BAIRES",
          "Croqueteria Focos",
          "Asador Perla del Pacifico Ascao",
          "Popeyes",
          "Kebab Rayo",
          "DIVE`S FOOD",
          "Pic & Nic",
          "Poke Ukelele",
          "Kebab moratalaz",
          "Mahalo Poke",
          "Bar el castaño",
          "Ankara Doner Kebab",
          "Istanbul Kebab Madrid",
          "Star Kebab Pollo Asado",
          "Kebab Vallecano",
          "Da Yuan",
          "Pizzamarket",
          "Tennessee BBQ",
          "Napoli Gang by Bel Mondo",
          "Twin Pizza Mediterráneo",
          "Mother india",
          "Panda Sushi",
          "Clásico Argentino 🇦🇷",
          "Acqua in Bocca",
          "Happy Burger",
          "Arepa Mix",
          "THE SCHNITZEL BOSS",
          "Frida Burritos",
          "Veg&Bite",
          "Ceviches Marakaza",
          "Sushi Not Sorry",
          "Nagasaki Sushi Retiro",
          "Comida Fusión",
          "SUKAO FOOD FUSION",
          "Nola Smoke",
          "BURRITOS & TACOS",
          "Asador Delicasa",
          "TGB",
          "Ágora Torrejón",
          "Kebab Turca",
          "Ateshgah Albufera",
          "Superbestia",
          "TUTTO PASTA!",
          "Papa John's",
          "Pizzería Argentina El Trébol",
          "Chinawokexpress",
          "El Burrito Borracho",
          "Pizzería Argentina El Trébol",
          "Perla del Pacifico",
          "Chinawokexpress",
          "El Burrito Borracho",
          "Empanadas Malvón",
          "Empanadas BAIRES",
          "Popeyes",
          "Pastamore",
          "Croqueteria Focos",
          "Home Burger Bar",
          "HyH Kebab Fried Chicken",
          "Pollos Gourmet",
          "Arepish",
          "Ichibanya",
          "Asador Perla del Pacifico Ascao",
          "Pic & Nic",
          "DIVE`S FOOD",
          "PaellaGood",
          "Pa Picar",
          "Rude Burger",
          "100 % Sano",
          "McDonald's",
          "Thai Zafra",
          "Flame",
          "Cor & Cor",
          "Tiendas 7x24",
          "Restaurante Chino Diamante",
          "Tienduki",
          "Empanadas Pampas",
          "Make doner",
          "CHUCK CHUCK CHICKEN",
          "El Nuevo Yantar",
          "Tim Hortons",
          "Pasteleria Saul",
          "Foster's Hollywood",
          "Kebab Bosforos",
          "Bar el castaño",
          "Esmirna Doner Kebap",
          "Golat Helados",
          "Frambons",
          "Mahalo Poke",
          "Doner kebap efes",
          "Doner kebap efes",
          "100 Montaditos",
          "CHOCOLATES VALOR",
          "Sumo Grill",
          "Da Yuan",
          "Filippo Pizza",
          "Tennessee BBQ"
         ],
         "yaxis": "y"
        }
       ],
       "layout": {
        "barmode": "relative",
        "legend": {
         "tracegroupgap": 0
        },
        "margin": {
         "t": 60
        },
        "template": {
         "data": {
          "bar": [
           {
            "error_x": {
             "color": "#2a3f5f"
            },
            "error_y": {
             "color": "#2a3f5f"
            },
            "marker": {
             "line": {
              "color": "#E5ECF6",
              "width": 0.5
             },
             "pattern": {
              "fillmode": "overlay",
              "size": 10,
              "solidity": 0.2
             }
            },
            "type": "bar"
           }
          ],
          "barpolar": [
           {
            "marker": {
             "line": {
              "color": "#E5ECF6",
              "width": 0.5
             },
             "pattern": {
              "fillmode": "overlay",
              "size": 10,
              "solidity": 0.2
             }
            },
            "type": "barpolar"
           }
          ],
          "carpet": [
           {
            "aaxis": {
             "endlinecolor": "#2a3f5f",
             "gridcolor": "white",
             "linecolor": "white",
             "minorgridcolor": "white",
             "startlinecolor": "#2a3f5f"
            },
            "baxis": {
             "endlinecolor": "#2a3f5f",
             "gridcolor": "white",
             "linecolor": "white",
             "minorgridcolor": "white",
             "startlinecolor": "#2a3f5f"
            },
            "type": "carpet"
           }
          ],
          "choropleth": [
           {
            "colorbar": {
             "outlinewidth": 0,
             "ticks": ""
            },
            "type": "choropleth"
           }
          ],
          "contour": [
           {
            "colorbar": {
             "outlinewidth": 0,
             "ticks": ""
            },
            "colorscale": [
             [
              0,
              "#0d0887"
             ],
             [
              0.1111111111111111,
              "#46039f"
             ],
             [
              0.2222222222222222,
              "#7201a8"
             ],
             [
              0.3333333333333333,
              "#9c179e"
             ],
             [
              0.4444444444444444,
              "#bd3786"
             ],
             [
              0.5555555555555556,
              "#d8576b"
             ],
             [
              0.6666666666666666,
              "#ed7953"
             ],
             [
              0.7777777777777778,
              "#fb9f3a"
             ],
             [
              0.8888888888888888,
              "#fdca26"
             ],
             [
              1,
              "#f0f921"
             ]
            ],
            "type": "contour"
           }
          ],
          "contourcarpet": [
           {
            "colorbar": {
             "outlinewidth": 0,
             "ticks": ""
            },
            "type": "contourcarpet"
           }
          ],
          "heatmap": [
           {
            "colorbar": {
             "outlinewidth": 0,
             "ticks": ""
            },
            "colorscale": [
             [
              0,
              "#0d0887"
             ],
             [
              0.1111111111111111,
              "#46039f"
             ],
             [
              0.2222222222222222,
              "#7201a8"
             ],
             [
              0.3333333333333333,
              "#9c179e"
             ],
             [
              0.4444444444444444,
              "#bd3786"
             ],
             [
              0.5555555555555556,
              "#d8576b"
             ],
             [
              0.6666666666666666,
              "#ed7953"
             ],
             [
              0.7777777777777778,
              "#fb9f3a"
             ],
             [
              0.8888888888888888,
              "#fdca26"
             ],
             [
              1,
              "#f0f921"
             ]
            ],
            "type": "heatmap"
           }
          ],
          "heatmapgl": [
           {
            "colorbar": {
             "outlinewidth": 0,
             "ticks": ""
            },
            "colorscale": [
             [
              0,
              "#0d0887"
             ],
             [
              0.1111111111111111,
              "#46039f"
             ],
             [
              0.2222222222222222,
              "#7201a8"
             ],
             [
              0.3333333333333333,
              "#9c179e"
             ],
             [
              0.4444444444444444,
              "#bd3786"
             ],
             [
              0.5555555555555556,
              "#d8576b"
             ],
             [
              0.6666666666666666,
              "#ed7953"
             ],
             [
              0.7777777777777778,
              "#fb9f3a"
             ],
             [
              0.8888888888888888,
              "#fdca26"
             ],
             [
              1,
              "#f0f921"
             ]
            ],
            "type": "heatmapgl"
           }
          ],
          "histogram": [
           {
            "marker": {
             "pattern": {
              "fillmode": "overlay",
              "size": 10,
              "solidity": 0.2
             }
            },
            "type": "histogram"
           }
          ],
          "histogram2d": [
           {
            "colorbar": {
             "outlinewidth": 0,
             "ticks": ""
            },
            "colorscale": [
             [
              0,
              "#0d0887"
             ],
             [
              0.1111111111111111,
              "#46039f"
             ],
             [
              0.2222222222222222,
              "#7201a8"
             ],
             [
              0.3333333333333333,
              "#9c179e"
             ],
             [
              0.4444444444444444,
              "#bd3786"
             ],
             [
              0.5555555555555556,
              "#d8576b"
             ],
             [
              0.6666666666666666,
              "#ed7953"
             ],
             [
              0.7777777777777778,
              "#fb9f3a"
             ],
             [
              0.8888888888888888,
              "#fdca26"
             ],
             [
              1,
              "#f0f921"
             ]
            ],
            "type": "histogram2d"
           }
          ],
          "histogram2dcontour": [
           {
            "colorbar": {
             "outlinewidth": 0,
             "ticks": ""
            },
            "colorscale": [
             [
              0,
              "#0d0887"
             ],
             [
              0.1111111111111111,
              "#46039f"
             ],
             [
              0.2222222222222222,
              "#7201a8"
             ],
             [
              0.3333333333333333,
              "#9c179e"
             ],
             [
              0.4444444444444444,
              "#bd3786"
             ],
             [
              0.5555555555555556,
              "#d8576b"
             ],
             [
              0.6666666666666666,
              "#ed7953"
             ],
             [
              0.7777777777777778,
              "#fb9f3a"
             ],
             [
              0.8888888888888888,
              "#fdca26"
             ],
             [
              1,
              "#f0f921"
             ]
            ],
            "type": "histogram2dcontour"
           }
          ],
          "mesh3d": [
           {
            "colorbar": {
             "outlinewidth": 0,
             "ticks": ""
            },
            "type": "mesh3d"
           }
          ],
          "parcoords": [
           {
            "line": {
             "colorbar": {
              "outlinewidth": 0,
              "ticks": ""
             }
            },
            "type": "parcoords"
           }
          ],
          "pie": [
           {
            "automargin": true,
            "type": "pie"
           }
          ],
          "scatter": [
           {
            "marker": {
             "colorbar": {
              "outlinewidth": 0,
              "ticks": ""
             }
            },
            "type": "scatter"
           }
          ],
          "scatter3d": [
           {
            "line": {
             "colorbar": {
              "outlinewidth": 0,
              "ticks": ""
             }
            },
            "marker": {
             "colorbar": {
              "outlinewidth": 0,
              "ticks": ""
             }
            },
            "type": "scatter3d"
           }
          ],
          "scattercarpet": [
           {
            "marker": {
             "colorbar": {
              "outlinewidth": 0,
              "ticks": ""
             }
            },
            "type": "scattercarpet"
           }
          ],
          "scattergeo": [
           {
            "marker": {
             "colorbar": {
              "outlinewidth": 0,
              "ticks": ""
             }
            },
            "type": "scattergeo"
           }
          ],
          "scattergl": [
           {
            "marker": {
             "colorbar": {
              "outlinewidth": 0,
              "ticks": ""
             }
            },
            "type": "scattergl"
           }
          ],
          "scattermapbox": [
           {
            "marker": {
             "colorbar": {
              "outlinewidth": 0,
              "ticks": ""
             }
            },
            "type": "scattermapbox"
           }
          ],
          "scatterpolar": [
           {
            "marker": {
             "colorbar": {
              "outlinewidth": 0,
              "ticks": ""
             }
            },
            "type": "scatterpolar"
           }
          ],
          "scatterpolargl": [
           {
            "marker": {
             "colorbar": {
              "outlinewidth": 0,
              "ticks": ""
             }
            },
            "type": "scatterpolargl"
           }
          ],
          "scatterternary": [
           {
            "marker": {
             "colorbar": {
              "outlinewidth": 0,
              "ticks": ""
             }
            },
            "type": "scatterternary"
           }
          ],
          "surface": [
           {
            "colorbar": {
             "outlinewidth": 0,
             "ticks": ""
            },
            "colorscale": [
             [
              0,
              "#0d0887"
             ],
             [
              0.1111111111111111,
              "#46039f"
             ],
             [
              0.2222222222222222,
              "#7201a8"
             ],
             [
              0.3333333333333333,
              "#9c179e"
             ],
             [
              0.4444444444444444,
              "#bd3786"
             ],
             [
              0.5555555555555556,
              "#d8576b"
             ],
             [
              0.6666666666666666,
              "#ed7953"
             ],
             [
              0.7777777777777778,
              "#fb9f3a"
             ],
             [
              0.8888888888888888,
              "#fdca26"
             ],
             [
              1,
              "#f0f921"
             ]
            ],
            "type": "surface"
           }
          ],
          "table": [
           {
            "cells": {
             "fill": {
              "color": "#EBF0F8"
             },
             "line": {
              "color": "white"
             }
            },
            "header": {
             "fill": {
              "color": "#C8D4E3"
             },
             "line": {
              "color": "white"
             }
            },
            "type": "table"
           }
          ]
         },
         "layout": {
          "annotationdefaults": {
           "arrowcolor": "#2a3f5f",
           "arrowhead": 0,
           "arrowwidth": 1
          },
          "autotypenumbers": "strict",
          "coloraxis": {
           "colorbar": {
            "outlinewidth": 0,
            "ticks": ""
           }
          },
          "colorscale": {
           "diverging": [
            [
             0,
             "#8e0152"
            ],
            [
             0.1,
             "#c51b7d"
            ],
            [
             0.2,
             "#de77ae"
            ],
            [
             0.3,
             "#f1b6da"
            ],
            [
             0.4,
             "#fde0ef"
            ],
            [
             0.5,
             "#f7f7f7"
            ],
            [
             0.6,
             "#e6f5d0"
            ],
            [
             0.7,
             "#b8e186"
            ],
            [
             0.8,
             "#7fbc41"
            ],
            [
             0.9,
             "#4d9221"
            ],
            [
             1,
             "#276419"
            ]
           ],
           "sequential": [
            [
             0,
             "#0d0887"
            ],
            [
             0.1111111111111111,
             "#46039f"
            ],
            [
             0.2222222222222222,
             "#7201a8"
            ],
            [
             0.3333333333333333,
             "#9c179e"
            ],
            [
             0.4444444444444444,
             "#bd3786"
            ],
            [
             0.5555555555555556,
             "#d8576b"
            ],
            [
             0.6666666666666666,
             "#ed7953"
            ],
            [
             0.7777777777777778,
             "#fb9f3a"
            ],
            [
             0.8888888888888888,
             "#fdca26"
            ],
            [
             1,
             "#f0f921"
            ]
           ],
           "sequentialminus": [
            [
             0,
             "#0d0887"
            ],
            [
             0.1111111111111111,
             "#46039f"
            ],
            [
             0.2222222222222222,
             "#7201a8"
            ],
            [
             0.3333333333333333,
             "#9c179e"
            ],
            [
             0.4444444444444444,
             "#bd3786"
            ],
            [
             0.5555555555555556,
             "#d8576b"
            ],
            [
             0.6666666666666666,
             "#ed7953"
            ],
            [
             0.7777777777777778,
             "#fb9f3a"
            ],
            [
             0.8888888888888888,
             "#fdca26"
            ],
            [
             1,
             "#f0f921"
            ]
           ]
          },
          "colorway": [
           "#636efa",
           "#EF553B",
           "#00cc96",
           "#ab63fa",
           "#FFA15A",
           "#19d3f3",
           "#FF6692",
           "#B6E880",
           "#FF97FF",
           "#FECB52"
          ],
          "font": {
           "color": "#2a3f5f"
          },
          "geo": {
           "bgcolor": "white",
           "lakecolor": "white",
           "landcolor": "#E5ECF6",
           "showlakes": true,
           "showland": true,
           "subunitcolor": "white"
          },
          "hoverlabel": {
           "align": "left"
          },
          "hovermode": "closest",
          "mapbox": {
           "style": "light"
          },
          "paper_bgcolor": "white",
          "plot_bgcolor": "#E5ECF6",
          "polar": {
           "angularaxis": {
            "gridcolor": "white",
            "linecolor": "white",
            "ticks": ""
           },
           "bgcolor": "#E5ECF6",
           "radialaxis": {
            "gridcolor": "white",
            "linecolor": "white",
            "ticks": ""
           }
          },
          "scene": {
           "xaxis": {
            "backgroundcolor": "#E5ECF6",
            "gridcolor": "white",
            "gridwidth": 2,
            "linecolor": "white",
            "showbackground": true,
            "ticks": "",
            "zerolinecolor": "white"
           },
           "yaxis": {
            "backgroundcolor": "#E5ECF6",
            "gridcolor": "white",
            "gridwidth": 2,
            "linecolor": "white",
            "showbackground": true,
            "ticks": "",
            "zerolinecolor": "white"
           },
           "zaxis": {
            "backgroundcolor": "#E5ECF6",
            "gridcolor": "white",
            "gridwidth": 2,
            "linecolor": "white",
            "showbackground": true,
            "ticks": "",
            "zerolinecolor": "white"
           }
          },
          "shapedefaults": {
           "line": {
            "color": "#2a3f5f"
           }
          },
          "ternary": {
           "aaxis": {
            "gridcolor": "white",
            "linecolor": "white",
            "ticks": ""
           },
           "baxis": {
            "gridcolor": "white",
            "linecolor": "white",
            "ticks": ""
           },
           "bgcolor": "#E5ECF6",
           "caxis": {
            "gridcolor": "white",
            "linecolor": "white",
            "ticks": ""
           }
          },
          "title": {
           "x": 0.05
          },
          "xaxis": {
           "automargin": true,
           "gridcolor": "white",
           "linecolor": "white",
           "ticks": "",
           "title": {
            "standoff": 15
           },
           "zerolinecolor": "white",
           "zerolinewidth": 2
          },
          "yaxis": {
           "automargin": true,
           "gridcolor": "white",
           "linecolor": "white",
           "ticks": "",
           "title": {
            "standoff": 15
           },
           "zerolinecolor": "white",
           "zerolinewidth": 2
          }
         }
        },
        "xaxis": {
         "anchor": "y",
         "domain": [
          0,
          1
         ],
         "title": {
          "text": "Tag"
         }
        },
        "yaxis": {
         "anchor": "x",
         "domain": [
          0,
          1
         ],
         "title": {
          "text": "Restaurante"
         }
        }
       }
      },
      "text/html": [
       "<div>                            <div id=\"20509628-7dd4-4abb-82c6-0bbd5aa23344\" class=\"plotly-graph-div\" style=\"height:525px; width:100%;\"></div>            <script type=\"text/javascript\">                require([\"plotly\"], function(Plotly) {                    window.PLOTLYENV=window.PLOTLYENV || {};                                    if (document.getElementById(\"20509628-7dd4-4abb-82c6-0bbd5aa23344\")) {                    Plotly.newPlot(                        \"20509628-7dd4-4abb-82c6-0bbd5aa23344\",                        [{\"alignmentgroup\":\"True\",\"hovertemplate\":\"Tag=%{x}<br>Restaurante=%{y}<extra></extra>\",\"legendgroup\":\"\",\"marker\":{\"color\":\"#636efa\",\"pattern\":{\"shape\":\"\"}},\"name\":\"\",\"offsetgroup\":\"\",\"orientation\":\"v\",\"showlegend\":false,\"textposition\":\"auto\",\"type\":\"bar\",\"x\":[\"India\",\"Pizza\",\"Pizza\",\"Dulce\",\"Pizza\",\"Pizza\",\"Pizza\",\"Burritos\",\"SouthAmerica\",\"Empanada\",\"Pollo\",\"Pollo\",\"Pizza\",\"China\",\"Hamburguesa\",\"Pollo\",\"Pollo\",\"Pizza\",\"China\",\"Ensaladas\",\"Empanada\",\"Pizza\",\"Dulce\",\"Tienda\",\"India\",\"Hamburguesa\",\"Hamburguesa\",\"India\",\"Asi\\u00e1tica\",\"SouthAmerica\",\"Gourmet\",\"India\",\"Pizza\",\"Pizza\",\"SouthAmerica\",\"Hamburguesa\",\"Pollo\",\"Pizza\",\"Pizza\",\"SouthAmerica\",\"India\",\"Mediterr\\u00e1nea\",\"Mediterr\\u00e1nea\",\"Pollo\",\"Pollo\",\"Carne\",\"Dulce\",\"Hamburguesa\",\"Pizza\",\"Hamburguesa\",\"Hamburguesa\",\"Mediterr\\u00e1nea\",\"Comida r\\u00e1pida\",\"Tienda\",\"India\",\"Pizza\",\"Pizza\",\"Pizza\",\"Pizza\",\"Pizza\",\"Pizza\",\"Burritos\",\"Hamburguesa\",\"Dulce\",\"Pizza\",\"SouthAmerica\",\"Hamburguesa\",\"Mediterr\\u00e1nea\",\"Pizza\",\"China\",\"Hamburguesa\",\"Tienda\",\"SouthAmerica\",\"Hamburguesa\",\"Mediterr\\u00e1nea\",\"Pollo\",\"Pollo\",\"Burritos\",\"Comida r\\u00e1pida\",\"Pizza\",\"Ensaladas\",\"Pollo\",\"India\",\"SouthAmerica\",\"Pollo\",\"Pollo\",\"Empanada\",\"Asi\\u00e1tica\",\"India\",\"Hamburguesa\",\"Pollo\",\"Empanada\",\"India\",\"India\",\"Dulce\",\"Hamburguesa\",\"Poke\",\"Pizza\",\"Pizza\",\"Pizza\",\"Pollo\",\"Mediterr\\u00e1nea\",\"Mediterr\\u00e1nea\",\"Pizza\",\"Carne\",\"Carne\",\"Hamburguesa\",\"Empanada\",\"Pizza\",\"Dulce\",\"China\",\"Pizza\",\"Pizza\",\"Pizza\",\"Pizza\",\"China\",\"China\",\"Pollo\",\"Hamburguesa\",\"Burritos\",\"Comida r\\u00e1pida\",\"SouthAmerica\",\"Pizza\",\"Pizza\",\"Pizza\",\"Pizza\",\"Empanada\",\"Mediterr\\u00e1nea\",\"Ensaladas\",\"Pollo\",\"Empanada\",\"Hamburguesa\",\"Hamburguesa\",\"Empanada\",\"India\",\"Asi\\u00e1tica\",\"Mediterr\\u00e1nea\",\"India\",\"India\",\"Pollo\",\"SouthAmerica\",\"Mediterr\\u00e1nea\",\"Hamburguesa\",\"Ensaladas\",\"Hamburguesa\",\"Hamburguesa\",\"Dulce\",\"Hamburguesa\",\"Pizza\",\"Mediterr\\u00e1nea\",\"Kebab\",\"Pizza\",\"Ensaladas\",\"Hamburguesa\",\"Empanada\",\"Hamburguesa\",\"India\",\"Carne\",\"Pollo\",\"Poke\",\"Kebab\",\"Pizza\",\"Pizza\",\"Pizza\",\"Dulce\",\"Gourmet\",\"Pizza\",\"Hamburguesa\",\"Dulce\",\"Pizza\",\"Empanada\",\"Pizza\",\"Pizza\",\"Pollo\",\"Hamburguesa\",\"China\",\"Burritos\",\"SouthAmerica\",\"Pizza\",\"Empanada\",\"Mediterr\\u00e1nea\",\"Hamburguesa\",\"Ensaladas\",\"Dulce\",\"Pollo\",\"Hamburguesa\",\"Hamburguesa\",\"Tienda\",\"Tienda\",\"India\",\"Hamburguesa\",\"Hamburguesa\",\"Pizza\",\"Pizza\",\"Hamburguesa\",\"Hamburguesa\",\"Mediterr\\u00e1nea\",\"Empanada\",\"Tienda\",\"Empanada\",\"Mediterr\\u00e1nea\",\"India\",\"India\",\"Pollo\",\"Carne\",\"Hamburguesa\",\"Kebab\",\"China\",\"Hamburguesa\",\"Kebab\",\"Poke\",\"Pollo\",\"Hamburguesa\",\"Hamburguesa\",\"Pizza\",\"Pollo\",\"India\",\"Pizza\",\"Pizza\",\"Pizza\",\"Gourmet\",\"Pizza\",\"Mediterr\\u00e1nea\",\"Hamburguesa\",\"Pollo\",\"SouthAmerica\",\"Hamburguesa\",\"Mediterr\\u00e1nea\",\"Pollo\",\"Carne\",\"Asi\\u00e1tica\",\"Pizza\",\"Hamburguesa\",\"Pollo\",\"Pizza\",\"Asi\\u00e1tica\",\"Carne\",\"Empanada\",\"Mediterr\\u00e1nea\",\"SouthAmerica\",\"SouthAmerica\",\"Pollo\",\"Hamburguesa\",\"Pizza\",\"India\",\"Hamburguesa\",\"Hamburguesa\",\"Pollo\",\"Tienda\",\"Hamburguesa\",\"Pizza\",\"Hamburguesa\",\"Poke\",\"Pollo\",\"Pollo\",\"Tienda\",\"Tienda\",\"SouthAmerica\",\"China\",\"Hamburguesa\",\"Empanada\",\"Dulce\",\"SouthAmerica\",\"Empanada\",\"Empanada\",\"Kebab\",\"Dulce\",\"Kebab\",\"Kebab\",\"Kebab\",\"India\",\"Pizza\",\"Gourmet\",\"Pizza\",\"Gourmet\",\"Pizza\",\"Hamburguesa\",\"Empanada\",\"SouthAmerica\",\"SouthAmerica\",\"Mediterr\\u00e1nea\",\"Pollo\",\"Hamburguesa\",\"Pizza\",\"Asi\\u00e1tica\",\"Pizza\",\"Pizza\",\"Carne\",\"Carne\",\"Pollo\",\"Pollo\",\"Asi\\u00e1tica\",\"Hamburguesa\",\"SouthAmerica\",\"Hamburguesa\",\"Pollo\",\"Pollo\",\"Pollo\",\"Mediterr\\u00e1nea\",\"Tienda\",\"Tienda\",\"Hamburguesa\",\"Hamburguesa\",\"Hamburguesa\",\"SouthAmerica\",\"Pizza\",\"Pollo\",\"Pollo\",\"Poke\",\"SouthAmerica\",\"Hamburguesa\",\"Tienda\",\"Empanada\",\"Kebab\",\"Comida r\\u00e1pida\",\"Empanada\",\"Comida r\\u00e1pida\",\"Asi\\u00e1tica\",\"Kebab\",\"SouthAmerica\",\"Tienda\",\"Kebab\",\"Asi\\u00e1tica\",\"Pizza\",\"India\",\"Gourmet\",\"Pollo\",\"Pizza\",\"Mediterr\\u00e1nea\",\"Pizza\",\"Pizza\",\"Pizza\",\"Pollo\",\"Pizza\",\"Pollo\",\"Pizza\",\"Empanada\",\"Gourmet\",\"Pollo\",\"China\",\"SouthAmerica\",\"Tienda\",\"Pizza\",\"Hamburguesa\",\"Pollo\",\"Comida r\\u00e1pida\",\"Pizza\",\"Mediterr\\u00e1nea\",\"Pollo\",\"Hamburguesa\",\"Pollo\",\"Carne\",\"Pizza\",\"Kebab\",\"Asi\\u00e1tica\",\"Hamburguesa\",\"Empanada\",\"Tienda\",\"Mediterr\\u00e1nea\",\"Pizza\",\"Carne\",\"Hamburguesa\",\"Pollo\",\"SouthAmerica\",\"Tienda\",\"Asi\\u00e1tica\",\"India\",\"Hamburguesa\",\"Hamburguesa\",\"India\",\"SouthAmerica\",\"Asi\\u00e1tica\",\"Hamburguesa\",\"India\",\"SouthAmerica\",\"Dulce\",\"Pollo\",\"Pollo\",\"India\",\"Hamburguesa\",\"Pizza\",\"Gourmet\",\"Pizza\",\"Hamburguesa\",\"Gourmet\",\"Pollo\",\"Pizza\",\"Carne\",\"Pizza\",\"Pollo\",\"Hamburguesa\",\"Mediterr\\u00e1nea\",\"Comida r\\u00e1pida\",\"SouthAmerica\",\"Pollo\",\"Tienda\",\"Pollo\",\"Hamburguesa\",\"Empanada\",\"Pollo\",\"Carne\",\"Pollo\",\"Pizza\",\"Tienda\",\"Pollo\",\"Comida r\\u00e1pida\",\"SouthAmerica\",\"Tienda\",\"Comida r\\u00e1pida\",\"Poke\",\"Kebab\",\"Dulce\",\"Comida r\\u00e1pida\",\"Comida r\\u00e1pida\",\"Kebab\",\"Kebab\",\"SouthAmerica\",\"China\",\"Asi\\u00e1tica\",\"Hamburguesa\",\"Dulce\",\"Pizza\",\"Comida r\\u00e1pida\",\"Mediterr\\u00e1nea\",\"Dulce\",\"SouthAmerica\",\"Pollo\",\"Comida r\\u00e1pida\",\"Empanada\",\"Empanada\",\"Hamburguesa\",\"Comida r\\u00e1pida\",\"India\",\"Gourmet\",\"Pizza\",\"Pollo\",\"Hamburguesa\",\"Hamburguesa\",\"Gourmet\",\"Pollo\",\"Pizza\",\"Hamburguesa\",\"Mediterr\\u00e1nea\",\"SouthAmerica\",\"Pizza\",\"Kebab\",\"Pizza\",\"Pollo\",\"Kebab\",\"Mediterr\\u00e1nea\",\"Pizza\",\"SouthAmerica\",\"Pizza\",\"Dulce\",\"India\",\"Kebab\",\"Kebab\",\"Kebab\",\"Kebab\",\"Mediterr\\u00e1nea\",\"Pizza\",\"Hamburguesa\",\"Hamburguesa\",\"Dulce\",\"SouthAmerica\",\"Mediterr\\u00e1nea\",\"Pizza\",\"Asi\\u00e1tica\",\"Hamburguesa\",\"Pizza\",\"Carne\",\"Dulce\",\"Pollo\",\"Pollo\",\"Pizza\",\"Pizza\",\"Tienda\",\"Tienda\",\"Pizza\",\"China\",\"China\",\"Pizza\",\"Hamburguesa\",\"Hamburguesa\",\"Tienda\",\"Hamburguesa\",\"Pollo\",\"Pizza\",\"Pollo\",\"Mediterr\\u00e1nea\",\"Pizza\",\"Pollo\",\"Hamburguesa\",\"Empanada\",\"Pizza\",\"Pizza\",\"Pizza\",\"Mediterr\\u00e1nea\",\"Pizza\",\"Pizza\",\"Kebab\",\"Kebab\",\"Kebab\",\"Kebab\",\"Ensaladas\",\"Pizza\",\"Hamburguesa\",\"SouthAmerica\",\"Gourmet\",\"Mediterr\\u00e1nea\",\"Pizza\",\"Asi\\u00e1tica\",\"SouthAmerica\",\"Burritos\",\"Pizza\",\"Poke\",\"Carne\",\"Ensaladas\",\"Pollo\",\"Pollo\",\"SouthAmerica\",\"Pollo\",\"SouthAmerica\",\"Kebab\",\"Pizza\",\"Comida r\\u00e1pida\",\"China\",\"SouthAmerica\",\"Pizza\",\"SouthAmerica\",\"Pollo\",\"Mediterr\\u00e1nea\",\"China\",\"Burritos\",\"Hamburguesa\",\"Hamburguesa\",\"Comida r\\u00e1pida\",\"Mediterr\\u00e1nea\",\"Kebab\",\"Pollo\",\"Hamburguesa\",\"Pollo\",\"Empanada\",\"Kebab\",\"Pizza\",\"Mediterr\\u00e1nea\",\"Poke\",\"Poke\",\"Kebab\",\"Pollo\",\"Kebab\",\"Kebab\",\"Pollo\",\"Carne\",\"Pizza\",\"India\",\"Asi\\u00e1tica\",\"Comida r\\u00e1pida\",\"SouthAmerica\",\"SouthAmerica\",\"Burritos\",\"Mediterr\\u00e1nea\",\"SouthAmerica\",\"Hamburguesa\",\"Gourmet\",\"Asi\\u00e1tica\",\"Asi\\u00e1tica\",\"SouthAmerica\",\"Burritos\",\"Carne\",\"Tienda\",\"Poke\",\"Ensaladas\",\"Carne\",\"Kebab\",\"SouthAmerica\",\"Mediterr\\u00e1nea\",\"Pizza\",\"Pizza\",\"SouthAmerica\",\"Pollo\",\"Pizza\",\"Pizza\",\"Pizza\",\"Pollo\",\"Pizza\",\"China\",\"Pollo\",\"Burritos\",\"Pizza\",\"SouthAmerica\",\"Comida r\\u00e1pida\",\"Hamburguesa\",\"Hamburguesa\",\"Empanada\",\"Mediterr\\u00e1nea\",\"Carne\",\"Pollo\",\"Kebab\",\"Hamburguesa\",\"SouthAmerica\",\"Poke\",\"Kebab\",\"Poke\",\"Mediterr\\u00e1nea\",\"Kebab\",\"Kebab\",\"Pollo\",\"Kebab\",\"Comida r\\u00e1pida\",\"Pizza\",\"Pizza\",\"Pizza\",\"India\",\"China\",\"Asi\\u00e1tica\",\"Empanada\",\"Comida r\\u00e1pida\",\"Hamburguesa\",\"SouthAmerica\",\"SouthAmerica\",\"Burritos\",\"Dulce\",\"SouthAmerica\",\"Asi\\u00e1tica\",\"China\",\"Gourmet\",\"Asi\\u00e1tica\",\"Comida r\\u00e1pida\",\"Burritos\",\"Carne\",\"Hamburguesa\",\"Asi\\u00e1tica\",\"Kebab\",\"Mediterr\\u00e1nea\",\"Pizza\",\"Pizza\",\"Pizza\",\"Pizza\",\"China\",\"Burritos\",\"Pizza\",\"SouthAmerica\",\"China\",\"Burritos\",\"Empanada\",\"Empanada\",\"Pollo\",\"Pizza\",\"Mediterr\\u00e1nea\",\"Hamburguesa\",\"Pollo\",\"Pollo\",\"SouthAmerica\",\"Comida r\\u00e1pida\",\"Carne\",\"SouthAmerica\",\"Hamburguesa\",\"Mediterr\\u00e1nea\",\"SouthAmerica\",\"Hamburguesa\",\"Ensaladas\",\"Hamburguesa\",\"Tienda\",\"Hamburguesa\",\"Dulce\",\"Tienda\",\"China\",\"Tienda\",\"Empanada\",\"Dulce\",\"Pollo\",\"Dulce\",\"Ensaladas\",\"Dulce\",\"Hamburguesa\",\"Kebab\",\"Mediterr\\u00e1nea\",\"Kebab\",\"Dulce\",\"Empanada\",\"Poke\",\"Kebab\",\"Kebab\",\"Mediterr\\u00e1nea\",\"Dulce\",\"Kebab\",\"Pizza\",\"Hamburguesa\",\"Hamburguesa\"],\"xaxis\":\"x\",\"y\":[\"Badsha India Restaurant\",\"TUTTO PASTA!\",\"Pizza Central\",\"Scarlett Real Food\",\"La Tagliatella\",\"Fritz Foods\",\"Pizzart Luchana\",\"Kahuna\",\"Wacamole\",\"El Imperio de la Empanada\",\"Roost Chicken\",\"Popeyes\",\"Papa John's\",\"Comida china yonghe\",\"Taco Bell\",\"KFC - Principe Pio\",\"EL LAT\\u00d3N GRIS\",\"TAMCOC\",\"Chinawokexpress\",\"La Alegr\\u00eda de la Huerta\",\"Empanadas BAIRES\",\"Domino's\",\"Cor & Cor\",\"Tiendas 7x24\",\"Super naan\",\"Super Dog\",\"Steak Burger\",\"Galipan\",\"El Turkito\",\"Arepish\",\"CONVEXO\",\"Mandela 100\",\"MY Pasta Room\",\"Ristorante Pizzer\\u00eda Dante\",\"Trek Taco\",\"MILA TOWN\",\"Pollo Criollo\",\"Gourmet Madrid\",\"Freedom Pizza\",\"La Cochinita Loca\",\"Sonali Indian Restaurante\",\"SANABRIA\",\"Taberna La Buha\",\"Real Fried Chicken\",\"Pollos a la brasa el Corral\",\"Las Muns\",\"Chocolateria Tacita de Plata\",\"TGB\",\"Mr. Pizza Madrid\",\"McDonald's\",\"Puccias Chueca\",\"Beiben\",\"La Bruja del Vesuvio\",\"Cerveceria Ria\\u00f1o\",\"Badsha India Restaurant\",\"TUTTO PASTA!\",\"Pizza Central\",\"Ristorante Pizzer\\u00eda Dante\",\"Papa John's\",\"Domino's\",\"Fritz Foods\",\"Kahuna\",\"Taco Bell\",\"Hamburguesa Nostra\",\"La Tagliatella\",\"Arepish\",\"McDonald's\",\"Precio Calidad y sabor\",\"TAMCOC\",\"Chinawokexpress\",\"Super Dog\",\"Autoservicio\",\"Perla del Pacifico\",\"TROPICALISSIMA\",\"Beiben\",\"Streat Lab\",\"Popeyes\",\"On Rush\",\"El Sabroso Albufera\",\"Pizzer\\u00eda Argentina El Tr\\u00e9bol\",\"La Alegr\\u00eda de la Huerta\",\"EL LAT\\u00d3N GRIS\",\"Mandela 100\",\"La Cochinita Loca\",\"Pollo Rico Al carb\\u00f3n\",\"Pollos a la brasa el Corral\",\"Empanadas Malv\\u00f3n\",\"El Turkito\",\"Galipan\",\"Steak Burger\",\"Pollo Criollo\",\"Empanadas BAIRES\",\"Super naan\",\"Sonali Indian Restaurante\",\"Cor & Cor\",\"Puccias Chueca\",\"Aloha Poke\",\"Capasso Pizza\",\"Shapla Indian\",\"Pura Italia\",\"Pollo Criollo\",\"Taberna La Buha\",\"El Buen Gusto\",\"La Pizza \\u00e9 Bella\",\"Las Muns\",\"Halal Steak House Grill\",\"Home Burger Bar\",\"LaRegustosa\",\"TUTTO PASTA!\",\"Scarlett Real Food\",\"Comida china yonghe\",\"Ristorante Pizzer\\u00eda Dante\",\"Papa John's\",\"Domino's\",\"Pizzer\\u00eda Argentina El Tr\\u00e9bol\",\"Comida china yonghe\",\"Chinawokexpress\",\"Streat Lab\",\"Super Dog\",\"On Rush\",\"El Sabroso Albufera\",\"Arepish\",\"Pizz-a-porter\",\"TAMCOC\",\"Pastamore\",\"Ristorante Pizzer\\u00eda Dante\",\"Empanadas BAIRES\",\"SANABRIA\",\"La Alegr\\u00eda de la Huerta\",\"Pollos a la brasa el Corral\",\"Empanadas Malv\\u00f3n\",\"Steak Burger\",\"Bur Burger\",\"Empanadas BAIRES\",\"Galipan\",\"El Turkito\",\"Beiben\",\"Mandela 100\",\"Sonali Indian Restaurante\",\"Popeyes\",\"La Cochinita Loca\",\"PaellaGood\",\"DIVE`S FOOD\",\"100 % Sano\",\"Puccias Chueca\",\"Rude Burger\",\"Cor & Cor\",\"McDonald's\",\"Thai Zafra\",\"El Buen Gusto\",\"Kebab Rayo\",\"Capasso Pizza\",\"Shapla Indian\",\"Home Burger Bar\",\"Empanadas Pampas\",\"TGB\",\"Bosforos Turkish Restaurant\",\"Halal Steak House Grill\",\"Mad Pollo\",\"Mahalo Poke\",\"Kebab Entrevias\",\"Mo\\u00f1etes\",\"TUTTO PASTA!\",\"La Tagliatella\",\"Scarlett Real Food\",\"La Cuchara\",\"Papa John's\",\"Taco Bell\",\"Scarlett Real Food\",\"Pizzer\\u00eda Argentina El Tr\\u00e9bol\",\"Empanadas Malv\\u00f3n\",\"Pizzart Luchana\",\"Pastamore\",\"Roost Chicken\",\"Taco Bell\",\"Chinawokexpress\",\"El Burrito Borracho\",\"Arepish\",\"Little Caesars Pizza\",\"Empanadas BAIRES\",\"SANABRIA\",\"Rude Burger\",\"100 % Sano\",\"Cor & Cor\",\"Popeyes\",\"Home Burger Bar\",\"Artisan Burger\",\"Thai Zafra\",\"Tiendas 7x24\",\"Makan Saj Manoushe\",\"DIVE`S FOOD\",\"Flame\",\"Freedom Pizza\",\"MY Pasta Room\",\"Steak Burger\",\"McDonald's\",\"PaellaGood\",\"Empanadas BAIRES\",\"Tiendas 7x24\",\"Empanadas Pampas\",\"Croqueteria Focos\",\"Galipan\",\"Super naan\",\"Pollos Gourmet\",\"Asador Perla del Pacifico Ascao\",\"Puccias Chueca\",\"Graal\",\"Restaurante Chino Diamante\",\"Junk Burger\",\"Esmirna Doner Kebap\",\"Aloha Poke\",\"CHUCK CHUCK CHICKEN\",\"TGB\",\"VIPS\",\"Capasso Pizza\",\"HyH Kebab Fried Chicken\",\"Badsha India Restaurant\",\"TUTTO PASTA!\",\"La Tagliatella\",\"Papa John's\",\"La Cuchara\",\"Papa John's\",\"Taberna Andaluza\",\"Taco Bell\",\"Roost Chicken\",\"La Mordida\",\"Home Burger Bar\",\"La caba\\u00f1a de cris\",\"Pollos al Carb\\u00f3n\",\"Limbo Player Two\",\"Ala Sushi\",\"Little Caesars Pizza\",\"Toro Burger Lounge\",\"Popeyes\",\"MANKA\",\"Yakitoro\",\"EL ASADOR\",\"Empanadas Malv\\u00f3n\",\"Taberna del Volapi\\u00e9\",\"Arepish\",\"Arepish\",\"Fast chicken chain\",\"McDonald's\",\"Pizza Central\",\"Makan Saj Manoushe\",\"Flame\",\"Busburguer\",\"Polloco Gourmet\",\"Tiendas 7x24\",\"Artisan Burger\",\"Pomodoro\",\"Junk Burger\",\"Aloha Poke\",\"Mad Pollo\",\"CHUCK CHUCK CHICKEN\",\"Pasteleria Saul\",\"Galp\",\"Chili House\\ud83c\\udf36\",\"Restaurante Chino Diamante\",\"Foster's Hollywood\",\"Empanadas BAIRES\",\"Golat Helados\",\"Pic & Nic\",\"Frambons\",\"Empanadas BAIRES\",\"Doner kebap efes\",\"Crepes & Waffles\",\"Doner kebap efes\",\"Sult\\u00e1n kebab\",\"Great Kebab\",\"Badsha India Restaurant\",\"TUTTO PASTA!\",\"Comida de Pueblo\",\"La Tagliatella\",\"La Cuchara\",\"La Tagliatella\",\"Taco Bell\",\"Empanadas Malv\\u00f3n\",\"La Mordida\",\"Express 88\",\"La caba\\u00f1a de cris\",\"Pollos al Carb\\u00f3n\",\"Toro Burger Lounge\",\"Pizzer\\u00eda El Tr\\u00e9bol 24h\",\"Ala Sushi\",\"MANKA\",\"Little Caesars Pizza\",\"EL ASADOR\",\"Limbo Player Two\",\"Popeyes\",\"Fast chicken chain\",\"Yakitoro\",\"Home Burger Bar\",\"Arepish\",\"TGB\",\"Real Fried Chicken\",\"Pollo Criollo\",\"Polloco Gourmet\",\"Taberna del Volapi\\u00e9\",\"Cerveceria Ria\\u00f1o\",\"Galp\",\"McDonald's\",\"Busburguer\",\"Junk Burger\",\"Chili House\\ud83c\\udf36\",\"Pomodoro\",\"Tosty\",\"Mad Pollo\",\"Aloha Poke\",\"Pic & Nic\",\"Foster's Hollywood\",\"Taste of America\",\"Empanadas BAIRES\",\"Sult\\u00e1n kebab\",\"Astros\",\"Empanadas BAIRES\",\"Cherry Pecas\",\"Pops \\u00b4n Bops\",\"Great Kebab\",\"Real Estambul Pizza, Doner y Kebab\",\"Willy Factory\",\"Kebab Rico Rico\",\"Oriental Palace\",\"Pizzeria Nuns\",\"Badsha India Restaurant\",\"Comida de Pueblo\",\"Roost Chicken\",\"Papa John's\",\"Taberna Andaluza\",\"La Tagliatella\",\"La Tagliatella\",\"Papa John's\",\"Roost Chicken\",\"Fritz Foods\",\"Roost Chicken\",\"Pizzer\\u00eda El Tr\\u00e9bol 24h\",\"El Imperio de la Empanada\",\"CONVEXO\",\"Real Fried Chicken\",\"Chinawokexpress\",\"La Mordida\",\"Tiendas 7x24\",\"Little Caesars Pizza\",\"Super Dog\",\"Pollos al Carb\\u00f3n\",\"La Bruja del Vesuvio\",\"Freedom Pizza\",\"La caba\\u00f1a de cris\",\"KFC - Principe Pio\",\"Toro Burger Lounge\",\"EL LAT\\u00d3N GRIS\",\"EL ASADOR\",\"MANKA\",\"Graal\",\"Ala Sushi\",\"Home Burger Bar\",\"Empanadas Malv\\u00f3n\",\"Tiendas 7x24\",\"SANABRIA\",\"MY Pasta Room\",\"Limbo Player Two\",\"Junk Burger\",\"Popeyes\",\"Arepish\",\"Cerveceria Ria\\u00f1o\",\"Yakitoro\",\"Super naan\",\"Steak Burger\",\"MILA TOWN\",\"Galipan\",\"Trek Taco\",\"El Turkito\",\"Artisan Burger\",\"Makan Saj Manoushe\",\"Arepish\",\"Cor & Cor\",\"Tosty\",\"Fast chicken chain\",\"Badsha India Restaurant\",\"Taco Bell\",\"TUTTO PASTA!\",\"Comida de Pueblo\",\"Pizzart Luchana\",\"Taco Bell\",\"CONVEXO\",\"Pollos al Carb\\u00f3n\",\"Little Caesars Pizza\",\"EL ASADOR\",\"MANKA\",\"Real Fried Chicken\",\"Toro Burger Lounge\",\"La caba\\u00f1a de cris\",\"La Bruja del Vesuvio\",\"Arepish\",\"Popeyes\",\"Cerveceria Ria\\u00f1o\",\"Fast chicken chain\",\"Home Burger Bar\",\"Empanadas Malv\\u00f3n\",\"Tosty\",\"Red Roo Australian Restaurant\",\"Polloco Gourmet\",\"Pomodoro\",\"Tiendas 7x24\",\"Mad Pollo\",\"El tr\\u00e9bol empanadas\",\"Pic & Nic\",\"Taste of America\",\"Astros\",\"Aloha Poke\",\"Doner kebap efes\",\"Starbucks\",\"Cherry Pecas\",\"Basically Just Burrito Bowls\",\"Sult\\u00e1n kebab\",\"Great Kebab\",\"Real Estambul Pizza, Doner y Kebab\",\"Pops \\u00b4n Bops\",\"Oriental Palace\",\"Shawarma palace\",\"Jimbo Smokehouse\",\"Napoli Gang by Bel Mondo\",\"Soda Bar\",\"Danny\\u2019s Jazz\",\"Ferreiro\",\"TeKeS\",\"Toropikaru Sushi\",\"NUBO Rolls\",\"DITALY\",\"Empanadas BAIRES\",\"Massburg\",\"Nola Smoke\",\"Badsha India Restaurant\",\"Comida de Pueblo\",\"Papa John's\",\"Roost Chicken\",\"McDonald's\",\"Taco Bell\",\"CONVEXO\",\"Pollos al Carb\\u00f3n\",\"Little Caesars Pizza\",\"McDonald's\",\"Beiben\",\"La Cochinita Loca\",\"Pasta con todo \\ud83c\\udf5d\",\"Latin kebab\",\"Pura Italia\",\"Pollo Criollo\",\"Maha Kebab\",\"Taberna La Buha\",\"Pizza Mirasierra\",\"Pic & Nic\",\"Pizz-a-porter\",\"Tabaxo - Don Pedro\",\"Taberna Piedra Pinta\",\"Dinos Bar Kebab\",\"Gran Oporto Kebab\",\"GALAXY KEBAB\",\"Bar y Kebab La Parada\",\"\\u00c9ccolo\",\"Malacatin\",\"Le Crust\",\"Toro Burger Lounge\",\"Cor & Cor\",\"Arepa Mix\",\"Bocadillos Ole\",\"IGo Pasta\",\"Yokaloka\",\"Burger Las Vegas\",\"Alice Pizza\",\"Herb\\u00edvoro\",\"La Manousheria\",\"Popizza\",\"Asador de Pollos\",\"Papa John's\",\"TUTTO PASTA!\",\"Restaurante Sabor K-Tracho\",\"Autoservicio\",\"Little Caesars Pizza\",\"Comida china yonghe\",\"Chinawokexpress\",\"Papa John's\",\"TROPICALISSIMA\",\"Super Dog\",\"Autoservicio\",\"Burger 123\",\"Pollo Rico Al carb\\u00f3n\",\"Ristorante Pizzer\\u00eda Dante\",\"Pollos a la brasa el Corral\",\"Beiben\",\"Pasta con todo \\ud83c\\udf5d\",\"Pollo Criollo\",\"McDonald's\",\"Empanadas Malv\\u00f3n\",\"Pizza Mirasierra\",\"Pura Italia\",\"Aqua, Farina e Forno\",\"El Buen Gusto\",\"Pizz-a-porter\",\"La Pizza \\u00e9 Bella\",\"Kebab Nemrut\",\"Dinos Bar Kebab\",\"GALAXY KEBAB\",\"Gran Oporto Kebab\",\"Ramen Kagura\",\"RAVIOLUZIONE\",\"Le Crust\",\"Arepa Mix\",\"Llaollao\",\"Bocadillos Ole\",\"IGo Pasta\",\"Yokaloka\",\"Cantina Canalla\",\"\\u00d3rale burrito\",\"Alice Pizza\",\"Tasty Poke\",\"Herb\\u00edvoro\",\"Abaco Taberna\",\"S\\u00e9samo\",\"Asador de Pollos\",\"Mac2Pic2\",\"Asador de Pollos\",\"Cheff oriental\",\"Kaleka Poke\",\"Pizzeria Roberto\",\"Pui's Thai tapas\",\"Comida China Feliz\",\"Merecumbe\",\"TUTTO PASTA!\",\"Perla del Pacifico\",\"Restaurante Sabor K-Tracho\",\"Precio Calidad y sabor\",\"Chinawokexpress\",\"On Rush\",\"Super Dog\",\"Bur Burger\",\"El Sabroso Albufera\",\"Precio Calidad y sabor\",\"Kebab Rayo\",\"Pollos a la brasa el Corral\",\"McDonald's\",\"Popeyes\",\"Empanadas Malv\\u00f3n\",\"Kebab Entrevias\",\"Pura Italia\",\"El Buen Gusto\",\"Poke Ukelele\",\"Mahalo Poke\",\"Ankara Doner Kebab\",\"Shaurma House\",\"Istanbul Kebab Madrid\",\"Kebab Vallecano\",\"Star Kebab Pollo Asado\",\"Entrecarb\\u00f3n\",\"Pizzamarket\",\"Twin Pizza Mediterr\\u00e1neo\",\"Panda Sushi\",\"Acqua in Bocca\",\"Arepa Mix\",\"THE SCHNITZEL BOSS\",\"Frida Burritos\",\"Bocadillos Ole\",\"Ceviches Marakaza\",\"Burger Town\",\"Comida Fusi\\u00f3n\",\"SUKAO FOOD FUSION\",\"Yokaloka\",\"Cantina Canalla\",\"BURRITOS & TACOS\",\"Asador Delicasa\",\"Waiwai Fusion Poke Atocha\",\"Tasty Poke\",\"Don Tortilla\",\"Herb\\u00edvoro\",\"Kebab Turca\",\"Mac2Pic2\",\"Ateshgah Albufera\",\"Superbestia\",\"Pizzeria Roberto\",\"Merecumbe\",\"Mr Patata\",\"Drag\\u00f3n\",\"TUTTO PASTA!\",\"Papa John's\",\"Streat Lab\",\"Pizz-a-porter\",\"Chinawokexpress\",\"Streat Lab\",\"On Rush\",\"Pizz-a-porter\",\"Perla del Pacifico\",\"El Sabroso Albufera\",\"McDonald's\",\"Bur Burger\",\"Empanadas BAIRES\",\"Croqueteria Focos\",\"Asador Perla del Pacifico Ascao\",\"Popeyes\",\"Kebab Rayo\",\"DIVE`S FOOD\",\"Pic & Nic\",\"Poke Ukelele\",\"Kebab moratalaz\",\"Mahalo Poke\",\"Bar el casta\\u00f1o\",\"Ankara Doner Kebab\",\"Istanbul Kebab Madrid\",\"Star Kebab Pollo Asado\",\"Kebab Vallecano\",\"Da Yuan\",\"Pizzamarket\",\"Tennessee BBQ\",\"Napoli Gang by Bel Mondo\",\"Twin Pizza Mediterr\\u00e1neo\",\"Mother india\",\"Panda Sushi\",\"Cl\\u00e1sico Argentino \\ud83c\\udde6\\ud83c\\uddf7\",\"Acqua in Bocca\",\"Happy Burger\",\"Arepa Mix\",\"THE SCHNITZEL BOSS\",\"Frida Burritos\",\"Veg&Bite\",\"Ceviches Marakaza\",\"Sushi Not Sorry\",\"Nagasaki Sushi Retiro\",\"Comida Fusi\\u00f3n\",\"SUKAO FOOD FUSION\",\"Nola Smoke\",\"BURRITOS & TACOS\",\"Asador Delicasa\",\"TGB\",\"\\u00c1gora Torrej\\u00f3n\",\"Kebab Turca\",\"Ateshgah Albufera\",\"Superbestia\",\"TUTTO PASTA!\",\"Papa John's\",\"Pizzer\\u00eda Argentina El Tr\\u00e9bol\",\"Chinawokexpress\",\"El Burrito Borracho\",\"Pizzer\\u00eda Argentina El Tr\\u00e9bol\",\"Perla del Pacifico\",\"Chinawokexpress\",\"El Burrito Borracho\",\"Empanadas Malv\\u00f3n\",\"Empanadas BAIRES\",\"Popeyes\",\"Pastamore\",\"Croqueteria Focos\",\"Home Burger Bar\",\"HyH Kebab Fried Chicken\",\"Pollos Gourmet\",\"Arepish\",\"Ichibanya\",\"Asador Perla del Pacifico Ascao\",\"Pic & Nic\",\"DIVE`S FOOD\",\"PaellaGood\",\"Pa Picar\",\"Rude Burger\",\"100 % Sano\",\"McDonald's\",\"Thai Zafra\",\"Flame\",\"Cor & Cor\",\"Tiendas 7x24\",\"Restaurante Chino Diamante\",\"Tienduki\",\"Empanadas Pampas\",\"Make doner\",\"CHUCK CHUCK CHICKEN\",\"El Nuevo Yantar\",\"Tim Hortons\",\"Pasteleria Saul\",\"Foster's Hollywood\",\"Kebab Bosforos\",\"Bar el casta\\u00f1o\",\"Esmirna Doner Kebap\",\"Golat Helados\",\"Frambons\",\"Mahalo Poke\",\"Doner kebap efes\",\"Doner kebap efes\",\"100 Montaditos\",\"CHOCOLATES VALOR\",\"Sumo Grill\",\"Da Yuan\",\"Filippo Pizza\",\"Tennessee BBQ\"],\"yaxis\":\"y\"}],                        {\"barmode\":\"relative\",\"legend\":{\"tracegroupgap\":0},\"margin\":{\"t\":60},\"template\":{\"data\":{\"bar\":[{\"error_x\":{\"color\":\"#2a3f5f\"},\"error_y\":{\"color\":\"#2a3f5f\"},\"marker\":{\"line\":{\"color\":\"#E5ECF6\",\"width\":0.5},\"pattern\":{\"fillmode\":\"overlay\",\"size\":10,\"solidity\":0.2}},\"type\":\"bar\"}],\"barpolar\":[{\"marker\":{\"line\":{\"color\":\"#E5ECF6\",\"width\":0.5},\"pattern\":{\"fillmode\":\"overlay\",\"size\":10,\"solidity\":0.2}},\"type\":\"barpolar\"}],\"carpet\":[{\"aaxis\":{\"endlinecolor\":\"#2a3f5f\",\"gridcolor\":\"white\",\"linecolor\":\"white\",\"minorgridcolor\":\"white\",\"startlinecolor\":\"#2a3f5f\"},\"baxis\":{\"endlinecolor\":\"#2a3f5f\",\"gridcolor\":\"white\",\"linecolor\":\"white\",\"minorgridcolor\":\"white\",\"startlinecolor\":\"#2a3f5f\"},\"type\":\"carpet\"}],\"choropleth\":[{\"colorbar\":{\"outlinewidth\":0,\"ticks\":\"\"},\"type\":\"choropleth\"}],\"contour\":[{\"colorbar\":{\"outlinewidth\":0,\"ticks\":\"\"},\"colorscale\":[[0.0,\"#0d0887\"],[0.1111111111111111,\"#46039f\"],[0.2222222222222222,\"#7201a8\"],[0.3333333333333333,\"#9c179e\"],[0.4444444444444444,\"#bd3786\"],[0.5555555555555556,\"#d8576b\"],[0.6666666666666666,\"#ed7953\"],[0.7777777777777778,\"#fb9f3a\"],[0.8888888888888888,\"#fdca26\"],[1.0,\"#f0f921\"]],\"type\":\"contour\"}],\"contourcarpet\":[{\"colorbar\":{\"outlinewidth\":0,\"ticks\":\"\"},\"type\":\"contourcarpet\"}],\"heatmap\":[{\"colorbar\":{\"outlinewidth\":0,\"ticks\":\"\"},\"colorscale\":[[0.0,\"#0d0887\"],[0.1111111111111111,\"#46039f\"],[0.2222222222222222,\"#7201a8\"],[0.3333333333333333,\"#9c179e\"],[0.4444444444444444,\"#bd3786\"],[0.5555555555555556,\"#d8576b\"],[0.6666666666666666,\"#ed7953\"],[0.7777777777777778,\"#fb9f3a\"],[0.8888888888888888,\"#fdca26\"],[1.0,\"#f0f921\"]],\"type\":\"heatmap\"}],\"heatmapgl\":[{\"colorbar\":{\"outlinewidth\":0,\"ticks\":\"\"},\"colorscale\":[[0.0,\"#0d0887\"],[0.1111111111111111,\"#46039f\"],[0.2222222222222222,\"#7201a8\"],[0.3333333333333333,\"#9c179e\"],[0.4444444444444444,\"#bd3786\"],[0.5555555555555556,\"#d8576b\"],[0.6666666666666666,\"#ed7953\"],[0.7777777777777778,\"#fb9f3a\"],[0.8888888888888888,\"#fdca26\"],[1.0,\"#f0f921\"]],\"type\":\"heatmapgl\"}],\"histogram\":[{\"marker\":{\"pattern\":{\"fillmode\":\"overlay\",\"size\":10,\"solidity\":0.2}},\"type\":\"histogram\"}],\"histogram2d\":[{\"colorbar\":{\"outlinewidth\":0,\"ticks\":\"\"},\"colorscale\":[[0.0,\"#0d0887\"],[0.1111111111111111,\"#46039f\"],[0.2222222222222222,\"#7201a8\"],[0.3333333333333333,\"#9c179e\"],[0.4444444444444444,\"#bd3786\"],[0.5555555555555556,\"#d8576b\"],[0.6666666666666666,\"#ed7953\"],[0.7777777777777778,\"#fb9f3a\"],[0.8888888888888888,\"#fdca26\"],[1.0,\"#f0f921\"]],\"type\":\"histogram2d\"}],\"histogram2dcontour\":[{\"colorbar\":{\"outlinewidth\":0,\"ticks\":\"\"},\"colorscale\":[[0.0,\"#0d0887\"],[0.1111111111111111,\"#46039f\"],[0.2222222222222222,\"#7201a8\"],[0.3333333333333333,\"#9c179e\"],[0.4444444444444444,\"#bd3786\"],[0.5555555555555556,\"#d8576b\"],[0.6666666666666666,\"#ed7953\"],[0.7777777777777778,\"#fb9f3a\"],[0.8888888888888888,\"#fdca26\"],[1.0,\"#f0f921\"]],\"type\":\"histogram2dcontour\"}],\"mesh3d\":[{\"colorbar\":{\"outlinewidth\":0,\"ticks\":\"\"},\"type\":\"mesh3d\"}],\"parcoords\":[{\"line\":{\"colorbar\":{\"outlinewidth\":0,\"ticks\":\"\"}},\"type\":\"parcoords\"}],\"pie\":[{\"automargin\":true,\"type\":\"pie\"}],\"scatter\":[{\"marker\":{\"colorbar\":{\"outlinewidth\":0,\"ticks\":\"\"}},\"type\":\"scatter\"}],\"scatter3d\":[{\"line\":{\"colorbar\":{\"outlinewidth\":0,\"ticks\":\"\"}},\"marker\":{\"colorbar\":{\"outlinewidth\":0,\"ticks\":\"\"}},\"type\":\"scatter3d\"}],\"scattercarpet\":[{\"marker\":{\"colorbar\":{\"outlinewidth\":0,\"ticks\":\"\"}},\"type\":\"scattercarpet\"}],\"scattergeo\":[{\"marker\":{\"colorbar\":{\"outlinewidth\":0,\"ticks\":\"\"}},\"type\":\"scattergeo\"}],\"scattergl\":[{\"marker\":{\"colorbar\":{\"outlinewidth\":0,\"ticks\":\"\"}},\"type\":\"scattergl\"}],\"scattermapbox\":[{\"marker\":{\"colorbar\":{\"outlinewidth\":0,\"ticks\":\"\"}},\"type\":\"scattermapbox\"}],\"scatterpolar\":[{\"marker\":{\"colorbar\":{\"outlinewidth\":0,\"ticks\":\"\"}},\"type\":\"scatterpolar\"}],\"scatterpolargl\":[{\"marker\":{\"colorbar\":{\"outlinewidth\":0,\"ticks\":\"\"}},\"type\":\"scatterpolargl\"}],\"scatterternary\":[{\"marker\":{\"colorbar\":{\"outlinewidth\":0,\"ticks\":\"\"}},\"type\":\"scatterternary\"}],\"surface\":[{\"colorbar\":{\"outlinewidth\":0,\"ticks\":\"\"},\"colorscale\":[[0.0,\"#0d0887\"],[0.1111111111111111,\"#46039f\"],[0.2222222222222222,\"#7201a8\"],[0.3333333333333333,\"#9c179e\"],[0.4444444444444444,\"#bd3786\"],[0.5555555555555556,\"#d8576b\"],[0.6666666666666666,\"#ed7953\"],[0.7777777777777778,\"#fb9f3a\"],[0.8888888888888888,\"#fdca26\"],[1.0,\"#f0f921\"]],\"type\":\"surface\"}],\"table\":[{\"cells\":{\"fill\":{\"color\":\"#EBF0F8\"},\"line\":{\"color\":\"white\"}},\"header\":{\"fill\":{\"color\":\"#C8D4E3\"},\"line\":{\"color\":\"white\"}},\"type\":\"table\"}]},\"layout\":{\"annotationdefaults\":{\"arrowcolor\":\"#2a3f5f\",\"arrowhead\":0,\"arrowwidth\":1},\"autotypenumbers\":\"strict\",\"coloraxis\":{\"colorbar\":{\"outlinewidth\":0,\"ticks\":\"\"}},\"colorscale\":{\"diverging\":[[0,\"#8e0152\"],[0.1,\"#c51b7d\"],[0.2,\"#de77ae\"],[0.3,\"#f1b6da\"],[0.4,\"#fde0ef\"],[0.5,\"#f7f7f7\"],[0.6,\"#e6f5d0\"],[0.7,\"#b8e186\"],[0.8,\"#7fbc41\"],[0.9,\"#4d9221\"],[1,\"#276419\"]],\"sequential\":[[0.0,\"#0d0887\"],[0.1111111111111111,\"#46039f\"],[0.2222222222222222,\"#7201a8\"],[0.3333333333333333,\"#9c179e\"],[0.4444444444444444,\"#bd3786\"],[0.5555555555555556,\"#d8576b\"],[0.6666666666666666,\"#ed7953\"],[0.7777777777777778,\"#fb9f3a\"],[0.8888888888888888,\"#fdca26\"],[1.0,\"#f0f921\"]],\"sequentialminus\":[[0.0,\"#0d0887\"],[0.1111111111111111,\"#46039f\"],[0.2222222222222222,\"#7201a8\"],[0.3333333333333333,\"#9c179e\"],[0.4444444444444444,\"#bd3786\"],[0.5555555555555556,\"#d8576b\"],[0.6666666666666666,\"#ed7953\"],[0.7777777777777778,\"#fb9f3a\"],[0.8888888888888888,\"#fdca26\"],[1.0,\"#f0f921\"]]},\"colorway\":[\"#636efa\",\"#EF553B\",\"#00cc96\",\"#ab63fa\",\"#FFA15A\",\"#19d3f3\",\"#FF6692\",\"#B6E880\",\"#FF97FF\",\"#FECB52\"],\"font\":{\"color\":\"#2a3f5f\"},\"geo\":{\"bgcolor\":\"white\",\"lakecolor\":\"white\",\"landcolor\":\"#E5ECF6\",\"showlakes\":true,\"showland\":true,\"subunitcolor\":\"white\"},\"hoverlabel\":{\"align\":\"left\"},\"hovermode\":\"closest\",\"mapbox\":{\"style\":\"light\"},\"paper_bgcolor\":\"white\",\"plot_bgcolor\":\"#E5ECF6\",\"polar\":{\"angularaxis\":{\"gridcolor\":\"white\",\"linecolor\":\"white\",\"ticks\":\"\"},\"bgcolor\":\"#E5ECF6\",\"radialaxis\":{\"gridcolor\":\"white\",\"linecolor\":\"white\",\"ticks\":\"\"}},\"scene\":{\"xaxis\":{\"backgroundcolor\":\"#E5ECF6\",\"gridcolor\":\"white\",\"gridwidth\":2,\"linecolor\":\"white\",\"showbackground\":true,\"ticks\":\"\",\"zerolinecolor\":\"white\"},\"yaxis\":{\"backgroundcolor\":\"#E5ECF6\",\"gridcolor\":\"white\",\"gridwidth\":2,\"linecolor\":\"white\",\"showbackground\":true,\"ticks\":\"\",\"zerolinecolor\":\"white\"},\"zaxis\":{\"backgroundcolor\":\"#E5ECF6\",\"gridcolor\":\"white\",\"gridwidth\":2,\"linecolor\":\"white\",\"showbackground\":true,\"ticks\":\"\",\"zerolinecolor\":\"white\"}},\"shapedefaults\":{\"line\":{\"color\":\"#2a3f5f\"}},\"ternary\":{\"aaxis\":{\"gridcolor\":\"white\",\"linecolor\":\"white\",\"ticks\":\"\"},\"baxis\":{\"gridcolor\":\"white\",\"linecolor\":\"white\",\"ticks\":\"\"},\"bgcolor\":\"#E5ECF6\",\"caxis\":{\"gridcolor\":\"white\",\"linecolor\":\"white\",\"ticks\":\"\"}},\"title\":{\"x\":0.05},\"xaxis\":{\"automargin\":true,\"gridcolor\":\"white\",\"linecolor\":\"white\",\"ticks\":\"\",\"title\":{\"standoff\":15},\"zerolinecolor\":\"white\",\"zerolinewidth\":2},\"yaxis\":{\"automargin\":true,\"gridcolor\":\"white\",\"linecolor\":\"white\",\"ticks\":\"\",\"title\":{\"standoff\":15},\"zerolinecolor\":\"white\",\"zerolinewidth\":2}}},\"xaxis\":{\"anchor\":\"y\",\"domain\":[0.0,1.0],\"title\":{\"text\":\"Tag\"}},\"yaxis\":{\"anchor\":\"x\",\"domain\":[0.0,1.0],\"title\":{\"text\":\"Restaurante\"}}},                        {\"responsive\": true}                    ).then(function(){\n",
       "                            \n",
       "var gd = document.getElementById('20509628-7dd4-4abb-82c6-0bbd5aa23344');\n",
       "var x = new MutationObserver(function (mutations, observer) {{\n",
       "        var display = window.getComputedStyle(gd).display;\n",
       "        if (!display || display === 'none') {{\n",
       "            console.log([gd, 'removed!']);\n",
       "            Plotly.purge(gd);\n",
       "            observer.disconnect();\n",
       "        }}\n",
       "}});\n",
       "\n",
       "// Listen for the removal of the full notebook cells\n",
       "var notebookContainer = gd.closest('#notebook-container');\n",
       "if (notebookContainer) {{\n",
       "    x.observe(notebookContainer, {childList: true});\n",
       "}}\n",
       "\n",
       "// Listen for the clearing of the current output cell\n",
       "var outputEl = gd.closest('.output');\n",
       "if (outputEl) {{\n",
       "    x.observe(outputEl, {childList: true});\n",
       "}}\n",
       "\n",
       "                        })                };                });            </script>        </div>"
      ]
     },
     "metadata": {},
     "output_type": "display_data"
    }
   ],
   "source": [
    "fig = px.bar(ue, x=\"Tag\", y=\"Restaurante\")\n",
    "fig.show()"
   ]
  },
  {
   "cell_type": "code",
   "execution_count": 131,
   "id": "6937a5e8",
   "metadata": {},
   "outputs": [
    {
     "data": {
      "application/vnd.plotly.v1+json": {
       "config": {
        "plotlyServerURL": "https://plot.ly"
       },
       "data": [
        {
         "alignmentgroup": "True",
         "bingroup": "y",
         "hovertemplate": "Tag=India<br>count=%{x}<br>Precio=%{y}<extra></extra>",
         "legendgroup": "India",
         "marker": {
          "color": "#636efa",
          "pattern": {
           "shape": ""
          }
         },
         "name": "India",
         "offsetgroup": "India",
         "orientation": "h",
         "showlegend": true,
         "type": "histogram",
         "xaxis": "x",
         "y": [
          "€",
          "€",
          "€",
          "€",
          "€€",
          "€",
          "€",
          "€",
          "€",
          "€€",
          "€",
          "€",
          "€€",
          "€",
          "€€",
          "€",
          "€",
          "€",
          "€€",
          "€",
          "€",
          "€",
          "€",
          "€€",
          "€",
          "€",
          "€",
          "€",
          "€"
         ],
         "yaxis": "y"
        },
        {
         "alignmentgroup": "True",
         "bingroup": "y",
         "hovertemplate": "Tag=Pizza<br>count=%{x}<br>Precio=%{y}<extra></extra>",
         "legendgroup": "Pizza",
         "marker": {
          "color": "#EF553B",
          "pattern": {
           "shape": ""
          }
         },
         "name": "Pizza",
         "offsetgroup": "Pizza",
         "orientation": "h",
         "showlegend": true,
         "type": "histogram",
         "xaxis": "x",
         "y": [
          "€",
          "€",
          "€€",
          "€",
          "€",
          "€",
          "€",
          "€",
          "€",
          "€",
          "€",
          "€",
          "€",
          "€",
          "€",
          "€",
          "€",
          "€",
          "€",
          "€€",
          "€",
          "€",
          "€",
          "€",
          "€",
          "€",
          "€",
          "€",
          "€",
          "€",
          "€",
          "€",
          "€",
          "€",
          "€",
          "€",
          "€",
          "€",
          "€",
          "€€",
          "€",
          "€",
          "€",
          "€",
          "€",
          "€",
          "€",
          "€",
          "€",
          "€€",
          "€",
          "€",
          "€",
          "€",
          "€",
          "€",
          "€",
          "€€",
          "€€",
          "€",
          "€",
          "€",
          "€",
          "€",
          "€",
          "€€",
          "€€",
          "€",
          "€",
          "€",
          "€",
          "€",
          "€",
          "€",
          "€",
          "€",
          "€",
          "€",
          "€",
          "€",
          "€",
          "€",
          "€",
          "€",
          "€",
          "€",
          "€",
          "€€",
          "€",
          "€",
          "€",
          "€",
          "€",
          "€",
          "€",
          "€",
          "€",
          "€",
          "€",
          "€",
          "€",
          "€€",
          "€",
          "€",
          "€",
          "€",
          "€",
          "€",
          "€",
          "€",
          "€",
          "€",
          "€",
          "€",
          "€",
          "€",
          "€",
          "€",
          "€",
          "€",
          "€",
          "€",
          "€",
          "€"
         ],
         "yaxis": "y"
        },
        {
         "alignmentgroup": "True",
         "bingroup": "y",
         "hovertemplate": "Tag=Dulce<br>count=%{x}<br>Precio=%{y}<extra></extra>",
         "legendgroup": "Dulce",
         "marker": {
          "color": "#00cc96",
          "pattern": {
           "shape": ""
          }
         },
         "name": "Dulce",
         "offsetgroup": "Dulce",
         "orientation": "h",
         "showlegend": true,
         "type": "histogram",
         "xaxis": "x",
         "y": [
          "€",
          "€",
          "€",
          "€",
          "€",
          "€",
          "€",
          "€",
          "€",
          "€",
          "€",
          "€",
          "€",
          "€",
          "€",
          "€",
          "€",
          "€",
          "€",
          "€",
          "€",
          "€",
          "€",
          "€",
          "€",
          "€"
         ],
         "yaxis": "y"
        },
        {
         "alignmentgroup": "True",
         "bingroup": "y",
         "hovertemplate": "Tag=SouthAmerica<br>count=%{x}<br>Precio=%{y}<extra></extra>",
         "legendgroup": "SouthAmerica",
         "marker": {
          "color": "#ab63fa",
          "pattern": {
           "shape": ""
          }
         },
         "name": "SouthAmerica",
         "offsetgroup": "SouthAmerica",
         "orientation": "h",
         "showlegend": true,
         "type": "histogram",
         "xaxis": "x",
         "y": [
          "€",
          "€",
          "€",
          "€",
          "€",
          "€€€",
          "€",
          "€",
          "€",
          "€",
          "€",
          "€",
          "€",
          "€",
          "€",
          "€",
          "€",
          "€",
          "€",
          "€",
          "€",
          "€",
          "€",
          "€",
          "€",
          "€",
          "€",
          "€",
          "€",
          "€",
          "€",
          "€",
          "€",
          "€",
          "€",
          "€",
          "€",
          "€€€",
          "€",
          "€",
          "€",
          "€",
          "€",
          "€",
          "€€€",
          "€",
          "€",
          "€",
          "€",
          "€€€",
          "€",
          "€",
          "€"
         ],
         "yaxis": "y"
        },
        {
         "alignmentgroup": "True",
         "bingroup": "y",
         "hovertemplate": "Tag=Empanada<br>count=%{x}<br>Precio=%{y}<extra></extra>",
         "legendgroup": "Empanada",
         "marker": {
          "color": "#FFA15A",
          "pattern": {
           "shape": ""
          }
         },
         "name": "Empanada",
         "offsetgroup": "Empanada",
         "orientation": "h",
         "showlegend": true,
         "type": "histogram",
         "xaxis": "x",
         "y": [
          "€",
          "€",
          "€",
          "€",
          "€",
          "€",
          "€",
          "€",
          "€",
          "€",
          "€",
          "€",
          "€",
          "€",
          "€",
          "€",
          "€",
          "€",
          "€",
          "€",
          "€",
          "€",
          "€",
          "€",
          "€",
          "€",
          "€",
          "€",
          "€€",
          "€",
          "€",
          "€",
          "€"
         ],
         "yaxis": "y"
        },
        {
         "alignmentgroup": "True",
         "bingroup": "y",
         "hovertemplate": "Tag=Pollo<br>count=%{x}<br>Precio=%{y}<extra></extra>",
         "legendgroup": "Pollo",
         "marker": {
          "color": "#19d3f3",
          "pattern": {
           "shape": ""
          }
         },
         "name": "Pollo",
         "offsetgroup": "Pollo",
         "orientation": "h",
         "showlegend": true,
         "type": "histogram",
         "xaxis": "x",
         "y": [
          "€",
          "€",
          "€",
          "€",
          "€",
          "€",
          "€",
          "€",
          "€",
          "€",
          "€",
          "€",
          "€",
          "€",
          "€",
          "€",
          "€",
          "€",
          "€",
          "€",
          "€",
          "€",
          "€",
          "€",
          "€",
          "€",
          "€",
          "€",
          "€",
          "€",
          "€",
          "€",
          "€",
          "€",
          "€",
          "€",
          "€",
          "€",
          "€",
          "€",
          "€",
          "€",
          "€",
          "€",
          "€",
          "€",
          "€",
          "€",
          "€",
          "€",
          "€",
          "€",
          "€",
          "€",
          "€",
          "€",
          "€",
          "€",
          "€",
          "€",
          "€",
          "€",
          "€",
          "€",
          "€",
          "€",
          "€",
          "€",
          "€",
          "€",
          "€",
          "€",
          "€",
          "€",
          "€",
          "€",
          "€",
          "€",
          "€",
          "€",
          "€"
         ],
         "yaxis": "y"
        },
        {
         "alignmentgroup": "True",
         "bingroup": "y",
         "hovertemplate": "Tag=Hamburguesa<br>count=%{x}<br>Precio=%{y}<extra></extra>",
         "legendgroup": "Hamburguesa",
         "marker": {
          "color": "#FF6692",
          "pattern": {
           "shape": ""
          }
         },
         "name": "Hamburguesa",
         "offsetgroup": "Hamburguesa",
         "orientation": "h",
         "showlegend": true,
         "type": "histogram",
         "xaxis": "x",
         "y": [
          "€",
          "€",
          "€",
          "€",
          "€",
          "€",
          "€",
          "€",
          "€",
          "€",
          "€",
          "€",
          "€",
          "€",
          "€",
          "€",
          "€",
          "€",
          "€",
          "€€",
          "€",
          "€",
          "€",
          "€",
          "€",
          "€€",
          "€",
          "€",
          "€",
          "€",
          "€",
          "€",
          "€",
          "€",
          "€",
          "€",
          "€",
          "€",
          "€",
          "€",
          "€",
          "€",
          "€",
          "€",
          "€€",
          "€",
          "€",
          "€",
          "€",
          "€",
          "€",
          "€",
          "€€",
          "€",
          "€",
          "€",
          "€",
          "€",
          "€",
          "€",
          "€",
          "€",
          "€",
          "€",
          "€",
          "€",
          "€",
          "€",
          "€",
          "€",
          "€",
          "€",
          "€",
          "€",
          "€",
          "€",
          "€",
          "€",
          "€",
          "€",
          "€",
          "€",
          "€",
          "€",
          "€",
          "€",
          "€",
          "€",
          "€€",
          "€",
          "€",
          "€€",
          "€",
          "€"
         ],
         "yaxis": "y"
        },
        {
         "alignmentgroup": "True",
         "bingroup": "y",
         "hovertemplate": "Tag=Tienda<br>count=%{x}<br>Precio=%{y}<extra></extra>",
         "legendgroup": "Tienda",
         "marker": {
          "color": "#B6E880",
          "pattern": {
           "shape": ""
          }
         },
         "name": "Tienda",
         "offsetgroup": "Tienda",
         "orientation": "h",
         "showlegend": true,
         "type": "histogram",
         "xaxis": "x",
         "y": [
          "€",
          "€",
          "€",
          "€",
          "€",
          "€",
          "€",
          "€",
          "€",
          "€",
          "€",
          "€€",
          "€",
          "€",
          "€",
          "€",
          "€",
          "€",
          "€€",
          "€",
          "€",
          "€",
          "€",
          "€",
          "€",
          "€"
         ],
         "yaxis": "y"
        },
        {
         "alignmentgroup": "True",
         "bingroup": "y",
         "hovertemplate": "Tag=Mediterránea<br>count=%{x}<br>Precio=%{y}<extra></extra>",
         "legendgroup": "Mediterránea",
         "marker": {
          "color": "#FF97FF",
          "pattern": {
           "shape": ""
          }
         },
         "name": "Mediterránea",
         "offsetgroup": "Mediterránea",
         "orientation": "h",
         "showlegend": true,
         "type": "histogram",
         "xaxis": "x",
         "y": [
          "€€€",
          "€",
          "€",
          "€",
          "€",
          "€",
          "€",
          "€€€",
          "€",
          "€€",
          "€",
          "€€€",
          "€€",
          "€",
          "€",
          "€€€",
          "€€",
          "€€€",
          "€€",
          "€",
          "€€€",
          "€€€",
          "€€€",
          "€",
          "€",
          "€",
          "€",
          "€",
          "€",
          "€",
          "€",
          "€",
          "€",
          "€",
          "€",
          "€",
          "€",
          "€",
          "€",
          "€",
          "€€",
          "€",
          "€"
         ],
         "yaxis": "y"
        },
        {
         "alignmentgroup": "True",
         "bingroup": "y",
         "hovertemplate": "Tag=Kebab<br>count=%{x}<br>Precio=%{y}<extra></extra>",
         "legendgroup": "Kebab",
         "marker": {
          "color": "#FECB52",
          "pattern": {
           "shape": ""
          }
         },
         "name": "Kebab",
         "offsetgroup": "Kebab",
         "orientation": "h",
         "showlegend": true,
         "type": "histogram",
         "xaxis": "x",
         "y": [
          "€",
          "€",
          "€",
          "€",
          "€",
          "€",
          "€",
          "€",
          "€",
          "€",
          "€",
          "€",
          "€",
          "€",
          "€",
          "€",
          "€",
          "€",
          "€",
          "€",
          "€",
          "€",
          "€",
          "€",
          "€",
          "€",
          "€",
          "€",
          "€",
          "€",
          "€",
          "€",
          "€",
          "€",
          "€",
          "€",
          "€",
          "€",
          "€",
          "€",
          "€",
          "€",
          "€"
         ],
         "yaxis": "y"
        }
       ],
       "layout": {
        "barmode": "relative",
        "legend": {
         "title": {
          "text": "Tag"
         },
         "tracegroupgap": 0
        },
        "margin": {
         "t": 60
        },
        "template": {
         "data": {
          "bar": [
           {
            "error_x": {
             "color": "#2a3f5f"
            },
            "error_y": {
             "color": "#2a3f5f"
            },
            "marker": {
             "line": {
              "color": "#E5ECF6",
              "width": 0.5
             },
             "pattern": {
              "fillmode": "overlay",
              "size": 10,
              "solidity": 0.2
             }
            },
            "type": "bar"
           }
          ],
          "barpolar": [
           {
            "marker": {
             "line": {
              "color": "#E5ECF6",
              "width": 0.5
             },
             "pattern": {
              "fillmode": "overlay",
              "size": 10,
              "solidity": 0.2
             }
            },
            "type": "barpolar"
           }
          ],
          "carpet": [
           {
            "aaxis": {
             "endlinecolor": "#2a3f5f",
             "gridcolor": "white",
             "linecolor": "white",
             "minorgridcolor": "white",
             "startlinecolor": "#2a3f5f"
            },
            "baxis": {
             "endlinecolor": "#2a3f5f",
             "gridcolor": "white",
             "linecolor": "white",
             "minorgridcolor": "white",
             "startlinecolor": "#2a3f5f"
            },
            "type": "carpet"
           }
          ],
          "choropleth": [
           {
            "colorbar": {
             "outlinewidth": 0,
             "ticks": ""
            },
            "type": "choropleth"
           }
          ],
          "contour": [
           {
            "colorbar": {
             "outlinewidth": 0,
             "ticks": ""
            },
            "colorscale": [
             [
              0,
              "#0d0887"
             ],
             [
              0.1111111111111111,
              "#46039f"
             ],
             [
              0.2222222222222222,
              "#7201a8"
             ],
             [
              0.3333333333333333,
              "#9c179e"
             ],
             [
              0.4444444444444444,
              "#bd3786"
             ],
             [
              0.5555555555555556,
              "#d8576b"
             ],
             [
              0.6666666666666666,
              "#ed7953"
             ],
             [
              0.7777777777777778,
              "#fb9f3a"
             ],
             [
              0.8888888888888888,
              "#fdca26"
             ],
             [
              1,
              "#f0f921"
             ]
            ],
            "type": "contour"
           }
          ],
          "contourcarpet": [
           {
            "colorbar": {
             "outlinewidth": 0,
             "ticks": ""
            },
            "type": "contourcarpet"
           }
          ],
          "heatmap": [
           {
            "colorbar": {
             "outlinewidth": 0,
             "ticks": ""
            },
            "colorscale": [
             [
              0,
              "#0d0887"
             ],
             [
              0.1111111111111111,
              "#46039f"
             ],
             [
              0.2222222222222222,
              "#7201a8"
             ],
             [
              0.3333333333333333,
              "#9c179e"
             ],
             [
              0.4444444444444444,
              "#bd3786"
             ],
             [
              0.5555555555555556,
              "#d8576b"
             ],
             [
              0.6666666666666666,
              "#ed7953"
             ],
             [
              0.7777777777777778,
              "#fb9f3a"
             ],
             [
              0.8888888888888888,
              "#fdca26"
             ],
             [
              1,
              "#f0f921"
             ]
            ],
            "type": "heatmap"
           }
          ],
          "heatmapgl": [
           {
            "colorbar": {
             "outlinewidth": 0,
             "ticks": ""
            },
            "colorscale": [
             [
              0,
              "#0d0887"
             ],
             [
              0.1111111111111111,
              "#46039f"
             ],
             [
              0.2222222222222222,
              "#7201a8"
             ],
             [
              0.3333333333333333,
              "#9c179e"
             ],
             [
              0.4444444444444444,
              "#bd3786"
             ],
             [
              0.5555555555555556,
              "#d8576b"
             ],
             [
              0.6666666666666666,
              "#ed7953"
             ],
             [
              0.7777777777777778,
              "#fb9f3a"
             ],
             [
              0.8888888888888888,
              "#fdca26"
             ],
             [
              1,
              "#f0f921"
             ]
            ],
            "type": "heatmapgl"
           }
          ],
          "histogram": [
           {
            "marker": {
             "pattern": {
              "fillmode": "overlay",
              "size": 10,
              "solidity": 0.2
             }
            },
            "type": "histogram"
           }
          ],
          "histogram2d": [
           {
            "colorbar": {
             "outlinewidth": 0,
             "ticks": ""
            },
            "colorscale": [
             [
              0,
              "#0d0887"
             ],
             [
              0.1111111111111111,
              "#46039f"
             ],
             [
              0.2222222222222222,
              "#7201a8"
             ],
             [
              0.3333333333333333,
              "#9c179e"
             ],
             [
              0.4444444444444444,
              "#bd3786"
             ],
             [
              0.5555555555555556,
              "#d8576b"
             ],
             [
              0.6666666666666666,
              "#ed7953"
             ],
             [
              0.7777777777777778,
              "#fb9f3a"
             ],
             [
              0.8888888888888888,
              "#fdca26"
             ],
             [
              1,
              "#f0f921"
             ]
            ],
            "type": "histogram2d"
           }
          ],
          "histogram2dcontour": [
           {
            "colorbar": {
             "outlinewidth": 0,
             "ticks": ""
            },
            "colorscale": [
             [
              0,
              "#0d0887"
             ],
             [
              0.1111111111111111,
              "#46039f"
             ],
             [
              0.2222222222222222,
              "#7201a8"
             ],
             [
              0.3333333333333333,
              "#9c179e"
             ],
             [
              0.4444444444444444,
              "#bd3786"
             ],
             [
              0.5555555555555556,
              "#d8576b"
             ],
             [
              0.6666666666666666,
              "#ed7953"
             ],
             [
              0.7777777777777778,
              "#fb9f3a"
             ],
             [
              0.8888888888888888,
              "#fdca26"
             ],
             [
              1,
              "#f0f921"
             ]
            ],
            "type": "histogram2dcontour"
           }
          ],
          "mesh3d": [
           {
            "colorbar": {
             "outlinewidth": 0,
             "ticks": ""
            },
            "type": "mesh3d"
           }
          ],
          "parcoords": [
           {
            "line": {
             "colorbar": {
              "outlinewidth": 0,
              "ticks": ""
             }
            },
            "type": "parcoords"
           }
          ],
          "pie": [
           {
            "automargin": true,
            "type": "pie"
           }
          ],
          "scatter": [
           {
            "marker": {
             "colorbar": {
              "outlinewidth": 0,
              "ticks": ""
             }
            },
            "type": "scatter"
           }
          ],
          "scatter3d": [
           {
            "line": {
             "colorbar": {
              "outlinewidth": 0,
              "ticks": ""
             }
            },
            "marker": {
             "colorbar": {
              "outlinewidth": 0,
              "ticks": ""
             }
            },
            "type": "scatter3d"
           }
          ],
          "scattercarpet": [
           {
            "marker": {
             "colorbar": {
              "outlinewidth": 0,
              "ticks": ""
             }
            },
            "type": "scattercarpet"
           }
          ],
          "scattergeo": [
           {
            "marker": {
             "colorbar": {
              "outlinewidth": 0,
              "ticks": ""
             }
            },
            "type": "scattergeo"
           }
          ],
          "scattergl": [
           {
            "marker": {
             "colorbar": {
              "outlinewidth": 0,
              "ticks": ""
             }
            },
            "type": "scattergl"
           }
          ],
          "scattermapbox": [
           {
            "marker": {
             "colorbar": {
              "outlinewidth": 0,
              "ticks": ""
             }
            },
            "type": "scattermapbox"
           }
          ],
          "scatterpolar": [
           {
            "marker": {
             "colorbar": {
              "outlinewidth": 0,
              "ticks": ""
             }
            },
            "type": "scatterpolar"
           }
          ],
          "scatterpolargl": [
           {
            "marker": {
             "colorbar": {
              "outlinewidth": 0,
              "ticks": ""
             }
            },
            "type": "scatterpolargl"
           }
          ],
          "scatterternary": [
           {
            "marker": {
             "colorbar": {
              "outlinewidth": 0,
              "ticks": ""
             }
            },
            "type": "scatterternary"
           }
          ],
          "surface": [
           {
            "colorbar": {
             "outlinewidth": 0,
             "ticks": ""
            },
            "colorscale": [
             [
              0,
              "#0d0887"
             ],
             [
              0.1111111111111111,
              "#46039f"
             ],
             [
              0.2222222222222222,
              "#7201a8"
             ],
             [
              0.3333333333333333,
              "#9c179e"
             ],
             [
              0.4444444444444444,
              "#bd3786"
             ],
             [
              0.5555555555555556,
              "#d8576b"
             ],
             [
              0.6666666666666666,
              "#ed7953"
             ],
             [
              0.7777777777777778,
              "#fb9f3a"
             ],
             [
              0.8888888888888888,
              "#fdca26"
             ],
             [
              1,
              "#f0f921"
             ]
            ],
            "type": "surface"
           }
          ],
          "table": [
           {
            "cells": {
             "fill": {
              "color": "#EBF0F8"
             },
             "line": {
              "color": "white"
             }
            },
            "header": {
             "fill": {
              "color": "#C8D4E3"
             },
             "line": {
              "color": "white"
             }
            },
            "type": "table"
           }
          ]
         },
         "layout": {
          "annotationdefaults": {
           "arrowcolor": "#2a3f5f",
           "arrowhead": 0,
           "arrowwidth": 1
          },
          "autotypenumbers": "strict",
          "coloraxis": {
           "colorbar": {
            "outlinewidth": 0,
            "ticks": ""
           }
          },
          "colorscale": {
           "diverging": [
            [
             0,
             "#8e0152"
            ],
            [
             0.1,
             "#c51b7d"
            ],
            [
             0.2,
             "#de77ae"
            ],
            [
             0.3,
             "#f1b6da"
            ],
            [
             0.4,
             "#fde0ef"
            ],
            [
             0.5,
             "#f7f7f7"
            ],
            [
             0.6,
             "#e6f5d0"
            ],
            [
             0.7,
             "#b8e186"
            ],
            [
             0.8,
             "#7fbc41"
            ],
            [
             0.9,
             "#4d9221"
            ],
            [
             1,
             "#276419"
            ]
           ],
           "sequential": [
            [
             0,
             "#0d0887"
            ],
            [
             0.1111111111111111,
             "#46039f"
            ],
            [
             0.2222222222222222,
             "#7201a8"
            ],
            [
             0.3333333333333333,
             "#9c179e"
            ],
            [
             0.4444444444444444,
             "#bd3786"
            ],
            [
             0.5555555555555556,
             "#d8576b"
            ],
            [
             0.6666666666666666,
             "#ed7953"
            ],
            [
             0.7777777777777778,
             "#fb9f3a"
            ],
            [
             0.8888888888888888,
             "#fdca26"
            ],
            [
             1,
             "#f0f921"
            ]
           ],
           "sequentialminus": [
            [
             0,
             "#0d0887"
            ],
            [
             0.1111111111111111,
             "#46039f"
            ],
            [
             0.2222222222222222,
             "#7201a8"
            ],
            [
             0.3333333333333333,
             "#9c179e"
            ],
            [
             0.4444444444444444,
             "#bd3786"
            ],
            [
             0.5555555555555556,
             "#d8576b"
            ],
            [
             0.6666666666666666,
             "#ed7953"
            ],
            [
             0.7777777777777778,
             "#fb9f3a"
            ],
            [
             0.8888888888888888,
             "#fdca26"
            ],
            [
             1,
             "#f0f921"
            ]
           ]
          },
          "colorway": [
           "#636efa",
           "#EF553B",
           "#00cc96",
           "#ab63fa",
           "#FFA15A",
           "#19d3f3",
           "#FF6692",
           "#B6E880",
           "#FF97FF",
           "#FECB52"
          ],
          "font": {
           "color": "#2a3f5f"
          },
          "geo": {
           "bgcolor": "white",
           "lakecolor": "white",
           "landcolor": "#E5ECF6",
           "showlakes": true,
           "showland": true,
           "subunitcolor": "white"
          },
          "hoverlabel": {
           "align": "left"
          },
          "hovermode": "closest",
          "mapbox": {
           "style": "light"
          },
          "paper_bgcolor": "white",
          "plot_bgcolor": "#E5ECF6",
          "polar": {
           "angularaxis": {
            "gridcolor": "white",
            "linecolor": "white",
            "ticks": ""
           },
           "bgcolor": "#E5ECF6",
           "radialaxis": {
            "gridcolor": "white",
            "linecolor": "white",
            "ticks": ""
           }
          },
          "scene": {
           "xaxis": {
            "backgroundcolor": "#E5ECF6",
            "gridcolor": "white",
            "gridwidth": 2,
            "linecolor": "white",
            "showbackground": true,
            "ticks": "",
            "zerolinecolor": "white"
           },
           "yaxis": {
            "backgroundcolor": "#E5ECF6",
            "gridcolor": "white",
            "gridwidth": 2,
            "linecolor": "white",
            "showbackground": true,
            "ticks": "",
            "zerolinecolor": "white"
           },
           "zaxis": {
            "backgroundcolor": "#E5ECF6",
            "gridcolor": "white",
            "gridwidth": 2,
            "linecolor": "white",
            "showbackground": true,
            "ticks": "",
            "zerolinecolor": "white"
           }
          },
          "shapedefaults": {
           "line": {
            "color": "#2a3f5f"
           }
          },
          "ternary": {
           "aaxis": {
            "gridcolor": "white",
            "linecolor": "white",
            "ticks": ""
           },
           "baxis": {
            "gridcolor": "white",
            "linecolor": "white",
            "ticks": ""
           },
           "bgcolor": "#E5ECF6",
           "caxis": {
            "gridcolor": "white",
            "linecolor": "white",
            "ticks": ""
           }
          },
          "title": {
           "x": 0.05
          },
          "xaxis": {
           "automargin": true,
           "gridcolor": "white",
           "linecolor": "white",
           "ticks": "",
           "title": {
            "standoff": 15
           },
           "zerolinecolor": "white",
           "zerolinewidth": 2
          },
          "yaxis": {
           "automargin": true,
           "gridcolor": "white",
           "linecolor": "white",
           "ticks": "",
           "title": {
            "standoff": 15
           },
           "zerolinecolor": "white",
           "zerolinewidth": 2
          }
         }
        },
        "xaxis": {
         "anchor": "y",
         "domain": [
          0,
          1
         ],
         "title": {
          "text": "count"
         }
        },
        "yaxis": {
         "anchor": "x",
         "domain": [
          0,
          1
         ],
         "title": {
          "text": "Precio"
         }
        }
       }
      },
      "text/html": [
       "<div>                            <div id=\"d711dd35-118e-4cc2-a9ff-af9a247c69dd\" class=\"plotly-graph-div\" style=\"height:525px; width:100%;\"></div>            <script type=\"text/javascript\">                require([\"plotly\"], function(Plotly) {                    window.PLOTLYENV=window.PLOTLYENV || {};                                    if (document.getElementById(\"d711dd35-118e-4cc2-a9ff-af9a247c69dd\")) {                    Plotly.newPlot(                        \"d711dd35-118e-4cc2-a9ff-af9a247c69dd\",                        [{\"alignmentgroup\":\"True\",\"bingroup\":\"y\",\"hovertemplate\":\"Tag=India<br>count=%{x}<br>Precio=%{y}<extra></extra>\",\"legendgroup\":\"India\",\"marker\":{\"color\":\"#636efa\",\"pattern\":{\"shape\":\"\"}},\"name\":\"India\",\"offsetgroup\":\"India\",\"orientation\":\"h\",\"showlegend\":true,\"type\":\"histogram\",\"xaxis\":\"x\",\"y\":[\"\\u20ac\",\"\\u20ac\",\"\\u20ac\",\"\\u20ac\",\"\\u20ac\\u20ac\",\"\\u20ac\",\"\\u20ac\",\"\\u20ac\",\"\\u20ac\",\"\\u20ac\\u20ac\",\"\\u20ac\",\"\\u20ac\",\"\\u20ac\\u20ac\",\"\\u20ac\",\"\\u20ac\\u20ac\",\"\\u20ac\",\"\\u20ac\",\"\\u20ac\",\"\\u20ac\\u20ac\",\"\\u20ac\",\"\\u20ac\",\"\\u20ac\",\"\\u20ac\",\"\\u20ac\\u20ac\",\"\\u20ac\",\"\\u20ac\",\"\\u20ac\",\"\\u20ac\",\"\\u20ac\"],\"yaxis\":\"y\"},{\"alignmentgroup\":\"True\",\"bingroup\":\"y\",\"hovertemplate\":\"Tag=Pizza<br>count=%{x}<br>Precio=%{y}<extra></extra>\",\"legendgroup\":\"Pizza\",\"marker\":{\"color\":\"#EF553B\",\"pattern\":{\"shape\":\"\"}},\"name\":\"Pizza\",\"offsetgroup\":\"Pizza\",\"orientation\":\"h\",\"showlegend\":true,\"type\":\"histogram\",\"xaxis\":\"x\",\"y\":[\"\\u20ac\",\"\\u20ac\",\"\\u20ac\\u20ac\",\"\\u20ac\",\"\\u20ac\",\"\\u20ac\",\"\\u20ac\",\"\\u20ac\",\"\\u20ac\",\"\\u20ac\",\"\\u20ac\",\"\\u20ac\",\"\\u20ac\",\"\\u20ac\",\"\\u20ac\",\"\\u20ac\",\"\\u20ac\",\"\\u20ac\",\"\\u20ac\",\"\\u20ac\\u20ac\",\"\\u20ac\",\"\\u20ac\",\"\\u20ac\",\"\\u20ac\",\"\\u20ac\",\"\\u20ac\",\"\\u20ac\",\"\\u20ac\",\"\\u20ac\",\"\\u20ac\",\"\\u20ac\",\"\\u20ac\",\"\\u20ac\",\"\\u20ac\",\"\\u20ac\",\"\\u20ac\",\"\\u20ac\",\"\\u20ac\",\"\\u20ac\",\"\\u20ac\\u20ac\",\"\\u20ac\",\"\\u20ac\",\"\\u20ac\",\"\\u20ac\",\"\\u20ac\",\"\\u20ac\",\"\\u20ac\",\"\\u20ac\",\"\\u20ac\",\"\\u20ac\\u20ac\",\"\\u20ac\",\"\\u20ac\",\"\\u20ac\",\"\\u20ac\",\"\\u20ac\",\"\\u20ac\",\"\\u20ac\",\"\\u20ac\\u20ac\",\"\\u20ac\\u20ac\",\"\\u20ac\",\"\\u20ac\",\"\\u20ac\",\"\\u20ac\",\"\\u20ac\",\"\\u20ac\",\"\\u20ac\\u20ac\",\"\\u20ac\\u20ac\",\"\\u20ac\",\"\\u20ac\",\"\\u20ac\",\"\\u20ac\",\"\\u20ac\",\"\\u20ac\",\"\\u20ac\",\"\\u20ac\",\"\\u20ac\",\"\\u20ac\",\"\\u20ac\",\"\\u20ac\",\"\\u20ac\",\"\\u20ac\",\"\\u20ac\",\"\\u20ac\",\"\\u20ac\",\"\\u20ac\",\"\\u20ac\",\"\\u20ac\",\"\\u20ac\\u20ac\",\"\\u20ac\",\"\\u20ac\",\"\\u20ac\",\"\\u20ac\",\"\\u20ac\",\"\\u20ac\",\"\\u20ac\",\"\\u20ac\",\"\\u20ac\",\"\\u20ac\",\"\\u20ac\",\"\\u20ac\",\"\\u20ac\",\"\\u20ac\\u20ac\",\"\\u20ac\",\"\\u20ac\",\"\\u20ac\",\"\\u20ac\",\"\\u20ac\",\"\\u20ac\",\"\\u20ac\",\"\\u20ac\",\"\\u20ac\",\"\\u20ac\",\"\\u20ac\",\"\\u20ac\",\"\\u20ac\",\"\\u20ac\",\"\\u20ac\",\"\\u20ac\",\"\\u20ac\",\"\\u20ac\",\"\\u20ac\",\"\\u20ac\",\"\\u20ac\",\"\\u20ac\"],\"yaxis\":\"y\"},{\"alignmentgroup\":\"True\",\"bingroup\":\"y\",\"hovertemplate\":\"Tag=Dulce<br>count=%{x}<br>Precio=%{y}<extra></extra>\",\"legendgroup\":\"Dulce\",\"marker\":{\"color\":\"#00cc96\",\"pattern\":{\"shape\":\"\"}},\"name\":\"Dulce\",\"offsetgroup\":\"Dulce\",\"orientation\":\"h\",\"showlegend\":true,\"type\":\"histogram\",\"xaxis\":\"x\",\"y\":[\"\\u20ac\",\"\\u20ac\",\"\\u20ac\",\"\\u20ac\",\"\\u20ac\",\"\\u20ac\",\"\\u20ac\",\"\\u20ac\",\"\\u20ac\",\"\\u20ac\",\"\\u20ac\",\"\\u20ac\",\"\\u20ac\",\"\\u20ac\",\"\\u20ac\",\"\\u20ac\",\"\\u20ac\",\"\\u20ac\",\"\\u20ac\",\"\\u20ac\",\"\\u20ac\",\"\\u20ac\",\"\\u20ac\",\"\\u20ac\",\"\\u20ac\",\"\\u20ac\"],\"yaxis\":\"y\"},{\"alignmentgroup\":\"True\",\"bingroup\":\"y\",\"hovertemplate\":\"Tag=SouthAmerica<br>count=%{x}<br>Precio=%{y}<extra></extra>\",\"legendgroup\":\"SouthAmerica\",\"marker\":{\"color\":\"#ab63fa\",\"pattern\":{\"shape\":\"\"}},\"name\":\"SouthAmerica\",\"offsetgroup\":\"SouthAmerica\",\"orientation\":\"h\",\"showlegend\":true,\"type\":\"histogram\",\"xaxis\":\"x\",\"y\":[\"\\u20ac\",\"\\u20ac\",\"\\u20ac\",\"\\u20ac\",\"\\u20ac\",\"\\u20ac\\u20ac\\u20ac\",\"\\u20ac\",\"\\u20ac\",\"\\u20ac\",\"\\u20ac\",\"\\u20ac\",\"\\u20ac\",\"\\u20ac\",\"\\u20ac\",\"\\u20ac\",\"\\u20ac\",\"\\u20ac\",\"\\u20ac\",\"\\u20ac\",\"\\u20ac\",\"\\u20ac\",\"\\u20ac\",\"\\u20ac\",\"\\u20ac\",\"\\u20ac\",\"\\u20ac\",\"\\u20ac\",\"\\u20ac\",\"\\u20ac\",\"\\u20ac\",\"\\u20ac\",\"\\u20ac\",\"\\u20ac\",\"\\u20ac\",\"\\u20ac\",\"\\u20ac\",\"\\u20ac\",\"\\u20ac\\u20ac\\u20ac\",\"\\u20ac\",\"\\u20ac\",\"\\u20ac\",\"\\u20ac\",\"\\u20ac\",\"\\u20ac\",\"\\u20ac\\u20ac\\u20ac\",\"\\u20ac\",\"\\u20ac\",\"\\u20ac\",\"\\u20ac\",\"\\u20ac\\u20ac\\u20ac\",\"\\u20ac\",\"\\u20ac\",\"\\u20ac\"],\"yaxis\":\"y\"},{\"alignmentgroup\":\"True\",\"bingroup\":\"y\",\"hovertemplate\":\"Tag=Empanada<br>count=%{x}<br>Precio=%{y}<extra></extra>\",\"legendgroup\":\"Empanada\",\"marker\":{\"color\":\"#FFA15A\",\"pattern\":{\"shape\":\"\"}},\"name\":\"Empanada\",\"offsetgroup\":\"Empanada\",\"orientation\":\"h\",\"showlegend\":true,\"type\":\"histogram\",\"xaxis\":\"x\",\"y\":[\"\\u20ac\",\"\\u20ac\",\"\\u20ac\",\"\\u20ac\",\"\\u20ac\",\"\\u20ac\",\"\\u20ac\",\"\\u20ac\",\"\\u20ac\",\"\\u20ac\",\"\\u20ac\",\"\\u20ac\",\"\\u20ac\",\"\\u20ac\",\"\\u20ac\",\"\\u20ac\",\"\\u20ac\",\"\\u20ac\",\"\\u20ac\",\"\\u20ac\",\"\\u20ac\",\"\\u20ac\",\"\\u20ac\",\"\\u20ac\",\"\\u20ac\",\"\\u20ac\",\"\\u20ac\",\"\\u20ac\",\"\\u20ac\\u20ac\",\"\\u20ac\",\"\\u20ac\",\"\\u20ac\",\"\\u20ac\"],\"yaxis\":\"y\"},{\"alignmentgroup\":\"True\",\"bingroup\":\"y\",\"hovertemplate\":\"Tag=Pollo<br>count=%{x}<br>Precio=%{y}<extra></extra>\",\"legendgroup\":\"Pollo\",\"marker\":{\"color\":\"#19d3f3\",\"pattern\":{\"shape\":\"\"}},\"name\":\"Pollo\",\"offsetgroup\":\"Pollo\",\"orientation\":\"h\",\"showlegend\":true,\"type\":\"histogram\",\"xaxis\":\"x\",\"y\":[\"\\u20ac\",\"\\u20ac\",\"\\u20ac\",\"\\u20ac\",\"\\u20ac\",\"\\u20ac\",\"\\u20ac\",\"\\u20ac\",\"\\u20ac\",\"\\u20ac\",\"\\u20ac\",\"\\u20ac\",\"\\u20ac\",\"\\u20ac\",\"\\u20ac\",\"\\u20ac\",\"\\u20ac\",\"\\u20ac\",\"\\u20ac\",\"\\u20ac\",\"\\u20ac\",\"\\u20ac\",\"\\u20ac\",\"\\u20ac\",\"\\u20ac\",\"\\u20ac\",\"\\u20ac\",\"\\u20ac\",\"\\u20ac\",\"\\u20ac\",\"\\u20ac\",\"\\u20ac\",\"\\u20ac\",\"\\u20ac\",\"\\u20ac\",\"\\u20ac\",\"\\u20ac\",\"\\u20ac\",\"\\u20ac\",\"\\u20ac\",\"\\u20ac\",\"\\u20ac\",\"\\u20ac\",\"\\u20ac\",\"\\u20ac\",\"\\u20ac\",\"\\u20ac\",\"\\u20ac\",\"\\u20ac\",\"\\u20ac\",\"\\u20ac\",\"\\u20ac\",\"\\u20ac\",\"\\u20ac\",\"\\u20ac\",\"\\u20ac\",\"\\u20ac\",\"\\u20ac\",\"\\u20ac\",\"\\u20ac\",\"\\u20ac\",\"\\u20ac\",\"\\u20ac\",\"\\u20ac\",\"\\u20ac\",\"\\u20ac\",\"\\u20ac\",\"\\u20ac\",\"\\u20ac\",\"\\u20ac\",\"\\u20ac\",\"\\u20ac\",\"\\u20ac\",\"\\u20ac\",\"\\u20ac\",\"\\u20ac\",\"\\u20ac\",\"\\u20ac\",\"\\u20ac\",\"\\u20ac\",\"\\u20ac\"],\"yaxis\":\"y\"},{\"alignmentgroup\":\"True\",\"bingroup\":\"y\",\"hovertemplate\":\"Tag=Hamburguesa<br>count=%{x}<br>Precio=%{y}<extra></extra>\",\"legendgroup\":\"Hamburguesa\",\"marker\":{\"color\":\"#FF6692\",\"pattern\":{\"shape\":\"\"}},\"name\":\"Hamburguesa\",\"offsetgroup\":\"Hamburguesa\",\"orientation\":\"h\",\"showlegend\":true,\"type\":\"histogram\",\"xaxis\":\"x\",\"y\":[\"\\u20ac\",\"\\u20ac\",\"\\u20ac\",\"\\u20ac\",\"\\u20ac\",\"\\u20ac\",\"\\u20ac\",\"\\u20ac\",\"\\u20ac\",\"\\u20ac\",\"\\u20ac\",\"\\u20ac\",\"\\u20ac\",\"\\u20ac\",\"\\u20ac\",\"\\u20ac\",\"\\u20ac\",\"\\u20ac\",\"\\u20ac\",\"\\u20ac\\u20ac\",\"\\u20ac\",\"\\u20ac\",\"\\u20ac\",\"\\u20ac\",\"\\u20ac\",\"\\u20ac\\u20ac\",\"\\u20ac\",\"\\u20ac\",\"\\u20ac\",\"\\u20ac\",\"\\u20ac\",\"\\u20ac\",\"\\u20ac\",\"\\u20ac\",\"\\u20ac\",\"\\u20ac\",\"\\u20ac\",\"\\u20ac\",\"\\u20ac\",\"\\u20ac\",\"\\u20ac\",\"\\u20ac\",\"\\u20ac\",\"\\u20ac\",\"\\u20ac\\u20ac\",\"\\u20ac\",\"\\u20ac\",\"\\u20ac\",\"\\u20ac\",\"\\u20ac\",\"\\u20ac\",\"\\u20ac\",\"\\u20ac\\u20ac\",\"\\u20ac\",\"\\u20ac\",\"\\u20ac\",\"\\u20ac\",\"\\u20ac\",\"\\u20ac\",\"\\u20ac\",\"\\u20ac\",\"\\u20ac\",\"\\u20ac\",\"\\u20ac\",\"\\u20ac\",\"\\u20ac\",\"\\u20ac\",\"\\u20ac\",\"\\u20ac\",\"\\u20ac\",\"\\u20ac\",\"\\u20ac\",\"\\u20ac\",\"\\u20ac\",\"\\u20ac\",\"\\u20ac\",\"\\u20ac\",\"\\u20ac\",\"\\u20ac\",\"\\u20ac\",\"\\u20ac\",\"\\u20ac\",\"\\u20ac\",\"\\u20ac\",\"\\u20ac\",\"\\u20ac\",\"\\u20ac\",\"\\u20ac\",\"\\u20ac\\u20ac\",\"\\u20ac\",\"\\u20ac\",\"\\u20ac\\u20ac\",\"\\u20ac\",\"\\u20ac\"],\"yaxis\":\"y\"},{\"alignmentgroup\":\"True\",\"bingroup\":\"y\",\"hovertemplate\":\"Tag=Tienda<br>count=%{x}<br>Precio=%{y}<extra></extra>\",\"legendgroup\":\"Tienda\",\"marker\":{\"color\":\"#B6E880\",\"pattern\":{\"shape\":\"\"}},\"name\":\"Tienda\",\"offsetgroup\":\"Tienda\",\"orientation\":\"h\",\"showlegend\":true,\"type\":\"histogram\",\"xaxis\":\"x\",\"y\":[\"\\u20ac\",\"\\u20ac\",\"\\u20ac\",\"\\u20ac\",\"\\u20ac\",\"\\u20ac\",\"\\u20ac\",\"\\u20ac\",\"\\u20ac\",\"\\u20ac\",\"\\u20ac\",\"\\u20ac\\u20ac\",\"\\u20ac\",\"\\u20ac\",\"\\u20ac\",\"\\u20ac\",\"\\u20ac\",\"\\u20ac\",\"\\u20ac\\u20ac\",\"\\u20ac\",\"\\u20ac\",\"\\u20ac\",\"\\u20ac\",\"\\u20ac\",\"\\u20ac\",\"\\u20ac\"],\"yaxis\":\"y\"},{\"alignmentgroup\":\"True\",\"bingroup\":\"y\",\"hovertemplate\":\"Tag=Mediterr\\u00e1nea<br>count=%{x}<br>Precio=%{y}<extra></extra>\",\"legendgroup\":\"Mediterr\\u00e1nea\",\"marker\":{\"color\":\"#FF97FF\",\"pattern\":{\"shape\":\"\"}},\"name\":\"Mediterr\\u00e1nea\",\"offsetgroup\":\"Mediterr\\u00e1nea\",\"orientation\":\"h\",\"showlegend\":true,\"type\":\"histogram\",\"xaxis\":\"x\",\"y\":[\"\\u20ac\\u20ac\\u20ac\",\"\\u20ac\",\"\\u20ac\",\"\\u20ac\",\"\\u20ac\",\"\\u20ac\",\"\\u20ac\",\"\\u20ac\\u20ac\\u20ac\",\"\\u20ac\",\"\\u20ac\\u20ac\",\"\\u20ac\",\"\\u20ac\\u20ac\\u20ac\",\"\\u20ac\\u20ac\",\"\\u20ac\",\"\\u20ac\",\"\\u20ac\\u20ac\\u20ac\",\"\\u20ac\\u20ac\",\"\\u20ac\\u20ac\\u20ac\",\"\\u20ac\\u20ac\",\"\\u20ac\",\"\\u20ac\\u20ac\\u20ac\",\"\\u20ac\\u20ac\\u20ac\",\"\\u20ac\\u20ac\\u20ac\",\"\\u20ac\",\"\\u20ac\",\"\\u20ac\",\"\\u20ac\",\"\\u20ac\",\"\\u20ac\",\"\\u20ac\",\"\\u20ac\",\"\\u20ac\",\"\\u20ac\",\"\\u20ac\",\"\\u20ac\",\"\\u20ac\",\"\\u20ac\",\"\\u20ac\",\"\\u20ac\",\"\\u20ac\",\"\\u20ac\\u20ac\",\"\\u20ac\",\"\\u20ac\"],\"yaxis\":\"y\"},{\"alignmentgroup\":\"True\",\"bingroup\":\"y\",\"hovertemplate\":\"Tag=Kebab<br>count=%{x}<br>Precio=%{y}<extra></extra>\",\"legendgroup\":\"Kebab\",\"marker\":{\"color\":\"#FECB52\",\"pattern\":{\"shape\":\"\"}},\"name\":\"Kebab\",\"offsetgroup\":\"Kebab\",\"orientation\":\"h\",\"showlegend\":true,\"type\":\"histogram\",\"xaxis\":\"x\",\"y\":[\"\\u20ac\",\"\\u20ac\",\"\\u20ac\",\"\\u20ac\",\"\\u20ac\",\"\\u20ac\",\"\\u20ac\",\"\\u20ac\",\"\\u20ac\",\"\\u20ac\",\"\\u20ac\",\"\\u20ac\",\"\\u20ac\",\"\\u20ac\",\"\\u20ac\",\"\\u20ac\",\"\\u20ac\",\"\\u20ac\",\"\\u20ac\",\"\\u20ac\",\"\\u20ac\",\"\\u20ac\",\"\\u20ac\",\"\\u20ac\",\"\\u20ac\",\"\\u20ac\",\"\\u20ac\",\"\\u20ac\",\"\\u20ac\",\"\\u20ac\",\"\\u20ac\",\"\\u20ac\",\"\\u20ac\",\"\\u20ac\",\"\\u20ac\",\"\\u20ac\",\"\\u20ac\",\"\\u20ac\",\"\\u20ac\",\"\\u20ac\",\"\\u20ac\",\"\\u20ac\",\"\\u20ac\"],\"yaxis\":\"y\"}],                        {\"barmode\":\"relative\",\"legend\":{\"title\":{\"text\":\"Tag\"},\"tracegroupgap\":0},\"margin\":{\"t\":60},\"template\":{\"data\":{\"bar\":[{\"error_x\":{\"color\":\"#2a3f5f\"},\"error_y\":{\"color\":\"#2a3f5f\"},\"marker\":{\"line\":{\"color\":\"#E5ECF6\",\"width\":0.5},\"pattern\":{\"fillmode\":\"overlay\",\"size\":10,\"solidity\":0.2}},\"type\":\"bar\"}],\"barpolar\":[{\"marker\":{\"line\":{\"color\":\"#E5ECF6\",\"width\":0.5},\"pattern\":{\"fillmode\":\"overlay\",\"size\":10,\"solidity\":0.2}},\"type\":\"barpolar\"}],\"carpet\":[{\"aaxis\":{\"endlinecolor\":\"#2a3f5f\",\"gridcolor\":\"white\",\"linecolor\":\"white\",\"minorgridcolor\":\"white\",\"startlinecolor\":\"#2a3f5f\"},\"baxis\":{\"endlinecolor\":\"#2a3f5f\",\"gridcolor\":\"white\",\"linecolor\":\"white\",\"minorgridcolor\":\"white\",\"startlinecolor\":\"#2a3f5f\"},\"type\":\"carpet\"}],\"choropleth\":[{\"colorbar\":{\"outlinewidth\":0,\"ticks\":\"\"},\"type\":\"choropleth\"}],\"contour\":[{\"colorbar\":{\"outlinewidth\":0,\"ticks\":\"\"},\"colorscale\":[[0.0,\"#0d0887\"],[0.1111111111111111,\"#46039f\"],[0.2222222222222222,\"#7201a8\"],[0.3333333333333333,\"#9c179e\"],[0.4444444444444444,\"#bd3786\"],[0.5555555555555556,\"#d8576b\"],[0.6666666666666666,\"#ed7953\"],[0.7777777777777778,\"#fb9f3a\"],[0.8888888888888888,\"#fdca26\"],[1.0,\"#f0f921\"]],\"type\":\"contour\"}],\"contourcarpet\":[{\"colorbar\":{\"outlinewidth\":0,\"ticks\":\"\"},\"type\":\"contourcarpet\"}],\"heatmap\":[{\"colorbar\":{\"outlinewidth\":0,\"ticks\":\"\"},\"colorscale\":[[0.0,\"#0d0887\"],[0.1111111111111111,\"#46039f\"],[0.2222222222222222,\"#7201a8\"],[0.3333333333333333,\"#9c179e\"],[0.4444444444444444,\"#bd3786\"],[0.5555555555555556,\"#d8576b\"],[0.6666666666666666,\"#ed7953\"],[0.7777777777777778,\"#fb9f3a\"],[0.8888888888888888,\"#fdca26\"],[1.0,\"#f0f921\"]],\"type\":\"heatmap\"}],\"heatmapgl\":[{\"colorbar\":{\"outlinewidth\":0,\"ticks\":\"\"},\"colorscale\":[[0.0,\"#0d0887\"],[0.1111111111111111,\"#46039f\"],[0.2222222222222222,\"#7201a8\"],[0.3333333333333333,\"#9c179e\"],[0.4444444444444444,\"#bd3786\"],[0.5555555555555556,\"#d8576b\"],[0.6666666666666666,\"#ed7953\"],[0.7777777777777778,\"#fb9f3a\"],[0.8888888888888888,\"#fdca26\"],[1.0,\"#f0f921\"]],\"type\":\"heatmapgl\"}],\"histogram\":[{\"marker\":{\"pattern\":{\"fillmode\":\"overlay\",\"size\":10,\"solidity\":0.2}},\"type\":\"histogram\"}],\"histogram2d\":[{\"colorbar\":{\"outlinewidth\":0,\"ticks\":\"\"},\"colorscale\":[[0.0,\"#0d0887\"],[0.1111111111111111,\"#46039f\"],[0.2222222222222222,\"#7201a8\"],[0.3333333333333333,\"#9c179e\"],[0.4444444444444444,\"#bd3786\"],[0.5555555555555556,\"#d8576b\"],[0.6666666666666666,\"#ed7953\"],[0.7777777777777778,\"#fb9f3a\"],[0.8888888888888888,\"#fdca26\"],[1.0,\"#f0f921\"]],\"type\":\"histogram2d\"}],\"histogram2dcontour\":[{\"colorbar\":{\"outlinewidth\":0,\"ticks\":\"\"},\"colorscale\":[[0.0,\"#0d0887\"],[0.1111111111111111,\"#46039f\"],[0.2222222222222222,\"#7201a8\"],[0.3333333333333333,\"#9c179e\"],[0.4444444444444444,\"#bd3786\"],[0.5555555555555556,\"#d8576b\"],[0.6666666666666666,\"#ed7953\"],[0.7777777777777778,\"#fb9f3a\"],[0.8888888888888888,\"#fdca26\"],[1.0,\"#f0f921\"]],\"type\":\"histogram2dcontour\"}],\"mesh3d\":[{\"colorbar\":{\"outlinewidth\":0,\"ticks\":\"\"},\"type\":\"mesh3d\"}],\"parcoords\":[{\"line\":{\"colorbar\":{\"outlinewidth\":0,\"ticks\":\"\"}},\"type\":\"parcoords\"}],\"pie\":[{\"automargin\":true,\"type\":\"pie\"}],\"scatter\":[{\"marker\":{\"colorbar\":{\"outlinewidth\":0,\"ticks\":\"\"}},\"type\":\"scatter\"}],\"scatter3d\":[{\"line\":{\"colorbar\":{\"outlinewidth\":0,\"ticks\":\"\"}},\"marker\":{\"colorbar\":{\"outlinewidth\":0,\"ticks\":\"\"}},\"type\":\"scatter3d\"}],\"scattercarpet\":[{\"marker\":{\"colorbar\":{\"outlinewidth\":0,\"ticks\":\"\"}},\"type\":\"scattercarpet\"}],\"scattergeo\":[{\"marker\":{\"colorbar\":{\"outlinewidth\":0,\"ticks\":\"\"}},\"type\":\"scattergeo\"}],\"scattergl\":[{\"marker\":{\"colorbar\":{\"outlinewidth\":0,\"ticks\":\"\"}},\"type\":\"scattergl\"}],\"scattermapbox\":[{\"marker\":{\"colorbar\":{\"outlinewidth\":0,\"ticks\":\"\"}},\"type\":\"scattermapbox\"}],\"scatterpolar\":[{\"marker\":{\"colorbar\":{\"outlinewidth\":0,\"ticks\":\"\"}},\"type\":\"scatterpolar\"}],\"scatterpolargl\":[{\"marker\":{\"colorbar\":{\"outlinewidth\":0,\"ticks\":\"\"}},\"type\":\"scatterpolargl\"}],\"scatterternary\":[{\"marker\":{\"colorbar\":{\"outlinewidth\":0,\"ticks\":\"\"}},\"type\":\"scatterternary\"}],\"surface\":[{\"colorbar\":{\"outlinewidth\":0,\"ticks\":\"\"},\"colorscale\":[[0.0,\"#0d0887\"],[0.1111111111111111,\"#46039f\"],[0.2222222222222222,\"#7201a8\"],[0.3333333333333333,\"#9c179e\"],[0.4444444444444444,\"#bd3786\"],[0.5555555555555556,\"#d8576b\"],[0.6666666666666666,\"#ed7953\"],[0.7777777777777778,\"#fb9f3a\"],[0.8888888888888888,\"#fdca26\"],[1.0,\"#f0f921\"]],\"type\":\"surface\"}],\"table\":[{\"cells\":{\"fill\":{\"color\":\"#EBF0F8\"},\"line\":{\"color\":\"white\"}},\"header\":{\"fill\":{\"color\":\"#C8D4E3\"},\"line\":{\"color\":\"white\"}},\"type\":\"table\"}]},\"layout\":{\"annotationdefaults\":{\"arrowcolor\":\"#2a3f5f\",\"arrowhead\":0,\"arrowwidth\":1},\"autotypenumbers\":\"strict\",\"coloraxis\":{\"colorbar\":{\"outlinewidth\":0,\"ticks\":\"\"}},\"colorscale\":{\"diverging\":[[0,\"#8e0152\"],[0.1,\"#c51b7d\"],[0.2,\"#de77ae\"],[0.3,\"#f1b6da\"],[0.4,\"#fde0ef\"],[0.5,\"#f7f7f7\"],[0.6,\"#e6f5d0\"],[0.7,\"#b8e186\"],[0.8,\"#7fbc41\"],[0.9,\"#4d9221\"],[1,\"#276419\"]],\"sequential\":[[0.0,\"#0d0887\"],[0.1111111111111111,\"#46039f\"],[0.2222222222222222,\"#7201a8\"],[0.3333333333333333,\"#9c179e\"],[0.4444444444444444,\"#bd3786\"],[0.5555555555555556,\"#d8576b\"],[0.6666666666666666,\"#ed7953\"],[0.7777777777777778,\"#fb9f3a\"],[0.8888888888888888,\"#fdca26\"],[1.0,\"#f0f921\"]],\"sequentialminus\":[[0.0,\"#0d0887\"],[0.1111111111111111,\"#46039f\"],[0.2222222222222222,\"#7201a8\"],[0.3333333333333333,\"#9c179e\"],[0.4444444444444444,\"#bd3786\"],[0.5555555555555556,\"#d8576b\"],[0.6666666666666666,\"#ed7953\"],[0.7777777777777778,\"#fb9f3a\"],[0.8888888888888888,\"#fdca26\"],[1.0,\"#f0f921\"]]},\"colorway\":[\"#636efa\",\"#EF553B\",\"#00cc96\",\"#ab63fa\",\"#FFA15A\",\"#19d3f3\",\"#FF6692\",\"#B6E880\",\"#FF97FF\",\"#FECB52\"],\"font\":{\"color\":\"#2a3f5f\"},\"geo\":{\"bgcolor\":\"white\",\"lakecolor\":\"white\",\"landcolor\":\"#E5ECF6\",\"showlakes\":true,\"showland\":true,\"subunitcolor\":\"white\"},\"hoverlabel\":{\"align\":\"left\"},\"hovermode\":\"closest\",\"mapbox\":{\"style\":\"light\"},\"paper_bgcolor\":\"white\",\"plot_bgcolor\":\"#E5ECF6\",\"polar\":{\"angularaxis\":{\"gridcolor\":\"white\",\"linecolor\":\"white\",\"ticks\":\"\"},\"bgcolor\":\"#E5ECF6\",\"radialaxis\":{\"gridcolor\":\"white\",\"linecolor\":\"white\",\"ticks\":\"\"}},\"scene\":{\"xaxis\":{\"backgroundcolor\":\"#E5ECF6\",\"gridcolor\":\"white\",\"gridwidth\":2,\"linecolor\":\"white\",\"showbackground\":true,\"ticks\":\"\",\"zerolinecolor\":\"white\"},\"yaxis\":{\"backgroundcolor\":\"#E5ECF6\",\"gridcolor\":\"white\",\"gridwidth\":2,\"linecolor\":\"white\",\"showbackground\":true,\"ticks\":\"\",\"zerolinecolor\":\"white\"},\"zaxis\":{\"backgroundcolor\":\"#E5ECF6\",\"gridcolor\":\"white\",\"gridwidth\":2,\"linecolor\":\"white\",\"showbackground\":true,\"ticks\":\"\",\"zerolinecolor\":\"white\"}},\"shapedefaults\":{\"line\":{\"color\":\"#2a3f5f\"}},\"ternary\":{\"aaxis\":{\"gridcolor\":\"white\",\"linecolor\":\"white\",\"ticks\":\"\"},\"baxis\":{\"gridcolor\":\"white\",\"linecolor\":\"white\",\"ticks\":\"\"},\"bgcolor\":\"#E5ECF6\",\"caxis\":{\"gridcolor\":\"white\",\"linecolor\":\"white\",\"ticks\":\"\"}},\"title\":{\"x\":0.05},\"xaxis\":{\"automargin\":true,\"gridcolor\":\"white\",\"linecolor\":\"white\",\"ticks\":\"\",\"title\":{\"standoff\":15},\"zerolinecolor\":\"white\",\"zerolinewidth\":2},\"yaxis\":{\"automargin\":true,\"gridcolor\":\"white\",\"linecolor\":\"white\",\"ticks\":\"\",\"title\":{\"standoff\":15},\"zerolinecolor\":\"white\",\"zerolinewidth\":2}}},\"xaxis\":{\"anchor\":\"y\",\"domain\":[0.0,1.0],\"title\":{\"text\":\"count\"}},\"yaxis\":{\"anchor\":\"x\",\"domain\":[0.0,1.0],\"title\":{\"text\":\"Precio\"}}},                        {\"responsive\": true}                    ).then(function(){\n",
       "                            \n",
       "var gd = document.getElementById('d711dd35-118e-4cc2-a9ff-af9a247c69dd');\n",
       "var x = new MutationObserver(function (mutations, observer) {{\n",
       "        var display = window.getComputedStyle(gd).display;\n",
       "        if (!display || display === 'none') {{\n",
       "            console.log([gd, 'removed!']);\n",
       "            Plotly.purge(gd);\n",
       "            observer.disconnect();\n",
       "        }}\n",
       "}});\n",
       "\n",
       "// Listen for the removal of the full notebook cells\n",
       "var notebookContainer = gd.closest('#notebook-container');\n",
       "if (notebookContainer) {{\n",
       "    x.observe(notebookContainer, {childList: true});\n",
       "}}\n",
       "\n",
       "// Listen for the clearing of the current output cell\n",
       "var outputEl = gd.closest('.output');\n",
       "if (outputEl) {{\n",
       "    x.observe(outputEl, {childList: true});\n",
       "}}\n",
       "\n",
       "                        })                };                });            </script>        </div>"
      ]
     },
     "metadata": {},
     "output_type": "display_data"
    }
   ],
   "source": [
    "top10 = list(dict(ue[\"Tag\"].value_counts()[0:10]).keys())\n",
    "toptags = ue[ue[\"Tag\"].isin(top10)]\n",
    "tagss = px.histogram(toptags, y=\"Precio\",color=\"Tag\")\n",
    "tagss.show()"
   ]
  },
  {
   "cell_type": "code",
   "execution_count": null,
   "id": "d5ff0008",
   "metadata": {},
   "outputs": [],
   "source": []
  }
 ],
 "metadata": {
  "kernelspec": {
   "display_name": "ironhack",
   "language": "python",
   "name": "ironhack"
  },
  "language_info": {
   "codemirror_mode": {
    "name": "ipython",
    "version": 3
   },
   "file_extension": ".py",
   "mimetype": "text/x-python",
   "name": "python",
   "nbconvert_exporter": "python",
   "pygments_lexer": "ipython3",
   "version": "3.8.12"
  }
 },
 "nbformat": 4,
 "nbformat_minor": 5
}

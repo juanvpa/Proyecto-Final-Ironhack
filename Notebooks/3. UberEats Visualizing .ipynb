{
 "cells": [
  {
   "cell_type": "markdown",
   "id": "38430808",
   "metadata": {},
   "source": [
    "IMPORTAMOS LIBRERÍAS"
   ]
  },
  {
   "cell_type": "code",
   "execution_count": 40,
   "id": "f3b34e34",
   "metadata": {},
   "outputs": [],
   "source": [
    "import pandas as pd\n",
    "import numpy as np\n",
    "import re\n",
    "import seaborn as sns\n",
    "import matplotlib.pyplot as plt\n",
    "import plotly.express as px\n",
    "import plotly.graph_objects as go"
   ]
  },
  {
   "cell_type": "code",
   "execution_count": 54,
   "id": "73e9c325",
   "metadata": {},
   "outputs": [],
   "source": [
    "# Matplotlib inline para visualizar los gráficos de Matplotlib\n",
    "%matplotlib inline\n",
    "%config Inlinebackend.figure_format= 'retina'\n",
    "# Configuración para setear y que todas las fig de Seaborn salgan por defecto con este tamaño\n",
    "# Se puede especificar el tamaño de cada figura\n",
    "sns.set_context(\"poster\")\n",
    "sns.set(rc={\"figure.figsize\": (12.,6.)})\n",
    "sns.set_style(\"whitegrid\")"
   ]
  },
  {
   "cell_type": "markdown",
   "id": "ea9a9da0",
   "metadata": {},
   "source": [
    "IMPORTAMOS EL CSV DE UBEREATS QUE LIMPIAREMOS"
   ]
  },
  {
   "cell_type": "code",
   "execution_count": 36,
   "id": "afc1e1d6",
   "metadata": {
    "scrolled": false
   },
   "outputs": [
    {
     "data": {
      "text/html": [
       "<div>\n",
       "<style scoped>\n",
       "    .dataframe tbody tr th:only-of-type {\n",
       "        vertical-align: middle;\n",
       "    }\n",
       "\n",
       "    .dataframe tbody tr th {\n",
       "        vertical-align: top;\n",
       "    }\n",
       "\n",
       "    .dataframe thead th {\n",
       "        text-align: right;\n",
       "    }\n",
       "</style>\n",
       "<table border=\"1\" class=\"dataframe\">\n",
       "  <thead>\n",
       "    <tr style=\"text-align: right;\">\n",
       "      <th></th>\n",
       "      <th>Restaurante</th>\n",
       "      <th>Valoración</th>\n",
       "      <th>Nota</th>\n",
       "      <th>Delivery_Fee</th>\n",
       "      <th>ETA</th>\n",
       "      <th>Tag</th>\n",
       "      <th>Precio</th>\n",
       "      <th>Dirección</th>\n",
       "      <th>Barrio</th>\n",
       "    </tr>\n",
       "  </thead>\n",
       "  <tbody>\n",
       "    <tr>\n",
       "      <th>68</th>\n",
       "      <td>TAMCOC</td>\n",
       "      <td>28</td>\n",
       "      <td>3.1</td>\n",
       "      <td>1.4</td>\n",
       "      <td>45–55</td>\n",
       "      <td>Italiana</td>\n",
       "      <td>€€€</td>\n",
       "      <td>Calle De La Alianza 33,  28041</td>\n",
       "      <td>Arganzuela</td>\n",
       "    </tr>\n",
       "    <tr>\n",
       "      <th>46</th>\n",
       "      <td>Chocolateria Tacita de Plata</td>\n",
       "      <td>13</td>\n",
       "      <td>4.1</td>\n",
       "      <td>0.4</td>\n",
       "      <td>35–45</td>\n",
       "      <td>Postres</td>\n",
       "      <td>€</td>\n",
       "      <td>Calle Gran Vía, 22,  28004</td>\n",
       "      <td>Centro</td>\n",
       "    </tr>\n",
       "    <tr>\n",
       "      <th>265</th>\n",
       "      <td>Doner kebap efes</td>\n",
       "      <td>23</td>\n",
       "      <td>4.7</td>\n",
       "      <td>1.9</td>\n",
       "      <td>25–35</td>\n",
       "      <td>Kebab</td>\n",
       "      <td>€€€</td>\n",
       "      <td>Calle De López De Hoyos 11,  28006</td>\n",
       "      <td>Chamartín</td>\n",
       "    </tr>\n",
       "  </tbody>\n",
       "</table>\n",
       "</div>"
      ],
      "text/plain": [
       "                      Restaurante  Valoración  Nota  Delivery_Fee    ETA  \\\n",
       "68                         TAMCOC          28   3.1           1.4  45–55   \n",
       "46   Chocolateria Tacita de Plata          13   4.1           0.4  35–45   \n",
       "265              Doner kebap efes          23   4.7           1.9  25–35   \n",
       "\n",
       "          Tag Precio                           Dirección      Barrio  \n",
       "68   Italiana    €€€      Calle De La Alianza 33,  28041  Arganzuela  \n",
       "46    Postres      €          Calle Gran Vía, 22,  28004      Centro  \n",
       "265     Kebab    €€€  Calle De López De Hoyos 11,  28006   Chamartín  "
      ]
     },
     "execution_count": 36,
     "metadata": {},
     "output_type": "execute_result"
    }
   ],
   "source": [
    "ue = pd.read_csv(\"../Data/UberEats.csv\", index_col = 0)\n",
    "ue.sample(3)"
   ]
  },
  {
   "cell_type": "code",
   "execution_count": 38,
   "id": "1a0af121",
   "metadata": {},
   "outputs": [],
   "source": [
    "#for col in ue:\n",
    "    #print(col)\n",
    "    #print(\" \")\n",
    "    #print(ue[col].value_counts())\n",
    "    #print(\"-\" * 30)"
   ]
  },
  {
   "cell_type": "code",
   "execution_count": 39,
   "id": "1bf22ae8",
   "metadata": {},
   "outputs": [
    {
     "data": {
      "text/html": [
       "<div>\n",
       "<style scoped>\n",
       "    .dataframe tbody tr th:only-of-type {\n",
       "        vertical-align: middle;\n",
       "    }\n",
       "\n",
       "    .dataframe tbody tr th {\n",
       "        vertical-align: top;\n",
       "    }\n",
       "\n",
       "    .dataframe thead th {\n",
       "        text-align: right;\n",
       "    }\n",
       "</style>\n",
       "<table border=\"1\" class=\"dataframe\">\n",
       "  <thead>\n",
       "    <tr style=\"text-align: right;\">\n",
       "      <th></th>\n",
       "      <th>Superficie</th>\n",
       "      <th>Superficie.1</th>\n",
       "      <th>Densidad</th>\n",
       "      <th>Población</th>\n",
       "      <th>0 a 15</th>\n",
       "      <th>16 a 64</th>\n",
       "      <th>65 +</th>\n",
       "      <th>% 0 a 15</th>\n",
       "      <th>% 16 a 64</th>\n",
       "      <th>% 65 +</th>\n",
       "      <th>Esp</th>\n",
       "      <th>Extr</th>\n",
       "      <th>% Esp</th>\n",
       "      <th>% Extr</th>\n",
       "      <th>Nacim</th>\n",
       "      <th>Def</th>\n",
       "      <th>C Natural</th>\n",
       "      <th>€ m2</th>\n",
       "    </tr>\n",
       "  </thead>\n",
       "  <tbody>\n",
       "    <tr>\n",
       "      <th>0</th>\n",
       "      <td>Centro</td>\n",
       "      <td>523</td>\n",
       "      <td>270</td>\n",
       "      <td>141236</td>\n",
       "      <td>10608</td>\n",
       "      <td>108667</td>\n",
       "      <td>21961</td>\n",
       "      <td>8%</td>\n",
       "      <td>77%</td>\n",
       "      <td>16%</td>\n",
       "      <td>104726</td>\n",
       "      <td>36509</td>\n",
       "      <td>74%</td>\n",
       "      <td>26%</td>\n",
       "      <td>863</td>\n",
       "      <td>1252</td>\n",
       "      <td>-389</td>\n",
       "      <td>4865</td>\n",
       "    </tr>\n",
       "    <tr>\n",
       "      <th>1</th>\n",
       "      <td>Arganzuela</td>\n",
       "      <td>646</td>\n",
       "      <td>239</td>\n",
       "      <td>154243</td>\n",
       "      <td>18571</td>\n",
       "      <td>105078</td>\n",
       "      <td>30594</td>\n",
       "      <td>12%</td>\n",
       "      <td>68%</td>\n",
       "      <td>20%</td>\n",
       "      <td>137604</td>\n",
       "      <td>16637</td>\n",
       "      <td>89%</td>\n",
       "      <td>11%</td>\n",
       "      <td>1142</td>\n",
       "      <td>1764</td>\n",
       "      <td>-622</td>\n",
       "      <td>3888</td>\n",
       "    </tr>\n",
       "    <tr>\n",
       "      <th>2</th>\n",
       "      <td>Retiro</td>\n",
       "      <td>546</td>\n",
       "      <td>217</td>\n",
       "      <td>118557</td>\n",
       "      <td>14443</td>\n",
       "      <td>73037</td>\n",
       "      <td>31077</td>\n",
       "      <td>12%</td>\n",
       "      <td>62%</td>\n",
       "      <td>26%</td>\n",
       "      <td>108277</td>\n",
       "      <td>10279</td>\n",
       "      <td>91%</td>\n",
       "      <td>9%</td>\n",
       "      <td>801</td>\n",
       "      <td>1627</td>\n",
       "      <td>-826</td>\n",
       "      <td>4502</td>\n",
       "    </tr>\n",
       "  </tbody>\n",
       "</table>\n",
       "</div>"
      ],
      "text/plain": [
       "   Superficie  Superficie.1  Densidad  Población  0 a 15  16 a 64   65 +  \\\n",
       "0      Centro           523       270     141236   10608   108667  21961   \n",
       "1  Arganzuela           646       239     154243   18571   105078  30594   \n",
       "2      Retiro           546       217     118557   14443    73037  31077   \n",
       "\n",
       "  % 0 a 15 % 16 a 64 % 65 +     Esp   Extr % Esp % Extr  Nacim   Def  \\\n",
       "0       8%       77%    16%  104726  36509   74%    26%    863  1252   \n",
       "1      12%       68%    20%  137604  16637   89%    11%   1142  1764   \n",
       "2      12%       62%    26%  108277  10279   91%     9%    801  1627   \n",
       "\n",
       "   C Natural  € m2  \n",
       "0       -389  4865  \n",
       "1       -622  3888  \n",
       "2       -826  4502  "
      ]
     },
     "execution_count": 39,
     "metadata": {},
     "output_type": "execute_result"
    }
   ],
   "source": [
    "barrio = pd.read_csv(\"../Data/Barrios_cifras.csv\")\n",
    "barrio.head(3)"
   ]
  },
  {
   "cell_type": "markdown",
   "id": "f9e0c419",
   "metadata": {},
   "source": [
    "VAMOS CON VISUALIZACIONES QUE NOS LLEVEN A TOMAR DECISIONES"
   ]
  },
  {
   "cell_type": "code",
   "execution_count": 98,
   "id": "d01b6b02",
   "metadata": {},
   "outputs": [
    {
     "data": {
      "application/vnd.plotly.v1+json": {
       "config": {
        "plotlyServerURL": "https://plot.ly"
       },
       "data": [
        {
         "alignmentgroup": "True",
         "bingroup": "x",
         "hovertemplate": "Tag=India<br>Barrio=%{x}<br>count=%{y}<extra></extra>",
         "legendgroup": "India",
         "marker": {
          "color": "#636efa",
          "pattern": {
           "shape": ""
          }
         },
         "name": "India",
         "offsetgroup": "India",
         "orientation": "v",
         "showlegend": true,
         "type": "histogram",
         "x": [
          "Centro",
          "Centro",
          "Centro",
          "Centro",
          "Arganzuela",
          "Arganzuela",
          "Arganzuela",
          "Arganzuela",
          "Retiro",
          "Retiro",
          "Retiro",
          "Salamanca",
          "Salamanca",
          "Chamartín",
          "Chamartín",
          "Tetuán",
          "Chamberí",
          "Chamberí",
          "Chamberí",
          "Moncloa-Aravaca",
          "Carabanchel",
          "Moratalaz"
         ],
         "xaxis": "x",
         "yaxis": "y"
        },
        {
         "alignmentgroup": "True",
         "bingroup": "x",
         "hovertemplate": "Tag=Pizza<br>Barrio=%{x}<br>count=%{y}<extra></extra>",
         "legendgroup": "Pizza",
         "marker": {
          "color": "#EF553B",
          "pattern": {
           "shape": ""
          }
         },
         "name": "Pizza",
         "offsetgroup": "Pizza",
         "orientation": "v",
         "showlegend": true,
         "type": "histogram",
         "x": [
          "Centro",
          "Centro",
          "Centro",
          "Centro",
          "Centro",
          "Centro",
          "Centro",
          "Centro",
          "Centro",
          "Arganzuela",
          "Arganzuela",
          "Arganzuela",
          "Arganzuela",
          "Arganzuela",
          "Arganzuela",
          "Arganzuela",
          "Arganzuela",
          "Arganzuela",
          "Arganzuela",
          "Retiro",
          "Retiro",
          "Retiro",
          "Retiro",
          "Retiro",
          "Retiro",
          "Retiro",
          "Retiro",
          "Salamanca",
          "Salamanca",
          "Salamanca",
          "Salamanca",
          "Salamanca",
          "Salamanca",
          "Salamanca",
          "Chamartín",
          "Chamartín",
          "Chamartín",
          "Chamartín",
          "Chamartín",
          "Chamartín",
          "Tetuán",
          "Tetuán",
          "Tetuán",
          "Tetuán",
          "Tetuán",
          "Tetuán",
          "Chamberí",
          "Chamberí",
          "Chamberí",
          "Chamberí",
          "Chamberí",
          "Chamberí",
          "Chamberí",
          "Chamberí",
          "Chamberí",
          "Chamberí",
          "Moncloa-Aravaca",
          "Moncloa-Aravaca",
          "Moncloa-Aravaca",
          "Moncloa-Aravaca",
          "Carabanchel",
          "Carabanchel",
          "Carabanchel",
          "Carabanchel",
          "Carabanchel",
          "Carabanchel",
          "Usera",
          "Usera",
          "Usera",
          "Usera",
          "Usera",
          "Usera",
          "Usera",
          "Usera",
          "Usera",
          "Usera",
          "Puente de Vallecas",
          "Puente de Vallecas",
          "Puente de Vallecas",
          "Puente de Vallecas",
          "Moratalaz",
          "Moratalaz",
          "Moratalaz",
          "Moratalaz",
          "Moratalaz",
          "Moratalaz",
          "Moratalaz",
          "Ciudad Lineal",
          "Ciudad Lineal",
          "Ciudad Lineal",
          "Ciudad Lineal"
         ],
         "xaxis": "x",
         "yaxis": "y"
        },
        {
         "alignmentgroup": "True",
         "bingroup": "x",
         "hovertemplate": "Tag=Postres<br>Barrio=%{x}<br>count=%{y}<extra></extra>",
         "legendgroup": "Postres",
         "marker": {
          "color": "#00cc96",
          "pattern": {
           "shape": ""
          }
         },
         "name": "Postres",
         "offsetgroup": "Postres",
         "orientation": "v",
         "showlegend": true,
         "type": "histogram",
         "x": [
          "Centro",
          "Centro",
          "Centro",
          "Arganzuela",
          "Arganzuela",
          "Retiro",
          "Retiro",
          "Salamanca",
          "Salamanca",
          "Salamanca",
          "Salamanca",
          "Chamartín",
          "Chamartín",
          "Chamartín",
          "Chamberí",
          "Moncloa-Aravaca",
          "Carabanchel",
          "Carabanchel",
          "Moratalaz",
          "Ciudad Lineal",
          "Ciudad Lineal",
          "Ciudad Lineal",
          "Ciudad Lineal"
         ],
         "xaxis": "x",
         "yaxis": "y"
        },
        {
         "alignmentgroup": "True",
         "bingroup": "x",
         "hovertemplate": "Tag=Empanada<br>Barrio=%{x}<br>count=%{y}<extra></extra>",
         "legendgroup": "Empanada",
         "marker": {
          "color": "#ab63fa",
          "pattern": {
           "shape": ""
          }
         },
         "name": "Empanada",
         "offsetgroup": "Empanada",
         "orientation": "v",
         "showlegend": true,
         "type": "histogram",
         "x": [
          "Centro",
          "Centro",
          "Centro",
          "Arganzuela",
          "Arganzuela",
          "Arganzuela",
          "Retiro",
          "Retiro",
          "Retiro",
          "Retiro",
          "Salamanca",
          "Salamanca",
          "Salamanca",
          "Salamanca",
          "Chamartín",
          "Chamartín",
          "Chamartín",
          "Chamartín",
          "Tetuán",
          "Tetuán",
          "Tetuán",
          "Tetuán",
          "Chamberí",
          "Chamberí",
          "Moncloa-Aravaca",
          "Moncloa-Aravaca",
          "Moncloa-Aravaca",
          "Usera",
          "Puente de Vallecas",
          "Moratalaz",
          "Moratalaz",
          "Ciudad Lineal",
          "Ciudad Lineal",
          "Ciudad Lineal",
          "Ciudad Lineal"
         ],
         "xaxis": "x",
         "yaxis": "y"
        },
        {
         "alignmentgroup": "True",
         "bingroup": "x",
         "hovertemplate": "Tag=Pollo<br>Barrio=%{x}<br>count=%{y}<extra></extra>",
         "legendgroup": "Pollo",
         "marker": {
          "color": "#FFA15A",
          "pattern": {
           "shape": ""
          }
         },
         "name": "Pollo",
         "offsetgroup": "Pollo",
         "orientation": "v",
         "showlegend": true,
         "type": "histogram",
         "x": [
          "Centro",
          "Centro",
          "Centro",
          "Centro",
          "Centro",
          "Centro",
          "Centro",
          "Arganzuela",
          "Arganzuela",
          "Arganzuela",
          "Arganzuela",
          "Arganzuela",
          "Arganzuela",
          "Arganzuela",
          "Retiro",
          "Retiro",
          "Retiro",
          "Retiro",
          "Salamanca",
          "Salamanca",
          "Salamanca",
          "Salamanca",
          "Salamanca",
          "Chamartín",
          "Chamartín",
          "Chamartín",
          "Chamartín",
          "Chamartín",
          "Chamartín",
          "Chamartín",
          "Chamartín",
          "Chamartín",
          "Tetuán",
          "Tetuán",
          "Tetuán",
          "Tetuán",
          "Tetuán",
          "Tetuán",
          "Tetuán",
          "Chamberí",
          "Chamberí",
          "Chamberí",
          "Chamberí",
          "Chamberí",
          "Chamberí",
          "Chamberí",
          "Chamberí",
          "Chamberí",
          "Chamberí",
          "Chamberí",
          "Moncloa-Aravaca",
          "Moncloa-Aravaca",
          "Moncloa-Aravaca",
          "Moncloa-Aravaca",
          "Moncloa-Aravaca",
          "Moncloa-Aravaca",
          "Moncloa-Aravaca",
          "Carabanchel",
          "Carabanchel",
          "Carabanchel",
          "Carabanchel",
          "Carabanchel",
          "Usera",
          "Usera",
          "Usera",
          "Usera",
          "Usera",
          "Puente de Vallecas",
          "Puente de Vallecas",
          "Puente de Vallecas",
          "Puente de Vallecas",
          "Puente de Vallecas",
          "Puente de Vallecas",
          "Moratalaz",
          "Moratalaz",
          "Moratalaz",
          "Moratalaz",
          "Ciudad Lineal",
          "Ciudad Lineal",
          "Ciudad Lineal",
          "Ciudad Lineal"
         ],
         "xaxis": "x",
         "yaxis": "y"
        },
        {
         "alignmentgroup": "True",
         "bingroup": "x",
         "hovertemplate": "Tag=China<br>Barrio=%{x}<br>count=%{y}<extra></extra>",
         "legendgroup": "China",
         "marker": {
          "color": "#19d3f3",
          "pattern": {
           "shape": ""
          }
         },
         "name": "China",
         "offsetgroup": "China",
         "orientation": "v",
         "showlegend": true,
         "type": "histogram",
         "x": [
          "Centro",
          "Centro",
          "Arganzuela",
          "Retiro",
          "Retiro",
          "Retiro",
          "Salamanca",
          "Salamanca",
          "Chamartín",
          "Chamberí",
          "Moncloa-Aravaca",
          "Usera",
          "Usera",
          "Usera",
          "Puente de Vallecas",
          "Puente de Vallecas",
          "Moratalaz",
          "Moratalaz",
          "Moratalaz",
          "Ciudad Lineal",
          "Ciudad Lineal",
          "Ciudad Lineal"
         ],
         "xaxis": "x",
         "yaxis": "y"
        },
        {
         "alignmentgroup": "True",
         "bingroup": "x",
         "hovertemplate": "Tag=Hamburguesas<br>Barrio=%{x}<br>count=%{y}<extra></extra>",
         "legendgroup": "Hamburguesas",
         "marker": {
          "color": "#FF6692",
          "pattern": {
           "shape": ""
          }
         },
         "name": "Hamburguesas",
         "offsetgroup": "Hamburguesas",
         "orientation": "v",
         "showlegend": true,
         "type": "histogram",
         "x": [
          "Centro",
          "Centro",
          "Centro",
          "Centro",
          "Arganzuela",
          "Arganzuela",
          "Arganzuela",
          "Arganzuela",
          "Retiro",
          "Retiro",
          "Retiro",
          "Retiro",
          "Retiro",
          "Retiro",
          "Retiro",
          "Salamanca",
          "Salamanca",
          "Salamanca",
          "Salamanca",
          "Salamanca",
          "Salamanca",
          "Salamanca",
          "Salamanca",
          "Salamanca",
          "Salamanca",
          "Chamartín",
          "Chamartín",
          "Chamartín",
          "Chamartín",
          "Chamartín",
          "Chamartín",
          "Chamartín",
          "Tetuán",
          "Tetuán",
          "Tetuán",
          "Tetuán",
          "Tetuán",
          "Tetuán",
          "Chamberí",
          "Chamberí",
          "Chamberí",
          "Chamberí",
          "Chamberí",
          "Moncloa-Aravaca",
          "Moncloa-Aravaca",
          "Moncloa-Aravaca",
          "Carabanchel",
          "Carabanchel",
          "Carabanchel",
          "Carabanchel",
          "Carabanchel",
          "Usera",
          "Usera",
          "Usera",
          "Usera",
          "Puente de Vallecas",
          "Puente de Vallecas",
          "Puente de Vallecas",
          "Puente de Vallecas",
          "Moratalaz",
          "Moratalaz",
          "Moratalaz",
          "Moratalaz",
          "Moratalaz",
          "Ciudad Lineal",
          "Ciudad Lineal",
          "Ciudad Lineal",
          "Ciudad Lineal",
          "Ciudad Lineal"
         ],
         "xaxis": "x",
         "yaxis": "y"
        },
        {
         "alignmentgroup": "True",
         "bingroup": "x",
         "hovertemplate": "Tag=Italiana<br>Barrio=%{x}<br>count=%{y}<extra></extra>",
         "legendgroup": "Italiana",
         "marker": {
          "color": "#B6E880",
          "pattern": {
           "shape": ""
          }
         },
         "name": "Italiana",
         "offsetgroup": "Italiana",
         "orientation": "v",
         "showlegend": true,
         "type": "histogram",
         "x": [
          "Centro",
          "Centro",
          "Centro",
          "Arganzuela",
          "Arganzuela",
          "Retiro",
          "Retiro",
          "Salamanca",
          "Salamanca",
          "Chamartín",
          "Tetuán",
          "Chamberí",
          "Moncloa-Aravaca",
          "Carabanchel",
          "Carabanchel",
          "Carabanchel",
          "Usera",
          "Usera",
          "Usera",
          "Puente de Vallecas",
          "Ciudad Lineal"
         ],
         "xaxis": "x",
         "yaxis": "y"
        },
        {
         "alignmentgroup": "True",
         "bingroup": "x",
         "hovertemplate": "Tag=Comida rápida<br>Barrio=%{x}<br>count=%{y}<extra></extra>",
         "legendgroup": "Comida rápida",
         "marker": {
          "color": "#FF97FF",
          "pattern": {
           "shape": ""
          }
         },
         "name": "Comida rápida",
         "offsetgroup": "Comida rápida",
         "orientation": "v",
         "showlegend": true,
         "type": "histogram",
         "x": [
          "Centro",
          "Arganzuela",
          "Retiro",
          "Salamanca",
          "Tetuán",
          "Chamberí",
          "Moncloa-Aravaca",
          "Moncloa-Aravaca",
          "Moncloa-Aravaca",
          "Moncloa-Aravaca",
          "Moncloa-Aravaca",
          "Moncloa-Aravaca",
          "Usera",
          "Usera",
          "Puente de Vallecas",
          "Moratalaz",
          "Moratalaz",
          "Moratalaz",
          "Moratalaz",
          "Moratalaz",
          "Ciudad Lineal",
          "Ciudad Lineal"
         ],
         "xaxis": "x",
         "yaxis": "y"
        },
        {
         "alignmentgroup": "True",
         "bingroup": "x",
         "hovertemplate": "Tag=Kebab<br>Barrio=%{x}<br>count=%{y}<extra></extra>",
         "legendgroup": "Kebab",
         "marker": {
          "color": "#FECB52",
          "pattern": {
           "shape": ""
          }
         },
         "name": "Kebab",
         "offsetgroup": "Kebab",
         "orientation": "v",
         "showlegend": true,
         "type": "histogram",
         "x": [
          "Retiro",
          "Retiro",
          "Salamanca",
          "Chamartín",
          "Chamartín",
          "Chamartín",
          "Tetuán",
          "Tetuán",
          "Moncloa-Aravaca",
          "Moncloa-Aravaca",
          "Carabanchel",
          "Carabanchel",
          "Carabanchel",
          "Carabanchel",
          "Carabanchel",
          "Carabanchel",
          "Usera",
          "Usera",
          "Usera",
          "Usera",
          "Usera",
          "Puente de Vallecas",
          "Puente de Vallecas",
          "Puente de Vallecas",
          "Puente de Vallecas",
          "Puente de Vallecas",
          "Moratalaz",
          "Moratalaz",
          "Moratalaz",
          "Moratalaz",
          "Moratalaz",
          "Moratalaz",
          "Ciudad Lineal",
          "Ciudad Lineal",
          "Ciudad Lineal",
          "Ciudad Lineal"
         ],
         "xaxis": "x",
         "yaxis": "y"
        }
       ],
       "layout": {
        "barmode": "relative",
        "legend": {
         "title": {
          "text": "Tag"
         },
         "tracegroupgap": 0
        },
        "margin": {
         "t": 60
        },
        "template": {
         "data": {
          "bar": [
           {
            "error_x": {
             "color": "#2a3f5f"
            },
            "error_y": {
             "color": "#2a3f5f"
            },
            "marker": {
             "line": {
              "color": "#E5ECF6",
              "width": 0.5
             },
             "pattern": {
              "fillmode": "overlay",
              "size": 10,
              "solidity": 0.2
             }
            },
            "type": "bar"
           }
          ],
          "barpolar": [
           {
            "marker": {
             "line": {
              "color": "#E5ECF6",
              "width": 0.5
             },
             "pattern": {
              "fillmode": "overlay",
              "size": 10,
              "solidity": 0.2
             }
            },
            "type": "barpolar"
           }
          ],
          "carpet": [
           {
            "aaxis": {
             "endlinecolor": "#2a3f5f",
             "gridcolor": "white",
             "linecolor": "white",
             "minorgridcolor": "white",
             "startlinecolor": "#2a3f5f"
            },
            "baxis": {
             "endlinecolor": "#2a3f5f",
             "gridcolor": "white",
             "linecolor": "white",
             "minorgridcolor": "white",
             "startlinecolor": "#2a3f5f"
            },
            "type": "carpet"
           }
          ],
          "choropleth": [
           {
            "colorbar": {
             "outlinewidth": 0,
             "ticks": ""
            },
            "type": "choropleth"
           }
          ],
          "contour": [
           {
            "colorbar": {
             "outlinewidth": 0,
             "ticks": ""
            },
            "colorscale": [
             [
              0,
              "#0d0887"
             ],
             [
              0.1111111111111111,
              "#46039f"
             ],
             [
              0.2222222222222222,
              "#7201a8"
             ],
             [
              0.3333333333333333,
              "#9c179e"
             ],
             [
              0.4444444444444444,
              "#bd3786"
             ],
             [
              0.5555555555555556,
              "#d8576b"
             ],
             [
              0.6666666666666666,
              "#ed7953"
             ],
             [
              0.7777777777777778,
              "#fb9f3a"
             ],
             [
              0.8888888888888888,
              "#fdca26"
             ],
             [
              1,
              "#f0f921"
             ]
            ],
            "type": "contour"
           }
          ],
          "contourcarpet": [
           {
            "colorbar": {
             "outlinewidth": 0,
             "ticks": ""
            },
            "type": "contourcarpet"
           }
          ],
          "heatmap": [
           {
            "colorbar": {
             "outlinewidth": 0,
             "ticks": ""
            },
            "colorscale": [
             [
              0,
              "#0d0887"
             ],
             [
              0.1111111111111111,
              "#46039f"
             ],
             [
              0.2222222222222222,
              "#7201a8"
             ],
             [
              0.3333333333333333,
              "#9c179e"
             ],
             [
              0.4444444444444444,
              "#bd3786"
             ],
             [
              0.5555555555555556,
              "#d8576b"
             ],
             [
              0.6666666666666666,
              "#ed7953"
             ],
             [
              0.7777777777777778,
              "#fb9f3a"
             ],
             [
              0.8888888888888888,
              "#fdca26"
             ],
             [
              1,
              "#f0f921"
             ]
            ],
            "type": "heatmap"
           }
          ],
          "heatmapgl": [
           {
            "colorbar": {
             "outlinewidth": 0,
             "ticks": ""
            },
            "colorscale": [
             [
              0,
              "#0d0887"
             ],
             [
              0.1111111111111111,
              "#46039f"
             ],
             [
              0.2222222222222222,
              "#7201a8"
             ],
             [
              0.3333333333333333,
              "#9c179e"
             ],
             [
              0.4444444444444444,
              "#bd3786"
             ],
             [
              0.5555555555555556,
              "#d8576b"
             ],
             [
              0.6666666666666666,
              "#ed7953"
             ],
             [
              0.7777777777777778,
              "#fb9f3a"
             ],
             [
              0.8888888888888888,
              "#fdca26"
             ],
             [
              1,
              "#f0f921"
             ]
            ],
            "type": "heatmapgl"
           }
          ],
          "histogram": [
           {
            "marker": {
             "pattern": {
              "fillmode": "overlay",
              "size": 10,
              "solidity": 0.2
             }
            },
            "type": "histogram"
           }
          ],
          "histogram2d": [
           {
            "colorbar": {
             "outlinewidth": 0,
             "ticks": ""
            },
            "colorscale": [
             [
              0,
              "#0d0887"
             ],
             [
              0.1111111111111111,
              "#46039f"
             ],
             [
              0.2222222222222222,
              "#7201a8"
             ],
             [
              0.3333333333333333,
              "#9c179e"
             ],
             [
              0.4444444444444444,
              "#bd3786"
             ],
             [
              0.5555555555555556,
              "#d8576b"
             ],
             [
              0.6666666666666666,
              "#ed7953"
             ],
             [
              0.7777777777777778,
              "#fb9f3a"
             ],
             [
              0.8888888888888888,
              "#fdca26"
             ],
             [
              1,
              "#f0f921"
             ]
            ],
            "type": "histogram2d"
           }
          ],
          "histogram2dcontour": [
           {
            "colorbar": {
             "outlinewidth": 0,
             "ticks": ""
            },
            "colorscale": [
             [
              0,
              "#0d0887"
             ],
             [
              0.1111111111111111,
              "#46039f"
             ],
             [
              0.2222222222222222,
              "#7201a8"
             ],
             [
              0.3333333333333333,
              "#9c179e"
             ],
             [
              0.4444444444444444,
              "#bd3786"
             ],
             [
              0.5555555555555556,
              "#d8576b"
             ],
             [
              0.6666666666666666,
              "#ed7953"
             ],
             [
              0.7777777777777778,
              "#fb9f3a"
             ],
             [
              0.8888888888888888,
              "#fdca26"
             ],
             [
              1,
              "#f0f921"
             ]
            ],
            "type": "histogram2dcontour"
           }
          ],
          "mesh3d": [
           {
            "colorbar": {
             "outlinewidth": 0,
             "ticks": ""
            },
            "type": "mesh3d"
           }
          ],
          "parcoords": [
           {
            "line": {
             "colorbar": {
              "outlinewidth": 0,
              "ticks": ""
             }
            },
            "type": "parcoords"
           }
          ],
          "pie": [
           {
            "automargin": true,
            "type": "pie"
           }
          ],
          "scatter": [
           {
            "marker": {
             "colorbar": {
              "outlinewidth": 0,
              "ticks": ""
             }
            },
            "type": "scatter"
           }
          ],
          "scatter3d": [
           {
            "line": {
             "colorbar": {
              "outlinewidth": 0,
              "ticks": ""
             }
            },
            "marker": {
             "colorbar": {
              "outlinewidth": 0,
              "ticks": ""
             }
            },
            "type": "scatter3d"
           }
          ],
          "scattercarpet": [
           {
            "marker": {
             "colorbar": {
              "outlinewidth": 0,
              "ticks": ""
             }
            },
            "type": "scattercarpet"
           }
          ],
          "scattergeo": [
           {
            "marker": {
             "colorbar": {
              "outlinewidth": 0,
              "ticks": ""
             }
            },
            "type": "scattergeo"
           }
          ],
          "scattergl": [
           {
            "marker": {
             "colorbar": {
              "outlinewidth": 0,
              "ticks": ""
             }
            },
            "type": "scattergl"
           }
          ],
          "scattermapbox": [
           {
            "marker": {
             "colorbar": {
              "outlinewidth": 0,
              "ticks": ""
             }
            },
            "type": "scattermapbox"
           }
          ],
          "scatterpolar": [
           {
            "marker": {
             "colorbar": {
              "outlinewidth": 0,
              "ticks": ""
             }
            },
            "type": "scatterpolar"
           }
          ],
          "scatterpolargl": [
           {
            "marker": {
             "colorbar": {
              "outlinewidth": 0,
              "ticks": ""
             }
            },
            "type": "scatterpolargl"
           }
          ],
          "scatterternary": [
           {
            "marker": {
             "colorbar": {
              "outlinewidth": 0,
              "ticks": ""
             }
            },
            "type": "scatterternary"
           }
          ],
          "surface": [
           {
            "colorbar": {
             "outlinewidth": 0,
             "ticks": ""
            },
            "colorscale": [
             [
              0,
              "#0d0887"
             ],
             [
              0.1111111111111111,
              "#46039f"
             ],
             [
              0.2222222222222222,
              "#7201a8"
             ],
             [
              0.3333333333333333,
              "#9c179e"
             ],
             [
              0.4444444444444444,
              "#bd3786"
             ],
             [
              0.5555555555555556,
              "#d8576b"
             ],
             [
              0.6666666666666666,
              "#ed7953"
             ],
             [
              0.7777777777777778,
              "#fb9f3a"
             ],
             [
              0.8888888888888888,
              "#fdca26"
             ],
             [
              1,
              "#f0f921"
             ]
            ],
            "type": "surface"
           }
          ],
          "table": [
           {
            "cells": {
             "fill": {
              "color": "#EBF0F8"
             },
             "line": {
              "color": "white"
             }
            },
            "header": {
             "fill": {
              "color": "#C8D4E3"
             },
             "line": {
              "color": "white"
             }
            },
            "type": "table"
           }
          ]
         },
         "layout": {
          "annotationdefaults": {
           "arrowcolor": "#2a3f5f",
           "arrowhead": 0,
           "arrowwidth": 1
          },
          "autotypenumbers": "strict",
          "coloraxis": {
           "colorbar": {
            "outlinewidth": 0,
            "ticks": ""
           }
          },
          "colorscale": {
           "diverging": [
            [
             0,
             "#8e0152"
            ],
            [
             0.1,
             "#c51b7d"
            ],
            [
             0.2,
             "#de77ae"
            ],
            [
             0.3,
             "#f1b6da"
            ],
            [
             0.4,
             "#fde0ef"
            ],
            [
             0.5,
             "#f7f7f7"
            ],
            [
             0.6,
             "#e6f5d0"
            ],
            [
             0.7,
             "#b8e186"
            ],
            [
             0.8,
             "#7fbc41"
            ],
            [
             0.9,
             "#4d9221"
            ],
            [
             1,
             "#276419"
            ]
           ],
           "sequential": [
            [
             0,
             "#0d0887"
            ],
            [
             0.1111111111111111,
             "#46039f"
            ],
            [
             0.2222222222222222,
             "#7201a8"
            ],
            [
             0.3333333333333333,
             "#9c179e"
            ],
            [
             0.4444444444444444,
             "#bd3786"
            ],
            [
             0.5555555555555556,
             "#d8576b"
            ],
            [
             0.6666666666666666,
             "#ed7953"
            ],
            [
             0.7777777777777778,
             "#fb9f3a"
            ],
            [
             0.8888888888888888,
             "#fdca26"
            ],
            [
             1,
             "#f0f921"
            ]
           ],
           "sequentialminus": [
            [
             0,
             "#0d0887"
            ],
            [
             0.1111111111111111,
             "#46039f"
            ],
            [
             0.2222222222222222,
             "#7201a8"
            ],
            [
             0.3333333333333333,
             "#9c179e"
            ],
            [
             0.4444444444444444,
             "#bd3786"
            ],
            [
             0.5555555555555556,
             "#d8576b"
            ],
            [
             0.6666666666666666,
             "#ed7953"
            ],
            [
             0.7777777777777778,
             "#fb9f3a"
            ],
            [
             0.8888888888888888,
             "#fdca26"
            ],
            [
             1,
             "#f0f921"
            ]
           ]
          },
          "colorway": [
           "#636efa",
           "#EF553B",
           "#00cc96",
           "#ab63fa",
           "#FFA15A",
           "#19d3f3",
           "#FF6692",
           "#B6E880",
           "#FF97FF",
           "#FECB52"
          ],
          "font": {
           "color": "#2a3f5f"
          },
          "geo": {
           "bgcolor": "white",
           "lakecolor": "white",
           "landcolor": "#E5ECF6",
           "showlakes": true,
           "showland": true,
           "subunitcolor": "white"
          },
          "hoverlabel": {
           "align": "left"
          },
          "hovermode": "closest",
          "mapbox": {
           "style": "light"
          },
          "paper_bgcolor": "white",
          "plot_bgcolor": "#E5ECF6",
          "polar": {
           "angularaxis": {
            "gridcolor": "white",
            "linecolor": "white",
            "ticks": ""
           },
           "bgcolor": "#E5ECF6",
           "radialaxis": {
            "gridcolor": "white",
            "linecolor": "white",
            "ticks": ""
           }
          },
          "scene": {
           "xaxis": {
            "backgroundcolor": "#E5ECF6",
            "gridcolor": "white",
            "gridwidth": 2,
            "linecolor": "white",
            "showbackground": true,
            "ticks": "",
            "zerolinecolor": "white"
           },
           "yaxis": {
            "backgroundcolor": "#E5ECF6",
            "gridcolor": "white",
            "gridwidth": 2,
            "linecolor": "white",
            "showbackground": true,
            "ticks": "",
            "zerolinecolor": "white"
           },
           "zaxis": {
            "backgroundcolor": "#E5ECF6",
            "gridcolor": "white",
            "gridwidth": 2,
            "linecolor": "white",
            "showbackground": true,
            "ticks": "",
            "zerolinecolor": "white"
           }
          },
          "shapedefaults": {
           "line": {
            "color": "#2a3f5f"
           }
          },
          "ternary": {
           "aaxis": {
            "gridcolor": "white",
            "linecolor": "white",
            "ticks": ""
           },
           "baxis": {
            "gridcolor": "white",
            "linecolor": "white",
            "ticks": ""
           },
           "bgcolor": "#E5ECF6",
           "caxis": {
            "gridcolor": "white",
            "linecolor": "white",
            "ticks": ""
           }
          },
          "title": {
           "x": 0.05
          },
          "xaxis": {
           "automargin": true,
           "gridcolor": "white",
           "linecolor": "white",
           "ticks": "",
           "title": {
            "standoff": 15
           },
           "zerolinecolor": "white",
           "zerolinewidth": 2
          },
          "yaxis": {
           "automargin": true,
           "gridcolor": "white",
           "linecolor": "white",
           "ticks": "",
           "title": {
            "standoff": 15
           },
           "zerolinecolor": "white",
           "zerolinewidth": 2
          }
         }
        },
        "xaxis": {
         "anchor": "y",
         "domain": [
          0,
          1
         ],
         "title": {
          "text": "Barrio"
         }
        },
        "yaxis": {
         "anchor": "x",
         "domain": [
          0,
          1
         ],
         "title": {
          "text": "count"
         }
        }
       }
      },
      "text/html": [
       "<div>                            <div id=\"020c7f38-bd4e-4a3a-aae7-540f88fc9c4c\" class=\"plotly-graph-div\" style=\"height:525px; width:100%;\"></div>            <script type=\"text/javascript\">                require([\"plotly\"], function(Plotly) {                    window.PLOTLYENV=window.PLOTLYENV || {};                                    if (document.getElementById(\"020c7f38-bd4e-4a3a-aae7-540f88fc9c4c\")) {                    Plotly.newPlot(                        \"020c7f38-bd4e-4a3a-aae7-540f88fc9c4c\",                        [{\"alignmentgroup\":\"True\",\"bingroup\":\"x\",\"hovertemplate\":\"Tag=India<br>Barrio=%{x}<br>count=%{y}<extra></extra>\",\"legendgroup\":\"India\",\"marker\":{\"color\":\"#636efa\",\"pattern\":{\"shape\":\"\"}},\"name\":\"India\",\"offsetgroup\":\"India\",\"orientation\":\"v\",\"showlegend\":true,\"type\":\"histogram\",\"x\":[\"Centro\",\"Centro\",\"Centro\",\"Centro\",\"Arganzuela\",\"Arganzuela\",\"Arganzuela\",\"Arganzuela\",\"Retiro\",\"Retiro\",\"Retiro\",\"Salamanca\",\"Salamanca\",\"Chamart\\u00edn\",\"Chamart\\u00edn\",\"Tetu\\u00e1n\",\"Chamber\\u00ed\",\"Chamber\\u00ed\",\"Chamber\\u00ed\",\"Moncloa-Aravaca\",\"Carabanchel\",\"Moratalaz\"],\"xaxis\":\"x\",\"yaxis\":\"y\"},{\"alignmentgroup\":\"True\",\"bingroup\":\"x\",\"hovertemplate\":\"Tag=Pizza<br>Barrio=%{x}<br>count=%{y}<extra></extra>\",\"legendgroup\":\"Pizza\",\"marker\":{\"color\":\"#EF553B\",\"pattern\":{\"shape\":\"\"}},\"name\":\"Pizza\",\"offsetgroup\":\"Pizza\",\"orientation\":\"v\",\"showlegend\":true,\"type\":\"histogram\",\"x\":[\"Centro\",\"Centro\",\"Centro\",\"Centro\",\"Centro\",\"Centro\",\"Centro\",\"Centro\",\"Centro\",\"Arganzuela\",\"Arganzuela\",\"Arganzuela\",\"Arganzuela\",\"Arganzuela\",\"Arganzuela\",\"Arganzuela\",\"Arganzuela\",\"Arganzuela\",\"Arganzuela\",\"Retiro\",\"Retiro\",\"Retiro\",\"Retiro\",\"Retiro\",\"Retiro\",\"Retiro\",\"Retiro\",\"Salamanca\",\"Salamanca\",\"Salamanca\",\"Salamanca\",\"Salamanca\",\"Salamanca\",\"Salamanca\",\"Chamart\\u00edn\",\"Chamart\\u00edn\",\"Chamart\\u00edn\",\"Chamart\\u00edn\",\"Chamart\\u00edn\",\"Chamart\\u00edn\",\"Tetu\\u00e1n\",\"Tetu\\u00e1n\",\"Tetu\\u00e1n\",\"Tetu\\u00e1n\",\"Tetu\\u00e1n\",\"Tetu\\u00e1n\",\"Chamber\\u00ed\",\"Chamber\\u00ed\",\"Chamber\\u00ed\",\"Chamber\\u00ed\",\"Chamber\\u00ed\",\"Chamber\\u00ed\",\"Chamber\\u00ed\",\"Chamber\\u00ed\",\"Chamber\\u00ed\",\"Chamber\\u00ed\",\"Moncloa-Aravaca\",\"Moncloa-Aravaca\",\"Moncloa-Aravaca\",\"Moncloa-Aravaca\",\"Carabanchel\",\"Carabanchel\",\"Carabanchel\",\"Carabanchel\",\"Carabanchel\",\"Carabanchel\",\"Usera\",\"Usera\",\"Usera\",\"Usera\",\"Usera\",\"Usera\",\"Usera\",\"Usera\",\"Usera\",\"Usera\",\"Puente de Vallecas\",\"Puente de Vallecas\",\"Puente de Vallecas\",\"Puente de Vallecas\",\"Moratalaz\",\"Moratalaz\",\"Moratalaz\",\"Moratalaz\",\"Moratalaz\",\"Moratalaz\",\"Moratalaz\",\"Ciudad Lineal\",\"Ciudad Lineal\",\"Ciudad Lineal\",\"Ciudad Lineal\"],\"xaxis\":\"x\",\"yaxis\":\"y\"},{\"alignmentgroup\":\"True\",\"bingroup\":\"x\",\"hovertemplate\":\"Tag=Postres<br>Barrio=%{x}<br>count=%{y}<extra></extra>\",\"legendgroup\":\"Postres\",\"marker\":{\"color\":\"#00cc96\",\"pattern\":{\"shape\":\"\"}},\"name\":\"Postres\",\"offsetgroup\":\"Postres\",\"orientation\":\"v\",\"showlegend\":true,\"type\":\"histogram\",\"x\":[\"Centro\",\"Centro\",\"Centro\",\"Arganzuela\",\"Arganzuela\",\"Retiro\",\"Retiro\",\"Salamanca\",\"Salamanca\",\"Salamanca\",\"Salamanca\",\"Chamart\\u00edn\",\"Chamart\\u00edn\",\"Chamart\\u00edn\",\"Chamber\\u00ed\",\"Moncloa-Aravaca\",\"Carabanchel\",\"Carabanchel\",\"Moratalaz\",\"Ciudad Lineal\",\"Ciudad Lineal\",\"Ciudad Lineal\",\"Ciudad Lineal\"],\"xaxis\":\"x\",\"yaxis\":\"y\"},{\"alignmentgroup\":\"True\",\"bingroup\":\"x\",\"hovertemplate\":\"Tag=Empanada<br>Barrio=%{x}<br>count=%{y}<extra></extra>\",\"legendgroup\":\"Empanada\",\"marker\":{\"color\":\"#ab63fa\",\"pattern\":{\"shape\":\"\"}},\"name\":\"Empanada\",\"offsetgroup\":\"Empanada\",\"orientation\":\"v\",\"showlegend\":true,\"type\":\"histogram\",\"x\":[\"Centro\",\"Centro\",\"Centro\",\"Arganzuela\",\"Arganzuela\",\"Arganzuela\",\"Retiro\",\"Retiro\",\"Retiro\",\"Retiro\",\"Salamanca\",\"Salamanca\",\"Salamanca\",\"Salamanca\",\"Chamart\\u00edn\",\"Chamart\\u00edn\",\"Chamart\\u00edn\",\"Chamart\\u00edn\",\"Tetu\\u00e1n\",\"Tetu\\u00e1n\",\"Tetu\\u00e1n\",\"Tetu\\u00e1n\",\"Chamber\\u00ed\",\"Chamber\\u00ed\",\"Moncloa-Aravaca\",\"Moncloa-Aravaca\",\"Moncloa-Aravaca\",\"Usera\",\"Puente de Vallecas\",\"Moratalaz\",\"Moratalaz\",\"Ciudad Lineal\",\"Ciudad Lineal\",\"Ciudad Lineal\",\"Ciudad Lineal\"],\"xaxis\":\"x\",\"yaxis\":\"y\"},{\"alignmentgroup\":\"True\",\"bingroup\":\"x\",\"hovertemplate\":\"Tag=Pollo<br>Barrio=%{x}<br>count=%{y}<extra></extra>\",\"legendgroup\":\"Pollo\",\"marker\":{\"color\":\"#FFA15A\",\"pattern\":{\"shape\":\"\"}},\"name\":\"Pollo\",\"offsetgroup\":\"Pollo\",\"orientation\":\"v\",\"showlegend\":true,\"type\":\"histogram\",\"x\":[\"Centro\",\"Centro\",\"Centro\",\"Centro\",\"Centro\",\"Centro\",\"Centro\",\"Arganzuela\",\"Arganzuela\",\"Arganzuela\",\"Arganzuela\",\"Arganzuela\",\"Arganzuela\",\"Arganzuela\",\"Retiro\",\"Retiro\",\"Retiro\",\"Retiro\",\"Salamanca\",\"Salamanca\",\"Salamanca\",\"Salamanca\",\"Salamanca\",\"Chamart\\u00edn\",\"Chamart\\u00edn\",\"Chamart\\u00edn\",\"Chamart\\u00edn\",\"Chamart\\u00edn\",\"Chamart\\u00edn\",\"Chamart\\u00edn\",\"Chamart\\u00edn\",\"Chamart\\u00edn\",\"Tetu\\u00e1n\",\"Tetu\\u00e1n\",\"Tetu\\u00e1n\",\"Tetu\\u00e1n\",\"Tetu\\u00e1n\",\"Tetu\\u00e1n\",\"Tetu\\u00e1n\",\"Chamber\\u00ed\",\"Chamber\\u00ed\",\"Chamber\\u00ed\",\"Chamber\\u00ed\",\"Chamber\\u00ed\",\"Chamber\\u00ed\",\"Chamber\\u00ed\",\"Chamber\\u00ed\",\"Chamber\\u00ed\",\"Chamber\\u00ed\",\"Chamber\\u00ed\",\"Moncloa-Aravaca\",\"Moncloa-Aravaca\",\"Moncloa-Aravaca\",\"Moncloa-Aravaca\",\"Moncloa-Aravaca\",\"Moncloa-Aravaca\",\"Moncloa-Aravaca\",\"Carabanchel\",\"Carabanchel\",\"Carabanchel\",\"Carabanchel\",\"Carabanchel\",\"Usera\",\"Usera\",\"Usera\",\"Usera\",\"Usera\",\"Puente de Vallecas\",\"Puente de Vallecas\",\"Puente de Vallecas\",\"Puente de Vallecas\",\"Puente de Vallecas\",\"Puente de Vallecas\",\"Moratalaz\",\"Moratalaz\",\"Moratalaz\",\"Moratalaz\",\"Ciudad Lineal\",\"Ciudad Lineal\",\"Ciudad Lineal\",\"Ciudad Lineal\"],\"xaxis\":\"x\",\"yaxis\":\"y\"},{\"alignmentgroup\":\"True\",\"bingroup\":\"x\",\"hovertemplate\":\"Tag=China<br>Barrio=%{x}<br>count=%{y}<extra></extra>\",\"legendgroup\":\"China\",\"marker\":{\"color\":\"#19d3f3\",\"pattern\":{\"shape\":\"\"}},\"name\":\"China\",\"offsetgroup\":\"China\",\"orientation\":\"v\",\"showlegend\":true,\"type\":\"histogram\",\"x\":[\"Centro\",\"Centro\",\"Arganzuela\",\"Retiro\",\"Retiro\",\"Retiro\",\"Salamanca\",\"Salamanca\",\"Chamart\\u00edn\",\"Chamber\\u00ed\",\"Moncloa-Aravaca\",\"Usera\",\"Usera\",\"Usera\",\"Puente de Vallecas\",\"Puente de Vallecas\",\"Moratalaz\",\"Moratalaz\",\"Moratalaz\",\"Ciudad Lineal\",\"Ciudad Lineal\",\"Ciudad Lineal\"],\"xaxis\":\"x\",\"yaxis\":\"y\"},{\"alignmentgroup\":\"True\",\"bingroup\":\"x\",\"hovertemplate\":\"Tag=Hamburguesas<br>Barrio=%{x}<br>count=%{y}<extra></extra>\",\"legendgroup\":\"Hamburguesas\",\"marker\":{\"color\":\"#FF6692\",\"pattern\":{\"shape\":\"\"}},\"name\":\"Hamburguesas\",\"offsetgroup\":\"Hamburguesas\",\"orientation\":\"v\",\"showlegend\":true,\"type\":\"histogram\",\"x\":[\"Centro\",\"Centro\",\"Centro\",\"Centro\",\"Arganzuela\",\"Arganzuela\",\"Arganzuela\",\"Arganzuela\",\"Retiro\",\"Retiro\",\"Retiro\",\"Retiro\",\"Retiro\",\"Retiro\",\"Retiro\",\"Salamanca\",\"Salamanca\",\"Salamanca\",\"Salamanca\",\"Salamanca\",\"Salamanca\",\"Salamanca\",\"Salamanca\",\"Salamanca\",\"Salamanca\",\"Chamart\\u00edn\",\"Chamart\\u00edn\",\"Chamart\\u00edn\",\"Chamart\\u00edn\",\"Chamart\\u00edn\",\"Chamart\\u00edn\",\"Chamart\\u00edn\",\"Tetu\\u00e1n\",\"Tetu\\u00e1n\",\"Tetu\\u00e1n\",\"Tetu\\u00e1n\",\"Tetu\\u00e1n\",\"Tetu\\u00e1n\",\"Chamber\\u00ed\",\"Chamber\\u00ed\",\"Chamber\\u00ed\",\"Chamber\\u00ed\",\"Chamber\\u00ed\",\"Moncloa-Aravaca\",\"Moncloa-Aravaca\",\"Moncloa-Aravaca\",\"Carabanchel\",\"Carabanchel\",\"Carabanchel\",\"Carabanchel\",\"Carabanchel\",\"Usera\",\"Usera\",\"Usera\",\"Usera\",\"Puente de Vallecas\",\"Puente de Vallecas\",\"Puente de Vallecas\",\"Puente de Vallecas\",\"Moratalaz\",\"Moratalaz\",\"Moratalaz\",\"Moratalaz\",\"Moratalaz\",\"Ciudad Lineal\",\"Ciudad Lineal\",\"Ciudad Lineal\",\"Ciudad Lineal\",\"Ciudad Lineal\"],\"xaxis\":\"x\",\"yaxis\":\"y\"},{\"alignmentgroup\":\"True\",\"bingroup\":\"x\",\"hovertemplate\":\"Tag=Italiana<br>Barrio=%{x}<br>count=%{y}<extra></extra>\",\"legendgroup\":\"Italiana\",\"marker\":{\"color\":\"#B6E880\",\"pattern\":{\"shape\":\"\"}},\"name\":\"Italiana\",\"offsetgroup\":\"Italiana\",\"orientation\":\"v\",\"showlegend\":true,\"type\":\"histogram\",\"x\":[\"Centro\",\"Centro\",\"Centro\",\"Arganzuela\",\"Arganzuela\",\"Retiro\",\"Retiro\",\"Salamanca\",\"Salamanca\",\"Chamart\\u00edn\",\"Tetu\\u00e1n\",\"Chamber\\u00ed\",\"Moncloa-Aravaca\",\"Carabanchel\",\"Carabanchel\",\"Carabanchel\",\"Usera\",\"Usera\",\"Usera\",\"Puente de Vallecas\",\"Ciudad Lineal\"],\"xaxis\":\"x\",\"yaxis\":\"y\"},{\"alignmentgroup\":\"True\",\"bingroup\":\"x\",\"hovertemplate\":\"Tag=Comida r\\u00e1pida<br>Barrio=%{x}<br>count=%{y}<extra></extra>\",\"legendgroup\":\"Comida r\\u00e1pida\",\"marker\":{\"color\":\"#FF97FF\",\"pattern\":{\"shape\":\"\"}},\"name\":\"Comida r\\u00e1pida\",\"offsetgroup\":\"Comida r\\u00e1pida\",\"orientation\":\"v\",\"showlegend\":true,\"type\":\"histogram\",\"x\":[\"Centro\",\"Arganzuela\",\"Retiro\",\"Salamanca\",\"Tetu\\u00e1n\",\"Chamber\\u00ed\",\"Moncloa-Aravaca\",\"Moncloa-Aravaca\",\"Moncloa-Aravaca\",\"Moncloa-Aravaca\",\"Moncloa-Aravaca\",\"Moncloa-Aravaca\",\"Usera\",\"Usera\",\"Puente de Vallecas\",\"Moratalaz\",\"Moratalaz\",\"Moratalaz\",\"Moratalaz\",\"Moratalaz\",\"Ciudad Lineal\",\"Ciudad Lineal\"],\"xaxis\":\"x\",\"yaxis\":\"y\"},{\"alignmentgroup\":\"True\",\"bingroup\":\"x\",\"hovertemplate\":\"Tag=Kebab<br>Barrio=%{x}<br>count=%{y}<extra></extra>\",\"legendgroup\":\"Kebab\",\"marker\":{\"color\":\"#FECB52\",\"pattern\":{\"shape\":\"\"}},\"name\":\"Kebab\",\"offsetgroup\":\"Kebab\",\"orientation\":\"v\",\"showlegend\":true,\"type\":\"histogram\",\"x\":[\"Retiro\",\"Retiro\",\"Salamanca\",\"Chamart\\u00edn\",\"Chamart\\u00edn\",\"Chamart\\u00edn\",\"Tetu\\u00e1n\",\"Tetu\\u00e1n\",\"Moncloa-Aravaca\",\"Moncloa-Aravaca\",\"Carabanchel\",\"Carabanchel\",\"Carabanchel\",\"Carabanchel\",\"Carabanchel\",\"Carabanchel\",\"Usera\",\"Usera\",\"Usera\",\"Usera\",\"Usera\",\"Puente de Vallecas\",\"Puente de Vallecas\",\"Puente de Vallecas\",\"Puente de Vallecas\",\"Puente de Vallecas\",\"Moratalaz\",\"Moratalaz\",\"Moratalaz\",\"Moratalaz\",\"Moratalaz\",\"Moratalaz\",\"Ciudad Lineal\",\"Ciudad Lineal\",\"Ciudad Lineal\",\"Ciudad Lineal\"],\"xaxis\":\"x\",\"yaxis\":\"y\"}],                        {\"barmode\":\"relative\",\"legend\":{\"title\":{\"text\":\"Tag\"},\"tracegroupgap\":0},\"margin\":{\"t\":60},\"template\":{\"data\":{\"bar\":[{\"error_x\":{\"color\":\"#2a3f5f\"},\"error_y\":{\"color\":\"#2a3f5f\"},\"marker\":{\"line\":{\"color\":\"#E5ECF6\",\"width\":0.5},\"pattern\":{\"fillmode\":\"overlay\",\"size\":10,\"solidity\":0.2}},\"type\":\"bar\"}],\"barpolar\":[{\"marker\":{\"line\":{\"color\":\"#E5ECF6\",\"width\":0.5},\"pattern\":{\"fillmode\":\"overlay\",\"size\":10,\"solidity\":0.2}},\"type\":\"barpolar\"}],\"carpet\":[{\"aaxis\":{\"endlinecolor\":\"#2a3f5f\",\"gridcolor\":\"white\",\"linecolor\":\"white\",\"minorgridcolor\":\"white\",\"startlinecolor\":\"#2a3f5f\"},\"baxis\":{\"endlinecolor\":\"#2a3f5f\",\"gridcolor\":\"white\",\"linecolor\":\"white\",\"minorgridcolor\":\"white\",\"startlinecolor\":\"#2a3f5f\"},\"type\":\"carpet\"}],\"choropleth\":[{\"colorbar\":{\"outlinewidth\":0,\"ticks\":\"\"},\"type\":\"choropleth\"}],\"contour\":[{\"colorbar\":{\"outlinewidth\":0,\"ticks\":\"\"},\"colorscale\":[[0.0,\"#0d0887\"],[0.1111111111111111,\"#46039f\"],[0.2222222222222222,\"#7201a8\"],[0.3333333333333333,\"#9c179e\"],[0.4444444444444444,\"#bd3786\"],[0.5555555555555556,\"#d8576b\"],[0.6666666666666666,\"#ed7953\"],[0.7777777777777778,\"#fb9f3a\"],[0.8888888888888888,\"#fdca26\"],[1.0,\"#f0f921\"]],\"type\":\"contour\"}],\"contourcarpet\":[{\"colorbar\":{\"outlinewidth\":0,\"ticks\":\"\"},\"type\":\"contourcarpet\"}],\"heatmap\":[{\"colorbar\":{\"outlinewidth\":0,\"ticks\":\"\"},\"colorscale\":[[0.0,\"#0d0887\"],[0.1111111111111111,\"#46039f\"],[0.2222222222222222,\"#7201a8\"],[0.3333333333333333,\"#9c179e\"],[0.4444444444444444,\"#bd3786\"],[0.5555555555555556,\"#d8576b\"],[0.6666666666666666,\"#ed7953\"],[0.7777777777777778,\"#fb9f3a\"],[0.8888888888888888,\"#fdca26\"],[1.0,\"#f0f921\"]],\"type\":\"heatmap\"}],\"heatmapgl\":[{\"colorbar\":{\"outlinewidth\":0,\"ticks\":\"\"},\"colorscale\":[[0.0,\"#0d0887\"],[0.1111111111111111,\"#46039f\"],[0.2222222222222222,\"#7201a8\"],[0.3333333333333333,\"#9c179e\"],[0.4444444444444444,\"#bd3786\"],[0.5555555555555556,\"#d8576b\"],[0.6666666666666666,\"#ed7953\"],[0.7777777777777778,\"#fb9f3a\"],[0.8888888888888888,\"#fdca26\"],[1.0,\"#f0f921\"]],\"type\":\"heatmapgl\"}],\"histogram\":[{\"marker\":{\"pattern\":{\"fillmode\":\"overlay\",\"size\":10,\"solidity\":0.2}},\"type\":\"histogram\"}],\"histogram2d\":[{\"colorbar\":{\"outlinewidth\":0,\"ticks\":\"\"},\"colorscale\":[[0.0,\"#0d0887\"],[0.1111111111111111,\"#46039f\"],[0.2222222222222222,\"#7201a8\"],[0.3333333333333333,\"#9c179e\"],[0.4444444444444444,\"#bd3786\"],[0.5555555555555556,\"#d8576b\"],[0.6666666666666666,\"#ed7953\"],[0.7777777777777778,\"#fb9f3a\"],[0.8888888888888888,\"#fdca26\"],[1.0,\"#f0f921\"]],\"type\":\"histogram2d\"}],\"histogram2dcontour\":[{\"colorbar\":{\"outlinewidth\":0,\"ticks\":\"\"},\"colorscale\":[[0.0,\"#0d0887\"],[0.1111111111111111,\"#46039f\"],[0.2222222222222222,\"#7201a8\"],[0.3333333333333333,\"#9c179e\"],[0.4444444444444444,\"#bd3786\"],[0.5555555555555556,\"#d8576b\"],[0.6666666666666666,\"#ed7953\"],[0.7777777777777778,\"#fb9f3a\"],[0.8888888888888888,\"#fdca26\"],[1.0,\"#f0f921\"]],\"type\":\"histogram2dcontour\"}],\"mesh3d\":[{\"colorbar\":{\"outlinewidth\":0,\"ticks\":\"\"},\"type\":\"mesh3d\"}],\"parcoords\":[{\"line\":{\"colorbar\":{\"outlinewidth\":0,\"ticks\":\"\"}},\"type\":\"parcoords\"}],\"pie\":[{\"automargin\":true,\"type\":\"pie\"}],\"scatter\":[{\"marker\":{\"colorbar\":{\"outlinewidth\":0,\"ticks\":\"\"}},\"type\":\"scatter\"}],\"scatter3d\":[{\"line\":{\"colorbar\":{\"outlinewidth\":0,\"ticks\":\"\"}},\"marker\":{\"colorbar\":{\"outlinewidth\":0,\"ticks\":\"\"}},\"type\":\"scatter3d\"}],\"scattercarpet\":[{\"marker\":{\"colorbar\":{\"outlinewidth\":0,\"ticks\":\"\"}},\"type\":\"scattercarpet\"}],\"scattergeo\":[{\"marker\":{\"colorbar\":{\"outlinewidth\":0,\"ticks\":\"\"}},\"type\":\"scattergeo\"}],\"scattergl\":[{\"marker\":{\"colorbar\":{\"outlinewidth\":0,\"ticks\":\"\"}},\"type\":\"scattergl\"}],\"scattermapbox\":[{\"marker\":{\"colorbar\":{\"outlinewidth\":0,\"ticks\":\"\"}},\"type\":\"scattermapbox\"}],\"scatterpolar\":[{\"marker\":{\"colorbar\":{\"outlinewidth\":0,\"ticks\":\"\"}},\"type\":\"scatterpolar\"}],\"scatterpolargl\":[{\"marker\":{\"colorbar\":{\"outlinewidth\":0,\"ticks\":\"\"}},\"type\":\"scatterpolargl\"}],\"scatterternary\":[{\"marker\":{\"colorbar\":{\"outlinewidth\":0,\"ticks\":\"\"}},\"type\":\"scatterternary\"}],\"surface\":[{\"colorbar\":{\"outlinewidth\":0,\"ticks\":\"\"},\"colorscale\":[[0.0,\"#0d0887\"],[0.1111111111111111,\"#46039f\"],[0.2222222222222222,\"#7201a8\"],[0.3333333333333333,\"#9c179e\"],[0.4444444444444444,\"#bd3786\"],[0.5555555555555556,\"#d8576b\"],[0.6666666666666666,\"#ed7953\"],[0.7777777777777778,\"#fb9f3a\"],[0.8888888888888888,\"#fdca26\"],[1.0,\"#f0f921\"]],\"type\":\"surface\"}],\"table\":[{\"cells\":{\"fill\":{\"color\":\"#EBF0F8\"},\"line\":{\"color\":\"white\"}},\"header\":{\"fill\":{\"color\":\"#C8D4E3\"},\"line\":{\"color\":\"white\"}},\"type\":\"table\"}]},\"layout\":{\"annotationdefaults\":{\"arrowcolor\":\"#2a3f5f\",\"arrowhead\":0,\"arrowwidth\":1},\"autotypenumbers\":\"strict\",\"coloraxis\":{\"colorbar\":{\"outlinewidth\":0,\"ticks\":\"\"}},\"colorscale\":{\"diverging\":[[0,\"#8e0152\"],[0.1,\"#c51b7d\"],[0.2,\"#de77ae\"],[0.3,\"#f1b6da\"],[0.4,\"#fde0ef\"],[0.5,\"#f7f7f7\"],[0.6,\"#e6f5d0\"],[0.7,\"#b8e186\"],[0.8,\"#7fbc41\"],[0.9,\"#4d9221\"],[1,\"#276419\"]],\"sequential\":[[0.0,\"#0d0887\"],[0.1111111111111111,\"#46039f\"],[0.2222222222222222,\"#7201a8\"],[0.3333333333333333,\"#9c179e\"],[0.4444444444444444,\"#bd3786\"],[0.5555555555555556,\"#d8576b\"],[0.6666666666666666,\"#ed7953\"],[0.7777777777777778,\"#fb9f3a\"],[0.8888888888888888,\"#fdca26\"],[1.0,\"#f0f921\"]],\"sequentialminus\":[[0.0,\"#0d0887\"],[0.1111111111111111,\"#46039f\"],[0.2222222222222222,\"#7201a8\"],[0.3333333333333333,\"#9c179e\"],[0.4444444444444444,\"#bd3786\"],[0.5555555555555556,\"#d8576b\"],[0.6666666666666666,\"#ed7953\"],[0.7777777777777778,\"#fb9f3a\"],[0.8888888888888888,\"#fdca26\"],[1.0,\"#f0f921\"]]},\"colorway\":[\"#636efa\",\"#EF553B\",\"#00cc96\",\"#ab63fa\",\"#FFA15A\",\"#19d3f3\",\"#FF6692\",\"#B6E880\",\"#FF97FF\",\"#FECB52\"],\"font\":{\"color\":\"#2a3f5f\"},\"geo\":{\"bgcolor\":\"white\",\"lakecolor\":\"white\",\"landcolor\":\"#E5ECF6\",\"showlakes\":true,\"showland\":true,\"subunitcolor\":\"white\"},\"hoverlabel\":{\"align\":\"left\"},\"hovermode\":\"closest\",\"mapbox\":{\"style\":\"light\"},\"paper_bgcolor\":\"white\",\"plot_bgcolor\":\"#E5ECF6\",\"polar\":{\"angularaxis\":{\"gridcolor\":\"white\",\"linecolor\":\"white\",\"ticks\":\"\"},\"bgcolor\":\"#E5ECF6\",\"radialaxis\":{\"gridcolor\":\"white\",\"linecolor\":\"white\",\"ticks\":\"\"}},\"scene\":{\"xaxis\":{\"backgroundcolor\":\"#E5ECF6\",\"gridcolor\":\"white\",\"gridwidth\":2,\"linecolor\":\"white\",\"showbackground\":true,\"ticks\":\"\",\"zerolinecolor\":\"white\"},\"yaxis\":{\"backgroundcolor\":\"#E5ECF6\",\"gridcolor\":\"white\",\"gridwidth\":2,\"linecolor\":\"white\",\"showbackground\":true,\"ticks\":\"\",\"zerolinecolor\":\"white\"},\"zaxis\":{\"backgroundcolor\":\"#E5ECF6\",\"gridcolor\":\"white\",\"gridwidth\":2,\"linecolor\":\"white\",\"showbackground\":true,\"ticks\":\"\",\"zerolinecolor\":\"white\"}},\"shapedefaults\":{\"line\":{\"color\":\"#2a3f5f\"}},\"ternary\":{\"aaxis\":{\"gridcolor\":\"white\",\"linecolor\":\"white\",\"ticks\":\"\"},\"baxis\":{\"gridcolor\":\"white\",\"linecolor\":\"white\",\"ticks\":\"\"},\"bgcolor\":\"#E5ECF6\",\"caxis\":{\"gridcolor\":\"white\",\"linecolor\":\"white\",\"ticks\":\"\"}},\"title\":{\"x\":0.05},\"xaxis\":{\"automargin\":true,\"gridcolor\":\"white\",\"linecolor\":\"white\",\"ticks\":\"\",\"title\":{\"standoff\":15},\"zerolinecolor\":\"white\",\"zerolinewidth\":2},\"yaxis\":{\"automargin\":true,\"gridcolor\":\"white\",\"linecolor\":\"white\",\"ticks\":\"\",\"title\":{\"standoff\":15},\"zerolinecolor\":\"white\",\"zerolinewidth\":2}}},\"xaxis\":{\"anchor\":\"y\",\"domain\":[0.0,1.0],\"title\":{\"text\":\"Barrio\"}},\"yaxis\":{\"anchor\":\"x\",\"domain\":[0.0,1.0],\"title\":{\"text\":\"count\"}}},                        {\"responsive\": true}                    ).then(function(){\n",
       "                            \n",
       "var gd = document.getElementById('020c7f38-bd4e-4a3a-aae7-540f88fc9c4c');\n",
       "var x = new MutationObserver(function (mutations, observer) {{\n",
       "        var display = window.getComputedStyle(gd).display;\n",
       "        if (!display || display === 'none') {{\n",
       "            console.log([gd, 'removed!']);\n",
       "            Plotly.purge(gd);\n",
       "            observer.disconnect();\n",
       "        }}\n",
       "}});\n",
       "\n",
       "// Listen for the removal of the full notebook cells\n",
       "var notebookContainer = gd.closest('#notebook-container');\n",
       "if (notebookContainer) {{\n",
       "    x.observe(notebookContainer, {childList: true});\n",
       "}}\n",
       "\n",
       "// Listen for the clearing of the current output cell\n",
       "var outputEl = gd.closest('.output');\n",
       "if (outputEl) {{\n",
       "    x.observe(outputEl, {childList: true});\n",
       "}}\n",
       "\n",
       "                        })                };                });            </script>        </div>"
      ]
     },
     "metadata": {},
     "output_type": "display_data"
    }
   ],
   "source": [
    "top10 = list(dict(ue[\"Tag\"].value_counts()[0:10]).keys())\n",
    "toptags = ue[ue[\"Tag\"].isin(top10)]\n",
    "tagss = px.histogram(toptags, x=\"Barrio\",color=\"Tag\")\n",
    "tagss.show()\n"
   ]
  },
  {
   "cell_type": "code",
   "execution_count": 95,
   "id": "9f05916d",
   "metadata": {},
   "outputs": [
    {
     "data": {
      "text/plain": [
       "<seaborn.axisgrid.JointGrid at 0x7fe162152670>"
      ]
     },
     "execution_count": 95,
     "metadata": {},
     "output_type": "execute_result"
    },
    {
     "data": {
      "image/png": "[encoded data removed]",
      "text/plain": [
       "<Figure size 432x432 with 3 Axes>"
      ]
     },
     "metadata": {},
     "output_type": "display_data"
    }
   ],
   "source": [
    "sns.jointplot(data=ue, x= \"Nota\", y= \"Delivery_Fee\", hue=\"Precio\")"
   ]
  },
  {
   "cell_type": "code",
   "execution_count": 58,
   "id": "02f5a753",
   "metadata": {},
   "outputs": [
    {
     "data": {
      "text/plain": [
       "<AxesSubplot:xlabel='count', ylabel='Barrio'>"
      ]
     },
     "execution_count": 58,
     "metadata": {},
     "output_type": "execute_result"
    },
    {
     "data": {
      "image/png": "[encoded data removed]",
      "text/plain": [
       "<Figure size 864x432 with 1 Axes>"
      ]
     },
     "metadata": {},
     "output_type": "display_data"
    }
   ],
   "source": [
    "sns.countplot(y=ue.Barrio, hue=ue.Tag)"
   ]
  },
  {
   "cell_type": "code",
   "execution_count": 51,
   "id": "e5c9755b",
   "metadata": {},
   "outputs": [
    {
     "data": {
      "text/plain": [
       "Tag\n",
       "Alcohol             3.920000\n",
       "Alitas de pollo     4.300000\n",
       "Americana           3.790476\n",
       "Asiatica            4.114286\n",
       "Asiática            3.600000\n",
       "                      ...   \n",
       "Tapas y raciones    3.428571\n",
       "Tienda              4.600000\n",
       "Vegetariano         3.100000\n",
       "Venezolana          4.364706\n",
       "Árabe               3.125000\n",
       "Name: Nota, Length: 64, dtype: float64"
      ]
     },
     "execution_count": 51,
     "metadata": {},
     "output_type": "execute_result"
    }
   ],
   "source": [
    "tagnota = ue.groupby([\"Tag\"])[\"Nota\"].mean()\n",
    "tagnota"
   ]
  },
  {
   "cell_type": "code",
   "execution_count": 48,
   "id": "6ce11e5e",
   "metadata": {},
   "outputs": [
    {
     "data": {
      "application/vnd.plotly.v1+json": {
       "config": {
        "plotlyServerURL": "https://plot.ly"
       },
       "data": [
        {
         "alignmentgroup": "True",
         "hovertemplate": "Tag=%{x}<br>Nota=%{y}<extra></extra>",
         "legendgroup": "",
         "marker": {
          "color": "#636efa",
          "pattern": {
           "shape": ""
          }
         },
         "name": "",
         "offsetgroup": "",
         "orientation": "v",
         "showlegend": false,
         "textposition": "auto",
         "type": "bar",
         "x": [
          "India",
          "Family Meals",
          "Pizza",
          "Postres",
          "Pizza",
          "Pizza",
          "Pizza",
          "Burritos",
          "De Latinoamérica",
          "Empanada",
          "Pollo",
          "Pollo",
          "Pizza",
          "China",
          "Hamburguesas",
          "Pollo",
          "Pollo",
          "Italiana",
          "China",
          "Vegetariano",
          "Empanada",
          "Pizza",
          "Postres",
          "Tienda",
          "India",
          "Hamburguesas",
          "Americana",
          "Halal",
          "Asiatica",
          "Venezolana",
          "Pollo",
          "India",
          "Italiana",
          "Pizza",
          "Empanada",
          "Americana",
          "Pollo",
          "Pizza",
          "Pizza",
          "Colombiana",
          "India",
          "Tapas y raciones",
          "Tapas",
          "Alitas de pollo",
          "Pollo",
          "Panadería",
          "Postres",
          "Hamburguesas",
          "Italiana",
          "Hamburguesas",
          "Americana",
          "Tapas",
          "Comida rápida",
          "Cerveza",
          "India",
          "Especialidades",
          "Pizza",
          "Pizza",
          "Pizza",
          "Pizza",
          "Pizza",
          "Burritos",
          "Hamburguesas",
          "Postres",
          "Pizza",
          "Venezolana",
          "Hamburguesas",
          "Bar Food",
          "Italiana",
          "China",
          "Hamburguesas",
          "Tienda",
          "Mediterránea",
          "Americana",
          "Tapas",
          "Pollo",
          "Pollo",
          "Burritos",
          "Comida rápida",
          "Pizza",
          "Vegetariano",
          "Pollo",
          "India",
          "Colombiana",
          "Pollo",
          "Pollo",
          "Empanada",
          "Asiatica",
          "Halal",
          "Americana",
          "Pollo",
          "Empanada",
          "India",
          "India",
          "Postres",
          "Americana",
          "Poke",
          "Pizza",
          "Pizza",
          "Italiana",
          "Pollo",
          "Tapas",
          "Bar Food",
          "Pizza",
          "Panadería",
          "Carne",
          "Hamburguesas",
          "Empanada",
          "Platos a base de harina",
          "Postres",
          "China",
          "Pizza",
          "Pizza",
          "Pizza",
          "Pizza",
          "China",
          "China",
          "Pollo",
          "Hamburguesas",
          "Burritos",
          "Comida rápida",
          "Venezolana",
          "Pizza",
          "Italiana",
          "Italiana",
          "Pizza",
          "Empanada",
          "Tapas y raciones",
          "Vegetariano",
          "Pollo",
          "Empanada",
          "Americana",
          "Hamburguesas",
          "Empanada",
          "Halal",
          "Asiatica",
          "Tapas",
          "India",
          "India",
          "Pollo",
          "Colombiana",
          "Mediterránea",
          "Hamburguesas",
          "Saludable",
          "Americana",
          "Hamburguesas",
          "Postres",
          "Hamburguesas",
          "Pasta",
          "Bar Food",
          "Kebab",
          "Pizza",
          "Comida reconfortante",
          "Hamburguesas",
          "Empanada",
          "Hamburguesas",
          "India",
          "Carne",
          "Pollo",
          "Poke",
          "Kebab",
          "Pizza",
          "Postres",
          "Pizza",
          "Postres",
          "Gourmet",
          "Pizza",
          "Hamburguesas",
          "Postres",
          "Pizza",
          "Empanada",
          "Pizza",
          "Italiana",
          "Pollo",
          "Hamburguesas",
          "China",
          "Burritos",
          "Venezolana",
          "Pizza",
          "Empanada",
          "Tapas y raciones",
          "Hamburguesas",
          "Saludable",
          "Postres",
          "Pollo",
          "Hamburguesas",
          "Hamburguesas",
          "Everyday Essentials",
          "Saludable",
          "India",
          "Hamburguesas",
          "Hamburguesas",
          "Pizza",
          "Italiana",
          "Americana",
          "Hamburguesas",
          "Mediterránea",
          "Empanada",
          "Comida rápida",
          "Empanada",
          "Croquetas",
          "Halal",
          "India",
          "Pollo",
          "Carne",
          "Americana",
          "Ramen",
          "China",
          "Hamburguesas",
          "Kebab",
          "Poke",
          "Pollo",
          "Hamburguesas",
          "Americana",
          "Pizza",
          "Pollo",
          "India",
          "Postres",
          "Pizza",
          "Pizza",
          "Gourmet",
          "Pizza",
          "Tapas",
          "Hamburguesas",
          "Pollo",
          "Mediterránea",
          "Hamburguesas",
          "Pollo",
          "Pollo",
          "Carne",
          "Sushi",
          "Pizza",
          "Alcohol",
          "Pollo",
          "Pizza",
          "Pollo",
          "Carne",
          "Empanada",
          "Tapas",
          "Venezolana",
          "Venezolana",
          "Pollo",
          "Hamburguesas",
          "Pizza",
          "India",
          "Hamburguesas",
          "Hamburguesas",
          "Pollo",
          "Opciones para alergias",
          "Hamburguesas",
          "Italiana",
          "Hamburguesas",
          "Poke",
          "Pollo",
          "Pollo",
          "Everyday Essentials",
          "Tienda",
          "Mexicana",
          "China",
          "Americana",
          "Empanada",
          "Postres",
          "Mediterránea",
          "Empanada",
          "Empanada",
          "Kebab",
          "Postres",
          "Kebab",
          "Árabe",
          "Kebab",
          "India",
          "Española",
          "Gourmet",
          "Pizza",
          "Gourmet",
          "Pizza",
          "Hamburguesas",
          "Empanada",
          "Mediterránea",
          "De Latinoamérica",
          "Pollo",
          "Pollo",
          "Empanada",
          "Pizza",
          "Sushi",
          "Pizza",
          "Pizza",
          "Carne",
          "Carne",
          "Pollo",
          "Pollo",
          "Comida reconfortante",
          "Hamburguesas",
          "Venezolana",
          "Hamburguesas",
          "Alitas de pollo",
          "Pollo",
          "Pollo",
          "Tapas",
          "Cerveza",
          "Tienda",
          "Hamburguesas",
          "Hamburguesas",
          "Hamburguesas",
          "Mexicana",
          "Italiana",
          "Family Meals",
          "Pollo",
          "Poke",
          "Mediterránea",
          "Americana",
          "Americana",
          "Empanada",
          "Árabe",
          "Family Meals",
          "Empanada",
          "Comida rápida",
          "Árabe",
          "Kebab",
          "Mediterránea",
          "Opciones para alergias",
          "Kebab",
          "Asiatica",
          "Pizza",
          "India",
          "Gourmet",
          "Pollo",
          "Pizza",
          "Tapas",
          "Pizza",
          "Pizza",
          "Pizza",
          "Pollo",
          "Pizza",
          "Pollo",
          "Pizza",
          "Empanada",
          "Pollo",
          "Alitas de pollo",
          "China",
          "Mediterránea",
          "Pizza",
          "Pizza",
          "Hamburguesas",
          "Pollo",
          "Comida rápida",
          "Pizza",
          "Pollo",
          "Pollo",
          "Hamburguesas",
          "Pollo",
          "Carne",
          "Pizza",
          "Ramen",
          "Sushi",
          "Hamburguesas",
          "Empanada",
          "Queso",
          "Tapas y raciones",
          "Italiana",
          "Carne",
          "Hamburguesas",
          "Pollo",
          "Venezolana",
          "Cerveza",
          "Con opciones veganas",
          "India",
          "Americana",
          "Americana",
          "Halal",
          "Halal",
          "Asiatica",
          "Hamburguesas",
          "India",
          "Venezolana",
          "Postres",
          "Pollo",
          "Pollo",
          "India",
          "Hamburguesas",
          "Española",
          "Gourmet",
          "Pizza",
          "Hamburguesas",
          "Pollo",
          "Pollo",
          "Pizza",
          "Carne",
          "Pizza",
          "Alitas de pollo",
          "De Latinoamérica",
          "Pollo",
          "Comida rápida",
          "Venezolana",
          "Pollo",
          "Cerveza",
          "Pollo",
          "Hamburguesas",
          "Empanada",
          "Opciones para alergias",
          "Opciones para alergias",
          "Pollo",
          "Italiana",
          "Family Meals",
          "Pollo",
          "Comida rápida",
          "Mediterránea",
          "Americana",
          "Family Meals",
          "Poke",
          "Kebab",
          "Cafe",
          "Comida rápida",
          "Bar Food",
          "Árabe",
          "Kebab",
          "Mediterránea",
          "China",
          "Asiatica",
          "Americana",
          "Napolitana",
          "Pizza",
          "Comida rápida",
          "Española",
          "Postres",
          "Opciones para alergias",
          "Comfort Food",
          "Comida rápida",
          "Empanada",
          "Empanada",
          "Opciones para alergias",
          "Comida rápida",
          "India",
          "Gourmet",
          "Pizza",
          "Pollo",
          "Hamburguesas",
          "Hamburguesas",
          "Pollo",
          "Pollo",
          "Pizza",
          "Hamburguesas",
          "Tapas",
          "Colombiana",
          "Italiana",
          "Kebab",
          "Italiana",
          "Pollo",
          "Kebab",
          "Tapas",
          "Pizza",
          "Mediterránea",
          "Pizza",
          "Sándwich",
          "Halal",
          "Kebab",
          "Kebab",
          "Kebab",
          "Kebab",
          "Tapas y raciones",
          "Pizza",
          "Hamburguesas",
          "Comida reconfortante",
          "Postres",
          "Venezolana",
          "Bocadillo",
          "Italiana",
          "Comfort Food",
          "Hamburguesas",
          "Pizza",
          "Parrilla",
          "Postres",
          "Pollo",
          "Carne",
          "Pizza",
          "Comida rápida",
          "Alcohol",
          "Tienda",
          "Pizza",
          "China",
          "China",
          "Pizza",
          "Alcohol",
          "Hamburguesas",
          "Tienda",
          "Hamburguesas",
          "Pollo",
          "Pizza",
          "Pollo",
          "Tapas",
          "Italiana",
          "Pollo",
          "Hamburguesas",
          "Empanada",
          "Pizza",
          "Italiana",
          "Pasta",
          "Bar Food",
          "Pizza",
          "Pizza",
          "Kebab",
          "Kebab",
          "Kebab",
          "Kebab",
          "Comida reconfortante",
          "Pizza",
          "Hamburguesas",
          "Venezolana",
          "Gourmet",
          "Bocadillo",
          "Italiana",
          "Tapas y raciones",
          "De Latinoamérica",
          "Burritos",
          "Pizza",
          "Poke",
          "Parrilla",
          "Con opciones veganas",
          "Pollo",
          "Carne",
          "Boliviana",
          "Pollo",
          "Asiatica",
          "Kebab",
          "Pizza",
          "Comida rápida",
          "China",
          "Venezolana",
          "Alcohol",
          "Mediterránea",
          "Pollo",
          "Bar Food",
          "China",
          "Burritos",
          "Hamburguesas",
          "Hamburguesas",
          "Comida rápida",
          "Bar Food",
          "Kebab",
          "Pollo",
          "Hamburguesas",
          "Pollo",
          "Empanada",
          "Kebab",
          "Italiana",
          "Bar Food",
          "Poke",
          "Poke",
          "Kebab",
          "Pollo",
          "Asiática",
          "Kebab",
          "Pollo",
          "Carne",
          "Pizza",
          "China",
          "Saludable",
          "Opciones para alergias",
          "Venezolana",
          "Sudamericana",
          "Burritos",
          "Bocadillo",
          "Peruana",
          "Hamburguesas",
          "Fusión latina",
          "Japonesa",
          "Tapas y raciones",
          "De Latinoamérica",
          "Burritos",
          "Carne",
          "Alcohol",
          "Poke",
          "Saludable",
          "Parrilla",
          "Kebab",
          "Boliviana",
          "Fritura",
          "Pizza",
          "Pizza",
          "Venezolana",
          "Pollo",
          "Pizza",
          "Comida rápida",
          "Pizza",
          "Pollo",
          "Pizza",
          "China",
          "Pollo",
          "Burritos",
          "Pizza",
          "Mediterránea",
          "Comida rápida",
          "Hamburguesas",
          "Hamburguesas",
          "Empanada",
          "Croquetas",
          "Carne",
          "Pollo",
          "Kebab",
          "Hamburguesas",
          "Mediterránea",
          "Poke",
          "Kebab",
          "Poke",
          "Mediterranea",
          "Kebab",
          "Kebab",
          "Pollo",
          "Kebab",
          "Comida rápida",
          "Pizza",
          "Pizza",
          "Pizza",
          "India",
          "China",
          "Saludable",
          "Empanada",
          "Comida rápida",
          "Hamburguesas",
          "Venezolana",
          "Sudamericana",
          "Burritos",
          "Postres",
          "Peruana",
          "Fusión asiática",
          "China",
          "Fusión latina",
          "Japonesa",
          "Comida rápida",
          "Burritos",
          "Carne",
          "Hamburguesas",
          "Fried Foods",
          "Kebab",
          "Fritura",
          "Pizza",
          "Pizza",
          "Pizza",
          "Pizza",
          "China",
          "Burritos",
          "Pizza",
          "Mediterránea",
          "China",
          "Burritos",
          "Empanada",
          "Empanada",
          "Pollo",
          "Italiana",
          "Croquetas",
          "Hamburguesas",
          "Pollo",
          "Pollo",
          "Venezolana",
          "Comida rápida",
          "Carne",
          "Mediterránea",
          "Hamburguesas",
          "Mediterránea",
          "Mediterránea",
          "Hamburguesas",
          "Saludable",
          "Hamburguesas",
          "Opciones para alergias",
          "Hamburguesas",
          "Postres",
          "Fusión asiática",
          "China",
          "Comida rápida",
          "Empanada",
          "Sándwiches",
          "Pollo",
          "Cafetería",
          "Comida reconfortante",
          "Postres",
          "Americana",
          "Kebab",
          "Mediterranea",
          "Kebab",
          "Postres",
          "Empanada",
          "Poke",
          "Kebab",
          "Kebab",
          "Panadería",
          "Postres",
          "Opciones para alergias",
          "Pasta",
          "Americana",
          "Americana"
         ],
         "xaxis": "x",
         "y": [
          4.4,
          2.8,
          3.8,
          3.1,
          3.9,
          4.5,
          3.1,
          4.6,
          3.9,
          3.1,
          3.1,
          4.3,
          4.3,
          4.3,
          4.3,
          3.1,
          3.7,
          3.1,
          4.2,
          3.1,
          3.1,
          4.4,
          3.1,
          4.6,
          3.1,
          3.7,
          4.2,
          4.2,
          4.1,
          4.4,
          4.6,
          3.1,
          4.6,
          4.1,
          3.1,
          3.1,
          3.1,
          3.3,
          4.5,
          4.3,
          4.1,
          3.1,
          4.2,
          4.3,
          4.6,
          3.1,
          4.1,
          3.9,
          3.1,
          4.3,
          3.1,
          4.2,
          3.1,
          3.1,
          4.4,
          2.8,
          3.8,
          4.1,
          4.3,
          4.3,
          4.5,
          4.6,
          4.2,
          4.3,
          3.9,
          4.4,
          4.4,
          4.4,
          3.1,
          4.2,
          3.7,
          4.8,
          4.1,
          4.4,
          4.2,
          4.6,
          4.3,
          4.8,
          3.9,
          4.3,
          3.1,
          3.7,
          3.1,
          4.3,
          4.5,
          4.6,
          5,
          4.1,
          4.2,
          4.2,
          3.1,
          3.1,
          3.1,
          4.1,
          3.1,
          3.1,
          4.5,
          3.1,
          4.3,
          3.2,
          3.1,
          4.2,
          4.5,
          4.5,
          3.1,
          3.1,
          4.3,
          4.2,
          2.8,
          3.1,
          4.3,
          4.1,
          4.3,
          4.3,
          3.1,
          4.3,
          4.2,
          4.6,
          3.7,
          4.8,
          3.9,
          4.4,
          3.1,
          3.1,
          4.6,
          4.1,
          3.1,
          3.1,
          3.1,
          4.6,
          4.8,
          4.2,
          4.4,
          3.1,
          4.2,
          4.1,
          4.2,
          3.1,
          4.1,
          4.1,
          4.3,
          3.1,
          3.1,
          3.1,
          3.1,
          4.8,
          4.3,
          4.4,
          4.6,
          4.5,
          3.8,
          3.1,
          4.3,
          4.3,
          3.1,
          3.9,
          4.3,
          2.9,
          4,
          2.9,
          4.5,
          2.9,
          2.8,
          4.5,
          2.9,
          2.9,
          4.1,
          4.2,
          2.9,
          2.9,
          4.9,
          2.9,
          4.6,
          2.9,
          4.2,
          4.2,
          2.9,
          4.6,
          4.5,
          2.9,
          2.9,
          4.8,
          2.9,
          4.3,
          4.4,
          4.1,
          2.9,
          4.6,
          4.8,
          4.9,
          2.9,
          2.9,
          4.5,
          4.6,
          4.2,
          4.6,
          2.9,
          2.9,
          4.6,
          2.9,
          2.9,
          4.2,
          2.9,
          2.9,
          4.6,
          2.9,
          2.9,
          4,
          4.3,
          4.7,
          4.7,
          2.9,
          3.9,
          4.8,
          2.9,
          3.6,
          4.4,
          2.8,
          4.5,
          4.5,
          2.9,
          4.3,
          4.4,
          4.1,
          4.6,
          4.4,
          4.1,
          2.9,
          3.6,
          2.9,
          2.9,
          4.6,
          4.1,
          4,
          4.9,
          4.5,
          2.9,
          5,
          2.9,
          4.6,
          4.6,
          2.9,
          4.5,
          3.1,
          4.9,
          2.9,
          4.5,
          2.9,
          4.8,
          2.9,
          3.8,
          4.3,
          4.5,
          4,
          2.9,
          4.2,
          4.3,
          2.9,
          4,
          4.2,
          2.9,
          2.9,
          4.4,
          2.9,
          4,
          4.7,
          4.5,
          4.6,
          3,
          2.9,
          4.4,
          2.8,
          3.5,
          4.2,
          3.5,
          3.8,
          4.1,
          4.7,
          4.4,
          4.6,
          3.5,
          3.6,
          4.1,
          4.4,
          3.5,
          4.9,
          4.6,
          3.5,
          3.5,
          4,
          3.5,
          4.5,
          4.1,
          4.6,
          4.1,
          4.3,
          3.5,
          3.5,
          3.5,
          3.5,
          4.3,
          4.2,
          4.5,
          4.3,
          3.5,
          3.8,
          3.5,
          4,
          4.5,
          4.4,
          4.2,
          3.5,
          4,
          3,
          3.5,
          3.5,
          4.4,
          3.5,
          3.5,
          3.4,
          3.5,
          4.4,
          4.4,
          3.5,
          4.4,
          3.5,
          4.6,
          4.2,
          4.4,
          4.2,
          4.2,
          4.3,
          3.5,
          4.5,
          4.6,
          4.4,
          3.5,
          4.6,
          4.3,
          4.2,
          4.4,
          4.6,
          4.6,
          3.7,
          3.6,
          3.5,
          4.5,
          3.5,
          3.5,
          4.1,
          3.7,
          3.5,
          4.9,
          3.5,
          3.5,
          4.1,
          4.8,
          4.5,
          3.5,
          4.6,
          3.5,
          4.3,
          4.2,
          4.6,
          3.5,
          4.5,
          3.5,
          4.2,
          3.5,
          4.2,
          3.5,
          4.1,
          3.5,
          4.9,
          4.6,
          3.5,
          3.5,
          3.5,
          4.4,
          4.3,
          2.8,
          3.5,
          3.5,
          4.1,
          4.6,
          3.6,
          4.6,
          3.5,
          4.9,
          4.3,
          4.1,
          3.5,
          3.5,
          4.6,
          4.2,
          3.5,
          3.5,
          4.1,
          4.7,
          3.5,
          3.5,
          3.5,
          3.8,
          4.5,
          4,
          4.5,
          4.4,
          3.5,
          3,
          4.7,
          3.8,
          4.3,
          4.4,
          3,
          3,
          3,
          3.4,
          3,
          4.4,
          3.5,
          4.7,
          3,
          3,
          4.7,
          3,
          4.8,
          3,
          4.3,
          3,
          3,
          4.4,
          4.2,
          4.4,
          3,
          4.4,
          4.6,
          4.4,
          4.1,
          4.6,
          3.6,
          4.6,
          4.3,
          4.2,
          4.3,
          3,
          4,
          3.2,
          3,
          4.3,
          4.2,
          4.2,
          4.4,
          3,
          3,
          3,
          3,
          3.7,
          4.5,
          3,
          4.2,
          4.9,
          4.4,
          4.1,
          4.3,
          3.9,
          3,
          4.5,
          3.6,
          3.6,
          3.6,
          3.6,
          3.6,
          3.6,
          3.6,
          4.3,
          2.8,
          3.6,
          4.8,
          4.6,
          4.3,
          4.2,
          4.3,
          4.4,
          3.7,
          4.8,
          4.3,
          4.5,
          4.1,
          4.6,
          4.2,
          3.6,
          3.6,
          4.1,
          5,
          4.2,
          3.2,
          2.9,
          4.5,
          3.6,
          4.5,
          4.3,
          3.6,
          4.5,
          3.7,
          3.6,
          4.2,
          4.4,
          3.9,
          4.4,
          3.6,
          4.5,
          3.6,
          4.2,
          3.6,
          3.6,
          4.6,
          3.6,
          3.6,
          3.6,
          3.6,
          3.6,
          3.6,
          3.6,
          3.6,
          4.2,
          4.6,
          4.4,
          4.3,
          2.8,
          4.1,
          3.6,
          4.4,
          4.2,
          4.8,
          3.7,
          4.4,
          3.9,
          4.4,
          3.8,
          4.6,
          4.1,
          4.1,
          5,
          4.5,
          3.2,
          4.5,
          4.2,
          3.6,
          4.3,
          4.3,
          3.6,
          4,
          4.1,
          3.6,
          4.8,
          4.2,
          4.4,
          4.3,
          3.9,
          3.6,
          4.5,
          3.6,
          3.6,
          3.6,
          3.7,
          3.6,
          3.6,
          4.2,
          3.5,
          4,
          4.7,
          4.6,
          4.1,
          3.8,
          3.8,
          3.8,
          3.8,
          3.8,
          4.2,
          4.3,
          3.8,
          3.8,
          2.8,
          4.4,
          4.6,
          3.8,
          4.2,
          4.6,
          4.8,
          3.8,
          4.3,
          3.9,
          4.2,
          4.4,
          3.8,
          3.8,
          4.6,
          4.1,
          3.8,
          3.8,
          4.5,
          4.2,
          3.8,
          3.8,
          3.8,
          4.3,
          3.8,
          4.1,
          4,
          4.4,
          4.8,
          4.8,
          4.6,
          4.2,
          4.3,
          4.4,
          4.5,
          4.3,
          4.3,
          3.9,
          3.8,
          4.5,
          4.9,
          3.8,
          3.8,
          3.8,
          3.7,
          3.8,
          4.2,
          3.5,
          4,
          3.9,
          3.8,
          3.8,
          3.8,
          3.8,
          2.8,
          4.1,
          3.8,
          4.2,
          2.7,
          2.7,
          4.3,
          4.2,
          2.7,
          4.9,
          2.7,
          4.4,
          4.6,
          2.7,
          4.1,
          3.6,
          2.7,
          4.6,
          4,
          4.6,
          4.5,
          2.7,
          2.7,
          2.7,
          4.8,
          2.7,
          4.2,
          4.6,
          2.7,
          4.3,
          4.8,
          4,
          2.7,
          2.7,
          3.9,
          2.7,
          2.7,
          4.9,
          4.2,
          4.2,
          4.5,
          2.7,
          4.7,
          2.7,
          2.7,
          2.7,
          4.7,
          4.6,
          2.7,
          4.1,
          4.5,
          4.4,
          2.7,
          4.8
         ],
         "yaxis": "y"
        }
       ],
       "layout": {
        "barmode": "relative",
        "legend": {
         "tracegroupgap": 0
        },
        "margin": {
         "t": 60
        },
        "template": {
         "data": {
          "bar": [
           {
            "error_x": {
             "color": "#2a3f5f"
            },
            "error_y": {
             "color": "#2a3f5f"
            },
            "marker": {
             "line": {
              "color": "#E5ECF6",
              "width": 0.5
             },
             "pattern": {
              "fillmode": "overlay",
              "size": 10,
              "solidity": 0.2
             }
            },
            "type": "bar"
           }
          ],
          "barpolar": [
           {
            "marker": {
             "line": {
              "color": "#E5ECF6",
              "width": 0.5
             },
             "pattern": {
              "fillmode": "overlay",
              "size": 10,
              "solidity": 0.2
             }
            },
            "type": "barpolar"
           }
          ],
          "carpet": [
           {
            "aaxis": {
             "endlinecolor": "#2a3f5f",
             "gridcolor": "white",
             "linecolor": "white",
             "minorgridcolor": "white",
             "startlinecolor": "#2a3f5f"
            },
            "baxis": {
             "endlinecolor": "#2a3f5f",
             "gridcolor": "white",
             "linecolor": "white",
             "minorgridcolor": "white",
             "startlinecolor": "#2a3f5f"
            },
            "type": "carpet"
           }
          ],
          "choropleth": [
           {
            "colorbar": {
             "outlinewidth": 0,
             "ticks": ""
            },
            "type": "choropleth"
           }
          ],
          "contour": [
           {
            "colorbar": {
             "outlinewidth": 0,
             "ticks": ""
            },
            "colorscale": [
             [
              0,
              "#0d0887"
             ],
             [
              0.1111111111111111,
              "#46039f"
             ],
             [
              0.2222222222222222,
              "#7201a8"
             ],
             [
              0.3333333333333333,
              "#9c179e"
             ],
             [
              0.4444444444444444,
              "#bd3786"
             ],
             [
              0.5555555555555556,
              "#d8576b"
             ],
             [
              0.6666666666666666,
              "#ed7953"
             ],
             [
              0.7777777777777778,
              "#fb9f3a"
             ],
             [
              0.8888888888888888,
              "#fdca26"
             ],
             [
              1,
              "#f0f921"
             ]
            ],
            "type": "contour"
           }
          ],
          "contourcarpet": [
           {
            "colorbar": {
             "outlinewidth": 0,
             "ticks": ""
            },
            "type": "contourcarpet"
           }
          ],
          "heatmap": [
           {
            "colorbar": {
             "outlinewidth": 0,
             "ticks": ""
            },
            "colorscale": [
             [
              0,
              "#0d0887"
             ],
             [
              0.1111111111111111,
              "#46039f"
             ],
             [
              0.2222222222222222,
              "#7201a8"
             ],
             [
              0.3333333333333333,
              "#9c179e"
             ],
             [
              0.4444444444444444,
              "#bd3786"
             ],
             [
              0.5555555555555556,
              "#d8576b"
             ],
             [
              0.6666666666666666,
              "#ed7953"
             ],
             [
              0.7777777777777778,
              "#fb9f3a"
             ],
             [
              0.8888888888888888,
              "#fdca26"
             ],
             [
              1,
              "#f0f921"
             ]
            ],
            "type": "heatmap"
           }
          ],
          "heatmapgl": [
           {
            "colorbar": {
             "outlinewidth": 0,
             "ticks": ""
            },
            "colorscale": [
             [
              0,
              "#0d0887"
             ],
             [
              0.1111111111111111,
              "#46039f"
             ],
             [
              0.2222222222222222,
              "#7201a8"
             ],
             [
              0.3333333333333333,
              "#9c179e"
             ],
             [
              0.4444444444444444,
              "#bd3786"
             ],
             [
              0.5555555555555556,
              "#d8576b"
             ],
             [
              0.6666666666666666,
              "#ed7953"
             ],
             [
              0.7777777777777778,
              "#fb9f3a"
             ],
             [
              0.8888888888888888,
              "#fdca26"
             ],
             [
              1,
              "#f0f921"
             ]
            ],
            "type": "heatmapgl"
           }
          ],
          "histogram": [
           {
            "marker": {
             "pattern": {
              "fillmode": "overlay",
              "size": 10,
              "solidity": 0.2
             }
            },
            "type": "histogram"
           }
          ],
          "histogram2d": [
           {
            "colorbar": {
             "outlinewidth": 0,
             "ticks": ""
            },
            "colorscale": [
             [
              0,
              "#0d0887"
             ],
             [
              0.1111111111111111,
              "#46039f"
             ],
             [
              0.2222222222222222,
              "#7201a8"
             ],
             [
              0.3333333333333333,
              "#9c179e"
             ],
             [
              0.4444444444444444,
              "#bd3786"
             ],
             [
              0.5555555555555556,
              "#d8576b"
             ],
             [
              0.6666666666666666,
              "#ed7953"
             ],
             [
              0.7777777777777778,
              "#fb9f3a"
             ],
             [
              0.8888888888888888,
              "#fdca26"
             ],
             [
              1,
              "#f0f921"
             ]
            ],
            "type": "histogram2d"
           }
          ],
          "histogram2dcontour": [
           {
            "colorbar": {
             "outlinewidth": 0,
             "ticks": ""
            },
            "colorscale": [
             [
              0,
              "#0d0887"
             ],
             [
              0.1111111111111111,
              "#46039f"
             ],
             [
              0.2222222222222222,
              "#7201a8"
             ],
             [
              0.3333333333333333,
              "#9c179e"
             ],
             [
              0.4444444444444444,
              "#bd3786"
             ],
             [
              0.5555555555555556,
              "#d8576b"
             ],
             [
              0.6666666666666666,
              "#ed7953"
             ],
             [
              0.7777777777777778,
              "#fb9f3a"
             ],
             [
              0.8888888888888888,
              "#fdca26"
             ],
             [
              1,
              "#f0f921"
             ]
            ],
            "type": "histogram2dcontour"
           }
          ],
          "mesh3d": [
           {
            "colorbar": {
             "outlinewidth": 0,
             "ticks": ""
            },
            "type": "mesh3d"
           }
          ],
          "parcoords": [
           {
            "line": {
             "colorbar": {
              "outlinewidth": 0,
              "ticks": ""
             }
            },
            "type": "parcoords"
           }
          ],
          "pie": [
           {
            "automargin": true,
            "type": "pie"
           }
          ],
          "scatter": [
           {
            "marker": {
             "colorbar": {
              "outlinewidth": 0,
              "ticks": ""
             }
            },
            "type": "scatter"
           }
          ],
          "scatter3d": [
           {
            "line": {
             "colorbar": {
              "outlinewidth": 0,
              "ticks": ""
             }
            },
            "marker": {
             "colorbar": {
              "outlinewidth": 0,
              "ticks": ""
             }
            },
            "type": "scatter3d"
           }
          ],
          "scattercarpet": [
           {
            "marker": {
             "colorbar": {
              "outlinewidth": 0,
              "ticks": ""
             }
            },
            "type": "scattercarpet"
           }
          ],
          "scattergeo": [
           {
            "marker": {
             "colorbar": {
              "outlinewidth": 0,
              "ticks": ""
             }
            },
            "type": "scattergeo"
           }
          ],
          "scattergl": [
           {
            "marker": {
             "colorbar": {
              "outlinewidth": 0,
              "ticks": ""
             }
            },
            "type": "scattergl"
           }
          ],
          "scattermapbox": [
           {
            "marker": {
             "colorbar": {
              "outlinewidth": 0,
              "ticks": ""
             }
            },
            "type": "scattermapbox"
           }
          ],
          "scatterpolar": [
           {
            "marker": {
             "colorbar": {
              "outlinewidth": 0,
              "ticks": ""
             }
            },
            "type": "scatterpolar"
           }
          ],
          "scatterpolargl": [
           {
            "marker": {
             "colorbar": {
              "outlinewidth": 0,
              "ticks": ""
             }
            },
            "type": "scatterpolargl"
           }
          ],
          "scatterternary": [
           {
            "marker": {
             "colorbar": {
              "outlinewidth": 0,
              "ticks": ""
             }
            },
            "type": "scatterternary"
           }
          ],
          "surface": [
           {
            "colorbar": {
             "outlinewidth": 0,
             "ticks": ""
            },
            "colorscale": [
             [
              0,
              "#0d0887"
             ],
             [
              0.1111111111111111,
              "#46039f"
             ],
             [
              0.2222222222222222,
              "#7201a8"
             ],
             [
              0.3333333333333333,
              "#9c179e"
             ],
             [
              0.4444444444444444,
              "#bd3786"
             ],
             [
              0.5555555555555556,
              "#d8576b"
             ],
             [
              0.6666666666666666,
              "#ed7953"
             ],
             [
              0.7777777777777778,
              "#fb9f3a"
             ],
             [
              0.8888888888888888,
              "#fdca26"
             ],
             [
              1,
              "#f0f921"
             ]
            ],
            "type": "surface"
           }
          ],
          "table": [
           {
            "cells": {
             "fill": {
              "color": "#EBF0F8"
             },
             "line": {
              "color": "white"
             }
            },
            "header": {
             "fill": {
              "color": "#C8D4E3"
             },
             "line": {
              "color": "white"
             }
            },
            "type": "table"
           }
          ]
         },
         "layout": {
          "annotationdefaults": {
           "arrowcolor": "#2a3f5f",
           "arrowhead": 0,
           "arrowwidth": 1
          },
          "autotypenumbers": "strict",
          "coloraxis": {
           "colorbar": {
            "outlinewidth": 0,
            "ticks": ""
           }
          },
          "colorscale": {
           "diverging": [
            [
             0,
             "#8e0152"
            ],
            [
             0.1,
             "#c51b7d"
            ],
            [
             0.2,
             "#de77ae"
            ],
            [
             0.3,
             "#f1b6da"
            ],
            [
             0.4,
             "#fde0ef"
            ],
            [
             0.5,
             "#f7f7f7"
            ],
            [
             0.6,
             "#e6f5d0"
            ],
            [
             0.7,
             "#b8e186"
            ],
            [
             0.8,
             "#7fbc41"
            ],
            [
             0.9,
             "#4d9221"
            ],
            [
             1,
             "#276419"
            ]
           ],
           "sequential": [
            [
             0,
             "#0d0887"
            ],
            [
             0.1111111111111111,
             "#46039f"
            ],
            [
             0.2222222222222222,
             "#7201a8"
            ],
            [
             0.3333333333333333,
             "#9c179e"
            ],
            [
             0.4444444444444444,
             "#bd3786"
            ],
            [
             0.5555555555555556,
             "#d8576b"
            ],
            [
             0.6666666666666666,
             "#ed7953"
            ],
            [
             0.7777777777777778,
             "#fb9f3a"
            ],
            [
             0.8888888888888888,
             "#fdca26"
            ],
            [
             1,
             "#f0f921"
            ]
           ],
           "sequentialminus": [
            [
             0,
             "#0d0887"
            ],
            [
             0.1111111111111111,
             "#46039f"
            ],
            [
             0.2222222222222222,
             "#7201a8"
            ],
            [
             0.3333333333333333,
             "#9c179e"
            ],
            [
             0.4444444444444444,
             "#bd3786"
            ],
            [
             0.5555555555555556,
             "#d8576b"
            ],
            [
             0.6666666666666666,
             "#ed7953"
            ],
            [
             0.7777777777777778,
             "#fb9f3a"
            ],
            [
             0.8888888888888888,
             "#fdca26"
            ],
            [
             1,
             "#f0f921"
            ]
           ]
          },
          "colorway": [
           "#636efa",
           "#EF553B",
           "#00cc96",
           "#ab63fa",
           "#FFA15A",
           "#19d3f3",
           "#FF6692",
           "#B6E880",
           "#FF97FF",
           "#FECB52"
          ],
          "font": {
           "color": "#2a3f5f"
          },
          "geo": {
           "bgcolor": "white",
           "lakecolor": "white",
           "landcolor": "#E5ECF6",
           "showlakes": true,
           "showland": true,
           "subunitcolor": "white"
          },
          "hoverlabel": {
           "align": "left"
          },
          "hovermode": "closest",
          "mapbox": {
           "style": "light"
          },
          "paper_bgcolor": "white",
          "plot_bgcolor": "#E5ECF6",
          "polar": {
           "angularaxis": {
            "gridcolor": "white",
            "linecolor": "white",
            "ticks": ""
           },
           "bgcolor": "#E5ECF6",
           "radialaxis": {
            "gridcolor": "white",
            "linecolor": "white",
            "ticks": ""
           }
          },
          "scene": {
           "xaxis": {
            "backgroundcolor": "#E5ECF6",
            "gridcolor": "white",
            "gridwidth": 2,
            "linecolor": "white",
            "showbackground": true,
            "ticks": "",
            "zerolinecolor": "white"
           },
           "yaxis": {
            "backgroundcolor": "#E5ECF6",
            "gridcolor": "white",
            "gridwidth": 2,
            "linecolor": "white",
            "showbackground": true,
            "ticks": "",
            "zerolinecolor": "white"
           },
           "zaxis": {
            "backgroundcolor": "#E5ECF6",
            "gridcolor": "white",
            "gridwidth": 2,
            "linecolor": "white",
            "showbackground": true,
            "ticks": "",
            "zerolinecolor": "white"
           }
          },
          "shapedefaults": {
           "line": {
            "color": "#2a3f5f"
           }
          },
          "ternary": {
           "aaxis": {
            "gridcolor": "white",
            "linecolor": "white",
            "ticks": ""
           },
           "baxis": {
            "gridcolor": "white",
            "linecolor": "white",
            "ticks": ""
           },
           "bgcolor": "#E5ECF6",
           "caxis": {
            "gridcolor": "white",
            "linecolor": "white",
            "ticks": ""
           }
          },
          "title": {
           "x": 0.05
          },
          "xaxis": {
           "automargin": true,
           "gridcolor": "white",
           "linecolor": "white",
           "ticks": "",
           "title": {
            "standoff": 15
           },
           "zerolinecolor": "white",
           "zerolinewidth": 2
          },
          "yaxis": {
           "automargin": true,
           "gridcolor": "white",
           "linecolor": "white",
           "ticks": "",
           "title": {
            "standoff": 15
           },
           "zerolinecolor": "white",
           "zerolinewidth": 2
          }
         }
        },
        "xaxis": {
         "anchor": "y",
         "domain": [
          0,
          1
         ],
         "title": {
          "text": "Tag"
         }
        },
        "yaxis": {
         "anchor": "x",
         "domain": [
          0,
          1
         ],
         "title": {
          "text": "Nota"
         }
        }
       }
      },
      "text/html": [
       "<div>                            <div id=\"cd50eaa4-94f2-49ae-87e6-698eed6ffa41\" class=\"plotly-graph-div\" style=\"height:525px; width:100%;\"></div>            <script type=\"text/javascript\">                require([\"plotly\"], function(Plotly) {                    window.PLOTLYENV=window.PLOTLYENV || {};                                    if (document.getElementById(\"cd50eaa4-94f2-49ae-87e6-698eed6ffa41\")) {                    Plotly.newPlot(                        \"cd50eaa4-94f2-49ae-87e6-698eed6ffa41\",                        [{\"alignmentgroup\":\"True\",\"hovertemplate\":\"Tag=%{x}<br>Nota=%{y}<extra></extra>\",\"legendgroup\":\"\",\"marker\":{\"color\":\"#636efa\",\"pattern\":{\"shape\":\"\"}},\"name\":\"\",\"offsetgroup\":\"\",\"orientation\":\"v\",\"showlegend\":false,\"textposition\":\"auto\",\"type\":\"bar\",\"x\":[\"India\",\"Family Meals\",\"Pizza\",\"Postres\",\"Pizza\",\"Pizza\",\"Pizza\",\"Burritos\",\"De Latinoam\\u00e9rica\",\"Empanada\",\"Pollo\",\"Pollo\",\"Pizza\",\"China\",\"Hamburguesas\",\"Pollo\",\"Pollo\",\"Italiana\",\"China\",\"Vegetariano\",\"Empanada\",\"Pizza\",\"Postres\",\"Tienda\",\"India\",\"Hamburguesas\",\"Americana\",\"Halal\",\"Asiatica\",\"Venezolana\",\"Pollo\",\"India\",\"Italiana\",\"Pizza\",\"Empanada\",\"Americana\",\"Pollo\",\"Pizza\",\"Pizza\",\"Colombiana\",\"India\",\"Tapas y raciones\",\"Tapas\",\"Alitas de pollo\",\"Pollo\",\"Panader\\u00eda\",\"Postres\",\"Hamburguesas\",\"Italiana\",\"Hamburguesas\",\"Americana\",\"Tapas\",\"Comida r\\u00e1pida\",\"Cerveza\",\"India\",\"Especialidades\",\"Pizza\",\"Pizza\",\"Pizza\",\"Pizza\",\"Pizza\",\"Burritos\",\"Hamburguesas\",\"Postres\",\"Pizza\",\"Venezolana\",\"Hamburguesas\",\"Bar Food\",\"Italiana\",\"China\",\"Hamburguesas\",\"Tienda\",\"Mediterr\\u00e1nea\",\"Americana\",\"Tapas\",\"Pollo\",\"Pollo\",\"Burritos\",\"Comida r\\u00e1pida\",\"Pizza\",\"Vegetariano\",\"Pollo\",\"India\",\"Colombiana\",\"Pollo\",\"Pollo\",\"Empanada\",\"Asiatica\",\"Halal\",\"Americana\",\"Pollo\",\"Empanada\",\"India\",\"India\",\"Postres\",\"Americana\",\"Poke\",\"Pizza\",\"Pizza\",\"Italiana\",\"Pollo\",\"Tapas\",\"Bar Food\",\"Pizza\",\"Panader\\u00eda\",\"Carne\",\"Hamburguesas\",\"Empanada\",\"Platos a base de harina\",\"Postres\",\"China\",\"Pizza\",\"Pizza\",\"Pizza\",\"Pizza\",\"China\",\"China\",\"Pollo\",\"Hamburguesas\",\"Burritos\",\"Comida r\\u00e1pida\",\"Venezolana\",\"Pizza\",\"Italiana\",\"Italiana\",\"Pizza\",\"Empanada\",\"Tapas y raciones\",\"Vegetariano\",\"Pollo\",\"Empanada\",\"Americana\",\"Hamburguesas\",\"Empanada\",\"Halal\",\"Asiatica\",\"Tapas\",\"India\",\"India\",\"Pollo\",\"Colombiana\",\"Mediterr\\u00e1nea\",\"Hamburguesas\",\"Saludable\",\"Americana\",\"Hamburguesas\",\"Postres\",\"Hamburguesas\",\"Pasta\",\"Bar Food\",\"Kebab\",\"Pizza\",\"Comida reconfortante\",\"Hamburguesas\",\"Empanada\",\"Hamburguesas\",\"India\",\"Carne\",\"Pollo\",\"Poke\",\"Kebab\",\"Pizza\",\"Postres\",\"Pizza\",\"Postres\",\"Gourmet\",\"Pizza\",\"Hamburguesas\",\"Postres\",\"Pizza\",\"Empanada\",\"Pizza\",\"Italiana\",\"Pollo\",\"Hamburguesas\",\"China\",\"Burritos\",\"Venezolana\",\"Pizza\",\"Empanada\",\"Tapas y raciones\",\"Hamburguesas\",\"Saludable\",\"Postres\",\"Pollo\",\"Hamburguesas\",\"Hamburguesas\",\"Everyday Essentials\",\"Saludable\",\"India\",\"Hamburguesas\",\"Hamburguesas\",\"Pizza\",\"Italiana\",\"Americana\",\"Hamburguesas\",\"Mediterr\\u00e1nea\",\"Empanada\",\"Comida r\\u00e1pida\",\"Empanada\",\"Croquetas\",\"Halal\",\"India\",\"Pollo\",\"Carne\",\"Americana\",\"Ramen\",\"China\",\"Hamburguesas\",\"Kebab\",\"Poke\",\"Pollo\",\"Hamburguesas\",\"Americana\",\"Pizza\",\"Pollo\",\"India\",\"Postres\",\"Pizza\",\"Pizza\",\"Gourmet\",\"Pizza\",\"Tapas\",\"Hamburguesas\",\"Pollo\",\"Mediterr\\u00e1nea\",\"Hamburguesas\",\"Pollo\",\"Pollo\",\"Carne\",\"Sushi\",\"Pizza\",\"Alcohol\",\"Pollo\",\"Pizza\",\"Pollo\",\"Carne\",\"Empanada\",\"Tapas\",\"Venezolana\",\"Venezolana\",\"Pollo\",\"Hamburguesas\",\"Pizza\",\"India\",\"Hamburguesas\",\"Hamburguesas\",\"Pollo\",\"Opciones para alergias\",\"Hamburguesas\",\"Italiana\",\"Hamburguesas\",\"Poke\",\"Pollo\",\"Pollo\",\"Everyday Essentials\",\"Tienda\",\"Mexicana\",\"China\",\"Americana\",\"Empanada\",\"Postres\",\"Mediterr\\u00e1nea\",\"Empanada\",\"Empanada\",\"Kebab\",\"Postres\",\"Kebab\",\"\\u00c1rabe\",\"Kebab\",\"India\",\"Espa\\u00f1ola\",\"Gourmet\",\"Pizza\",\"Gourmet\",\"Pizza\",\"Hamburguesas\",\"Empanada\",\"Mediterr\\u00e1nea\",\"De Latinoam\\u00e9rica\",\"Pollo\",\"Pollo\",\"Empanada\",\"Pizza\",\"Sushi\",\"Pizza\",\"Pizza\",\"Carne\",\"Carne\",\"Pollo\",\"Pollo\",\"Comida reconfortante\",\"Hamburguesas\",\"Venezolana\",\"Hamburguesas\",\"Alitas de pollo\",\"Pollo\",\"Pollo\",\"Tapas\",\"Cerveza\",\"Tienda\",\"Hamburguesas\",\"Hamburguesas\",\"Hamburguesas\",\"Mexicana\",\"Italiana\",\"Family Meals\",\"Pollo\",\"Poke\",\"Mediterr\\u00e1nea\",\"Americana\",\"Americana\",\"Empanada\",\"\\u00c1rabe\",\"Family Meals\",\"Empanada\",\"Comida r\\u00e1pida\",\"\\u00c1rabe\",\"Kebab\",\"Mediterr\\u00e1nea\",\"Opciones para alergias\",\"Kebab\",\"Asiatica\",\"Pizza\",\"India\",\"Gourmet\",\"Pollo\",\"Pizza\",\"Tapas\",\"Pizza\",\"Pizza\",\"Pizza\",\"Pollo\",\"Pizza\",\"Pollo\",\"Pizza\",\"Empanada\",\"Pollo\",\"Alitas de pollo\",\"China\",\"Mediterr\\u00e1nea\",\"Pizza\",\"Pizza\",\"Hamburguesas\",\"Pollo\",\"Comida r\\u00e1pida\",\"Pizza\",\"Pollo\",\"Pollo\",\"Hamburguesas\",\"Pollo\",\"Carne\",\"Pizza\",\"Ramen\",\"Sushi\",\"Hamburguesas\",\"Empanada\",\"Queso\",\"Tapas y raciones\",\"Italiana\",\"Carne\",\"Hamburguesas\",\"Pollo\",\"Venezolana\",\"Cerveza\",\"Con opciones veganas\",\"India\",\"Americana\",\"Americana\",\"Halal\",\"Halal\",\"Asiatica\",\"Hamburguesas\",\"India\",\"Venezolana\",\"Postres\",\"Pollo\",\"Pollo\",\"India\",\"Hamburguesas\",\"Espa\\u00f1ola\",\"Gourmet\",\"Pizza\",\"Hamburguesas\",\"Pollo\",\"Pollo\",\"Pizza\",\"Carne\",\"Pizza\",\"Alitas de pollo\",\"De Latinoam\\u00e9rica\",\"Pollo\",\"Comida r\\u00e1pida\",\"Venezolana\",\"Pollo\",\"Cerveza\",\"Pollo\",\"Hamburguesas\",\"Empanada\",\"Opciones para alergias\",\"Opciones para alergias\",\"Pollo\",\"Italiana\",\"Family Meals\",\"Pollo\",\"Comida r\\u00e1pida\",\"Mediterr\\u00e1nea\",\"Americana\",\"Family Meals\",\"Poke\",\"Kebab\",\"Cafe\",\"Comida r\\u00e1pida\",\"Bar Food\",\"\\u00c1rabe\",\"Kebab\",\"Mediterr\\u00e1nea\",\"China\",\"Asiatica\",\"Americana\",\"Napolitana\",\"Pizza\",\"Comida r\\u00e1pida\",\"Espa\\u00f1ola\",\"Postres\",\"Opciones para alergias\",\"Comfort Food\",\"Comida r\\u00e1pida\",\"Empanada\",\"Empanada\",\"Opciones para alergias\",\"Comida r\\u00e1pida\",\"India\",\"Gourmet\",\"Pizza\",\"Pollo\",\"Hamburguesas\",\"Hamburguesas\",\"Pollo\",\"Pollo\",\"Pizza\",\"Hamburguesas\",\"Tapas\",\"Colombiana\",\"Italiana\",\"Kebab\",\"Italiana\",\"Pollo\",\"Kebab\",\"Tapas\",\"Pizza\",\"Mediterr\\u00e1nea\",\"Pizza\",\"S\\u00e1ndwich\",\"Halal\",\"Kebab\",\"Kebab\",\"Kebab\",\"Kebab\",\"Tapas y raciones\",\"Pizza\",\"Hamburguesas\",\"Comida reconfortante\",\"Postres\",\"Venezolana\",\"Bocadillo\",\"Italiana\",\"Comfort Food\",\"Hamburguesas\",\"Pizza\",\"Parrilla\",\"Postres\",\"Pollo\",\"Carne\",\"Pizza\",\"Comida r\\u00e1pida\",\"Alcohol\",\"Tienda\",\"Pizza\",\"China\",\"China\",\"Pizza\",\"Alcohol\",\"Hamburguesas\",\"Tienda\",\"Hamburguesas\",\"Pollo\",\"Pizza\",\"Pollo\",\"Tapas\",\"Italiana\",\"Pollo\",\"Hamburguesas\",\"Empanada\",\"Pizza\",\"Italiana\",\"Pasta\",\"Bar Food\",\"Pizza\",\"Pizza\",\"Kebab\",\"Kebab\",\"Kebab\",\"Kebab\",\"Comida reconfortante\",\"Pizza\",\"Hamburguesas\",\"Venezolana\",\"Gourmet\",\"Bocadillo\",\"Italiana\",\"Tapas y raciones\",\"De Latinoam\\u00e9rica\",\"Burritos\",\"Pizza\",\"Poke\",\"Parrilla\",\"Con opciones veganas\",\"Pollo\",\"Carne\",\"Boliviana\",\"Pollo\",\"Asiatica\",\"Kebab\",\"Pizza\",\"Comida r\\u00e1pida\",\"China\",\"Venezolana\",\"Alcohol\",\"Mediterr\\u00e1nea\",\"Pollo\",\"Bar Food\",\"China\",\"Burritos\",\"Hamburguesas\",\"Hamburguesas\",\"Comida r\\u00e1pida\",\"Bar Food\",\"Kebab\",\"Pollo\",\"Hamburguesas\",\"Pollo\",\"Empanada\",\"Kebab\",\"Italiana\",\"Bar Food\",\"Poke\",\"Poke\",\"Kebab\",\"Pollo\",\"Asi\\u00e1tica\",\"Kebab\",\"Pollo\",\"Carne\",\"Pizza\",\"China\",\"Saludable\",\"Opciones para alergias\",\"Venezolana\",\"Sudamericana\",\"Burritos\",\"Bocadillo\",\"Peruana\",\"Hamburguesas\",\"Fusi\\u00f3n latina\",\"Japonesa\",\"Tapas y raciones\",\"De Latinoam\\u00e9rica\",\"Burritos\",\"Carne\",\"Alcohol\",\"Poke\",\"Saludable\",\"Parrilla\",\"Kebab\",\"Boliviana\",\"Fritura\",\"Pizza\",\"Pizza\",\"Venezolana\",\"Pollo\",\"Pizza\",\"Comida r\\u00e1pida\",\"Pizza\",\"Pollo\",\"Pizza\",\"China\",\"Pollo\",\"Burritos\",\"Pizza\",\"Mediterr\\u00e1nea\",\"Comida r\\u00e1pida\",\"Hamburguesas\",\"Hamburguesas\",\"Empanada\",\"Croquetas\",\"Carne\",\"Pollo\",\"Kebab\",\"Hamburguesas\",\"Mediterr\\u00e1nea\",\"Poke\",\"Kebab\",\"Poke\",\"Mediterranea\",\"Kebab\",\"Kebab\",\"Pollo\",\"Kebab\",\"Comida r\\u00e1pida\",\"Pizza\",\"Pizza\",\"Pizza\",\"India\",\"China\",\"Saludable\",\"Empanada\",\"Comida r\\u00e1pida\",\"Hamburguesas\",\"Venezolana\",\"Sudamericana\",\"Burritos\",\"Postres\",\"Peruana\",\"Fusi\\u00f3n asi\\u00e1tica\",\"China\",\"Fusi\\u00f3n latina\",\"Japonesa\",\"Comida r\\u00e1pida\",\"Burritos\",\"Carne\",\"Hamburguesas\",\"Fried Foods\",\"Kebab\",\"Fritura\",\"Pizza\",\"Pizza\",\"Pizza\",\"Pizza\",\"China\",\"Burritos\",\"Pizza\",\"Mediterr\\u00e1nea\",\"China\",\"Burritos\",\"Empanada\",\"Empanada\",\"Pollo\",\"Italiana\",\"Croquetas\",\"Hamburguesas\",\"Pollo\",\"Pollo\",\"Venezolana\",\"Comida r\\u00e1pida\",\"Carne\",\"Mediterr\\u00e1nea\",\"Hamburguesas\",\"Mediterr\\u00e1nea\",\"Mediterr\\u00e1nea\",\"Hamburguesas\",\"Saludable\",\"Hamburguesas\",\"Opciones para alergias\",\"Hamburguesas\",\"Postres\",\"Fusi\\u00f3n asi\\u00e1tica\",\"China\",\"Comida r\\u00e1pida\",\"Empanada\",\"S\\u00e1ndwiches\",\"Pollo\",\"Cafeter\\u00eda\",\"Comida reconfortante\",\"Postres\",\"Americana\",\"Kebab\",\"Mediterranea\",\"Kebab\",\"Postres\",\"Empanada\",\"Poke\",\"Kebab\",\"Kebab\",\"Panader\\u00eda\",\"Postres\",\"Opciones para alergias\",\"Pasta\",\"Americana\",\"Americana\"],\"xaxis\":\"x\",\"y\":[4.4,2.8,3.8,3.1,3.9,4.5,3.1,4.6,3.9,3.1,3.1,4.3,4.3,4.3,4.3,3.1,3.7,3.1,4.2,3.1,3.1,4.4,3.1,4.6,3.1,3.7,4.2,4.2,4.1,4.4,4.6,3.1,4.6,4.1,3.1,3.1,3.1,3.3,4.5,4.3,4.1,3.1,4.2,4.3,4.6,3.1,4.1,3.9,3.1,4.3,3.1,4.2,3.1,3.1,4.4,2.8,3.8,4.1,4.3,4.3,4.5,4.6,4.2,4.3,3.9,4.4,4.4,4.4,3.1,4.2,3.7,4.8,4.1,4.4,4.2,4.6,4.3,4.8,3.9,4.3,3.1,3.7,3.1,4.3,4.5,4.6,5.0,4.1,4.2,4.2,3.1,3.1,3.1,4.1,3.1,3.1,4.5,3.1,4.3,3.2,3.1,4.2,4.5,4.5,3.1,3.1,4.3,4.2,2.8,3.1,4.3,4.1,4.3,4.3,3.1,4.3,4.2,4.6,3.7,4.8,3.9,4.4,3.1,3.1,4.6,4.1,3.1,3.1,3.1,4.6,4.8,4.2,4.4,3.1,4.2,4.1,4.2,3.1,4.1,4.1,4.3,3.1,3.1,3.1,3.1,4.8,4.3,4.4,4.6,4.5,3.8,3.1,4.3,4.3,3.1,3.9,4.3,2.9,4.0,2.9,4.5,2.9,2.8,4.5,2.9,2.9,4.1,4.2,2.9,2.9,4.9,2.9,4.6,2.9,4.2,4.2,2.9,4.6,4.5,2.9,2.9,4.8,2.9,4.3,4.4,4.1,2.9,4.6,4.8,4.9,2.9,2.9,4.5,4.6,4.2,4.6,2.9,2.9,4.6,2.9,2.9,4.2,2.9,2.9,4.6,2.9,2.9,4.0,4.3,4.7,4.7,2.9,3.9,4.8,2.9,3.6,4.4,2.8,4.5,4.5,2.9,4.3,4.4,4.1,4.6,4.4,4.1,2.9,3.6,2.9,2.9,4.6,4.1,4.0,4.9,4.5,2.9,5.0,2.9,4.6,4.6,2.9,4.5,3.1,4.9,2.9,4.5,2.9,4.8,2.9,3.8,4.3,4.5,4.0,2.9,4.2,4.3,2.9,4.0,4.2,2.9,2.9,4.4,2.9,4.0,4.7,4.5,4.6,3.0,2.9,4.4,2.8,3.5,4.2,3.5,3.8,4.1,4.7,4.4,4.6,3.5,3.6,4.1,4.4,3.5,4.9,4.6,3.5,3.5,4.0,3.5,4.5,4.1,4.6,4.1,4.3,3.5,3.5,3.5,3.5,4.3,4.2,4.5,4.3,3.5,3.8,3.5,4.0,4.5,4.4,4.2,3.5,4.0,3.0,3.5,3.5,4.4,3.5,3.5,3.4,3.5,4.4,4.4,3.5,4.4,3.5,4.6,4.2,4.4,4.2,4.2,4.3,3.5,4.5,4.6,4.4,3.5,4.6,4.3,4.2,4.4,4.6,4.6,3.7,3.6,3.5,4.5,3.5,3.5,4.1,3.7,3.5,4.9,3.5,3.5,4.1,4.8,4.5,3.5,4.6,3.5,4.3,4.2,4.6,3.5,4.5,3.5,4.2,3.5,4.2,3.5,4.1,3.5,4.9,4.6,3.5,3.5,3.5,4.4,4.3,2.8,3.5,3.5,4.1,4.6,3.6,4.6,3.5,4.9,4.3,4.1,3.5,3.5,4.6,4.2,3.5,3.5,4.1,4.7,3.5,3.5,3.5,3.8,4.5,4.0,4.5,4.4,3.5,3.0,4.7,3.8,4.3,4.4,3.0,3.0,3.0,3.4,3.0,4.4,3.5,4.7,3.0,3.0,4.7,3.0,4.8,3.0,4.3,3.0,3.0,4.4,4.2,4.4,3.0,4.4,4.6,4.4,4.1,4.6,3.6,4.6,4.3,4.2,4.3,3.0,4.0,3.2,3.0,4.3,4.2,4.2,4.4,3.0,3.0,3.0,3.0,3.7,4.5,3.0,4.2,4.9,4.4,4.1,4.3,3.9,3.0,4.5,3.6,3.6,3.6,3.6,3.6,3.6,3.6,4.3,2.8,3.6,4.8,4.6,4.3,4.2,4.3,4.4,3.7,4.8,4.3,4.5,4.1,4.6,4.2,3.6,3.6,4.1,5.0,4.2,3.2,2.9,4.5,3.6,4.5,4.3,3.6,4.5,3.7,3.6,4.2,4.4,3.9,4.4,3.6,4.5,3.6,4.2,3.6,3.6,4.6,3.6,3.6,3.6,3.6,3.6,3.6,3.6,3.6,4.2,4.6,4.4,4.3,2.8,4.1,3.6,4.4,4.2,4.8,3.7,4.4,3.9,4.4,3.8,4.6,4.1,4.1,5.0,4.5,3.2,4.5,4.2,3.6,4.3,4.3,3.6,4.0,4.1,3.6,4.8,4.2,4.4,4.3,3.9,3.6,4.5,3.6,3.6,3.6,3.7,3.6,3.6,4.2,3.5,4.0,4.7,4.6,4.1,3.8,3.8,3.8,3.8,3.8,4.2,4.3,3.8,3.8,2.8,4.4,4.6,3.8,4.2,4.6,4.8,3.8,4.3,3.9,4.2,4.4,3.8,3.8,4.6,4.1,3.8,3.8,4.5,4.2,3.8,3.8,3.8,4.3,3.8,4.1,4.0,4.4,4.8,4.8,4.6,4.2,4.3,4.4,4.5,4.3,4.3,3.9,3.8,4.5,4.9,3.8,3.8,3.8,3.7,3.8,4.2,3.5,4.0,3.9,3.8,3.8,3.8,3.8,2.8,4.1,3.8,4.2,2.7,2.7,4.3,4.2,2.7,4.9,2.7,4.4,4.6,2.7,4.1,3.6,2.7,4.6,4.0,4.6,4.5,2.7,2.7,2.7,4.8,2.7,4.2,4.6,2.7,4.3,4.8,4.0,2.7,2.7,3.9,2.7,2.7,4.9,4.2,4.2,4.5,2.7,4.7,2.7,2.7,2.7,4.7,4.6,2.7,4.1,4.5,4.4,2.7,4.8],\"yaxis\":\"y\"}],                        {\"barmode\":\"relative\",\"legend\":{\"tracegroupgap\":0},\"margin\":{\"t\":60},\"template\":{\"data\":{\"bar\":[{\"error_x\":{\"color\":\"#2a3f5f\"},\"error_y\":{\"color\":\"#2a3f5f\"},\"marker\":{\"line\":{\"color\":\"#E5ECF6\",\"width\":0.5},\"pattern\":{\"fillmode\":\"overlay\",\"size\":10,\"solidity\":0.2}},\"type\":\"bar\"}],\"barpolar\":[{\"marker\":{\"line\":{\"color\":\"#E5ECF6\",\"width\":0.5},\"pattern\":{\"fillmode\":\"overlay\",\"size\":10,\"solidity\":0.2}},\"type\":\"barpolar\"}],\"carpet\":[{\"aaxis\":{\"endlinecolor\":\"#2a3f5f\",\"gridcolor\":\"white\",\"linecolor\":\"white\",\"minorgridcolor\":\"white\",\"startlinecolor\":\"#2a3f5f\"},\"baxis\":{\"endlinecolor\":\"#2a3f5f\",\"gridcolor\":\"white\",\"linecolor\":\"white\",\"minorgridcolor\":\"white\",\"startlinecolor\":\"#2a3f5f\"},\"type\":\"carpet\"}],\"choropleth\":[{\"colorbar\":{\"outlinewidth\":0,\"ticks\":\"\"},\"type\":\"choropleth\"}],\"contour\":[{\"colorbar\":{\"outlinewidth\":0,\"ticks\":\"\"},\"colorscale\":[[0.0,\"#0d0887\"],[0.1111111111111111,\"#46039f\"],[0.2222222222222222,\"#7201a8\"],[0.3333333333333333,\"#9c179e\"],[0.4444444444444444,\"#bd3786\"],[0.5555555555555556,\"#d8576b\"],[0.6666666666666666,\"#ed7953\"],[0.7777777777777778,\"#fb9f3a\"],[0.8888888888888888,\"#fdca26\"],[1.0,\"#f0f921\"]],\"type\":\"contour\"}],\"contourcarpet\":[{\"colorbar\":{\"outlinewidth\":0,\"ticks\":\"\"},\"type\":\"contourcarpet\"}],\"heatmap\":[{\"colorbar\":{\"outlinewidth\":0,\"ticks\":\"\"},\"colorscale\":[[0.0,\"#0d0887\"],[0.1111111111111111,\"#46039f\"],[0.2222222222222222,\"#7201a8\"],[0.3333333333333333,\"#9c179e\"],[0.4444444444444444,\"#bd3786\"],[0.5555555555555556,\"#d8576b\"],[0.6666666666666666,\"#ed7953\"],[0.7777777777777778,\"#fb9f3a\"],[0.8888888888888888,\"#fdca26\"],[1.0,\"#f0f921\"]],\"type\":\"heatmap\"}],\"heatmapgl\":[{\"colorbar\":{\"outlinewidth\":0,\"ticks\":\"\"},\"colorscale\":[[0.0,\"#0d0887\"],[0.1111111111111111,\"#46039f\"],[0.2222222222222222,\"#7201a8\"],[0.3333333333333333,\"#9c179e\"],[0.4444444444444444,\"#bd3786\"],[0.5555555555555556,\"#d8576b\"],[0.6666666666666666,\"#ed7953\"],[0.7777777777777778,\"#fb9f3a\"],[0.8888888888888888,\"#fdca26\"],[1.0,\"#f0f921\"]],\"type\":\"heatmapgl\"}],\"histogram\":[{\"marker\":{\"pattern\":{\"fillmode\":\"overlay\",\"size\":10,\"solidity\":0.2}},\"type\":\"histogram\"}],\"histogram2d\":[{\"colorbar\":{\"outlinewidth\":0,\"ticks\":\"\"},\"colorscale\":[[0.0,\"#0d0887\"],[0.1111111111111111,\"#46039f\"],[0.2222222222222222,\"#7201a8\"],[0.3333333333333333,\"#9c179e\"],[0.4444444444444444,\"#bd3786\"],[0.5555555555555556,\"#d8576b\"],[0.6666666666666666,\"#ed7953\"],[0.7777777777777778,\"#fb9f3a\"],[0.8888888888888888,\"#fdca26\"],[1.0,\"#f0f921\"]],\"type\":\"histogram2d\"}],\"histogram2dcontour\":[{\"colorbar\":{\"outlinewidth\":0,\"ticks\":\"\"},\"colorscale\":[[0.0,\"#0d0887\"],[0.1111111111111111,\"#46039f\"],[0.2222222222222222,\"#7201a8\"],[0.3333333333333333,\"#9c179e\"],[0.4444444444444444,\"#bd3786\"],[0.5555555555555556,\"#d8576b\"],[0.6666666666666666,\"#ed7953\"],[0.7777777777777778,\"#fb9f3a\"],[0.8888888888888888,\"#fdca26\"],[1.0,\"#f0f921\"]],\"type\":\"histogram2dcontour\"}],\"mesh3d\":[{\"colorbar\":{\"outlinewidth\":0,\"ticks\":\"\"},\"type\":\"mesh3d\"}],\"parcoords\":[{\"line\":{\"colorbar\":{\"outlinewidth\":0,\"ticks\":\"\"}},\"type\":\"parcoords\"}],\"pie\":[{\"automargin\":true,\"type\":\"pie\"}],\"scatter\":[{\"marker\":{\"colorbar\":{\"outlinewidth\":0,\"ticks\":\"\"}},\"type\":\"scatter\"}],\"scatter3d\":[{\"line\":{\"colorbar\":{\"outlinewidth\":0,\"ticks\":\"\"}},\"marker\":{\"colorbar\":{\"outlinewidth\":0,\"ticks\":\"\"}},\"type\":\"scatter3d\"}],\"scattercarpet\":[{\"marker\":{\"colorbar\":{\"outlinewidth\":0,\"ticks\":\"\"}},\"type\":\"scattercarpet\"}],\"scattergeo\":[{\"marker\":{\"colorbar\":{\"outlinewidth\":0,\"ticks\":\"\"}},\"type\":\"scattergeo\"}],\"scattergl\":[{\"marker\":{\"colorbar\":{\"outlinewidth\":0,\"ticks\":\"\"}},\"type\":\"scattergl\"}],\"scattermapbox\":[{\"marker\":{\"colorbar\":{\"outlinewidth\":0,\"ticks\":\"\"}},\"type\":\"scattermapbox\"}],\"scatterpolar\":[{\"marker\":{\"colorbar\":{\"outlinewidth\":0,\"ticks\":\"\"}},\"type\":\"scatterpolar\"}],\"scatterpolargl\":[{\"marker\":{\"colorbar\":{\"outlinewidth\":0,\"ticks\":\"\"}},\"type\":\"scatterpolargl\"}],\"scatterternary\":[{\"marker\":{\"colorbar\":{\"outlinewidth\":0,\"ticks\":\"\"}},\"type\":\"scatterternary\"}],\"surface\":[{\"colorbar\":{\"outlinewidth\":0,\"ticks\":\"\"},\"colorscale\":[[0.0,\"#0d0887\"],[0.1111111111111111,\"#46039f\"],[0.2222222222222222,\"#7201a8\"],[0.3333333333333333,\"#9c179e\"],[0.4444444444444444,\"#bd3786\"],[0.5555555555555556,\"#d8576b\"],[0.6666666666666666,\"#ed7953\"],[0.7777777777777778,\"#fb9f3a\"],[0.8888888888888888,\"#fdca26\"],[1.0,\"#f0f921\"]],\"type\":\"surface\"}],\"table\":[{\"cells\":{\"fill\":{\"color\":\"#EBF0F8\"},\"line\":{\"color\":\"white\"}},\"header\":{\"fill\":{\"color\":\"#C8D4E3\"},\"line\":{\"color\":\"white\"}},\"type\":\"table\"}]},\"layout\":{\"annotationdefaults\":{\"arrowcolor\":\"#2a3f5f\",\"arrowhead\":0,\"arrowwidth\":1},\"autotypenumbers\":\"strict\",\"coloraxis\":{\"colorbar\":{\"outlinewidth\":0,\"ticks\":\"\"}},\"colorscale\":{\"diverging\":[[0,\"#8e0152\"],[0.1,\"#c51b7d\"],[0.2,\"#de77ae\"],[0.3,\"#f1b6da\"],[0.4,\"#fde0ef\"],[0.5,\"#f7f7f7\"],[0.6,\"#e6f5d0\"],[0.7,\"#b8e186\"],[0.8,\"#7fbc41\"],[0.9,\"#4d9221\"],[1,\"#276419\"]],\"sequential\":[[0.0,\"#0d0887\"],[0.1111111111111111,\"#46039f\"],[0.2222222222222222,\"#7201a8\"],[0.3333333333333333,\"#9c179e\"],[0.4444444444444444,\"#bd3786\"],[0.5555555555555556,\"#d8576b\"],[0.6666666666666666,\"#ed7953\"],[0.7777777777777778,\"#fb9f3a\"],[0.8888888888888888,\"#fdca26\"],[1.0,\"#f0f921\"]],\"sequentialminus\":[[0.0,\"#0d0887\"],[0.1111111111111111,\"#46039f\"],[0.2222222222222222,\"#7201a8\"],[0.3333333333333333,\"#9c179e\"],[0.4444444444444444,\"#bd3786\"],[0.5555555555555556,\"#d8576b\"],[0.6666666666666666,\"#ed7953\"],[0.7777777777777778,\"#fb9f3a\"],[0.8888888888888888,\"#fdca26\"],[1.0,\"#f0f921\"]]},\"colorway\":[\"#636efa\",\"#EF553B\",\"#00cc96\",\"#ab63fa\",\"#FFA15A\",\"#19d3f3\",\"#FF6692\",\"#B6E880\",\"#FF97FF\",\"#FECB52\"],\"font\":{\"color\":\"#2a3f5f\"},\"geo\":{\"bgcolor\":\"white\",\"lakecolor\":\"white\",\"landcolor\":\"#E5ECF6\",\"showlakes\":true,\"showland\":true,\"subunitcolor\":\"white\"},\"hoverlabel\":{\"align\":\"left\"},\"hovermode\":\"closest\",\"mapbox\":{\"style\":\"light\"},\"paper_bgcolor\":\"white\",\"plot_bgcolor\":\"#E5ECF6\",\"polar\":{\"angularaxis\":{\"gridcolor\":\"white\",\"linecolor\":\"white\",\"ticks\":\"\"},\"bgcolor\":\"#E5ECF6\",\"radialaxis\":{\"gridcolor\":\"white\",\"linecolor\":\"white\",\"ticks\":\"\"}},\"scene\":{\"xaxis\":{\"backgroundcolor\":\"#E5ECF6\",\"gridcolor\":\"white\",\"gridwidth\":2,\"linecolor\":\"white\",\"showbackground\":true,\"ticks\":\"\",\"zerolinecolor\":\"white\"},\"yaxis\":{\"backgroundcolor\":\"#E5ECF6\",\"gridcolor\":\"white\",\"gridwidth\":2,\"linecolor\":\"white\",\"showbackground\":true,\"ticks\":\"\",\"zerolinecolor\":\"white\"},\"zaxis\":{\"backgroundcolor\":\"#E5ECF6\",\"gridcolor\":\"white\",\"gridwidth\":2,\"linecolor\":\"white\",\"showbackground\":true,\"ticks\":\"\",\"zerolinecolor\":\"white\"}},\"shapedefaults\":{\"line\":{\"color\":\"#2a3f5f\"}},\"ternary\":{\"aaxis\":{\"gridcolor\":\"white\",\"linecolor\":\"white\",\"ticks\":\"\"},\"baxis\":{\"gridcolor\":\"white\",\"linecolor\":\"white\",\"ticks\":\"\"},\"bgcolor\":\"#E5ECF6\",\"caxis\":{\"gridcolor\":\"white\",\"linecolor\":\"white\",\"ticks\":\"\"}},\"title\":{\"x\":0.05},\"xaxis\":{\"automargin\":true,\"gridcolor\":\"white\",\"linecolor\":\"white\",\"ticks\":\"\",\"title\":{\"standoff\":15},\"zerolinecolor\":\"white\",\"zerolinewidth\":2},\"yaxis\":{\"automargin\":true,\"gridcolor\":\"white\",\"linecolor\":\"white\",\"ticks\":\"\",\"title\":{\"standoff\":15},\"zerolinecolor\":\"white\",\"zerolinewidth\":2}}},\"xaxis\":{\"anchor\":\"y\",\"domain\":[0.0,1.0],\"title\":{\"text\":\"Tag\"}},\"yaxis\":{\"anchor\":\"x\",\"domain\":[0.0,1.0],\"title\":{\"text\":\"Nota\"}}},                        {\"responsive\": true}                    ).then(function(){\n",
       "                            \n",
       "var gd = document.getElementById('cd50eaa4-94f2-49ae-87e6-698eed6ffa41');\n",
       "var x = new MutationObserver(function (mutations, observer) {{\n",
       "        var display = window.getComputedStyle(gd).display;\n",
       "        if (!display || display === 'none') {{\n",
       "            console.log([gd, 'removed!']);\n",
       "            Plotly.purge(gd);\n",
       "            observer.disconnect();\n",
       "        }}\n",
       "}});\n",
       "\n",
       "// Listen for the removal of the full notebook cells\n",
       "var notebookContainer = gd.closest('#notebook-container');\n",
       "if (notebookContainer) {{\n",
       "    x.observe(notebookContainer, {childList: true});\n",
       "}}\n",
       "\n",
       "// Listen for the clearing of the current output cell\n",
       "var outputEl = gd.closest('.output');\n",
       "if (outputEl) {{\n",
       "    x.observe(outputEl, {childList: true});\n",
       "}}\n",
       "\n",
       "                        })                };                });            </script>        </div>"
      ]
     },
     "metadata": {},
     "output_type": "display_data"
    }
   ],
   "source": [
    "fig = px.bar(ue, x=\"Tag\", y=\"Nota\")\n",
    "fig.show()\n"
   ]
  },
  {
   "cell_type": "code",
   "execution_count": null,
   "id": "29172577",
   "metadata": {},
   "outputs": [],
   "source": []
  }
 ],
 "metadata": {
  "kernelspec": {
   "display_name": "ironhack",
   "language": "python",
   "name": "ironhack"
  },
  "language_info": {
   "codemirror_mode": {
    "name": "ipython",
    "version": 3
   },
   "file_extension": ".py",
   "mimetype": "text/x-python",
   "name": "python",
   "nbconvert_exporter": "python",
   "pygments_lexer": "ipython3",
   "version": "3.8.12"
  }
 },
 "nbformat": 4,
 "nbformat_minor": 5
}
